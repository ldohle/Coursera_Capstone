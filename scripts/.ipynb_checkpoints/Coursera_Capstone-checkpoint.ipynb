{
 "cells": [
  {
   "cell_type": "markdown",
   "metadata": {},
   "source": [
    "Note: This notebook will be mainly used for the capstone project"
   ]
  },
  {
   "cell_type": "markdown",
   "metadata": {},
   "source": [
    "### Import needed libraries"
   ]
  },
  {
   "cell_type": "code",
   "execution_count": 62,
   "metadata": {},
   "outputs": [],
   "source": [
    "import pandas as pd\n",
    "import numpy as np\n",
    "from timezonefinder import TimezoneFinderL\n",
    "from scipy import stats\n",
    "\n",
    "# we are using the inline backend\n",
    "%matplotlib inline \n",
    "\n",
    "import matplotlib as mpl\n",
    "import matplotlib.pyplot as plt\n",
    "import seaborn as sns"
   ]
  },
  {
   "cell_type": "code",
   "execution_count": 63,
   "metadata": {},
   "outputs": [],
   "source": [
    "# Import KNeighborsClassifier from sklearn.neighbors\n",
    "#from sklearn.neighbors import KNeighborsClassifier\n",
    "\n",
    "# Import DecisionTreeClassifier from sklearn.tree\n",
    "#from sklearn.tree import DecisionTreeClassifier\n",
    "\n",
    "# Import RandomForestClassifier\n",
    "#from sklearn.ensemble import RandomForestClassifier\n",
    "\n",
    "# Import LogisticRegression\n",
    "#from sklearn.linear_model import LogisticRegression\n",
    "\n",
    "from sklearn.model_selection import train_test_split\n",
    "#from sklearn.model_selection import GridSearchCV\n",
    "#from sklearn.feature_selection import SelectFromModel\n",
    "#from sklearn.metrics import classification_report\n",
    "#from sklearn.metrics import confusion_matrix\n",
    "#from sklearn.metrics import accuracy_score\n",
    "#from sklearn.metrics import roc_curve, auc"
   ]
  },
  {
   "cell_type": "markdown",
   "metadata": {},
   "source": [
    "### Load data"
   ]
  },
  {
   "cell_type": "code",
   "execution_count": 64,
   "metadata": {},
   "outputs": [],
   "source": [
    "headers = ['ID','Source', 'TMC', 'Severity', 'Start_Time', 'End_Time', 'Start_Lat', 'Start_Lng', 'End_Lat', 'End_Lng', 'Distance(mi)', \n",
    "           'Description', 'Number', 'Street', 'Side', 'City', 'County', 'State', 'Zipcode', 'Country', 'Timezone', \n",
    "           'Airport_Code', 'Weather_Timestamp', 'Temperature(F)', 'Wind_Chill(F)', 'Humidity(%)', \n",
    "           'Pressure(in)', 'Visibility(mi)', 'Wind_Direction', 'Wind_Speed(mph)', 'Precipitation(in)', \n",
    "           'Weather_Condition',  'Amenity', 'Bump', 'Crossing', 'Give_Way', 'Junction', 'No_Exit', 'Railway', \n",
    "           'Roundabout', 'Station', 'Stop', 'Traffic_Calming', 'Traffic_Signal', 'Turning_Loop', 'Sunrise_Sunset', \n",
    "           'Civil_Twilight', 'Nautical_Twilight', 'Astronomical_Twilight']"
   ]
  },
  {
   "cell_type": "code",
   "execution_count": 65,
   "metadata": {},
   "outputs": [
    {
     "name": "stderr",
     "output_type": "stream",
     "text": [
      "/opt/anaconda3/lib/python3.7/site-packages/IPython/core/interactiveshell.py:3063: DtypeWarning: Columns (2,3,6,7,8,9,10,12,23,24,25,26,27,29,30,32,33,34,35,36,37,38,39,40,41,42,43,44) have mixed types.Specify dtype option on import or set low_memory=False.\n",
      "  interactivity=interactivity, compiler=compiler, result=result)\n"
     ]
    }
   ],
   "source": [
    "# Read the file\n",
    "path = \"/Users/lauradohle/Documents/projects/Coursera_Capstone/datasets/US_Accidents_June20.csv\"\n",
    "df = pd.read_csv(path, names = headers)"
   ]
  },
  {
   "cell_type": "code",
   "execution_count": 66,
   "metadata": {
    "scrolled": true
   },
   "outputs": [
    {
     "data": {
      "text/html": [
       "<div>\n",
       "<style scoped>\n",
       "    .dataframe tbody tr th:only-of-type {\n",
       "        vertical-align: middle;\n",
       "    }\n",
       "\n",
       "    .dataframe tbody tr th {\n",
       "        vertical-align: top;\n",
       "    }\n",
       "\n",
       "    .dataframe thead th {\n",
       "        text-align: right;\n",
       "    }\n",
       "</style>\n",
       "<table border=\"1\" class=\"dataframe\">\n",
       "  <thead>\n",
       "    <tr style=\"text-align: right;\">\n",
       "      <th></th>\n",
       "      <th>ID</th>\n",
       "      <th>Source</th>\n",
       "      <th>TMC</th>\n",
       "      <th>Severity</th>\n",
       "      <th>Start_Time</th>\n",
       "      <th>End_Time</th>\n",
       "      <th>Start_Lat</th>\n",
       "      <th>Start_Lng</th>\n",
       "      <th>End_Lat</th>\n",
       "      <th>End_Lng</th>\n",
       "      <th>...</th>\n",
       "      <th>Roundabout</th>\n",
       "      <th>Station</th>\n",
       "      <th>Stop</th>\n",
       "      <th>Traffic_Calming</th>\n",
       "      <th>Traffic_Signal</th>\n",
       "      <th>Turning_Loop</th>\n",
       "      <th>Sunrise_Sunset</th>\n",
       "      <th>Civil_Twilight</th>\n",
       "      <th>Nautical_Twilight</th>\n",
       "      <th>Astronomical_Twilight</th>\n",
       "    </tr>\n",
       "  </thead>\n",
       "  <tbody>\n",
       "    <tr>\n",
       "      <th>0</th>\n",
       "      <td>ID</td>\n",
       "      <td>Source</td>\n",
       "      <td>TMC</td>\n",
       "      <td>Severity</td>\n",
       "      <td>Start_Time</td>\n",
       "      <td>End_Time</td>\n",
       "      <td>Start_Lat</td>\n",
       "      <td>Start_Lng</td>\n",
       "      <td>End_Lat</td>\n",
       "      <td>End_Lng</td>\n",
       "      <td>...</td>\n",
       "      <td>Roundabout</td>\n",
       "      <td>Station</td>\n",
       "      <td>Stop</td>\n",
       "      <td>Traffic_Calming</td>\n",
       "      <td>Traffic_Signal</td>\n",
       "      <td>Turning_Loop</td>\n",
       "      <td>Sunrise_Sunset</td>\n",
       "      <td>Civil_Twilight</td>\n",
       "      <td>Nautical_Twilight</td>\n",
       "      <td>Astronomical_Twilight</td>\n",
       "    </tr>\n",
       "    <tr>\n",
       "      <th>1</th>\n",
       "      <td>A-1</td>\n",
       "      <td>MapQuest</td>\n",
       "      <td>201.0</td>\n",
       "      <td>3</td>\n",
       "      <td>2016-02-08 05:46:00</td>\n",
       "      <td>2016-02-08 11:00:00</td>\n",
       "      <td>39.865147</td>\n",
       "      <td>-84.058723</td>\n",
       "      <td>NaN</td>\n",
       "      <td>NaN</td>\n",
       "      <td>...</td>\n",
       "      <td>False</td>\n",
       "      <td>False</td>\n",
       "      <td>False</td>\n",
       "      <td>False</td>\n",
       "      <td>False</td>\n",
       "      <td>False</td>\n",
       "      <td>Night</td>\n",
       "      <td>Night</td>\n",
       "      <td>Night</td>\n",
       "      <td>Night</td>\n",
       "    </tr>\n",
       "    <tr>\n",
       "      <th>2</th>\n",
       "      <td>A-2</td>\n",
       "      <td>MapQuest</td>\n",
       "      <td>201.0</td>\n",
       "      <td>2</td>\n",
       "      <td>2016-02-08 06:07:59</td>\n",
       "      <td>2016-02-08 06:37:59</td>\n",
       "      <td>39.928059</td>\n",
       "      <td>-82.831184</td>\n",
       "      <td>NaN</td>\n",
       "      <td>NaN</td>\n",
       "      <td>...</td>\n",
       "      <td>False</td>\n",
       "      <td>False</td>\n",
       "      <td>False</td>\n",
       "      <td>False</td>\n",
       "      <td>False</td>\n",
       "      <td>False</td>\n",
       "      <td>Night</td>\n",
       "      <td>Night</td>\n",
       "      <td>Night</td>\n",
       "      <td>Day</td>\n",
       "    </tr>\n",
       "    <tr>\n",
       "      <th>3</th>\n",
       "      <td>A-3</td>\n",
       "      <td>MapQuest</td>\n",
       "      <td>201.0</td>\n",
       "      <td>2</td>\n",
       "      <td>2016-02-08 06:49:27</td>\n",
       "      <td>2016-02-08 07:19:27</td>\n",
       "      <td>39.063148</td>\n",
       "      <td>-84.032608</td>\n",
       "      <td>NaN</td>\n",
       "      <td>NaN</td>\n",
       "      <td>...</td>\n",
       "      <td>False</td>\n",
       "      <td>False</td>\n",
       "      <td>False</td>\n",
       "      <td>False</td>\n",
       "      <td>True</td>\n",
       "      <td>False</td>\n",
       "      <td>Night</td>\n",
       "      <td>Night</td>\n",
       "      <td>Day</td>\n",
       "      <td>Day</td>\n",
       "    </tr>\n",
       "    <tr>\n",
       "      <th>4</th>\n",
       "      <td>A-4</td>\n",
       "      <td>MapQuest</td>\n",
       "      <td>201.0</td>\n",
       "      <td>3</td>\n",
       "      <td>2016-02-08 07:23:34</td>\n",
       "      <td>2016-02-08 07:53:34</td>\n",
       "      <td>39.747753</td>\n",
       "      <td>-84.205582</td>\n",
       "      <td>NaN</td>\n",
       "      <td>NaN</td>\n",
       "      <td>...</td>\n",
       "      <td>False</td>\n",
       "      <td>False</td>\n",
       "      <td>False</td>\n",
       "      <td>False</td>\n",
       "      <td>False</td>\n",
       "      <td>False</td>\n",
       "      <td>Night</td>\n",
       "      <td>Day</td>\n",
       "      <td>Day</td>\n",
       "      <td>Day</td>\n",
       "    </tr>\n",
       "  </tbody>\n",
       "</table>\n",
       "<p>5 rows × 49 columns</p>\n",
       "</div>"
      ],
      "text/plain": [
       "    ID    Source    TMC  Severity           Start_Time             End_Time  \\\n",
       "0   ID    Source    TMC  Severity           Start_Time             End_Time   \n",
       "1  A-1  MapQuest  201.0         3  2016-02-08 05:46:00  2016-02-08 11:00:00   \n",
       "2  A-2  MapQuest  201.0         2  2016-02-08 06:07:59  2016-02-08 06:37:59   \n",
       "3  A-3  MapQuest  201.0         2  2016-02-08 06:49:27  2016-02-08 07:19:27   \n",
       "4  A-4  MapQuest  201.0         3  2016-02-08 07:23:34  2016-02-08 07:53:34   \n",
       "\n",
       "   Start_Lat   Start_Lng  End_Lat  End_Lng  ...  Roundabout  Station   Stop  \\\n",
       "0  Start_Lat   Start_Lng  End_Lat  End_Lng  ...  Roundabout  Station   Stop   \n",
       "1  39.865147  -84.058723      NaN      NaN  ...       False    False  False   \n",
       "2  39.928059  -82.831184      NaN      NaN  ...       False    False  False   \n",
       "3  39.063148  -84.032608      NaN      NaN  ...       False    False  False   \n",
       "4  39.747753  -84.205582      NaN      NaN  ...       False    False  False   \n",
       "\n",
       "   Traffic_Calming  Traffic_Signal  Turning_Loop  Sunrise_Sunset  \\\n",
       "0  Traffic_Calming  Traffic_Signal  Turning_Loop  Sunrise_Sunset   \n",
       "1            False           False         False           Night   \n",
       "2            False           False         False           Night   \n",
       "3            False            True         False           Night   \n",
       "4            False           False         False           Night   \n",
       "\n",
       "   Civil_Twilight  Nautical_Twilight  Astronomical_Twilight  \n",
       "0  Civil_Twilight  Nautical_Twilight  Astronomical_Twilight  \n",
       "1           Night              Night                  Night  \n",
       "2           Night              Night                    Day  \n",
       "3           Night                Day                    Day  \n",
       "4             Day                Day                    Day  \n",
       "\n",
       "[5 rows x 49 columns]"
      ]
     },
     "execution_count": 66,
     "metadata": {},
     "output_type": "execute_result"
    }
   ],
   "source": [
    "# show the first 5 rows \n",
    "df.head(5)\n"
   ]
  },
  {
   "cell_type": "markdown",
   "metadata": {},
   "source": [
    "# Data cleaning and feature selection"
   ]
  },
  {
   "cell_type": "markdown",
   "metadata": {},
   "source": [
    "## 1. Drop irrelevant attributes\n"
   ]
  },
  {
   "cell_type": "markdown",
   "metadata": {},
   "source": [
    "We first drop the rows that are not relevant to our problem statement, i.e. the rows that do not contain weather information, time or location information other than latitude and longitude."
   ]
  },
  {
   "cell_type": "code",
   "execution_count": 67,
   "metadata": {},
   "outputs": [],
   "source": [
    "#drop the columns not relevant to our problem statement\n",
    "\n",
    "df_new=df.drop(columns=['ID','Source', 'TMC', 'Description', 'Number', 'Street', 'Zipcode', 'Country', 'Airport_Code', 'Weather_Timestamp'])\n",
    "\n",
    "#drop row that just contains repetition of our header names\n",
    "df_new= df_new.drop([0])"
   ]
  },
  {
   "cell_type": "code",
   "execution_count": 68,
   "metadata": {},
   "outputs": [
    {
     "data": {
      "text/html": [
       "<div>\n",
       "<style scoped>\n",
       "    .dataframe tbody tr th:only-of-type {\n",
       "        vertical-align: middle;\n",
       "    }\n",
       "\n",
       "    .dataframe tbody tr th {\n",
       "        vertical-align: top;\n",
       "    }\n",
       "\n",
       "    .dataframe thead th {\n",
       "        text-align: right;\n",
       "    }\n",
       "</style>\n",
       "<table border=\"1\" class=\"dataframe\">\n",
       "  <thead>\n",
       "    <tr style=\"text-align: right;\">\n",
       "      <th></th>\n",
       "      <th>Severity</th>\n",
       "      <th>Start_Time</th>\n",
       "      <th>End_Time</th>\n",
       "      <th>Start_Lat</th>\n",
       "      <th>Start_Lng</th>\n",
       "      <th>End_Lat</th>\n",
       "      <th>End_Lng</th>\n",
       "      <th>Distance(mi)</th>\n",
       "      <th>Side</th>\n",
       "      <th>City</th>\n",
       "      <th>...</th>\n",
       "      <th>Roundabout</th>\n",
       "      <th>Station</th>\n",
       "      <th>Stop</th>\n",
       "      <th>Traffic_Calming</th>\n",
       "      <th>Traffic_Signal</th>\n",
       "      <th>Turning_Loop</th>\n",
       "      <th>Sunrise_Sunset</th>\n",
       "      <th>Civil_Twilight</th>\n",
       "      <th>Nautical_Twilight</th>\n",
       "      <th>Astronomical_Twilight</th>\n",
       "    </tr>\n",
       "  </thead>\n",
       "  <tbody>\n",
       "    <tr>\n",
       "      <th>1</th>\n",
       "      <td>3</td>\n",
       "      <td>2016-02-08 05:46:00</td>\n",
       "      <td>2016-02-08 11:00:00</td>\n",
       "      <td>39.865147</td>\n",
       "      <td>-84.058723</td>\n",
       "      <td>NaN</td>\n",
       "      <td>NaN</td>\n",
       "      <td>0.01</td>\n",
       "      <td>R</td>\n",
       "      <td>Dayton</td>\n",
       "      <td>...</td>\n",
       "      <td>False</td>\n",
       "      <td>False</td>\n",
       "      <td>False</td>\n",
       "      <td>False</td>\n",
       "      <td>False</td>\n",
       "      <td>False</td>\n",
       "      <td>Night</td>\n",
       "      <td>Night</td>\n",
       "      <td>Night</td>\n",
       "      <td>Night</td>\n",
       "    </tr>\n",
       "    <tr>\n",
       "      <th>2</th>\n",
       "      <td>2</td>\n",
       "      <td>2016-02-08 06:07:59</td>\n",
       "      <td>2016-02-08 06:37:59</td>\n",
       "      <td>39.928059</td>\n",
       "      <td>-82.831184</td>\n",
       "      <td>NaN</td>\n",
       "      <td>NaN</td>\n",
       "      <td>0.01</td>\n",
       "      <td>L</td>\n",
       "      <td>Reynoldsburg</td>\n",
       "      <td>...</td>\n",
       "      <td>False</td>\n",
       "      <td>False</td>\n",
       "      <td>False</td>\n",
       "      <td>False</td>\n",
       "      <td>False</td>\n",
       "      <td>False</td>\n",
       "      <td>Night</td>\n",
       "      <td>Night</td>\n",
       "      <td>Night</td>\n",
       "      <td>Day</td>\n",
       "    </tr>\n",
       "    <tr>\n",
       "      <th>3</th>\n",
       "      <td>2</td>\n",
       "      <td>2016-02-08 06:49:27</td>\n",
       "      <td>2016-02-08 07:19:27</td>\n",
       "      <td>39.063148</td>\n",
       "      <td>-84.032608</td>\n",
       "      <td>NaN</td>\n",
       "      <td>NaN</td>\n",
       "      <td>0.01</td>\n",
       "      <td>R</td>\n",
       "      <td>Williamsburg</td>\n",
       "      <td>...</td>\n",
       "      <td>False</td>\n",
       "      <td>False</td>\n",
       "      <td>False</td>\n",
       "      <td>False</td>\n",
       "      <td>True</td>\n",
       "      <td>False</td>\n",
       "      <td>Night</td>\n",
       "      <td>Night</td>\n",
       "      <td>Day</td>\n",
       "      <td>Day</td>\n",
       "    </tr>\n",
       "    <tr>\n",
       "      <th>4</th>\n",
       "      <td>3</td>\n",
       "      <td>2016-02-08 07:23:34</td>\n",
       "      <td>2016-02-08 07:53:34</td>\n",
       "      <td>39.747753</td>\n",
       "      <td>-84.205582</td>\n",
       "      <td>NaN</td>\n",
       "      <td>NaN</td>\n",
       "      <td>0.01</td>\n",
       "      <td>R</td>\n",
       "      <td>Dayton</td>\n",
       "      <td>...</td>\n",
       "      <td>False</td>\n",
       "      <td>False</td>\n",
       "      <td>False</td>\n",
       "      <td>False</td>\n",
       "      <td>False</td>\n",
       "      <td>False</td>\n",
       "      <td>Night</td>\n",
       "      <td>Day</td>\n",
       "      <td>Day</td>\n",
       "      <td>Day</td>\n",
       "    </tr>\n",
       "    <tr>\n",
       "      <th>5</th>\n",
       "      <td>2</td>\n",
       "      <td>2016-02-08 07:39:07</td>\n",
       "      <td>2016-02-08 08:09:07</td>\n",
       "      <td>39.627781</td>\n",
       "      <td>-84.188354</td>\n",
       "      <td>NaN</td>\n",
       "      <td>NaN</td>\n",
       "      <td>0.01</td>\n",
       "      <td>R</td>\n",
       "      <td>Dayton</td>\n",
       "      <td>...</td>\n",
       "      <td>False</td>\n",
       "      <td>False</td>\n",
       "      <td>False</td>\n",
       "      <td>False</td>\n",
       "      <td>True</td>\n",
       "      <td>False</td>\n",
       "      <td>Day</td>\n",
       "      <td>Day</td>\n",
       "      <td>Day</td>\n",
       "      <td>Day</td>\n",
       "    </tr>\n",
       "  </tbody>\n",
       "</table>\n",
       "<p>5 rows × 39 columns</p>\n",
       "</div>"
      ],
      "text/plain": [
       "  Severity           Start_Time             End_Time  Start_Lat   Start_Lng  \\\n",
       "1        3  2016-02-08 05:46:00  2016-02-08 11:00:00  39.865147  -84.058723   \n",
       "2        2  2016-02-08 06:07:59  2016-02-08 06:37:59  39.928059  -82.831184   \n",
       "3        2  2016-02-08 06:49:27  2016-02-08 07:19:27  39.063148  -84.032608   \n",
       "4        3  2016-02-08 07:23:34  2016-02-08 07:53:34  39.747753  -84.205582   \n",
       "5        2  2016-02-08 07:39:07  2016-02-08 08:09:07  39.627781  -84.188354   \n",
       "\n",
       "  End_Lat End_Lng Distance(mi) Side          City  ... Roundabout Station  \\\n",
       "1     NaN     NaN         0.01    R        Dayton  ...      False   False   \n",
       "2     NaN     NaN         0.01    L  Reynoldsburg  ...      False   False   \n",
       "3     NaN     NaN         0.01    R  Williamsburg  ...      False   False   \n",
       "4     NaN     NaN         0.01    R        Dayton  ...      False   False   \n",
       "5     NaN     NaN         0.01    R        Dayton  ...      False   False   \n",
       "\n",
       "    Stop Traffic_Calming Traffic_Signal Turning_Loop Sunrise_Sunset  \\\n",
       "1  False           False          False        False          Night   \n",
       "2  False           False          False        False          Night   \n",
       "3  False           False           True        False          Night   \n",
       "4  False           False          False        False          Night   \n",
       "5  False           False           True        False            Day   \n",
       "\n",
       "  Civil_Twilight Nautical_Twilight Astronomical_Twilight  \n",
       "1          Night             Night                 Night  \n",
       "2          Night             Night                   Day  \n",
       "3          Night               Day                   Day  \n",
       "4            Day               Day                   Day  \n",
       "5            Day               Day                   Day  \n",
       "\n",
       "[5 rows x 39 columns]"
      ]
     },
     "execution_count": 68,
     "metadata": {},
     "output_type": "execute_result"
    }
   ],
   "source": [
    "df_new.head()"
   ]
  },
  {
   "cell_type": "markdown",
   "metadata": {},
   "source": [
    "## 2. Convert to correct data format"
   ]
  },
  {
   "cell_type": "markdown",
   "metadata": {},
   "source": [
    "<p>The next step in data cleaning is checking and making sure that all data is in the correct format (int, float, text or other).</p>"
   ]
  },
  {
   "cell_type": "code",
   "execution_count": 69,
   "metadata": {},
   "outputs": [
    {
     "data": {
      "text/plain": [
       "Severity                 object\n",
       "Start_Time               object\n",
       "End_Time                 object\n",
       "Start_Lat                object\n",
       "Start_Lng                object\n",
       "End_Lat                  object\n",
       "End_Lng                  object\n",
       "Distance(mi)             object\n",
       "Side                     object\n",
       "City                     object\n",
       "County                   object\n",
       "State                    object\n",
       "Timezone                 object\n",
       "Temperature(F)           object\n",
       "Wind_Chill(F)            object\n",
       "Humidity(%)              object\n",
       "Pressure(in)             object\n",
       "Visibility(mi)           object\n",
       "Wind_Direction           object\n",
       "Wind_Speed(mph)          object\n",
       "Precipitation(in)        object\n",
       "Weather_Condition        object\n",
       "Amenity                  object\n",
       "Bump                     object\n",
       "Crossing                 object\n",
       "Give_Way                 object\n",
       "Junction                 object\n",
       "No_Exit                  object\n",
       "Railway                  object\n",
       "Roundabout               object\n",
       "Station                  object\n",
       "Stop                     object\n",
       "Traffic_Calming          object\n",
       "Traffic_Signal           object\n",
       "Turning_Loop             object\n",
       "Sunrise_Sunset           object\n",
       "Civil_Twilight           object\n",
       "Nautical_Twilight        object\n",
       "Astronomical_Twilight    object\n",
       "dtype: object"
      ]
     },
     "execution_count": 69,
     "metadata": {},
     "output_type": "execute_result"
    }
   ],
   "source": [
    "df_new.dtypes"
   ]
  },
  {
   "cell_type": "markdown",
   "metadata": {},
   "source": [
    "<p>As we can see above, some columns are not of the correct data type. Numerical variables should have type 'float' or 'int', variables with strings such as categories should have type 'object'. We could convert to boolean values to type  'bool'. However, it is better to change them to numeric values 0/1 instead of True/False to determine correlations later on. Also, date and time variables should be converted to the datatype 'datetime'. We have to convert the data types into a proper format for each column.</p> "
   ]
  },
  {
   "cell_type": "code",
   "execution_count": 70,
   "metadata": {},
   "outputs": [],
   "source": [
    "#Convert True/False values to 1/0\n",
    "df_new[['Amenity', 'Bump', 'Crossing', 'Give_Way', 'Junction', 'No_Exit', 'Railway', 'Roundabout', 'Station', 'Stop', 'Traffic_Calming', 'Traffic_Signal', 'Turning_Loop']] = df_new[['Amenity', 'Bump', 'Crossing', 'Give_Way', 'Junction', 'No_Exit', 'Railway', 'Roundabout', 'Station', 'Stop', 'Traffic_Calming', 'Traffic_Signal', 'Turning_Loop']].replace({'True': 1, 'False':0})\n",
    "\n",
    "#Convert boolean values to type 'float64'\n",
    "df_new[['Severity', 'Start_Lat', 'Start_Lng', 'End_Lat', 'End_Lng', 'Precipitation(in)', 'Wind_Chill(F)', 'Temperature(F)', 'Humidity(%)', 'Pressure(in)', 'Visibility(mi)', 'Wind_Speed(mph)', 'Amenity', 'Bump', 'Crossing', 'Give_Way', 'Junction', 'No_Exit', 'Railway', 'Roundabout', 'Station', 'Stop', 'Traffic_Calming', 'Traffic_Signal', 'Turning_Loop']] =df_new[['Severity', 'Start_Lat', 'Start_Lng', 'End_Lat', 'End_Lng', 'Precipitation(in)', 'Wind_Chill(F)', 'Temperature(F)', 'Humidity(%)', 'Pressure(in)', 'Visibility(mi)', 'Wind_Speed(mph)', 'Amenity', 'Bump', 'Crossing', 'Give_Way', 'Junction', 'No_Exit', 'Railway', 'Roundabout', 'Station', 'Stop', 'Traffic_Calming', 'Traffic_Signal', 'Turning_Loop']] .astype('float64')\n"
   ]
  },
  {
   "cell_type": "code",
   "execution_count": 71,
   "metadata": {},
   "outputs": [],
   "source": [
    "#Convert date and time values to type 'datetime64'\n",
    "df_new[['Start_Time', 'End_Time']]=df_new[['Start_Time', 'End_Time']].astype('datetime64')"
   ]
  },
  {
   "cell_type": "code",
   "execution_count": 72,
   "metadata": {
    "scrolled": true
   },
   "outputs": [
    {
     "data": {
      "text/plain": [
       "Severity                        float64\n",
       "Start_Time               datetime64[ns]\n",
       "End_Time                 datetime64[ns]\n",
       "Start_Lat                       float64\n",
       "Start_Lng                       float64\n",
       "End_Lat                         float64\n",
       "End_Lng                         float64\n",
       "Distance(mi)                     object\n",
       "Side                             object\n",
       "City                             object\n",
       "County                           object\n",
       "State                            object\n",
       "Timezone                         object\n",
       "Temperature(F)                  float64\n",
       "Wind_Chill(F)                   float64\n",
       "Humidity(%)                     float64\n",
       "Pressure(in)                    float64\n",
       "Visibility(mi)                  float64\n",
       "Wind_Direction                   object\n",
       "Wind_Speed(mph)                 float64\n",
       "Precipitation(in)               float64\n",
       "Weather_Condition                object\n",
       "Amenity                         float64\n",
       "Bump                            float64\n",
       "Crossing                        float64\n",
       "Give_Way                        float64\n",
       "Junction                        float64\n",
       "No_Exit                         float64\n",
       "Railway                         float64\n",
       "Roundabout                      float64\n",
       "Station                         float64\n",
       "Stop                            float64\n",
       "Traffic_Calming                 float64\n",
       "Traffic_Signal                  float64\n",
       "Turning_Loop                    float64\n",
       "Sunrise_Sunset                   object\n",
       "Civil_Twilight                   object\n",
       "Nautical_Twilight                object\n",
       "Astronomical_Twilight            object\n",
       "dtype: object"
      ]
     },
     "execution_count": 72,
     "metadata": {},
     "output_type": "execute_result"
    }
   ],
   "source": [
    "df_new.dtypes"
   ]
  },
  {
   "cell_type": "markdown",
   "metadata": {},
   "source": [
    "## 3. Split time attributes"
   ]
  },
  {
   "cell_type": "markdown",
   "metadata": {},
   "source": [
    "Time attributes might be very relevant when trying to predict accident severity. For example, there are probably larger severity accidents during rush hour when people are commuting than during general working hours. That is why it makes sense to split the Start time attributes into smaller increments and also figure out the delta between start and end time."
   ]
  },
  {
   "cell_type": "code",
   "execution_count": 73,
   "metadata": {},
   "outputs": [],
   "source": [
    "# Extract year, month, day, hour and weekday\n",
    "df_new['Year']=df_new['Start_Time'].dt.year\n",
    "df_new['Month']=df_new['Start_Time'].dt.strftime('%b')\n",
    "df_new['Day']=df_new['Start_Time'].dt.day\n",
    "df_new['Hour']=df_new['Start_Time'].dt.hour\n",
    "df_new['Weekday']=df_new['Start_Time'].dt.strftime('%a')\n",
    "\n",
    "# Extract the amount of time in the unit of minutes for each accident, round to the nearest integer\n",
    "time_dur='Time_Duration(min)'\n",
    "df_new[time_dur]=round((df_new['End_Time']-df_new['Start_Time'])/np.timedelta64(1,'m'))\n"
   ]
  },
  {
   "cell_type": "markdown",
   "metadata": {},
   "source": [
    "To make sure that we are not considering rows where the End_Time accidentally lies before the Start_Time, let's check if there are any time duration values which are negative and make sure to drop those rows."
   ]
  },
  {
   "cell_type": "code",
   "execution_count": 74,
   "metadata": {},
   "outputs": [],
   "source": [
    "df_new[time_dur][df_new[time_dur]<=0]\n",
    "\n",
    "neg_out=df_new[time_dur]<=0\n",
    "\n",
    "# Set outliers to NAN\n",
    "df_new[neg_out] = np.nan\n",
    "\n",
    "# Drop rows with a negative time duration\n",
    "df_new.dropna(subset=[time_dur],axis=0,inplace=True)\n"
   ]
  },
  {
   "cell_type": "code",
   "execution_count": 75,
   "metadata": {},
   "outputs": [
    {
     "data": {
      "text/plain": [
       "Severity                        float64\n",
       "Start_Time               datetime64[ns]\n",
       "End_Time                 datetime64[ns]\n",
       "Start_Lat                       float64\n",
       "Start_Lng                       float64\n",
       "End_Lat                         float64\n",
       "End_Lng                         float64\n",
       "Distance(mi)                     object\n",
       "Side                             object\n",
       "City                             object\n",
       "County                           object\n",
       "State                            object\n",
       "Timezone                         object\n",
       "Temperature(F)                  float64\n",
       "Wind_Chill(F)                   float64\n",
       "Humidity(%)                     float64\n",
       "Pressure(in)                    float64\n",
       "Visibility(mi)                  float64\n",
       "Wind_Direction                   object\n",
       "Wind_Speed(mph)                 float64\n",
       "Precipitation(in)               float64\n",
       "Weather_Condition                object\n",
       "Amenity                         float64\n",
       "Bump                            float64\n",
       "Crossing                        float64\n",
       "Give_Way                        float64\n",
       "Junction                        float64\n",
       "No_Exit                         float64\n",
       "Railway                         float64\n",
       "Roundabout                      float64\n",
       "Station                         float64\n",
       "Stop                            float64\n",
       "Traffic_Calming                 float64\n",
       "Traffic_Signal                  float64\n",
       "Turning_Loop                    float64\n",
       "Sunrise_Sunset                   object\n",
       "Civil_Twilight                   object\n",
       "Nautical_Twilight                object\n",
       "Astronomical_Twilight            object\n",
       "Year                            float64\n",
       "Month                            object\n",
       "Day                             float64\n",
       "Hour                            float64\n",
       "Weekday                          object\n",
       "Time_Duration(min)              float64\n",
       "dtype: object"
      ]
     },
     "execution_count": 75,
     "metadata": {},
     "output_type": "execute_result"
    }
   ],
   "source": [
    "#Check if the new attributes are in the correct format\n",
    "df_new.dtypes"
   ]
  },
  {
   "cell_type": "markdown",
   "metadata": {},
   "source": [
    "Now that we split the relevant time data into different attributes we can drop the original start and end time attributes."
   ]
  },
  {
   "cell_type": "code",
   "execution_count": 76,
   "metadata": {},
   "outputs": [],
   "source": [
    "df_new=df_new.drop(columns=['Start_Time', 'End_Time'])"
   ]
  },
  {
   "cell_type": "markdown",
   "metadata": {},
   "source": [
    "## 4. Clean categorical data"
   ]
  },
  {
   "cell_type": "markdown",
   "metadata": {},
   "source": [
    "Before we continue with identifying and handling missing values, let's have a look at the categorical data to see if it needs some additional grouping and cleaning.\n",
    "\n",
    "We have seven categorical data attributes and one categorical label:\n",
    "\n",
    "<ul>\n",
    "   <li>\"Timezone\"</li>\n",
    "   <li>\"Wind_Direction\"</li>\n",
    "   <li>\"Weather_Condition\"</li>\n",
    "   <li>\"Sunrise_Sunset\"</li>\n",
    "   <li>\"Civil_Twilight\"</li>\n",
    "   <li>\"Nautical_Twilight\"</li>\n",
    "   <li>\"Astronomical_Twilight\"</li>\n",
    "    <li>Label:\"Severity\"</li>\n",
    "</ul>"
   ]
  },
  {
   "cell_type": "code",
   "execution_count": 77,
   "metadata": {},
   "outputs": [
    {
     "data": {
      "text/plain": [
       "array(['US/Eastern', 'US/Pacific', nan, 'US/Central', 'US/Mountain'],\n",
       "      dtype=object)"
      ]
     },
     "execution_count": 77,
     "metadata": {},
     "output_type": "execute_result"
    }
   ],
   "source": [
    "df_new['Timezone'].unique()"
   ]
  },
  {
   "cell_type": "code",
   "execution_count": 78,
   "metadata": {},
   "outputs": [
    {
     "data": {
      "text/plain": [
       "array(['Calm', 'SW', 'SSW', 'WSW', 'WNW', 'NW', 'West', 'NNW', 'NNE',\n",
       "       'South', 'North', 'Variable', 'SE', 'SSE', 'ESE', 'East', 'NE',\n",
       "       'ENE', 'E', 'W', nan, 'S', 'VAR', 'CALM', 'N'], dtype=object)"
      ]
     },
     "execution_count": 78,
     "metadata": {},
     "output_type": "execute_result"
    }
   ],
   "source": [
    "df_new['Wind_Direction'].unique()"
   ]
  },
  {
   "cell_type": "code",
   "execution_count": 79,
   "metadata": {},
   "outputs": [
    {
     "data": {
      "text/plain": [
       "array(['Light Rain', 'Overcast', 'Mostly Cloudy', 'Rain', 'Light Snow',\n",
       "       'Haze', 'Scattered Clouds', 'Partly Cloudy', 'Clear', 'Snow',\n",
       "       'Light Freezing Drizzle', 'Light Drizzle', 'Fog', 'Shallow Fog',\n",
       "       'Heavy Rain', 'Light Freezing Rain', 'Cloudy', 'Drizzle', nan,\n",
       "       'Light Rain Showers', 'Mist', 'Smoke', 'Patches of Fog',\n",
       "       'Light Freezing Fog', 'Light Haze', 'Light Thunderstorms and Rain',\n",
       "       'Thunderstorms and Rain', 'Fair', 'Volcanic Ash', 'Blowing Sand',\n",
       "       'Blowing Dust / Windy', 'Widespread Dust', 'Fair / Windy',\n",
       "       'Rain Showers', 'Mostly Cloudy / Windy', 'Light Rain / Windy',\n",
       "       'Hail', 'Heavy Drizzle', 'Showers in the Vicinity', 'Thunderstorm',\n",
       "       'Light Rain Shower', 'Light Rain with Thunder',\n",
       "       'Partly Cloudy / Windy', 'Thunder in the Vicinity', 'T-Storm',\n",
       "       'Heavy Thunderstorms and Rain', 'Thunder', 'Heavy T-Storm',\n",
       "       'Funnel Cloud', 'Heavy T-Storm / Windy', 'Blowing Snow',\n",
       "       'Light Thunderstorms and Snow', 'Heavy Snow', 'Low Drifting Snow',\n",
       "       'Light Ice Pellets', 'Ice Pellets', 'Squalls', 'N/A Precipitation',\n",
       "       'Cloudy / Windy', 'Light Fog', 'Sand', 'Snow Grains',\n",
       "       'Snow Showers', 'Heavy Thunderstorms and Snow', 'Rain / Windy',\n",
       "       'Heavy Rain / Windy', 'Heavy Ice Pellets', 'Light Snow / Windy',\n",
       "       'Heavy Freezing Rain', 'Small Hail', 'Heavy Rain Showers',\n",
       "       'T-Storm / Windy', 'Patches of Fog / Windy', 'Drizzle / Windy',\n",
       "       'Thunder / Windy', 'Wintry Mix', 'Squalls / Windy', 'Rain Shower',\n",
       "       'Drizzle and Fog', 'Haze / Windy', 'Sand / Dust Whirlwinds',\n",
       "       'Blowing Dust', 'Fog / Windy', 'Smoke / Windy',\n",
       "       'Wintry Mix / Windy', 'Snow / Windy', 'Light Rain Shower / Windy',\n",
       "       'Heavy Snow / Windy', 'Snow and Sleet',\n",
       "       'Light Freezing Rain / Windy', 'Light Drizzle / Windy',\n",
       "       'Light Snow and Sleet', 'Partial Fog', 'Light Snow Shower',\n",
       "       'Light Snow and Sleet / Windy', 'Freezing Rain',\n",
       "       'Blowing Snow / Windy', 'Freezing Drizzle', 'Sleet', 'Light Sleet',\n",
       "       'Rain and Sleet', 'Heavy Sleet', 'Light Snow Grains',\n",
       "       'Partial Fog / Windy', 'Light Snow with Thunder',\n",
       "       'Widespread Dust / Windy', 'Sand / Dust Whirlwinds / Windy',\n",
       "       'Tornado', 'Snow and Thunder', 'Snow and Sleet / Windy',\n",
       "       'Heavy Snow with Thunder', 'Thunder / Wintry Mix / Windy',\n",
       "       'Light Snow Showers', 'Heavy Blowing Snow', 'Light Hail',\n",
       "       'Heavy Smoke', 'Heavy Thunderstorms with Small Hail',\n",
       "       'Light Thunderstorm', 'Heavy Freezing Drizzle',\n",
       "       'Light Blowing Snow', 'Thunderstorms and Snow',\n",
       "       'Freezing Rain / Windy', 'Dust Whirls',\n",
       "       'Sand / Dust Whirls Nearby', 'Heavy Rain Shower',\n",
       "       'Thunder and Hail', 'Drifting Snow', 'Thunder and Hail / Windy'],\n",
       "      dtype=object)"
      ]
     },
     "execution_count": 79,
     "metadata": {},
     "output_type": "execute_result"
    }
   ],
   "source": [
    "df_new['Weather_Condition'].unique()"
   ]
  },
  {
   "cell_type": "code",
   "execution_count": 80,
   "metadata": {
    "scrolled": true
   },
   "outputs": [
    {
     "data": {
      "text/plain": [
       "array(['Night', 'Day', nan], dtype=object)"
      ]
     },
     "execution_count": 80,
     "metadata": {},
     "output_type": "execute_result"
    }
   ],
   "source": [
    "df_new['Sunrise_Sunset'].unique()"
   ]
  },
  {
   "cell_type": "code",
   "execution_count": 81,
   "metadata": {
    "scrolled": true
   },
   "outputs": [
    {
     "data": {
      "text/plain": [
       "array(['Night', 'Day', nan], dtype=object)"
      ]
     },
     "execution_count": 81,
     "metadata": {},
     "output_type": "execute_result"
    }
   ],
   "source": [
    "df_new['Civil_Twilight'].unique()"
   ]
  },
  {
   "cell_type": "code",
   "execution_count": 82,
   "metadata": {
    "scrolled": true
   },
   "outputs": [
    {
     "data": {
      "text/plain": [
       "array(['Night', 'Day', nan], dtype=object)"
      ]
     },
     "execution_count": 82,
     "metadata": {},
     "output_type": "execute_result"
    }
   ],
   "source": [
    "df_new['Nautical_Twilight'].unique()"
   ]
  },
  {
   "cell_type": "code",
   "execution_count": 83,
   "metadata": {},
   "outputs": [
    {
     "data": {
      "text/plain": [
       "array(['Night', 'Day', nan], dtype=object)"
      ]
     },
     "execution_count": 83,
     "metadata": {},
     "output_type": "execute_result"
    }
   ],
   "source": [
    "df_new['Astronomical_Twilight'].unique()"
   ]
  },
  {
   "cell_type": "code",
   "execution_count": 84,
   "metadata": {},
   "outputs": [
    {
     "data": {
      "text/plain": [
       "array([3., 2., 1., 4.])"
      ]
     },
     "execution_count": 84,
     "metadata": {},
     "output_type": "execute_result"
    }
   ],
   "source": [
    "df_new['Severity'].unique()"
   ]
  },
  {
   "cell_type": "markdown",
   "metadata": {},
   "source": [
    "Wind_Direction has some duplicate categories we can cluster into one category."
   ]
  },
  {
   "cell_type": "code",
   "execution_count": 85,
   "metadata": {},
   "outputs": [],
   "source": [
    "df_new['Wind_Direction'] = df_new['Wind_Direction'].replace({'CALM':'Calm', 'West':'W', 'East':'E', 'South':'S', 'North':'N', 'VAR': 'Variable'})"
   ]
  },
  {
   "cell_type": "code",
   "execution_count": 86,
   "metadata": {},
   "outputs": [
    {
     "data": {
      "text/plain": [
       "array(['Calm', 'SW', 'SSW', 'WSW', 'WNW', 'NW', 'W', 'NNW', 'NNE', 'S',\n",
       "       'N', 'Variable', 'SE', 'SSE', 'ESE', 'E', 'NE', 'ENE', nan],\n",
       "      dtype=object)"
      ]
     },
     "execution_count": 86,
     "metadata": {},
     "output_type": "execute_result"
    }
   ],
   "source": [
    "df_new['Wind_Direction'].unique()"
   ]
  },
  {
   "cell_type": "markdown",
   "metadata": {},
   "source": [
    "Sunrise_Sunset, Civil Twilight, Nautical Twilight and Astronomical Twilight all serve as descriptions of the presence of natural light on the road.\n",
    "\n",
    "Sunrise and sunset are the moments when the Sun's upper edge touches the horizon.\n",
    "\n",
    "During civil twilight, the geometric center of the Sun's disk is at most 6 degrees below the horizon. In the morning, this twilight phase ends at sunrise; in the evening it begins at sunset. \n",
    "\n",
    "Nautical twilight begins in the morning, or ends in the evening, when the geometric center of the sun is 12 degrees below the horizon. \n",
    "\n",
    "Astronomical twilight begins in the morning, or ends in the evening, when the geometric center of the sun is 18 degrees below the horizon.\n",
    "\n",
    "For the purpose of our prediction model, we are really only interested if natural light is present, so if it is still day as opposed to night time. To achieve this and simplify the model, we can drop the twilight values and just work with the Sunrise_Sunset attribute.\n",
    "\n",
    "To further simplify, we will change the Sunrise_Sunset attribute to a boolean value and call the column Day_Time."
   ]
  },
  {
   "cell_type": "code",
   "execution_count": 87,
   "metadata": {},
   "outputs": [],
   "source": [
    "#Drop columns\n",
    "df_new=df_new.drop(columns=['Civil_Twilight', 'Nautical_Twilight', 'Astronomical_Twilight'])"
   ]
  },
  {
   "cell_type": "code",
   "execution_count": 88,
   "metadata": {},
   "outputs": [],
   "source": [
    "#Replace values day and night to 1(True) and 0(False) for Sunrise_Sunset\n",
    "#using numeric values will make it easier to find correlations between variables later on.\n",
    "df_new['Sunrise_Sunset'] = df_new['Sunrise_Sunset'].replace({'Day': 1, 'Night':0})"
   ]
  },
  {
   "cell_type": "code",
   "execution_count": 89,
   "metadata": {},
   "outputs": [
    {
     "data": {
      "text/plain": [
       "array([ 0.,  1., nan])"
      ]
     },
     "execution_count": 89,
     "metadata": {},
     "output_type": "execute_result"
    }
   ],
   "source": [
    "df_new['Sunrise_Sunset'].unique()"
   ]
  },
  {
   "cell_type": "code",
   "execution_count": 90,
   "metadata": {},
   "outputs": [],
   "source": [
    "#convert to type 'float'\n",
    "df_new[['Sunrise_Sunset']]=df_new[['Sunrise_Sunset']].astype('float64')"
   ]
  },
  {
   "cell_type": "code",
   "execution_count": 91,
   "metadata": {},
   "outputs": [],
   "source": [
    "#Rename column to Day_Time\n",
    "\n",
    "df_new=df_new.rename(columns={\"Sunrise_Sunset\": \"Day_Time\"})"
   ]
  },
  {
   "cell_type": "markdown",
   "metadata": {},
   "source": [
    "Severity has some duplicate categories we can cluster into one category and a mix of dtypes between number and string."
   ]
  },
  {
   "cell_type": "code",
   "execution_count": 94,
   "metadata": {},
   "outputs": [],
   "source": [
    "df_new['Severity'] = df_new['Severity'].replace({1:'1', 2:'2', 3:'3', 4:'4'})"
   ]
  },
  {
   "cell_type": "code",
   "execution_count": 95,
   "metadata": {},
   "outputs": [],
   "source": [
    "df_new['Severity'] = df_new['Severity'].astype('float64')"
   ]
  },
  {
   "cell_type": "markdown",
   "metadata": {},
   "source": [
    "## 5. Identify and handle missing values\n"
   ]
  },
  {
   "cell_type": "markdown",
   "metadata": {},
   "source": [
    "### Identify missing values"
   ]
  },
  {
   "cell_type": "code",
   "execution_count": 96,
   "metadata": {},
   "outputs": [
    {
     "data": {
      "text/html": [
       "<div>\n",
       "<style scoped>\n",
       "    .dataframe tbody tr th:only-of-type {\n",
       "        vertical-align: middle;\n",
       "    }\n",
       "\n",
       "    .dataframe tbody tr th {\n",
       "        vertical-align: top;\n",
       "    }\n",
       "\n",
       "    .dataframe thead th {\n",
       "        text-align: right;\n",
       "    }\n",
       "</style>\n",
       "<table border=\"1\" class=\"dataframe\">\n",
       "  <thead>\n",
       "    <tr style=\"text-align: right;\">\n",
       "      <th></th>\n",
       "      <th>Severity</th>\n",
       "      <th>Start_Lat</th>\n",
       "      <th>Start_Lng</th>\n",
       "      <th>End_Lat</th>\n",
       "      <th>End_Lng</th>\n",
       "      <th>Distance(mi)</th>\n",
       "      <th>Side</th>\n",
       "      <th>City</th>\n",
       "      <th>County</th>\n",
       "      <th>State</th>\n",
       "      <th>...</th>\n",
       "      <th>Traffic_Calming</th>\n",
       "      <th>Traffic_Signal</th>\n",
       "      <th>Turning_Loop</th>\n",
       "      <th>Day_Time</th>\n",
       "      <th>Year</th>\n",
       "      <th>Month</th>\n",
       "      <th>Day</th>\n",
       "      <th>Hour</th>\n",
       "      <th>Weekday</th>\n",
       "      <th>Time_Duration(min)</th>\n",
       "    </tr>\n",
       "  </thead>\n",
       "  <tbody>\n",
       "    <tr>\n",
       "      <th>1</th>\n",
       "      <td>False</td>\n",
       "      <td>False</td>\n",
       "      <td>False</td>\n",
       "      <td>True</td>\n",
       "      <td>True</td>\n",
       "      <td>False</td>\n",
       "      <td>False</td>\n",
       "      <td>False</td>\n",
       "      <td>False</td>\n",
       "      <td>False</td>\n",
       "      <td>...</td>\n",
       "      <td>False</td>\n",
       "      <td>False</td>\n",
       "      <td>False</td>\n",
       "      <td>False</td>\n",
       "      <td>False</td>\n",
       "      <td>False</td>\n",
       "      <td>False</td>\n",
       "      <td>False</td>\n",
       "      <td>False</td>\n",
       "      <td>False</td>\n",
       "    </tr>\n",
       "    <tr>\n",
       "      <th>2</th>\n",
       "      <td>False</td>\n",
       "      <td>False</td>\n",
       "      <td>False</td>\n",
       "      <td>True</td>\n",
       "      <td>True</td>\n",
       "      <td>False</td>\n",
       "      <td>False</td>\n",
       "      <td>False</td>\n",
       "      <td>False</td>\n",
       "      <td>False</td>\n",
       "      <td>...</td>\n",
       "      <td>False</td>\n",
       "      <td>False</td>\n",
       "      <td>False</td>\n",
       "      <td>False</td>\n",
       "      <td>False</td>\n",
       "      <td>False</td>\n",
       "      <td>False</td>\n",
       "      <td>False</td>\n",
       "      <td>False</td>\n",
       "      <td>False</td>\n",
       "    </tr>\n",
       "    <tr>\n",
       "      <th>3</th>\n",
       "      <td>False</td>\n",
       "      <td>False</td>\n",
       "      <td>False</td>\n",
       "      <td>True</td>\n",
       "      <td>True</td>\n",
       "      <td>False</td>\n",
       "      <td>False</td>\n",
       "      <td>False</td>\n",
       "      <td>False</td>\n",
       "      <td>False</td>\n",
       "      <td>...</td>\n",
       "      <td>False</td>\n",
       "      <td>False</td>\n",
       "      <td>False</td>\n",
       "      <td>False</td>\n",
       "      <td>False</td>\n",
       "      <td>False</td>\n",
       "      <td>False</td>\n",
       "      <td>False</td>\n",
       "      <td>False</td>\n",
       "      <td>False</td>\n",
       "    </tr>\n",
       "    <tr>\n",
       "      <th>4</th>\n",
       "      <td>False</td>\n",
       "      <td>False</td>\n",
       "      <td>False</td>\n",
       "      <td>True</td>\n",
       "      <td>True</td>\n",
       "      <td>False</td>\n",
       "      <td>False</td>\n",
       "      <td>False</td>\n",
       "      <td>False</td>\n",
       "      <td>False</td>\n",
       "      <td>...</td>\n",
       "      <td>False</td>\n",
       "      <td>False</td>\n",
       "      <td>False</td>\n",
       "      <td>False</td>\n",
       "      <td>False</td>\n",
       "      <td>False</td>\n",
       "      <td>False</td>\n",
       "      <td>False</td>\n",
       "      <td>False</td>\n",
       "      <td>False</td>\n",
       "    </tr>\n",
       "    <tr>\n",
       "      <th>5</th>\n",
       "      <td>False</td>\n",
       "      <td>False</td>\n",
       "      <td>False</td>\n",
       "      <td>True</td>\n",
       "      <td>True</td>\n",
       "      <td>False</td>\n",
       "      <td>False</td>\n",
       "      <td>False</td>\n",
       "      <td>False</td>\n",
       "      <td>False</td>\n",
       "      <td>...</td>\n",
       "      <td>False</td>\n",
       "      <td>False</td>\n",
       "      <td>False</td>\n",
       "      <td>False</td>\n",
       "      <td>False</td>\n",
       "      <td>False</td>\n",
       "      <td>False</td>\n",
       "      <td>False</td>\n",
       "      <td>False</td>\n",
       "      <td>False</td>\n",
       "    </tr>\n",
       "  </tbody>\n",
       "</table>\n",
       "<p>5 rows × 40 columns</p>\n",
       "</div>"
      ],
      "text/plain": [
       "   Severity  Start_Lat  Start_Lng  End_Lat  End_Lng  Distance(mi)   Side  \\\n",
       "1     False      False      False     True     True         False  False   \n",
       "2     False      False      False     True     True         False  False   \n",
       "3     False      False      False     True     True         False  False   \n",
       "4     False      False      False     True     True         False  False   \n",
       "5     False      False      False     True     True         False  False   \n",
       "\n",
       "    City  County  State  ...  Traffic_Calming  Traffic_Signal  Turning_Loop  \\\n",
       "1  False   False  False  ...            False           False         False   \n",
       "2  False   False  False  ...            False           False         False   \n",
       "3  False   False  False  ...            False           False         False   \n",
       "4  False   False  False  ...            False           False         False   \n",
       "5  False   False  False  ...            False           False         False   \n",
       "\n",
       "   Day_Time   Year  Month    Day   Hour  Weekday  Time_Duration(min)  \n",
       "1     False  False  False  False  False    False               False  \n",
       "2     False  False  False  False  False    False               False  \n",
       "3     False  False  False  False  False    False               False  \n",
       "4     False  False  False  False  False    False               False  \n",
       "5     False  False  False  False  False    False               False  \n",
       "\n",
       "[5 rows x 40 columns]"
      ]
     },
     "execution_count": 96,
     "metadata": {},
     "output_type": "execute_result"
    }
   ],
   "source": [
    "missing_data = df_new.isnull()\n",
    "missing_data.head(5)"
   ]
  },
  {
   "cell_type": "markdown",
   "metadata": {},
   "source": [
    "<h4>Count missing values in each column</h4>\n",
    "<p>\n",
    "Using a for loop, we can figure out the number of missing values in each column. \"True\" represents a missing value, \"False\"  means the value is present in the dataset.\n",
    "</p>"
   ]
  },
  {
   "cell_type": "code",
   "execution_count": 97,
   "metadata": {},
   "outputs": [
    {
     "name": "stdout",
     "output_type": "stream",
     "text": [
      "Severity\n",
      "False    3513718\n",
      "Name: Severity, dtype: int64\n",
      "\n",
      "Start_Lat\n",
      "False    3513718\n",
      "Name: Start_Lat, dtype: int64\n",
      "\n",
      "Start_Lng\n",
      "False    3513718\n",
      "Name: Start_Lng, dtype: int64\n",
      "\n",
      "End_Lat\n",
      "True     2478800\n",
      "False    1034918\n",
      "Name: End_Lat, dtype: int64\n",
      "\n",
      "End_Lng\n",
      "True     2478800\n",
      "False    1034918\n",
      "Name: End_Lng, dtype: int64\n",
      "\n",
      "Distance(mi)\n",
      "False    3513718\n",
      "Name: Distance(mi), dtype: int64\n",
      "\n",
      "Side\n",
      "False    3513718\n",
      "Name: Side, dtype: int64\n",
      "\n",
      "City\n",
      "False    3513606\n",
      "True         112\n",
      "Name: City, dtype: int64\n",
      "\n",
      "County\n",
      "False    3513718\n",
      "Name: County, dtype: int64\n",
      "\n",
      "State\n",
      "False    3513718\n",
      "Name: State, dtype: int64\n",
      "\n",
      "Timezone\n",
      "False    3509838\n",
      "True        3880\n",
      "Name: Timezone, dtype: int64\n",
      "\n",
      "Temperature(F)\n",
      "False    3447982\n",
      "True       65736\n",
      "Name: Temperature(F), dtype: int64\n",
      "\n",
      "Wind_Chill(F)\n",
      "True     1868244\n",
      "False    1645474\n",
      "Name: Wind_Chill(F), dtype: int64\n",
      "\n",
      "Humidity(%)\n",
      "False    3444027\n",
      "True       69691\n",
      "Name: Humidity(%), dtype: int64\n",
      "\n",
      "Pressure(in)\n",
      "False    3457834\n",
      "True       55884\n",
      "Name: Pressure(in), dtype: int64\n",
      "\n",
      "Visibility(mi)\n",
      "False    3437857\n",
      "True       75861\n",
      "Name: Visibility(mi), dtype: int64\n",
      "\n",
      "Wind_Direction\n",
      "False    3454841\n",
      "True       58877\n",
      "Name: Wind_Direction, dtype: int64\n",
      "\n",
      "Wind_Speed(mph)\n",
      "False    3059112\n",
      "True      454606\n",
      "Name: Wind_Speed(mph), dtype: int64\n",
      "\n",
      "Precipitation(in)\n",
      "True     2025870\n",
      "False    1487848\n",
      "Name: Precipitation(in), dtype: int64\n",
      "\n",
      "Weather_Condition\n",
      "False    3437575\n",
      "True       76143\n",
      "Name: Weather_Condition, dtype: int64\n",
      "\n",
      "Amenity\n",
      "False    3513718\n",
      "Name: Amenity, dtype: int64\n",
      "\n",
      "Bump\n",
      "False    3513718\n",
      "Name: Bump, dtype: int64\n",
      "\n",
      "Crossing\n",
      "False    3513718\n",
      "Name: Crossing, dtype: int64\n",
      "\n",
      "Give_Way\n",
      "False    3513718\n",
      "Name: Give_Way, dtype: int64\n",
      "\n",
      "Junction\n",
      "False    3513718\n",
      "Name: Junction, dtype: int64\n",
      "\n",
      "No_Exit\n",
      "False    3513718\n",
      "Name: No_Exit, dtype: int64\n",
      "\n",
      "Railway\n",
      "False    3513718\n",
      "Name: Railway, dtype: int64\n",
      "\n",
      "Roundabout\n",
      "False    3513718\n",
      "Name: Roundabout, dtype: int64\n",
      "\n",
      "Station\n",
      "False    3513718\n",
      "Name: Station, dtype: int64\n",
      "\n",
      "Stop\n",
      "False    3513718\n",
      "Name: Stop, dtype: int64\n",
      "\n",
      "Traffic_Calming\n",
      "False    3513718\n",
      "Name: Traffic_Calming, dtype: int64\n",
      "\n",
      "Traffic_Signal\n",
      "False    3513718\n",
      "Name: Traffic_Signal, dtype: int64\n",
      "\n",
      "Turning_Loop\n",
      "False    3513718\n",
      "Name: Turning_Loop, dtype: int64\n",
      "\n",
      "Day_Time\n",
      "False    3513602\n",
      "True         116\n",
      "Name: Day_Time, dtype: int64\n",
      "\n",
      "Year\n",
      "False    3513718\n",
      "Name: Year, dtype: int64\n",
      "\n",
      "Month\n",
      "False    3513718\n",
      "Name: Month, dtype: int64\n",
      "\n",
      "Day\n",
      "False    3513718\n",
      "Name: Day, dtype: int64\n",
      "\n",
      "Hour\n",
      "False    3513718\n",
      "Name: Hour, dtype: int64\n",
      "\n",
      "Weekday\n",
      "False    3513718\n",
      "Name: Weekday, dtype: int64\n",
      "\n",
      "Time_Duration(min)\n",
      "False    3513718\n",
      "Name: Time_Duration(min), dtype: int64\n",
      "\n"
     ]
    }
   ],
   "source": [
    "for column in missing_data.columns.values.tolist():\n",
    "    print(column)\n",
    "    print (missing_data[column].value_counts())\n",
    "    print(\"\")   "
   ]
  },
  {
   "cell_type": "markdown",
   "metadata": {},
   "source": [
    "Based on the summary above, each column has 3,513,718 rows of data, with 17 columns containing missing data:\n",
    "<ol>\n",
    "    <li>\"End_Lat\": 2,478,818 missing data points</li>\n",
    "    <li>\"End_Lng\": 2,478,818 missing data points</li>\n",
    "    <li>\"City\": 112 missing data points</li>\n",
    "    <li>\"Timezone\": 3,880 missing data points</li>\n",
    "    <li>\"Temperature(F)\" : 65,736 missing data points</li>\n",
    "    <li>\"Wind_Chill(F)\": 1,868,256 missing data points</li>\n",
    "    <li>\"Humidity(%)\": 69,691 missing data points</li>\n",
    "    <li>\"Pressure(in)\": 55,884 missing data points</li>\n",
    "    <li>\"Visibility(mi)\": 75,861 missing data points</li>\n",
    "    <li>\"Wind_Direction\": 58,877 missing data points</li>\n",
    "    <li>\"Wind_Speed(mph)\": 454,613 missing data points</li>\n",
    "    <li>\"Precipitation(in)\": 2,025,881 missing data points</li>\n",
    "    <li>\"Weather_Condition\": 76,143 missing data points</li>\n",
    "    <li>\"Day_Time\": 116 missing data points</li>    \n",
    "</ol>"
   ]
  },
  {
   "cell_type": "markdown",
   "metadata": {},
   "source": [
    "### Handle missing values"
   ]
  },
  {
   "cell_type": "markdown",
   "metadata": {},
   "source": [
    "In general, there are two ways of dealing with missing data:\n",
    "\n",
    "<ol>\n",
    "    <li>Drop data<br>\n",
    "        a. drop the whole row<br>\n",
    "        b. drop the whole column\n",
    "    </li>\n",
    "    <li>Replace data<br>\n",
    "        a. replace it by mean<br>\n",
    "        b. replace it by frequency<br>\n",
    "        c. replace it based on other functions\n",
    "    </li>\n",
    "</ol>"
   ]
  },
  {
   "cell_type": "markdown",
   "metadata": {},
   "source": [
    "<b>1. Drop data</b>\n",
    "\n",
    "<b>Drop the whole column:</b>\n",
    "    \n",
    "Whole columns should be dropped only if most entries in the column are empty.\n",
    "In our dataset, a couple of columns are empty enough to drop entirely:\n",
    "\n",
    "<ul>\n",
    "   <li>\"End_Lat\": 2,478,818 missing data (~70%)</li>\n",
    "   <li>\"End_Lng\": 2,478,818 missing data (~70%)</li>\n",
    "   <li>\"Precipitation(in)\": 2,025,881 missing data (~57%)</li>\n",
    "   <li>\"Wind_Chill(F)\": 1,868,256 missing data points (~53%)</li>\n",
    "</ul>\n",
    "\n",
    "<b>Drop the whole row:</b>\n",
    "    \n",
    "116 rows in our data set are missing the value for \"Date_Time\". We can drop those rows as the number of rows is not significant compared to the roughly 3.5 million accident events.\n",
    "\n",
    "112 rows in our data set are missing the value for \"City\". We can drop those rows as the number of rows is not significant compared to the roughly 3.5 million accident events.\n"
   ]
  },
  {
   "cell_type": "markdown",
   "metadata": {},
   "source": [
    "<b>2. Replace data</b>\n",
    "    \n",
    "We have some freedom in choosing which method to replace data; however, some methods may seem more reasonable than others. \n",
    "We will apply each method to many different columns:\n",
    "\n",
    "\n",
    "    \n",
    "<b>Replace by mean:</b>   \n",
    "<ul>\n",
    "   <li>\"Temperature(F)\": 65,736 missing data points</li>\n",
    "   <li>\"Humidity(%)\": 69,691 missing data points</li>\n",
    "   <li>\"Pressure(in)\": 55,884 missing data points</li>\n",
    "   <li>\"Visibility(mi)\": 75,861 missing data points</li>\n",
    "   <li>\"Wind_Speed(mph)\": 454,613 missing data point</li>\n",
    "</ul>   \n",
    "\n",
    "<b>Replace by frequency:</b>   \n",
    "<ul>\n",
    "   <li>\"Wind_Direction\": 58,877 missing data points</li>\n",
    "        <ul>\n",
    "            <li>Reason: The majority of all accidents have a wind direction of Calm. Since Calm is most frequent, it is most likely to occur.</li>\n",
    "        </ul>\n",
    "   <li>\"Weather_Condition\": 76,143 missing data points</li>\n",
    "        <ul>\n",
    "            <li>Reason: The majority of all accidents have a weather condition of clear. Since clear is most frequent, it is most likely to occur.</li>\n",
    "        </ul>\n",
    "\n",
    "</ul> \n",
    "\n",
    "<b>Replace by other function:</b> \n",
    "<ul>\n",
    "    <li>\"Timezone\": 3,880 missing data points</li>\n",
    "        <ul>\n",
    "            <li>We can find out the timezone of each row by looking at the latitude and longitude data and replacing the timezone for the missing data points</li>\n",
    "        </ul>   \n",
    "</ul>"
   ]
  },
  {
   "cell_type": "code",
   "execution_count": 98,
   "metadata": {},
   "outputs": [],
   "source": [
    "#drop columns\n",
    "\n",
    "df_new=df_new.drop(columns=['End_Lat', 'End_Lng', 'Precipitation(in)', 'Wind_Chill(F)'])"
   ]
  },
  {
   "cell_type": "code",
   "execution_count": 99,
   "metadata": {},
   "outputs": [
    {
     "ename": "KeyError",
     "evalue": "'[  85974  111086  119778  122935  123708  125054  126324  126457  127219\\n  132636  135063  138429  141461  145313  240032  242449  358344  358501\\n  359048  444988  498105  498467  518391  542971  558969  640699  651104\\n  701123  754049  756833  774407  779943  835351  924471  929951 1029830\\n 1046353 1050600 1180767 1213445 1251117 1312347 1348296 1359914 1435326\\n 1555601 1696034 1855952 2096375 2135330 2252835 2340406 2462146 2477259\\n 2514992 2523904 2523912 2524062 2537328 2542954 2543328 2545887 2552174\\n 2552184 2555510 2557745 2561235 2573993 2585009 2587026 2597581 2671267\\n 2680903 2683937 2692630 2692651 2792527 2792535 2792610 2800838 2820672\\n 2847273 2863297 2863318 2863328 2876128 2876133 2876140 2876146 2884266\\n 2895629 2895634 2901771 2901782 2901799 2921903 2921904 2945956 2964231\\n 3026648 3029281 3087927 3087933 3188957 3250333 3251067 3300268 3309548\\n 3310815 3328221 3377795 3383622 3392303 3400189 3405406 3415613] not found in axis'",
     "output_type": "error",
     "traceback": [
      "\u001b[0;31m---------------------------------------------------------------------------\u001b[0m",
      "\u001b[0;31mKeyError\u001b[0m                                  Traceback (most recent call last)",
      "\u001b[0;32m<ipython-input-99-70d157ccd664>\u001b[0m in \u001b[0;36m<module>\u001b[0;34m\u001b[0m\n\u001b[1;32m      4\u001b[0m \u001b[0;31m#drop the rows with NaN values for Time of day attributes\u001b[0m\u001b[0;34m\u001b[0m\u001b[0;34m\u001b[0m\u001b[0;34m\u001b[0m\u001b[0m\n\u001b[1;32m      5\u001b[0m \u001b[0;32mfor\u001b[0m \u001b[0mi\u001b[0m \u001b[0;32min\u001b[0m \u001b[0mindex_list\u001b[0m\u001b[0;34m:\u001b[0m\u001b[0;34m\u001b[0m\u001b[0;34m\u001b[0m\u001b[0m\n\u001b[0;32m----> 6\u001b[0;31m     \u001b[0mdf_new\u001b[0m\u001b[0;34m.\u001b[0m\u001b[0mdrop\u001b[0m\u001b[0;34m(\u001b[0m\u001b[0mindex_list\u001b[0m\u001b[0;34m,\u001b[0m \u001b[0minplace\u001b[0m\u001b[0;34m=\u001b[0m\u001b[0;32mTrue\u001b[0m\u001b[0;34m)\u001b[0m\u001b[0;34m\u001b[0m\u001b[0;34m\u001b[0m\u001b[0m\n\u001b[0m",
      "\u001b[0;32m/opt/anaconda3/lib/python3.7/site-packages/pandas/core/frame.py\u001b[0m in \u001b[0;36mdrop\u001b[0;34m(self, labels, axis, index, columns, level, inplace, errors)\u001b[0m\n\u001b[1;32m   3995\u001b[0m             \u001b[0mlevel\u001b[0m\u001b[0;34m=\u001b[0m\u001b[0mlevel\u001b[0m\u001b[0;34m,\u001b[0m\u001b[0;34m\u001b[0m\u001b[0;34m\u001b[0m\u001b[0m\n\u001b[1;32m   3996\u001b[0m             \u001b[0minplace\u001b[0m\u001b[0;34m=\u001b[0m\u001b[0minplace\u001b[0m\u001b[0;34m,\u001b[0m\u001b[0;34m\u001b[0m\u001b[0;34m\u001b[0m\u001b[0m\n\u001b[0;32m-> 3997\u001b[0;31m             \u001b[0merrors\u001b[0m\u001b[0;34m=\u001b[0m\u001b[0merrors\u001b[0m\u001b[0;34m,\u001b[0m\u001b[0;34m\u001b[0m\u001b[0;34m\u001b[0m\u001b[0m\n\u001b[0m\u001b[1;32m   3998\u001b[0m         )\n\u001b[1;32m   3999\u001b[0m \u001b[0;34m\u001b[0m\u001b[0m\n",
      "\u001b[0;32m/opt/anaconda3/lib/python3.7/site-packages/pandas/core/generic.py\u001b[0m in \u001b[0;36mdrop\u001b[0;34m(self, labels, axis, index, columns, level, inplace, errors)\u001b[0m\n\u001b[1;32m   3934\u001b[0m         \u001b[0;32mfor\u001b[0m \u001b[0maxis\u001b[0m\u001b[0;34m,\u001b[0m \u001b[0mlabels\u001b[0m \u001b[0;32min\u001b[0m \u001b[0maxes\u001b[0m\u001b[0;34m.\u001b[0m\u001b[0mitems\u001b[0m\u001b[0;34m(\u001b[0m\u001b[0;34m)\u001b[0m\u001b[0;34m:\u001b[0m\u001b[0;34m\u001b[0m\u001b[0;34m\u001b[0m\u001b[0m\n\u001b[1;32m   3935\u001b[0m             \u001b[0;32mif\u001b[0m \u001b[0mlabels\u001b[0m \u001b[0;32mis\u001b[0m \u001b[0;32mnot\u001b[0m \u001b[0;32mNone\u001b[0m\u001b[0;34m:\u001b[0m\u001b[0;34m\u001b[0m\u001b[0;34m\u001b[0m\u001b[0m\n\u001b[0;32m-> 3936\u001b[0;31m                 \u001b[0mobj\u001b[0m \u001b[0;34m=\u001b[0m \u001b[0mobj\u001b[0m\u001b[0;34m.\u001b[0m\u001b[0m_drop_axis\u001b[0m\u001b[0;34m(\u001b[0m\u001b[0mlabels\u001b[0m\u001b[0;34m,\u001b[0m \u001b[0maxis\u001b[0m\u001b[0;34m,\u001b[0m \u001b[0mlevel\u001b[0m\u001b[0;34m=\u001b[0m\u001b[0mlevel\u001b[0m\u001b[0;34m,\u001b[0m \u001b[0merrors\u001b[0m\u001b[0;34m=\u001b[0m\u001b[0merrors\u001b[0m\u001b[0;34m)\u001b[0m\u001b[0;34m\u001b[0m\u001b[0;34m\u001b[0m\u001b[0m\n\u001b[0m\u001b[1;32m   3937\u001b[0m \u001b[0;34m\u001b[0m\u001b[0m\n\u001b[1;32m   3938\u001b[0m         \u001b[0;32mif\u001b[0m \u001b[0minplace\u001b[0m\u001b[0;34m:\u001b[0m\u001b[0;34m\u001b[0m\u001b[0;34m\u001b[0m\u001b[0m\n",
      "\u001b[0;32m/opt/anaconda3/lib/python3.7/site-packages/pandas/core/generic.py\u001b[0m in \u001b[0;36m_drop_axis\u001b[0;34m(self, labels, axis, level, errors)\u001b[0m\n\u001b[1;32m   3968\u001b[0m                 \u001b[0mnew_axis\u001b[0m \u001b[0;34m=\u001b[0m \u001b[0maxis\u001b[0m\u001b[0;34m.\u001b[0m\u001b[0mdrop\u001b[0m\u001b[0;34m(\u001b[0m\u001b[0mlabels\u001b[0m\u001b[0;34m,\u001b[0m \u001b[0mlevel\u001b[0m\u001b[0;34m=\u001b[0m\u001b[0mlevel\u001b[0m\u001b[0;34m,\u001b[0m \u001b[0merrors\u001b[0m\u001b[0;34m=\u001b[0m\u001b[0merrors\u001b[0m\u001b[0;34m)\u001b[0m\u001b[0;34m\u001b[0m\u001b[0;34m\u001b[0m\u001b[0m\n\u001b[1;32m   3969\u001b[0m             \u001b[0;32melse\u001b[0m\u001b[0;34m:\u001b[0m\u001b[0;34m\u001b[0m\u001b[0;34m\u001b[0m\u001b[0m\n\u001b[0;32m-> 3970\u001b[0;31m                 \u001b[0mnew_axis\u001b[0m \u001b[0;34m=\u001b[0m \u001b[0maxis\u001b[0m\u001b[0;34m.\u001b[0m\u001b[0mdrop\u001b[0m\u001b[0;34m(\u001b[0m\u001b[0mlabels\u001b[0m\u001b[0;34m,\u001b[0m \u001b[0merrors\u001b[0m\u001b[0;34m=\u001b[0m\u001b[0merrors\u001b[0m\u001b[0;34m)\u001b[0m\u001b[0;34m\u001b[0m\u001b[0;34m\u001b[0m\u001b[0m\n\u001b[0m\u001b[1;32m   3971\u001b[0m             \u001b[0mresult\u001b[0m \u001b[0;34m=\u001b[0m \u001b[0mself\u001b[0m\u001b[0;34m.\u001b[0m\u001b[0mreindex\u001b[0m\u001b[0;34m(\u001b[0m\u001b[0;34m**\u001b[0m\u001b[0;34m{\u001b[0m\u001b[0maxis_name\u001b[0m\u001b[0;34m:\u001b[0m \u001b[0mnew_axis\u001b[0m\u001b[0;34m}\u001b[0m\u001b[0;34m)\u001b[0m\u001b[0;34m\u001b[0m\u001b[0;34m\u001b[0m\u001b[0m\n\u001b[1;32m   3972\u001b[0m \u001b[0;34m\u001b[0m\u001b[0m\n",
      "\u001b[0;32m/opt/anaconda3/lib/python3.7/site-packages/pandas/core/indexes/base.py\u001b[0m in \u001b[0;36mdrop\u001b[0;34m(self, labels, errors)\u001b[0m\n\u001b[1;32m   5016\u001b[0m         \u001b[0;32mif\u001b[0m \u001b[0mmask\u001b[0m\u001b[0;34m.\u001b[0m\u001b[0many\u001b[0m\u001b[0;34m(\u001b[0m\u001b[0;34m)\u001b[0m\u001b[0;34m:\u001b[0m\u001b[0;34m\u001b[0m\u001b[0;34m\u001b[0m\u001b[0m\n\u001b[1;32m   5017\u001b[0m             \u001b[0;32mif\u001b[0m \u001b[0merrors\u001b[0m \u001b[0;34m!=\u001b[0m \u001b[0;34m\"ignore\"\u001b[0m\u001b[0;34m:\u001b[0m\u001b[0;34m\u001b[0m\u001b[0;34m\u001b[0m\u001b[0m\n\u001b[0;32m-> 5018\u001b[0;31m                 \u001b[0;32mraise\u001b[0m \u001b[0mKeyError\u001b[0m\u001b[0;34m(\u001b[0m\u001b[0;34mf\"{labels[mask]} not found in axis\"\u001b[0m\u001b[0;34m)\u001b[0m\u001b[0;34m\u001b[0m\u001b[0;34m\u001b[0m\u001b[0m\n\u001b[0m\u001b[1;32m   5019\u001b[0m             \u001b[0mindexer\u001b[0m \u001b[0;34m=\u001b[0m \u001b[0mindexer\u001b[0m\u001b[0;34m[\u001b[0m\u001b[0;34m~\u001b[0m\u001b[0mmask\u001b[0m\u001b[0;34m]\u001b[0m\u001b[0;34m\u001b[0m\u001b[0;34m\u001b[0m\u001b[0m\n\u001b[1;32m   5020\u001b[0m         \u001b[0;32mreturn\u001b[0m \u001b[0mself\u001b[0m\u001b[0;34m.\u001b[0m\u001b[0mdelete\u001b[0m\u001b[0;34m(\u001b[0m\u001b[0mindexer\u001b[0m\u001b[0;34m)\u001b[0m\u001b[0;34m\u001b[0m\u001b[0;34m\u001b[0m\u001b[0m\n",
      "\u001b[0;31mKeyError\u001b[0m: '[  85974  111086  119778  122935  123708  125054  126324  126457  127219\\n  132636  135063  138429  141461  145313  240032  242449  358344  358501\\n  359048  444988  498105  498467  518391  542971  558969  640699  651104\\n  701123  754049  756833  774407  779943  835351  924471  929951 1029830\\n 1046353 1050600 1180767 1213445 1251117 1312347 1348296 1359914 1435326\\n 1555601 1696034 1855952 2096375 2135330 2252835 2340406 2462146 2477259\\n 2514992 2523904 2523912 2524062 2537328 2542954 2543328 2545887 2552174\\n 2552184 2555510 2557745 2561235 2573993 2585009 2587026 2597581 2671267\\n 2680903 2683937 2692630 2692651 2792527 2792535 2792610 2800838 2820672\\n 2847273 2863297 2863318 2863328 2876128 2876133 2876140 2876146 2884266\\n 2895629 2895634 2901771 2901782 2901799 2921903 2921904 2945956 2964231\\n 3026648 3029281 3087927 3087933 3188957 3250333 3251067 3300268 3309548\\n 3310815 3328221 3377795 3383622 3392303 3400189 3405406 3415613] not found in axis'"
     ]
    }
   ],
   "source": [
    "#get list of index with NaN values for day time attribute\n",
    "index_list=df_new.loc[pd.isna(df_new[\"Day_Time\"]), :].index\n",
    "\n",
    "#drop the rows with NaN values for Time of day attributes \n",
    "for i in index_list:\n",
    "    df_new.drop(index_list, inplace=True)"
   ]
  },
  {
   "cell_type": "code",
   "execution_count": null,
   "metadata": {},
   "outputs": [],
   "source": [
    "#get list of index with NaN values for city attribute\n",
    "index_list_city=df_new.loc[pd.isna(df_new[\"City\"]), :].index\n",
    "\n",
    "#drop the rows with NaN values for Time of day attributes \n",
    "for i in index_list_city:\n",
    "    df_new.drop(index_list, inplace=True)"
   ]
  },
  {
   "cell_type": "code",
   "execution_count": null,
   "metadata": {},
   "outputs": [],
   "source": [
    "#Calculate the average of the column Temperature(F)\n",
    "avg_temp_f = df_new[\"Temperature(F)\"].astype(\"float\").mean(axis=0)\n",
    "print(\"Average of Temperature(F):\", avg_temp_f)\n",
    "\n",
    "\n",
    "#replace missing values for Temperature(F) with mean\n",
    "df_new[\"Temperature(F)\"].replace(np.nan, avg_temp_f, inplace=True)\n"
   ]
  },
  {
   "cell_type": "code",
   "execution_count": 100,
   "metadata": {},
   "outputs": [
    {
     "name": "stdout",
     "output_type": "stream",
     "text": [
      "Average of Humidity(%): 65.11349754175188\n"
     ]
    }
   ],
   "source": [
    "#Calculate the average of the column Humidity(%) \n",
    "avg_hum = df_new[\"Humidity(%)\"].astype(\"float\").mean(axis=0)\n",
    "print(\"Average of Humidity(%):\", avg_hum)\n",
    "\n",
    "\n",
    "#replace missing values for Humidity(%) with mean\n",
    "df_new[\"Humidity(%)\"].replace(np.nan, avg_hum, inplace=True)"
   ]
  },
  {
   "cell_type": "code",
   "execution_count": 101,
   "metadata": {},
   "outputs": [
    {
     "name": "stdout",
     "output_type": "stream",
     "text": [
      "Average of Pressure(in): 29.74451824958085\n"
     ]
    }
   ],
   "source": [
    "#Calculate the average of the column Pressure(in)\n",
    "avg_press = df_new[\"Pressure(in)\"].astype(\"float\").mean(axis=0)\n",
    "print(\"Average of Pressure(in):\", avg_press)\n",
    "\n",
    "\n",
    "#replace missing values for Pressure(in) with mean\n",
    "df_new[\"Pressure(in)\"].replace(np.nan, avg_press, inplace=True)"
   ]
  },
  {
   "cell_type": "code",
   "execution_count": 102,
   "metadata": {},
   "outputs": [
    {
     "name": "stdout",
     "output_type": "stream",
     "text": [
      "Average of Visibility(mi): 9.122682821825594\n"
     ]
    }
   ],
   "source": [
    "#Calculate the average of the column Pressure(in)\n",
    "avg_vis = df_new[\"Visibility(mi)\"].astype(\"float\").mean(axis=0)\n",
    "print(\"Average of Visibility(mi):\", avg_vis)\n",
    "\n",
    "#replace missing values for Visibility(mi) with mean\n",
    "df_new[\"Visibility(mi)\"].replace(np.nan, avg_vis, inplace=True)"
   ]
  },
  {
   "cell_type": "code",
   "execution_count": 103,
   "metadata": {},
   "outputs": [
    {
     "name": "stdout",
     "output_type": "stream",
     "text": [
      "Average of Wind_Speed(mph): 8.218959918762648\n"
     ]
    }
   ],
   "source": [
    "#Calculate the average of the column Wind_Speed(mph)\n",
    "avg_wind = df_new[\"Wind_Speed(mph)\"].astype(\"float\").mean(axis=0)\n",
    "print(\"Average of Wind_Speed(mph):\", avg_wind)\n",
    "\n",
    "#replace missing values for Wind_Speed(mph) with mean\n",
    "df_new[\"Wind_Speed(mph)\"].replace(np.nan, avg_wind, inplace=True)"
   ]
  },
  {
   "cell_type": "code",
   "execution_count": 104,
   "metadata": {},
   "outputs": [
    {
     "data": {
      "text/plain": [
       "'Calm'"
      ]
     },
     "execution_count": 104,
     "metadata": {},
     "output_type": "execute_result"
    }
   ],
   "source": [
    "#Get most frequent value for Wind_Direction\n",
    "df_new['Wind_Direction'].value_counts().idxmax()"
   ]
  },
  {
   "cell_type": "code",
   "execution_count": 105,
   "metadata": {},
   "outputs": [],
   "source": [
    "#replace the missing 'Wind_Direction' values by the most frequent \n",
    "df_new['Wind_Direction'].replace(np.nan, \"Calm\", inplace=True)"
   ]
  },
  {
   "cell_type": "code",
   "execution_count": 106,
   "metadata": {},
   "outputs": [
    {
     "data": {
      "text/plain": [
       "'Clear'"
      ]
     },
     "execution_count": 106,
     "metadata": {},
     "output_type": "execute_result"
    }
   ],
   "source": [
    "#Get most frequent value for Weather_Condition\n",
    "df_new['Weather_Condition'].value_counts().idxmax()"
   ]
  },
  {
   "cell_type": "code",
   "execution_count": 107,
   "metadata": {},
   "outputs": [],
   "source": [
    "#replace the missing Weather_Condition values by the most frequent \n",
    "df_new['Weather_Condition'].replace(np.nan, \"Clear\", inplace=True)"
   ]
  },
  {
   "cell_type": "code",
   "execution_count": 108,
   "metadata": {},
   "outputs": [],
   "source": [
    "#get list of index with NaN values for Time of day attributes \n",
    "index_timezone=df_new.loc[pd.isna(df_new[\"Timezone\"]), :].index\n",
    "\n",
    "\n",
    "#Get timezone from latitude and longitude values where timezone is NaN\n",
    "for i in index_timezone:\n",
    "    \n",
    "    tf = TimezoneFinderL(in_memory=True)\n",
    "    latitude, longitude = df_new.loc[i, 'Start_Lat'], df_new.loc[i, 'Start_Lng']\n",
    "    timezones_nan=tf.timezone_at(lng=longitude, lat=latitude) # returns 'Europe/Berlin\n",
    "    df_new.at[i,'Timezone']=timezones_nan\n"
   ]
  },
  {
   "cell_type": "code",
   "execution_count": 109,
   "metadata": {},
   "outputs": [],
   "source": [
    "#The timezonefinder function uses different names for timezones, so we now only have to format the timezone names to one consistent taxonomy\n",
    "\n",
    "df_new['Timezone'] = df_new['Timezone'].replace({'America/Los_Angeles':'US/Pacific', 'America/Vancouver':'US/Pacific', 'America/New_York':'US/Eastern', 'America/Detroit':'US/Eastern', 'America/Phoenix':'US/Mountain', 'America/Denver':'US/Mountain', 'America/Chicago':'US/Central', })\n"
   ]
  },
  {
   "cell_type": "markdown",
   "metadata": {},
   "source": [
    "Let's do one final check to see if we got rid of all missing data values."
   ]
  },
  {
   "cell_type": "code",
   "execution_count": 110,
   "metadata": {},
   "outputs": [
    {
     "data": {
      "text/html": [
       "<div>\n",
       "<style scoped>\n",
       "    .dataframe tbody tr th:only-of-type {\n",
       "        vertical-align: middle;\n",
       "    }\n",
       "\n",
       "    .dataframe tbody tr th {\n",
       "        vertical-align: top;\n",
       "    }\n",
       "\n",
       "    .dataframe thead th {\n",
       "        text-align: right;\n",
       "    }\n",
       "</style>\n",
       "<table border=\"1\" class=\"dataframe\">\n",
       "  <thead>\n",
       "    <tr style=\"text-align: right;\">\n",
       "      <th></th>\n",
       "      <th>Severity</th>\n",
       "      <th>Start_Lat</th>\n",
       "      <th>Start_Lng</th>\n",
       "      <th>Distance(mi)</th>\n",
       "      <th>Side</th>\n",
       "      <th>City</th>\n",
       "      <th>County</th>\n",
       "      <th>State</th>\n",
       "      <th>Timezone</th>\n",
       "      <th>Temperature(F)</th>\n",
       "      <th>...</th>\n",
       "      <th>Traffic_Calming</th>\n",
       "      <th>Traffic_Signal</th>\n",
       "      <th>Turning_Loop</th>\n",
       "      <th>Day_Time</th>\n",
       "      <th>Year</th>\n",
       "      <th>Month</th>\n",
       "      <th>Day</th>\n",
       "      <th>Hour</th>\n",
       "      <th>Weekday</th>\n",
       "      <th>Time_Duration(min)</th>\n",
       "    </tr>\n",
       "  </thead>\n",
       "  <tbody>\n",
       "    <tr>\n",
       "      <th>1</th>\n",
       "      <td>False</td>\n",
       "      <td>False</td>\n",
       "      <td>False</td>\n",
       "      <td>False</td>\n",
       "      <td>False</td>\n",
       "      <td>False</td>\n",
       "      <td>False</td>\n",
       "      <td>False</td>\n",
       "      <td>False</td>\n",
       "      <td>False</td>\n",
       "      <td>...</td>\n",
       "      <td>False</td>\n",
       "      <td>False</td>\n",
       "      <td>False</td>\n",
       "      <td>False</td>\n",
       "      <td>False</td>\n",
       "      <td>False</td>\n",
       "      <td>False</td>\n",
       "      <td>False</td>\n",
       "      <td>False</td>\n",
       "      <td>False</td>\n",
       "    </tr>\n",
       "    <tr>\n",
       "      <th>2</th>\n",
       "      <td>False</td>\n",
       "      <td>False</td>\n",
       "      <td>False</td>\n",
       "      <td>False</td>\n",
       "      <td>False</td>\n",
       "      <td>False</td>\n",
       "      <td>False</td>\n",
       "      <td>False</td>\n",
       "      <td>False</td>\n",
       "      <td>False</td>\n",
       "      <td>...</td>\n",
       "      <td>False</td>\n",
       "      <td>False</td>\n",
       "      <td>False</td>\n",
       "      <td>False</td>\n",
       "      <td>False</td>\n",
       "      <td>False</td>\n",
       "      <td>False</td>\n",
       "      <td>False</td>\n",
       "      <td>False</td>\n",
       "      <td>False</td>\n",
       "    </tr>\n",
       "    <tr>\n",
       "      <th>3</th>\n",
       "      <td>False</td>\n",
       "      <td>False</td>\n",
       "      <td>False</td>\n",
       "      <td>False</td>\n",
       "      <td>False</td>\n",
       "      <td>False</td>\n",
       "      <td>False</td>\n",
       "      <td>False</td>\n",
       "      <td>False</td>\n",
       "      <td>False</td>\n",
       "      <td>...</td>\n",
       "      <td>False</td>\n",
       "      <td>False</td>\n",
       "      <td>False</td>\n",
       "      <td>False</td>\n",
       "      <td>False</td>\n",
       "      <td>False</td>\n",
       "      <td>False</td>\n",
       "      <td>False</td>\n",
       "      <td>False</td>\n",
       "      <td>False</td>\n",
       "    </tr>\n",
       "    <tr>\n",
       "      <th>4</th>\n",
       "      <td>False</td>\n",
       "      <td>False</td>\n",
       "      <td>False</td>\n",
       "      <td>False</td>\n",
       "      <td>False</td>\n",
       "      <td>False</td>\n",
       "      <td>False</td>\n",
       "      <td>False</td>\n",
       "      <td>False</td>\n",
       "      <td>False</td>\n",
       "      <td>...</td>\n",
       "      <td>False</td>\n",
       "      <td>False</td>\n",
       "      <td>False</td>\n",
       "      <td>False</td>\n",
       "      <td>False</td>\n",
       "      <td>False</td>\n",
       "      <td>False</td>\n",
       "      <td>False</td>\n",
       "      <td>False</td>\n",
       "      <td>False</td>\n",
       "    </tr>\n",
       "    <tr>\n",
       "      <th>5</th>\n",
       "      <td>False</td>\n",
       "      <td>False</td>\n",
       "      <td>False</td>\n",
       "      <td>False</td>\n",
       "      <td>False</td>\n",
       "      <td>False</td>\n",
       "      <td>False</td>\n",
       "      <td>False</td>\n",
       "      <td>False</td>\n",
       "      <td>False</td>\n",
       "      <td>...</td>\n",
       "      <td>False</td>\n",
       "      <td>False</td>\n",
       "      <td>False</td>\n",
       "      <td>False</td>\n",
       "      <td>False</td>\n",
       "      <td>False</td>\n",
       "      <td>False</td>\n",
       "      <td>False</td>\n",
       "      <td>False</td>\n",
       "      <td>False</td>\n",
       "    </tr>\n",
       "  </tbody>\n",
       "</table>\n",
       "<p>5 rows × 36 columns</p>\n",
       "</div>"
      ],
      "text/plain": [
       "   Severity  Start_Lat  Start_Lng  Distance(mi)   Side   City  County  State  \\\n",
       "1     False      False      False         False  False  False   False  False   \n",
       "2     False      False      False         False  False  False   False  False   \n",
       "3     False      False      False         False  False  False   False  False   \n",
       "4     False      False      False         False  False  False   False  False   \n",
       "5     False      False      False         False  False  False   False  False   \n",
       "\n",
       "   Timezone  Temperature(F)  ...  Traffic_Calming  Traffic_Signal  \\\n",
       "1     False           False  ...            False           False   \n",
       "2     False           False  ...            False           False   \n",
       "3     False           False  ...            False           False   \n",
       "4     False           False  ...            False           False   \n",
       "5     False           False  ...            False           False   \n",
       "\n",
       "   Turning_Loop  Day_Time   Year  Month    Day   Hour  Weekday  \\\n",
       "1         False     False  False  False  False  False    False   \n",
       "2         False     False  False  False  False  False    False   \n",
       "3         False     False  False  False  False  False    False   \n",
       "4         False     False  False  False  False  False    False   \n",
       "5         False     False  False  False  False  False    False   \n",
       "\n",
       "   Time_Duration(min)  \n",
       "1               False  \n",
       "2               False  \n",
       "3               False  \n",
       "4               False  \n",
       "5               False  \n",
       "\n",
       "[5 rows x 36 columns]"
      ]
     },
     "execution_count": 110,
     "metadata": {},
     "output_type": "execute_result"
    }
   ],
   "source": [
    "missing_data_check = df_new.isnull()\n",
    "missing_data_check.head(5)"
   ]
  },
  {
   "cell_type": "code",
   "execution_count": 111,
   "metadata": {},
   "outputs": [
    {
     "name": "stdout",
     "output_type": "stream",
     "text": [
      "Severity\n",
      "False    3513602\n",
      "Name: Severity, dtype: int64\n",
      "\n",
      "Start_Lat\n",
      "False    3513602\n",
      "Name: Start_Lat, dtype: int64\n",
      "\n",
      "Start_Lng\n",
      "False    3513602\n",
      "Name: Start_Lng, dtype: int64\n",
      "\n",
      "Distance(mi)\n",
      "False    3513602\n",
      "Name: Distance(mi), dtype: int64\n",
      "\n",
      "Side\n",
      "False    3513602\n",
      "Name: Side, dtype: int64\n",
      "\n",
      "City\n",
      "False    3513602\n",
      "Name: City, dtype: int64\n",
      "\n",
      "County\n",
      "False    3513602\n",
      "Name: County, dtype: int64\n",
      "\n",
      "State\n",
      "False    3513602\n",
      "Name: State, dtype: int64\n",
      "\n",
      "Timezone\n",
      "False    3513602\n",
      "Name: Timezone, dtype: int64\n",
      "\n",
      "Temperature(F)\n",
      "False    3447871\n",
      "True       65731\n",
      "Name: Temperature(F), dtype: int64\n",
      "\n",
      "Humidity(%)\n",
      "False    3513602\n",
      "Name: Humidity(%), dtype: int64\n",
      "\n",
      "Pressure(in)\n",
      "False    3513602\n",
      "Name: Pressure(in), dtype: int64\n",
      "\n",
      "Visibility(mi)\n",
      "False    3513602\n",
      "Name: Visibility(mi), dtype: int64\n",
      "\n",
      "Wind_Direction\n",
      "False    3513602\n",
      "Name: Wind_Direction, dtype: int64\n",
      "\n",
      "Wind_Speed(mph)\n",
      "False    3513602\n",
      "Name: Wind_Speed(mph), dtype: int64\n",
      "\n",
      "Weather_Condition\n",
      "False    3513602\n",
      "Name: Weather_Condition, dtype: int64\n",
      "\n",
      "Amenity\n",
      "False    3513602\n",
      "Name: Amenity, dtype: int64\n",
      "\n",
      "Bump\n",
      "False    3513602\n",
      "Name: Bump, dtype: int64\n",
      "\n",
      "Crossing\n",
      "False    3513602\n",
      "Name: Crossing, dtype: int64\n",
      "\n",
      "Give_Way\n",
      "False    3513602\n",
      "Name: Give_Way, dtype: int64\n",
      "\n",
      "Junction\n",
      "False    3513602\n",
      "Name: Junction, dtype: int64\n",
      "\n",
      "No_Exit\n",
      "False    3513602\n",
      "Name: No_Exit, dtype: int64\n",
      "\n",
      "Railway\n",
      "False    3513602\n",
      "Name: Railway, dtype: int64\n",
      "\n",
      "Roundabout\n",
      "False    3513602\n",
      "Name: Roundabout, dtype: int64\n",
      "\n",
      "Station\n",
      "False    3513602\n",
      "Name: Station, dtype: int64\n",
      "\n",
      "Stop\n",
      "False    3513602\n",
      "Name: Stop, dtype: int64\n",
      "\n",
      "Traffic_Calming\n",
      "False    3513602\n",
      "Name: Traffic_Calming, dtype: int64\n",
      "\n",
      "Traffic_Signal\n",
      "False    3513602\n",
      "Name: Traffic_Signal, dtype: int64\n",
      "\n",
      "Turning_Loop\n",
      "False    3513602\n",
      "Name: Turning_Loop, dtype: int64\n",
      "\n",
      "Day_Time\n",
      "False    3513602\n",
      "Name: Day_Time, dtype: int64\n",
      "\n",
      "Year\n",
      "False    3513602\n",
      "Name: Year, dtype: int64\n",
      "\n",
      "Month\n",
      "False    3513602\n",
      "Name: Month, dtype: int64\n",
      "\n",
      "Day\n",
      "False    3513602\n",
      "Name: Day, dtype: int64\n",
      "\n",
      "Hour\n",
      "False    3513602\n",
      "Name: Hour, dtype: int64\n",
      "\n",
      "Weekday\n",
      "False    3513602\n",
      "Name: Weekday, dtype: int64\n",
      "\n",
      "Time_Duration(min)\n",
      "False    3513602\n",
      "Name: Time_Duration(min), dtype: int64\n",
      "\n"
     ]
    }
   ],
   "source": [
    "for column in missing_data_check.columns.values.tolist():\n",
    "    print(column)\n",
    "    print (missing_data_check[column].value_counts())\n",
    "    print(\"\")   "
   ]
  },
  {
   "cell_type": "markdown",
   "metadata": {},
   "source": [
    "All NaN values now have been removed and we still have 3,513,602 individual accident events."
   ]
  },
  {
   "cell_type": "markdown",
   "metadata": {},
   "source": [
    "## 6. Limit volume of the data set"
   ]
  },
  {
   "cell_type": "markdown",
   "metadata": {},
   "source": [
    "Due to performance restrictions we need to decrease the number of accident events to a smaller size. We will do so by randomly picking events from the original data set."
   ]
  },
  {
   "cell_type": "code",
   "execution_count": 136,
   "metadata": {},
   "outputs": [],
   "source": [
    "#use random smaller subset for performance reasons\n",
    "\n",
    "df_sub = df_new.sample(n=200000)\n"
   ]
  },
  {
   "cell_type": "code",
   "execution_count": 147,
   "metadata": {},
   "outputs": [],
   "source": [
    "df_sub['Distance(mi)'] = df_sub['Distance(mi)'].astype('float64')"
   ]
  },
  {
   "cell_type": "markdown",
   "metadata": {},
   "source": [
    "## 7. Prepare categorical data for Machine Learning"
   ]
  },
  {
   "cell_type": "markdown",
   "metadata": {},
   "source": [
    "Regression analysis does not understand string values, only numbers. That is why we have to translate categorical values into numbers. We do so by using the get_dummies() method. This method assigns a numerical variable to a category of an attribute. They are called 'dummies' because the numbers themselves don't have inherent meaning. "
   ]
  },
  {
   "cell_type": "code",
   "execution_count": 115,
   "metadata": {},
   "outputs": [
    {
     "name": "stdout",
     "output_type": "stream",
     "text": [
      "<class 'pandas.core.frame.DataFrame'>\n",
      "Int64Index: 200000 entries, 1194368 to 2104583\n",
      "Columns: 13717 entries, Severity to Weekday_Wed\n",
      "dtypes: float64(26), uint8(13691)\n",
      "memory usage: 2.6 GB\n"
     ]
    }
   ],
   "source": [
    "df_sub_dummy = pd.get_dummies(df_sub)\n",
    "\n",
    "df_sub_dummy.info()"
   ]
  },
  {
   "cell_type": "code",
   "execution_count": 116,
   "metadata": {},
   "outputs": [
    {
     "data": {
      "text/html": [
       "<div>\n",
       "<style scoped>\n",
       "    .dataframe tbody tr th:only-of-type {\n",
       "        vertical-align: middle;\n",
       "    }\n",
       "\n",
       "    .dataframe tbody tr th {\n",
       "        vertical-align: top;\n",
       "    }\n",
       "\n",
       "    .dataframe thead th {\n",
       "        text-align: right;\n",
       "    }\n",
       "</style>\n",
       "<table border=\"1\" class=\"dataframe\">\n",
       "  <thead>\n",
       "    <tr style=\"text-align: right;\">\n",
       "      <th></th>\n",
       "      <th>Severity</th>\n",
       "      <th>Start_Lat</th>\n",
       "      <th>Start_Lng</th>\n",
       "      <th>Temperature(F)</th>\n",
       "      <th>Humidity(%)</th>\n",
       "      <th>Pressure(in)</th>\n",
       "      <th>Visibility(mi)</th>\n",
       "      <th>Wind_Speed(mph)</th>\n",
       "      <th>Amenity</th>\n",
       "      <th>Bump</th>\n",
       "      <th>...</th>\n",
       "      <th>Month_Nov</th>\n",
       "      <th>Month_Oct</th>\n",
       "      <th>Month_Sep</th>\n",
       "      <th>Weekday_Fri</th>\n",
       "      <th>Weekday_Mon</th>\n",
       "      <th>Weekday_Sat</th>\n",
       "      <th>Weekday_Sun</th>\n",
       "      <th>Weekday_Thu</th>\n",
       "      <th>Weekday_Tue</th>\n",
       "      <th>Weekday_Wed</th>\n",
       "    </tr>\n",
       "  </thead>\n",
       "  <tbody>\n",
       "    <tr>\n",
       "      <th>1194368</th>\n",
       "      <td>2.0</td>\n",
       "      <td>42.013992</td>\n",
       "      <td>-70.726448</td>\n",
       "      <td>54.0</td>\n",
       "      <td>77.0</td>\n",
       "      <td>29.80</td>\n",
       "      <td>10.0</td>\n",
       "      <td>7.0</td>\n",
       "      <td>0.0</td>\n",
       "      <td>0.0</td>\n",
       "      <td>...</td>\n",
       "      <td>0</td>\n",
       "      <td>0</td>\n",
       "      <td>0</td>\n",
       "      <td>0</td>\n",
       "      <td>0</td>\n",
       "      <td>0</td>\n",
       "      <td>0</td>\n",
       "      <td>0</td>\n",
       "      <td>0</td>\n",
       "      <td>1</td>\n",
       "    </tr>\n",
       "    <tr>\n",
       "      <th>3452533</th>\n",
       "      <td>3.0</td>\n",
       "      <td>38.915064</td>\n",
       "      <td>-104.719701</td>\n",
       "      <td>51.0</td>\n",
       "      <td>20.0</td>\n",
       "      <td>23.49</td>\n",
       "      <td>10.0</td>\n",
       "      <td>9.0</td>\n",
       "      <td>0.0</td>\n",
       "      <td>0.0</td>\n",
       "      <td>...</td>\n",
       "      <td>0</td>\n",
       "      <td>0</td>\n",
       "      <td>0</td>\n",
       "      <td>0</td>\n",
       "      <td>1</td>\n",
       "      <td>0</td>\n",
       "      <td>0</td>\n",
       "      <td>0</td>\n",
       "      <td>0</td>\n",
       "      <td>0</td>\n",
       "    </tr>\n",
       "    <tr>\n",
       "      <th>2375461</th>\n",
       "      <td>2.0</td>\n",
       "      <td>34.217411</td>\n",
       "      <td>-119.037781</td>\n",
       "      <td>73.9</td>\n",
       "      <td>59.0</td>\n",
       "      <td>29.94</td>\n",
       "      <td>10.0</td>\n",
       "      <td>12.7</td>\n",
       "      <td>0.0</td>\n",
       "      <td>0.0</td>\n",
       "      <td>...</td>\n",
       "      <td>0</td>\n",
       "      <td>0</td>\n",
       "      <td>1</td>\n",
       "      <td>0</td>\n",
       "      <td>0</td>\n",
       "      <td>0</td>\n",
       "      <td>0</td>\n",
       "      <td>1</td>\n",
       "      <td>0</td>\n",
       "      <td>0</td>\n",
       "    </tr>\n",
       "    <tr>\n",
       "      <th>1225810</th>\n",
       "      <td>2.0</td>\n",
       "      <td>45.074459</td>\n",
       "      <td>-93.286858</td>\n",
       "      <td>31.0</td>\n",
       "      <td>96.0</td>\n",
       "      <td>29.05</td>\n",
       "      <td>0.5</td>\n",
       "      <td>12.0</td>\n",
       "      <td>0.0</td>\n",
       "      <td>0.0</td>\n",
       "      <td>...</td>\n",
       "      <td>0</td>\n",
       "      <td>0</td>\n",
       "      <td>0</td>\n",
       "      <td>0</td>\n",
       "      <td>0</td>\n",
       "      <td>0</td>\n",
       "      <td>0</td>\n",
       "      <td>0</td>\n",
       "      <td>0</td>\n",
       "      <td>1</td>\n",
       "    </tr>\n",
       "    <tr>\n",
       "      <th>3456683</th>\n",
       "      <td>2.0</td>\n",
       "      <td>37.759701</td>\n",
       "      <td>-122.213281</td>\n",
       "      <td>65.0</td>\n",
       "      <td>63.0</td>\n",
       "      <td>29.77</td>\n",
       "      <td>10.0</td>\n",
       "      <td>16.0</td>\n",
       "      <td>0.0</td>\n",
       "      <td>0.0</td>\n",
       "      <td>...</td>\n",
       "      <td>0</td>\n",
       "      <td>0</td>\n",
       "      <td>0</td>\n",
       "      <td>0</td>\n",
       "      <td>0</td>\n",
       "      <td>0</td>\n",
       "      <td>0</td>\n",
       "      <td>1</td>\n",
       "      <td>0</td>\n",
       "      <td>0</td>\n",
       "    </tr>\n",
       "  </tbody>\n",
       "</table>\n",
       "<p>5 rows × 13717 columns</p>\n",
       "</div>"
      ],
      "text/plain": [
       "         Severity  Start_Lat   Start_Lng  Temperature(F)  Humidity(%)  \\\n",
       "1194368       2.0  42.013992  -70.726448            54.0         77.0   \n",
       "3452533       3.0  38.915064 -104.719701            51.0         20.0   \n",
       "2375461       2.0  34.217411 -119.037781            73.9         59.0   \n",
       "1225810       2.0  45.074459  -93.286858            31.0         96.0   \n",
       "3456683       2.0  37.759701 -122.213281            65.0         63.0   \n",
       "\n",
       "         Pressure(in)  Visibility(mi)  Wind_Speed(mph)  Amenity  Bump  ...  \\\n",
       "1194368         29.80            10.0              7.0      0.0   0.0  ...   \n",
       "3452533         23.49            10.0              9.0      0.0   0.0  ...   \n",
       "2375461         29.94            10.0             12.7      0.0   0.0  ...   \n",
       "1225810         29.05             0.5             12.0      0.0   0.0  ...   \n",
       "3456683         29.77            10.0             16.0      0.0   0.0  ...   \n",
       "\n",
       "         Month_Nov  Month_Oct  Month_Sep  Weekday_Fri  Weekday_Mon  \\\n",
       "1194368          0          0          0            0            0   \n",
       "3452533          0          0          0            0            1   \n",
       "2375461          0          0          1            0            0   \n",
       "1225810          0          0          0            0            0   \n",
       "3456683          0          0          0            0            0   \n",
       "\n",
       "         Weekday_Sat  Weekday_Sun  Weekday_Thu  Weekday_Tue  Weekday_Wed  \n",
       "1194368            0            0            0            0            1  \n",
       "3452533            0            0            0            0            0  \n",
       "2375461            0            0            1            0            0  \n",
       "1225810            0            0            0            0            1  \n",
       "3456683            0            0            1            0            0  \n",
       "\n",
       "[5 rows x 13717 columns]"
      ]
     },
     "execution_count": 116,
     "metadata": {},
     "output_type": "execute_result"
    }
   ],
   "source": [
    "df_sub_dummy.head()"
   ]
  },
  {
   "cell_type": "markdown",
   "metadata": {},
   "source": [
    "# Methodology"
   ]
  },
  {
   "cell_type": "markdown",
   "metadata": {},
   "source": [
    "## 2. Split the data into training and testing data"
   ]
  },
  {
   "cell_type": "markdown",
   "metadata": {},
   "source": [
    "An important step in testing a model is to split data into training and testing data. First, we will put the target data Severity in a separate dataframe and drop price data in another separate x data data frame for our predictor variables."
   ]
  },
  {
   "cell_type": "code",
   "execution_count": 117,
   "metadata": {},
   "outputs": [],
   "source": [
    "y_data = df_sub_dummy['Severity']\n",
    "x_data=df_sub_dummy.drop('Severity',axis=1)"
   ]
  },
  {
   "cell_type": "code",
   "execution_count": 118,
   "metadata": {},
   "outputs": [
    {
     "name": "stdout",
     "output_type": "stream",
     "text": [
      "number of test samples : 30000\n",
      "number of training samples: 170000\n"
     ]
    }
   ],
   "source": [
    "x_train, x_test, y_train, y_test = train_test_split(x_data, y_data, test_size=0.15, random_state=1)\n",
    "\n",
    "\n",
    "print(\"number of test samples :\", x_test.shape[0])\n",
    "print(\"number of training samples:\",x_train.shape[0])"
   ]
  },
  {
   "cell_type": "code",
   "execution_count": null,
   "metadata": {},
   "outputs": [],
   "source": [
    "# List of classification algorithms\n",
    "#algo_lst=['Logistic Regression',' K-Nearest Neighbors','Decision Trees','Random Forest']\n",
    "\n",
    "# Initialize an empty list for the accuracy for each algorithm\n",
    "#accuracy_lst=[]"
   ]
  },
  {
   "cell_type": "markdown",
   "metadata": {},
   "source": [
    "## 3. Predict Severity with different supervised Machine Learning Models"
   ]
  },
  {
   "cell_type": "code",
   "execution_count": 60,
   "metadata": {},
   "outputs": [],
   "source": [
    "### Multiple linear regression (?) Logistic regression K-nearest neighbors Decision Tree Random Forest "
   ]
  },
  {
   "cell_type": "markdown",
   "metadata": {},
   "source": [
    "## 1. Data exploration\n"
   ]
  },
  {
   "cell_type": "markdown",
   "metadata": {},
   "source": [
    "### Correlation of independent variables"
   ]
  },
  {
   "cell_type": "markdown",
   "metadata": {},
   "source": [
    "As a first step in data exploration, I inspect the correlation of independent variables."
   ]
  },
  {
   "cell_type": "code",
   "execution_count": 169,
   "metadata": {},
   "outputs": [
    {
     "data": {
      "text/html": [
       "<div>\n",
       "<style scoped>\n",
       "    .dataframe tbody tr th:only-of-type {\n",
       "        vertical-align: middle;\n",
       "    }\n",
       "\n",
       "    .dataframe tbody tr th {\n",
       "        vertical-align: top;\n",
       "    }\n",
       "\n",
       "    .dataframe thead th {\n",
       "        text-align: right;\n",
       "    }\n",
       "</style>\n",
       "<table border=\"1\" class=\"dataframe\">\n",
       "  <thead>\n",
       "    <tr style=\"text-align: right;\">\n",
       "      <th></th>\n",
       "      <th>Severity</th>\n",
       "      <th>Start_Lat</th>\n",
       "      <th>Start_Lng</th>\n",
       "      <th>Distance(mi)</th>\n",
       "      <th>Temperature(F)</th>\n",
       "      <th>Humidity(%)</th>\n",
       "      <th>Pressure(in)</th>\n",
       "      <th>Visibility(mi)</th>\n",
       "      <th>Wind_Speed(mph)</th>\n",
       "      <th>Amenity</th>\n",
       "      <th>...</th>\n",
       "      <th>Station</th>\n",
       "      <th>Stop</th>\n",
       "      <th>Traffic_Calming</th>\n",
       "      <th>Traffic_Signal</th>\n",
       "      <th>Turning_Loop</th>\n",
       "      <th>Day_Time</th>\n",
       "      <th>Year</th>\n",
       "      <th>Day</th>\n",
       "      <th>Hour</th>\n",
       "      <th>Time_Duration(min)</th>\n",
       "    </tr>\n",
       "  </thead>\n",
       "  <tbody>\n",
       "    <tr>\n",
       "      <th>Severity</th>\n",
       "      <td>1.000000</td>\n",
       "      <td>0.045380</td>\n",
       "      <td>0.081555</td>\n",
       "      <td>0.145564</td>\n",
       "      <td>-0.024104</td>\n",
       "      <td>0.036822</td>\n",
       "      <td>0.038167</td>\n",
       "      <td>-0.003171</td>\n",
       "      <td>0.032382</td>\n",
       "      <td>-0.042706</td>\n",
       "      <td>...</td>\n",
       "      <td>-0.048283</td>\n",
       "      <td>-0.053713</td>\n",
       "      <td>-0.008128</td>\n",
       "      <td>-0.192084</td>\n",
       "      <td>NaN</td>\n",
       "      <td>-0.063253</td>\n",
       "      <td>-0.089872</td>\n",
       "      <td>0.001553</td>\n",
       "      <td>0.022322</td>\n",
       "      <td>0.004906</td>\n",
       "    </tr>\n",
       "    <tr>\n",
       "      <th>Start_Lat</th>\n",
       "      <td>0.045380</td>\n",
       "      <td>1.000000</td>\n",
       "      <td>-0.014810</td>\n",
       "      <td>0.061053</td>\n",
       "      <td>-0.427324</td>\n",
       "      <td>0.043147</td>\n",
       "      <td>-0.097729</td>\n",
       "      <td>-0.050772</td>\n",
       "      <td>0.056261</td>\n",
       "      <td>0.041022</td>\n",
       "      <td>...</td>\n",
       "      <td>0.012477</td>\n",
       "      <td>0.013479</td>\n",
       "      <td>0.010026</td>\n",
       "      <td>-0.093520</td>\n",
       "      <td>NaN</td>\n",
       "      <td>-0.036265</td>\n",
       "      <td>0.034845</td>\n",
       "      <td>-0.002622</td>\n",
       "      <td>-0.008740</td>\n",
       "      <td>0.005266</td>\n",
       "    </tr>\n",
       "    <tr>\n",
       "      <th>Start_Lng</th>\n",
       "      <td>0.081555</td>\n",
       "      <td>-0.014810</td>\n",
       "      <td>1.000000</td>\n",
       "      <td>0.044871</td>\n",
       "      <td>-0.063599</td>\n",
       "      <td>0.180327</td>\n",
       "      <td>0.148057</td>\n",
       "      <td>-0.048933</td>\n",
       "      <td>0.084842</td>\n",
       "      <td>-0.001604</td>\n",
       "      <td>...</td>\n",
       "      <td>-0.014593</td>\n",
       "      <td>-0.041607</td>\n",
       "      <td>-0.006831</td>\n",
       "      <td>0.090291</td>\n",
       "      <td>NaN</td>\n",
       "      <td>0.074787</td>\n",
       "      <td>-0.034174</td>\n",
       "      <td>0.006389</td>\n",
       "      <td>-0.041845</td>\n",
       "      <td>-0.004106</td>\n",
       "    </tr>\n",
       "    <tr>\n",
       "      <th>Distance(mi)</th>\n",
       "      <td>0.145564</td>\n",
       "      <td>0.061053</td>\n",
       "      <td>0.044871</td>\n",
       "      <td>1.000000</td>\n",
       "      <td>-0.036190</td>\n",
       "      <td>0.015955</td>\n",
       "      <td>-0.029577</td>\n",
       "      <td>-0.012627</td>\n",
       "      <td>0.010095</td>\n",
       "      <td>-0.016280</td>\n",
       "      <td>...</td>\n",
       "      <td>-0.021445</td>\n",
       "      <td>-0.012099</td>\n",
       "      <td>-0.002592</td>\n",
       "      <td>-0.066162</td>\n",
       "      <td>NaN</td>\n",
       "      <td>-0.015753</td>\n",
       "      <td>0.004164</td>\n",
       "      <td>0.001136</td>\n",
       "      <td>-0.001633</td>\n",
       "      <td>0.002638</td>\n",
       "    </tr>\n",
       "    <tr>\n",
       "      <th>Temperature(F)</th>\n",
       "      <td>-0.024104</td>\n",
       "      <td>-0.427324</td>\n",
       "      <td>-0.063599</td>\n",
       "      <td>-0.036190</td>\n",
       "      <td>1.000000</td>\n",
       "      <td>-0.337378</td>\n",
       "      <td>-0.016159</td>\n",
       "      <td>0.182228</td>\n",
       "      <td>-0.007414</td>\n",
       "      <td>-0.001018</td>\n",
       "      <td>...</td>\n",
       "      <td>0.004015</td>\n",
       "      <td>-0.000649</td>\n",
       "      <td>0.000184</td>\n",
       "      <td>0.062361</td>\n",
       "      <td>NaN</td>\n",
       "      <td>0.273156</td>\n",
       "      <td>-0.105210</td>\n",
       "      <td>0.024224</td>\n",
       "      <td>0.208938</td>\n",
       "      <td>-0.003787</td>\n",
       "    </tr>\n",
       "    <tr>\n",
       "      <th>Humidity(%)</th>\n",
       "      <td>0.036822</td>\n",
       "      <td>0.043147</td>\n",
       "      <td>0.180327</td>\n",
       "      <td>0.015955</td>\n",
       "      <td>-0.337378</td>\n",
       "      <td>1.000000</td>\n",
       "      <td>0.107627</td>\n",
       "      <td>-0.378828</td>\n",
       "      <td>-0.142459</td>\n",
       "      <td>-0.003744</td>\n",
       "      <td>...</td>\n",
       "      <td>-0.005649</td>\n",
       "      <td>-0.012695</td>\n",
       "      <td>-0.002190</td>\n",
       "      <td>-0.034421</td>\n",
       "      <td>NaN</td>\n",
       "      <td>-0.226063</td>\n",
       "      <td>-0.008435</td>\n",
       "      <td>-0.006455</td>\n",
       "      <td>-0.304803</td>\n",
       "      <td>-0.005180</td>\n",
       "    </tr>\n",
       "    <tr>\n",
       "      <th>Pressure(in)</th>\n",
       "      <td>0.038167</td>\n",
       "      <td>-0.097729</td>\n",
       "      <td>0.148057</td>\n",
       "      <td>-0.029577</td>\n",
       "      <td>-0.016159</td>\n",
       "      <td>0.107627</td>\n",
       "      <td>1.000000</td>\n",
       "      <td>-0.007182</td>\n",
       "      <td>-0.001413</td>\n",
       "      <td>0.010903</td>\n",
       "      <td>...</td>\n",
       "      <td>0.021442</td>\n",
       "      <td>-0.007792</td>\n",
       "      <td>0.002987</td>\n",
       "      <td>-0.006149</td>\n",
       "      <td>NaN</td>\n",
       "      <td>-0.012213</td>\n",
       "      <td>-0.333155</td>\n",
       "      <td>-0.005798</td>\n",
       "      <td>-0.018832</td>\n",
       "      <td>-0.022509</td>\n",
       "    </tr>\n",
       "    <tr>\n",
       "      <th>Visibility(mi)</th>\n",
       "      <td>-0.003171</td>\n",
       "      <td>-0.050772</td>\n",
       "      <td>-0.048933</td>\n",
       "      <td>-0.012627</td>\n",
       "      <td>0.182228</td>\n",
       "      <td>-0.378828</td>\n",
       "      <td>-0.007182</td>\n",
       "      <td>1.000000</td>\n",
       "      <td>0.012701</td>\n",
       "      <td>0.004114</td>\n",
       "      <td>...</td>\n",
       "      <td>0.009347</td>\n",
       "      <td>0.008074</td>\n",
       "      <td>0.001869</td>\n",
       "      <td>0.028725</td>\n",
       "      <td>NaN</td>\n",
       "      <td>0.032200</td>\n",
       "      <td>-0.038746</td>\n",
       "      <td>0.005592</td>\n",
       "      <td>0.093363</td>\n",
       "      <td>0.001539</td>\n",
       "    </tr>\n",
       "    <tr>\n",
       "      <th>Wind_Speed(mph)</th>\n",
       "      <td>0.032382</td>\n",
       "      <td>0.056261</td>\n",
       "      <td>0.084842</td>\n",
       "      <td>0.010095</td>\n",
       "      <td>-0.007414</td>\n",
       "      <td>-0.142459</td>\n",
       "      <td>-0.001413</td>\n",
       "      <td>0.012701</td>\n",
       "      <td>1.000000</td>\n",
       "      <td>-0.004006</td>\n",
       "      <td>...</td>\n",
       "      <td>-0.000126</td>\n",
       "      <td>0.002531</td>\n",
       "      <td>-0.004221</td>\n",
       "      <td>0.016767</td>\n",
       "      <td>NaN</td>\n",
       "      <td>0.123839</td>\n",
       "      <td>-0.084596</td>\n",
       "      <td>0.003051</td>\n",
       "      <td>0.122183</td>\n",
       "      <td>-0.001296</td>\n",
       "    </tr>\n",
       "    <tr>\n",
       "      <th>Amenity</th>\n",
       "      <td>-0.042706</td>\n",
       "      <td>0.041022</td>\n",
       "      <td>-0.001604</td>\n",
       "      <td>-0.016280</td>\n",
       "      <td>-0.001018</td>\n",
       "      <td>-0.003744</td>\n",
       "      <td>0.010903</td>\n",
       "      <td>0.004114</td>\n",
       "      <td>-0.004006</td>\n",
       "      <td>1.000000</td>\n",
       "      <td>...</td>\n",
       "      <td>0.184227</td>\n",
       "      <td>0.030529</td>\n",
       "      <td>0.010278</td>\n",
       "      <td>0.106946</td>\n",
       "      <td>NaN</td>\n",
       "      <td>0.012068</td>\n",
       "      <td>-0.009401</td>\n",
       "      <td>0.000171</td>\n",
       "      <td>0.002019</td>\n",
       "      <td>-0.000886</td>\n",
       "    </tr>\n",
       "    <tr>\n",
       "      <th>Bump</th>\n",
       "      <td>-0.006354</td>\n",
       "      <td>0.002836</td>\n",
       "      <td>-0.007791</td>\n",
       "      <td>-0.001827</td>\n",
       "      <td>0.003784</td>\n",
       "      <td>-0.004141</td>\n",
       "      <td>0.000235</td>\n",
       "      <td>0.001367</td>\n",
       "      <td>-0.001663</td>\n",
       "      <td>0.005907</td>\n",
       "      <td>...</td>\n",
       "      <td>0.009481</td>\n",
       "      <td>0.014951</td>\n",
       "      <td>0.676059</td>\n",
       "      <td>-0.002767</td>\n",
       "      <td>NaN</td>\n",
       "      <td>0.005778</td>\n",
       "      <td>0.003050</td>\n",
       "      <td>-0.001042</td>\n",
       "      <td>0.001118</td>\n",
       "      <td>-0.000117</td>\n",
       "    </tr>\n",
       "    <tr>\n",
       "      <th>Crossing</th>\n",
       "      <td>-0.139481</td>\n",
       "      <td>-0.024971</td>\n",
       "      <td>0.011328</td>\n",
       "      <td>-0.042965</td>\n",
       "      <td>0.039198</td>\n",
       "      <td>-0.051916</td>\n",
       "      <td>-0.027550</td>\n",
       "      <td>0.032789</td>\n",
       "      <td>0.006382</td>\n",
       "      <td>0.112115</td>\n",
       "      <td>...</td>\n",
       "      <td>0.111573</td>\n",
       "      <td>0.071705</td>\n",
       "      <td>0.019426</td>\n",
       "      <td>0.455007</td>\n",
       "      <td>NaN</td>\n",
       "      <td>0.032393</td>\n",
       "      <td>0.020051</td>\n",
       "      <td>-0.000700</td>\n",
       "      <td>0.001070</td>\n",
       "      <td>-0.002581</td>\n",
       "    </tr>\n",
       "    <tr>\n",
       "      <th>Give_Way</th>\n",
       "      <td>-0.011670</td>\n",
       "      <td>0.000521</td>\n",
       "      <td>0.018188</td>\n",
       "      <td>-0.004761</td>\n",
       "      <td>-0.000659</td>\n",
       "      <td>0.001169</td>\n",
       "      <td>-0.000397</td>\n",
       "      <td>0.006966</td>\n",
       "      <td>-0.001505</td>\n",
       "      <td>0.005280</td>\n",
       "      <td>...</td>\n",
       "      <td>0.000964</td>\n",
       "      <td>0.029233</td>\n",
       "      <td>0.018929</td>\n",
       "      <td>0.053874</td>\n",
       "      <td>NaN</td>\n",
       "      <td>0.005121</td>\n",
       "      <td>0.002043</td>\n",
       "      <td>0.001617</td>\n",
       "      <td>0.000034</td>\n",
       "      <td>-0.000447</td>\n",
       "    </tr>\n",
       "    <tr>\n",
       "      <th>Junction</th>\n",
       "      <td>0.061620</td>\n",
       "      <td>0.036578</td>\n",
       "      <td>-0.055028</td>\n",
       "      <td>0.027417</td>\n",
       "      <td>-0.011485</td>\n",
       "      <td>-0.000862</td>\n",
       "      <td>0.029184</td>\n",
       "      <td>-0.001547</td>\n",
       "      <td>0.007872</td>\n",
       "      <td>-0.026499</td>\n",
       "      <td>...</td>\n",
       "      <td>-0.033468</td>\n",
       "      <td>-0.030292</td>\n",
       "      <td>-0.002584</td>\n",
       "      <td>-0.125130</td>\n",
       "      <td>NaN</td>\n",
       "      <td>-0.014562</td>\n",
       "      <td>-0.023250</td>\n",
       "      <td>0.003623</td>\n",
       "      <td>0.003804</td>\n",
       "      <td>0.000106</td>\n",
       "    </tr>\n",
       "    <tr>\n",
       "      <th>No_Exit</th>\n",
       "      <td>-0.006273</td>\n",
       "      <td>-0.000310</td>\n",
       "      <td>-0.004136</td>\n",
       "      <td>-0.003182</td>\n",
       "      <td>0.002083</td>\n",
       "      <td>-0.009194</td>\n",
       "      <td>-0.007626</td>\n",
       "      <td>0.008721</td>\n",
       "      <td>0.003204</td>\n",
       "      <td>0.022809</td>\n",
       "      <td>...</td>\n",
       "      <td>0.018509</td>\n",
       "      <td>0.009434</td>\n",
       "      <td>-0.000678</td>\n",
       "      <td>0.026622</td>\n",
       "      <td>NaN</td>\n",
       "      <td>0.002545</td>\n",
       "      <td>0.003427</td>\n",
       "      <td>0.001416</td>\n",
       "      <td>-0.000189</td>\n",
       "      <td>-0.000248</td>\n",
       "    </tr>\n",
       "    <tr>\n",
       "      <th>Railway</th>\n",
       "      <td>-0.022105</td>\n",
       "      <td>-0.001762</td>\n",
       "      <td>-0.027885</td>\n",
       "      <td>-0.012676</td>\n",
       "      <td>0.004216</td>\n",
       "      <td>0.001009</td>\n",
       "      <td>0.008034</td>\n",
       "      <td>-0.000287</td>\n",
       "      <td>-0.005893</td>\n",
       "      <td>0.048814</td>\n",
       "      <td>...</td>\n",
       "      <td>0.142622</td>\n",
       "      <td>0.008360</td>\n",
       "      <td>-0.001753</td>\n",
       "      <td>0.056001</td>\n",
       "      <td>NaN</td>\n",
       "      <td>0.001497</td>\n",
       "      <td>0.005214</td>\n",
       "      <td>-0.005546</td>\n",
       "      <td>-0.006144</td>\n",
       "      <td>-0.000734</td>\n",
       "    </tr>\n",
       "    <tr>\n",
       "      <th>Roundabout</th>\n",
       "      <td>-0.000471</td>\n",
       "      <td>0.000561</td>\n",
       "      <td>0.000445</td>\n",
       "      <td>0.000219</td>\n",
       "      <td>-0.000416</td>\n",
       "      <td>0.002045</td>\n",
       "      <td>0.002163</td>\n",
       "      <td>-0.001643</td>\n",
       "      <td>-0.000841</td>\n",
       "      <td>-0.000884</td>\n",
       "      <td>...</td>\n",
       "      <td>-0.001152</td>\n",
       "      <td>0.004193</td>\n",
       "      <td>-0.000151</td>\n",
       "      <td>-0.003743</td>\n",
       "      <td>NaN</td>\n",
       "      <td>0.002011</td>\n",
       "      <td>-0.001898</td>\n",
       "      <td>0.002141</td>\n",
       "      <td>0.000698</td>\n",
       "      <td>-0.000052</td>\n",
       "    </tr>\n",
       "    <tr>\n",
       "      <th>Station</th>\n",
       "      <td>-0.048283</td>\n",
       "      <td>0.012477</td>\n",
       "      <td>-0.014593</td>\n",
       "      <td>-0.021445</td>\n",
       "      <td>0.004015</td>\n",
       "      <td>-0.005649</td>\n",
       "      <td>0.021442</td>\n",
       "      <td>0.009347</td>\n",
       "      <td>-0.000126</td>\n",
       "      <td>0.184227</td>\n",
       "      <td>...</td>\n",
       "      <td>1.000000</td>\n",
       "      <td>0.029073</td>\n",
       "      <td>0.006868</td>\n",
       "      <td>0.122552</td>\n",
       "      <td>NaN</td>\n",
       "      <td>0.007065</td>\n",
       "      <td>-0.006984</td>\n",
       "      <td>-0.000231</td>\n",
       "      <td>-0.002514</td>\n",
       "      <td>-0.001127</td>\n",
       "    </tr>\n",
       "    <tr>\n",
       "      <th>Stop</th>\n",
       "      <td>-0.053713</td>\n",
       "      <td>0.013479</td>\n",
       "      <td>-0.041607</td>\n",
       "      <td>-0.012099</td>\n",
       "      <td>-0.000649</td>\n",
       "      <td>-0.012695</td>\n",
       "      <td>-0.007792</td>\n",
       "      <td>0.008074</td>\n",
       "      <td>0.002531</td>\n",
       "      <td>0.030529</td>\n",
       "      <td>...</td>\n",
       "      <td>0.029073</td>\n",
       "      <td>1.000000</td>\n",
       "      <td>0.013335</td>\n",
       "      <td>-0.043140</td>\n",
       "      <td>NaN</td>\n",
       "      <td>0.007498</td>\n",
       "      <td>0.003990</td>\n",
       "      <td>-0.001206</td>\n",
       "      <td>-0.002995</td>\n",
       "      <td>-0.001039</td>\n",
       "    </tr>\n",
       "    <tr>\n",
       "      <th>Traffic_Calming</th>\n",
       "      <td>-0.008128</td>\n",
       "      <td>0.010026</td>\n",
       "      <td>-0.006831</td>\n",
       "      <td>-0.002592</td>\n",
       "      <td>0.000184</td>\n",
       "      <td>-0.002190</td>\n",
       "      <td>0.002987</td>\n",
       "      <td>0.001869</td>\n",
       "      <td>-0.004221</td>\n",
       "      <td>0.010278</td>\n",
       "      <td>...</td>\n",
       "      <td>0.006868</td>\n",
       "      <td>0.013335</td>\n",
       "      <td>1.000000</td>\n",
       "      <td>0.002513</td>\n",
       "      <td>NaN</td>\n",
       "      <td>0.004528</td>\n",
       "      <td>0.001576</td>\n",
       "      <td>-0.005033</td>\n",
       "      <td>0.000989</td>\n",
       "      <td>-0.000159</td>\n",
       "    </tr>\n",
       "    <tr>\n",
       "      <th>Traffic_Signal</th>\n",
       "      <td>-0.192084</td>\n",
       "      <td>-0.093520</td>\n",
       "      <td>0.090291</td>\n",
       "      <td>-0.066162</td>\n",
       "      <td>0.062361</td>\n",
       "      <td>-0.034421</td>\n",
       "      <td>-0.006149</td>\n",
       "      <td>0.028725</td>\n",
       "      <td>0.016767</td>\n",
       "      <td>0.106946</td>\n",
       "      <td>...</td>\n",
       "      <td>0.122552</td>\n",
       "      <td>-0.043140</td>\n",
       "      <td>0.002513</td>\n",
       "      <td>1.000000</td>\n",
       "      <td>NaN</td>\n",
       "      <td>0.048817</td>\n",
       "      <td>0.009781</td>\n",
       "      <td>-0.002171</td>\n",
       "      <td>0.001390</td>\n",
       "      <td>-0.003582</td>\n",
       "    </tr>\n",
       "    <tr>\n",
       "      <th>Turning_Loop</th>\n",
       "      <td>NaN</td>\n",
       "      <td>NaN</td>\n",
       "      <td>NaN</td>\n",
       "      <td>NaN</td>\n",
       "      <td>NaN</td>\n",
       "      <td>NaN</td>\n",
       "      <td>NaN</td>\n",
       "      <td>NaN</td>\n",
       "      <td>NaN</td>\n",
       "      <td>NaN</td>\n",
       "      <td>...</td>\n",
       "      <td>NaN</td>\n",
       "      <td>NaN</td>\n",
       "      <td>NaN</td>\n",
       "      <td>NaN</td>\n",
       "      <td>NaN</td>\n",
       "      <td>NaN</td>\n",
       "      <td>NaN</td>\n",
       "      <td>NaN</td>\n",
       "      <td>NaN</td>\n",
       "      <td>NaN</td>\n",
       "    </tr>\n",
       "    <tr>\n",
       "      <th>Day_Time</th>\n",
       "      <td>-0.063253</td>\n",
       "      <td>-0.036265</td>\n",
       "      <td>0.074787</td>\n",
       "      <td>-0.015753</td>\n",
       "      <td>0.273156</td>\n",
       "      <td>-0.226063</td>\n",
       "      <td>-0.012213</td>\n",
       "      <td>0.032200</td>\n",
       "      <td>0.123839</td>\n",
       "      <td>0.012068</td>\n",
       "      <td>...</td>\n",
       "      <td>0.007065</td>\n",
       "      <td>0.007498</td>\n",
       "      <td>0.004528</td>\n",
       "      <td>0.048817</td>\n",
       "      <td>NaN</td>\n",
       "      <td>1.000000</td>\n",
       "      <td>0.004550</td>\n",
       "      <td>0.007468</td>\n",
       "      <td>-0.035304</td>\n",
       "      <td>-0.001376</td>\n",
       "    </tr>\n",
       "    <tr>\n",
       "      <th>Year</th>\n",
       "      <td>-0.089872</td>\n",
       "      <td>0.034845</td>\n",
       "      <td>-0.034174</td>\n",
       "      <td>0.004164</td>\n",
       "      <td>-0.105210</td>\n",
       "      <td>-0.008435</td>\n",
       "      <td>-0.333155</td>\n",
       "      <td>-0.038746</td>\n",
       "      <td>-0.084596</td>\n",
       "      <td>-0.009401</td>\n",
       "      <td>...</td>\n",
       "      <td>-0.006984</td>\n",
       "      <td>0.003990</td>\n",
       "      <td>0.001576</td>\n",
       "      <td>0.009781</td>\n",
       "      <td>NaN</td>\n",
       "      <td>0.004550</td>\n",
       "      <td>1.000000</td>\n",
       "      <td>-0.008357</td>\n",
       "      <td>-0.022958</td>\n",
       "      <td>0.002126</td>\n",
       "    </tr>\n",
       "    <tr>\n",
       "      <th>Day</th>\n",
       "      <td>0.001553</td>\n",
       "      <td>-0.002622</td>\n",
       "      <td>0.006389</td>\n",
       "      <td>0.001136</td>\n",
       "      <td>0.024224</td>\n",
       "      <td>-0.006455</td>\n",
       "      <td>-0.005798</td>\n",
       "      <td>0.005592</td>\n",
       "      <td>0.003051</td>\n",
       "      <td>0.000171</td>\n",
       "      <td>...</td>\n",
       "      <td>-0.000231</td>\n",
       "      <td>-0.001206</td>\n",
       "      <td>-0.005033</td>\n",
       "      <td>-0.002171</td>\n",
       "      <td>NaN</td>\n",
       "      <td>0.007468</td>\n",
       "      <td>-0.008357</td>\n",
       "      <td>1.000000</td>\n",
       "      <td>0.000942</td>\n",
       "      <td>-0.002453</td>\n",
       "    </tr>\n",
       "    <tr>\n",
       "      <th>Hour</th>\n",
       "      <td>0.022322</td>\n",
       "      <td>-0.008740</td>\n",
       "      <td>-0.041845</td>\n",
       "      <td>-0.001633</td>\n",
       "      <td>0.208938</td>\n",
       "      <td>-0.304803</td>\n",
       "      <td>-0.018832</td>\n",
       "      <td>0.093363</td>\n",
       "      <td>0.122183</td>\n",
       "      <td>0.002019</td>\n",
       "      <td>...</td>\n",
       "      <td>-0.002514</td>\n",
       "      <td>-0.002995</td>\n",
       "      <td>0.000989</td>\n",
       "      <td>0.001390</td>\n",
       "      <td>NaN</td>\n",
       "      <td>-0.035304</td>\n",
       "      <td>-0.022958</td>\n",
       "      <td>0.000942</td>\n",
       "      <td>1.000000</td>\n",
       "      <td>-0.000451</td>\n",
       "    </tr>\n",
       "    <tr>\n",
       "      <th>Time_Duration(min)</th>\n",
       "      <td>0.004906</td>\n",
       "      <td>0.005266</td>\n",
       "      <td>-0.004106</td>\n",
       "      <td>0.002638</td>\n",
       "      <td>-0.003787</td>\n",
       "      <td>-0.005180</td>\n",
       "      <td>-0.022509</td>\n",
       "      <td>0.001539</td>\n",
       "      <td>-0.001296</td>\n",
       "      <td>-0.000886</td>\n",
       "      <td>...</td>\n",
       "      <td>-0.001127</td>\n",
       "      <td>-0.001039</td>\n",
       "      <td>-0.000159</td>\n",
       "      <td>-0.003582</td>\n",
       "      <td>NaN</td>\n",
       "      <td>-0.001376</td>\n",
       "      <td>0.002126</td>\n",
       "      <td>-0.002453</td>\n",
       "      <td>-0.000451</td>\n",
       "      <td>1.000000</td>\n",
       "    </tr>\n",
       "  </tbody>\n",
       "</table>\n",
       "<p>27 rows × 27 columns</p>\n",
       "</div>"
      ],
      "text/plain": [
       "                    Severity  Start_Lat  Start_Lng  Distance(mi)  \\\n",
       "Severity            1.000000   0.045380   0.081555      0.145564   \n",
       "Start_Lat           0.045380   1.000000  -0.014810      0.061053   \n",
       "Start_Lng           0.081555  -0.014810   1.000000      0.044871   \n",
       "Distance(mi)        0.145564   0.061053   0.044871      1.000000   \n",
       "Temperature(F)     -0.024104  -0.427324  -0.063599     -0.036190   \n",
       "Humidity(%)         0.036822   0.043147   0.180327      0.015955   \n",
       "Pressure(in)        0.038167  -0.097729   0.148057     -0.029577   \n",
       "Visibility(mi)     -0.003171  -0.050772  -0.048933     -0.012627   \n",
       "Wind_Speed(mph)     0.032382   0.056261   0.084842      0.010095   \n",
       "Amenity            -0.042706   0.041022  -0.001604     -0.016280   \n",
       "Bump               -0.006354   0.002836  -0.007791     -0.001827   \n",
       "Crossing           -0.139481  -0.024971   0.011328     -0.042965   \n",
       "Give_Way           -0.011670   0.000521   0.018188     -0.004761   \n",
       "Junction            0.061620   0.036578  -0.055028      0.027417   \n",
       "No_Exit            -0.006273  -0.000310  -0.004136     -0.003182   \n",
       "Railway            -0.022105  -0.001762  -0.027885     -0.012676   \n",
       "Roundabout         -0.000471   0.000561   0.000445      0.000219   \n",
       "Station            -0.048283   0.012477  -0.014593     -0.021445   \n",
       "Stop               -0.053713   0.013479  -0.041607     -0.012099   \n",
       "Traffic_Calming    -0.008128   0.010026  -0.006831     -0.002592   \n",
       "Traffic_Signal     -0.192084  -0.093520   0.090291     -0.066162   \n",
       "Turning_Loop             NaN        NaN        NaN           NaN   \n",
       "Day_Time           -0.063253  -0.036265   0.074787     -0.015753   \n",
       "Year               -0.089872   0.034845  -0.034174      0.004164   \n",
       "Day                 0.001553  -0.002622   0.006389      0.001136   \n",
       "Hour                0.022322  -0.008740  -0.041845     -0.001633   \n",
       "Time_Duration(min)  0.004906   0.005266  -0.004106      0.002638   \n",
       "\n",
       "                    Temperature(F)  Humidity(%)  Pressure(in)  Visibility(mi)  \\\n",
       "Severity                 -0.024104     0.036822      0.038167       -0.003171   \n",
       "Start_Lat                -0.427324     0.043147     -0.097729       -0.050772   \n",
       "Start_Lng                -0.063599     0.180327      0.148057       -0.048933   \n",
       "Distance(mi)             -0.036190     0.015955     -0.029577       -0.012627   \n",
       "Temperature(F)            1.000000    -0.337378     -0.016159        0.182228   \n",
       "Humidity(%)              -0.337378     1.000000      0.107627       -0.378828   \n",
       "Pressure(in)             -0.016159     0.107627      1.000000       -0.007182   \n",
       "Visibility(mi)            0.182228    -0.378828     -0.007182        1.000000   \n",
       "Wind_Speed(mph)          -0.007414    -0.142459     -0.001413        0.012701   \n",
       "Amenity                  -0.001018    -0.003744      0.010903        0.004114   \n",
       "Bump                      0.003784    -0.004141      0.000235        0.001367   \n",
       "Crossing                  0.039198    -0.051916     -0.027550        0.032789   \n",
       "Give_Way                 -0.000659     0.001169     -0.000397        0.006966   \n",
       "Junction                 -0.011485    -0.000862      0.029184       -0.001547   \n",
       "No_Exit                   0.002083    -0.009194     -0.007626        0.008721   \n",
       "Railway                   0.004216     0.001009      0.008034       -0.000287   \n",
       "Roundabout               -0.000416     0.002045      0.002163       -0.001643   \n",
       "Station                   0.004015    -0.005649      0.021442        0.009347   \n",
       "Stop                     -0.000649    -0.012695     -0.007792        0.008074   \n",
       "Traffic_Calming           0.000184    -0.002190      0.002987        0.001869   \n",
       "Traffic_Signal            0.062361    -0.034421     -0.006149        0.028725   \n",
       "Turning_Loop                   NaN          NaN           NaN             NaN   \n",
       "Day_Time                  0.273156    -0.226063     -0.012213        0.032200   \n",
       "Year                     -0.105210    -0.008435     -0.333155       -0.038746   \n",
       "Day                       0.024224    -0.006455     -0.005798        0.005592   \n",
       "Hour                      0.208938    -0.304803     -0.018832        0.093363   \n",
       "Time_Duration(min)       -0.003787    -0.005180     -0.022509        0.001539   \n",
       "\n",
       "                    Wind_Speed(mph)   Amenity  ...   Station      Stop  \\\n",
       "Severity                   0.032382 -0.042706  ... -0.048283 -0.053713   \n",
       "Start_Lat                  0.056261  0.041022  ...  0.012477  0.013479   \n",
       "Start_Lng                  0.084842 -0.001604  ... -0.014593 -0.041607   \n",
       "Distance(mi)               0.010095 -0.016280  ... -0.021445 -0.012099   \n",
       "Temperature(F)            -0.007414 -0.001018  ...  0.004015 -0.000649   \n",
       "Humidity(%)               -0.142459 -0.003744  ... -0.005649 -0.012695   \n",
       "Pressure(in)              -0.001413  0.010903  ...  0.021442 -0.007792   \n",
       "Visibility(mi)             0.012701  0.004114  ...  0.009347  0.008074   \n",
       "Wind_Speed(mph)            1.000000 -0.004006  ... -0.000126  0.002531   \n",
       "Amenity                   -0.004006  1.000000  ...  0.184227  0.030529   \n",
       "Bump                      -0.001663  0.005907  ...  0.009481  0.014951   \n",
       "Crossing                   0.006382  0.112115  ...  0.111573  0.071705   \n",
       "Give_Way                  -0.001505  0.005280  ...  0.000964  0.029233   \n",
       "Junction                   0.007872 -0.026499  ... -0.033468 -0.030292   \n",
       "No_Exit                    0.003204  0.022809  ...  0.018509  0.009434   \n",
       "Railway                   -0.005893  0.048814  ...  0.142622  0.008360   \n",
       "Roundabout                -0.000841 -0.000884  ... -0.001152  0.004193   \n",
       "Station                   -0.000126  0.184227  ...  1.000000  0.029073   \n",
       "Stop                       0.002531  0.030529  ...  0.029073  1.000000   \n",
       "Traffic_Calming           -0.004221  0.010278  ...  0.006868  0.013335   \n",
       "Traffic_Signal             0.016767  0.106946  ...  0.122552 -0.043140   \n",
       "Turning_Loop                    NaN       NaN  ...       NaN       NaN   \n",
       "Day_Time                   0.123839  0.012068  ...  0.007065  0.007498   \n",
       "Year                      -0.084596 -0.009401  ... -0.006984  0.003990   \n",
       "Day                        0.003051  0.000171  ... -0.000231 -0.001206   \n",
       "Hour                       0.122183  0.002019  ... -0.002514 -0.002995   \n",
       "Time_Duration(min)        -0.001296 -0.000886  ... -0.001127 -0.001039   \n",
       "\n",
       "                    Traffic_Calming  Traffic_Signal  Turning_Loop  Day_Time  \\\n",
       "Severity                  -0.008128       -0.192084           NaN -0.063253   \n",
       "Start_Lat                  0.010026       -0.093520           NaN -0.036265   \n",
       "Start_Lng                 -0.006831        0.090291           NaN  0.074787   \n",
       "Distance(mi)              -0.002592       -0.066162           NaN -0.015753   \n",
       "Temperature(F)             0.000184        0.062361           NaN  0.273156   \n",
       "Humidity(%)               -0.002190       -0.034421           NaN -0.226063   \n",
       "Pressure(in)               0.002987       -0.006149           NaN -0.012213   \n",
       "Visibility(mi)             0.001869        0.028725           NaN  0.032200   \n",
       "Wind_Speed(mph)           -0.004221        0.016767           NaN  0.123839   \n",
       "Amenity                    0.010278        0.106946           NaN  0.012068   \n",
       "Bump                       0.676059       -0.002767           NaN  0.005778   \n",
       "Crossing                   0.019426        0.455007           NaN  0.032393   \n",
       "Give_Way                   0.018929        0.053874           NaN  0.005121   \n",
       "Junction                  -0.002584       -0.125130           NaN -0.014562   \n",
       "No_Exit                   -0.000678        0.026622           NaN  0.002545   \n",
       "Railway                   -0.001753        0.056001           NaN  0.001497   \n",
       "Roundabout                -0.000151       -0.003743           NaN  0.002011   \n",
       "Station                    0.006868        0.122552           NaN  0.007065   \n",
       "Stop                       0.013335       -0.043140           NaN  0.007498   \n",
       "Traffic_Calming            1.000000        0.002513           NaN  0.004528   \n",
       "Traffic_Signal             0.002513        1.000000           NaN  0.048817   \n",
       "Turning_Loop                    NaN             NaN           NaN       NaN   \n",
       "Day_Time                   0.004528        0.048817           NaN  1.000000   \n",
       "Year                       0.001576        0.009781           NaN  0.004550   \n",
       "Day                       -0.005033       -0.002171           NaN  0.007468   \n",
       "Hour                       0.000989        0.001390           NaN -0.035304   \n",
       "Time_Duration(min)        -0.000159       -0.003582           NaN -0.001376   \n",
       "\n",
       "                        Year       Day      Hour  Time_Duration(min)  \n",
       "Severity           -0.089872  0.001553  0.022322            0.004906  \n",
       "Start_Lat           0.034845 -0.002622 -0.008740            0.005266  \n",
       "Start_Lng          -0.034174  0.006389 -0.041845           -0.004106  \n",
       "Distance(mi)        0.004164  0.001136 -0.001633            0.002638  \n",
       "Temperature(F)     -0.105210  0.024224  0.208938           -0.003787  \n",
       "Humidity(%)        -0.008435 -0.006455 -0.304803           -0.005180  \n",
       "Pressure(in)       -0.333155 -0.005798 -0.018832           -0.022509  \n",
       "Visibility(mi)     -0.038746  0.005592  0.093363            0.001539  \n",
       "Wind_Speed(mph)    -0.084596  0.003051  0.122183           -0.001296  \n",
       "Amenity            -0.009401  0.000171  0.002019           -0.000886  \n",
       "Bump                0.003050 -0.001042  0.001118           -0.000117  \n",
       "Crossing            0.020051 -0.000700  0.001070           -0.002581  \n",
       "Give_Way            0.002043  0.001617  0.000034           -0.000447  \n",
       "Junction           -0.023250  0.003623  0.003804            0.000106  \n",
       "No_Exit             0.003427  0.001416 -0.000189           -0.000248  \n",
       "Railway             0.005214 -0.005546 -0.006144           -0.000734  \n",
       "Roundabout         -0.001898  0.002141  0.000698           -0.000052  \n",
       "Station            -0.006984 -0.000231 -0.002514           -0.001127  \n",
       "Stop                0.003990 -0.001206 -0.002995           -0.001039  \n",
       "Traffic_Calming     0.001576 -0.005033  0.000989           -0.000159  \n",
       "Traffic_Signal      0.009781 -0.002171  0.001390           -0.003582  \n",
       "Turning_Loop             NaN       NaN       NaN                 NaN  \n",
       "Day_Time            0.004550  0.007468 -0.035304           -0.001376  \n",
       "Year                1.000000 -0.008357 -0.022958            0.002126  \n",
       "Day                -0.008357  1.000000  0.000942           -0.002453  \n",
       "Hour               -0.022958  0.000942  1.000000           -0.000451  \n",
       "Time_Duration(min)  0.002126 -0.002453 -0.000451            1.000000  \n",
       "\n",
       "[27 rows x 27 columns]"
      ]
     },
     "execution_count": 169,
     "metadata": {},
     "output_type": "execute_result"
    }
   ],
   "source": [
    "df_sub.corr() "
   ]
  },
  {
   "cell_type": "markdown",
   "metadata": {},
   "source": [
    "Turning_Loop returns only NaN values. Let's have a look at the unique values of Turning_Loop to find out the reason for this."
   ]
  },
  {
   "cell_type": "code",
   "execution_count": 558,
   "metadata": {},
   "outputs": [
    {
     "ename": "KeyError",
     "evalue": "'Turning_Loop'",
     "output_type": "error",
     "traceback": [
      "\u001b[0;31m---------------------------------------------------------------------------\u001b[0m",
      "\u001b[0;31mKeyError\u001b[0m                                  Traceback (most recent call last)",
      "\u001b[0;32m/opt/anaconda3/lib/python3.7/site-packages/pandas/core/indexes/base.py\u001b[0m in \u001b[0;36mget_loc\u001b[0;34m(self, key, method, tolerance)\u001b[0m\n\u001b[1;32m   2645\u001b[0m             \u001b[0;32mtry\u001b[0m\u001b[0;34m:\u001b[0m\u001b[0;34m\u001b[0m\u001b[0;34m\u001b[0m\u001b[0m\n\u001b[0;32m-> 2646\u001b[0;31m                 \u001b[0;32mreturn\u001b[0m \u001b[0mself\u001b[0m\u001b[0;34m.\u001b[0m\u001b[0m_engine\u001b[0m\u001b[0;34m.\u001b[0m\u001b[0mget_loc\u001b[0m\u001b[0;34m(\u001b[0m\u001b[0mkey\u001b[0m\u001b[0;34m)\u001b[0m\u001b[0;34m\u001b[0m\u001b[0;34m\u001b[0m\u001b[0m\n\u001b[0m\u001b[1;32m   2647\u001b[0m             \u001b[0;32mexcept\u001b[0m \u001b[0mKeyError\u001b[0m\u001b[0;34m:\u001b[0m\u001b[0;34m\u001b[0m\u001b[0;34m\u001b[0m\u001b[0m\n",
      "\u001b[0;32mpandas/_libs/index.pyx\u001b[0m in \u001b[0;36mpandas._libs.index.IndexEngine.get_loc\u001b[0;34m()\u001b[0m\n",
      "\u001b[0;32mpandas/_libs/index.pyx\u001b[0m in \u001b[0;36mpandas._libs.index.IndexEngine.get_loc\u001b[0;34m()\u001b[0m\n",
      "\u001b[0;32mpandas/_libs/hashtable_class_helper.pxi\u001b[0m in \u001b[0;36mpandas._libs.hashtable.PyObjectHashTable.get_item\u001b[0;34m()\u001b[0m\n",
      "\u001b[0;32mpandas/_libs/hashtable_class_helper.pxi\u001b[0m in \u001b[0;36mpandas._libs.hashtable.PyObjectHashTable.get_item\u001b[0;34m()\u001b[0m\n",
      "\u001b[0;31mKeyError\u001b[0m: 'Turning_Loop'",
      "\nDuring handling of the above exception, another exception occurred:\n",
      "\u001b[0;31mKeyError\u001b[0m                                  Traceback (most recent call last)",
      "\u001b[0;32m<ipython-input-558-c14b8e0bdca6>\u001b[0m in \u001b[0;36m<module>\u001b[0;34m\u001b[0m\n\u001b[0;32m----> 1\u001b[0;31m \u001b[0mdf_new\u001b[0m\u001b[0;34m[\u001b[0m\u001b[0;34m'Turning_Loop'\u001b[0m\u001b[0;34m]\u001b[0m\u001b[0;34m.\u001b[0m\u001b[0munique\u001b[0m\u001b[0;34m(\u001b[0m\u001b[0;34m)\u001b[0m\u001b[0;34m\u001b[0m\u001b[0;34m\u001b[0m\u001b[0m\n\u001b[0m",
      "\u001b[0;32m/opt/anaconda3/lib/python3.7/site-packages/pandas/core/frame.py\u001b[0m in \u001b[0;36m__getitem__\u001b[0;34m(self, key)\u001b[0m\n\u001b[1;32m   2798\u001b[0m             \u001b[0;32mif\u001b[0m \u001b[0mself\u001b[0m\u001b[0;34m.\u001b[0m\u001b[0mcolumns\u001b[0m\u001b[0;34m.\u001b[0m\u001b[0mnlevels\u001b[0m \u001b[0;34m>\u001b[0m \u001b[0;36m1\u001b[0m\u001b[0;34m:\u001b[0m\u001b[0;34m\u001b[0m\u001b[0;34m\u001b[0m\u001b[0m\n\u001b[1;32m   2799\u001b[0m                 \u001b[0;32mreturn\u001b[0m \u001b[0mself\u001b[0m\u001b[0;34m.\u001b[0m\u001b[0m_getitem_multilevel\u001b[0m\u001b[0;34m(\u001b[0m\u001b[0mkey\u001b[0m\u001b[0;34m)\u001b[0m\u001b[0;34m\u001b[0m\u001b[0;34m\u001b[0m\u001b[0m\n\u001b[0;32m-> 2800\u001b[0;31m             \u001b[0mindexer\u001b[0m \u001b[0;34m=\u001b[0m \u001b[0mself\u001b[0m\u001b[0;34m.\u001b[0m\u001b[0mcolumns\u001b[0m\u001b[0;34m.\u001b[0m\u001b[0mget_loc\u001b[0m\u001b[0;34m(\u001b[0m\u001b[0mkey\u001b[0m\u001b[0;34m)\u001b[0m\u001b[0;34m\u001b[0m\u001b[0;34m\u001b[0m\u001b[0m\n\u001b[0m\u001b[1;32m   2801\u001b[0m             \u001b[0;32mif\u001b[0m \u001b[0mis_integer\u001b[0m\u001b[0;34m(\u001b[0m\u001b[0mindexer\u001b[0m\u001b[0;34m)\u001b[0m\u001b[0;34m:\u001b[0m\u001b[0;34m\u001b[0m\u001b[0;34m\u001b[0m\u001b[0m\n\u001b[1;32m   2802\u001b[0m                 \u001b[0mindexer\u001b[0m \u001b[0;34m=\u001b[0m \u001b[0;34m[\u001b[0m\u001b[0mindexer\u001b[0m\u001b[0;34m]\u001b[0m\u001b[0;34m\u001b[0m\u001b[0;34m\u001b[0m\u001b[0m\n",
      "\u001b[0;32m/opt/anaconda3/lib/python3.7/site-packages/pandas/core/indexes/base.py\u001b[0m in \u001b[0;36mget_loc\u001b[0;34m(self, key, method, tolerance)\u001b[0m\n\u001b[1;32m   2646\u001b[0m                 \u001b[0;32mreturn\u001b[0m \u001b[0mself\u001b[0m\u001b[0;34m.\u001b[0m\u001b[0m_engine\u001b[0m\u001b[0;34m.\u001b[0m\u001b[0mget_loc\u001b[0m\u001b[0;34m(\u001b[0m\u001b[0mkey\u001b[0m\u001b[0;34m)\u001b[0m\u001b[0;34m\u001b[0m\u001b[0;34m\u001b[0m\u001b[0m\n\u001b[1;32m   2647\u001b[0m             \u001b[0;32mexcept\u001b[0m \u001b[0mKeyError\u001b[0m\u001b[0;34m:\u001b[0m\u001b[0;34m\u001b[0m\u001b[0;34m\u001b[0m\u001b[0m\n\u001b[0;32m-> 2648\u001b[0;31m                 \u001b[0;32mreturn\u001b[0m \u001b[0mself\u001b[0m\u001b[0;34m.\u001b[0m\u001b[0m_engine\u001b[0m\u001b[0;34m.\u001b[0m\u001b[0mget_loc\u001b[0m\u001b[0;34m(\u001b[0m\u001b[0mself\u001b[0m\u001b[0;34m.\u001b[0m\u001b[0m_maybe_cast_indexer\u001b[0m\u001b[0;34m(\u001b[0m\u001b[0mkey\u001b[0m\u001b[0;34m)\u001b[0m\u001b[0;34m)\u001b[0m\u001b[0;34m\u001b[0m\u001b[0;34m\u001b[0m\u001b[0m\n\u001b[0m\u001b[1;32m   2649\u001b[0m         \u001b[0mindexer\u001b[0m \u001b[0;34m=\u001b[0m \u001b[0mself\u001b[0m\u001b[0;34m.\u001b[0m\u001b[0mget_indexer\u001b[0m\u001b[0;34m(\u001b[0m\u001b[0;34m[\u001b[0m\u001b[0mkey\u001b[0m\u001b[0;34m]\u001b[0m\u001b[0;34m,\u001b[0m \u001b[0mmethod\u001b[0m\u001b[0;34m=\u001b[0m\u001b[0mmethod\u001b[0m\u001b[0;34m,\u001b[0m \u001b[0mtolerance\u001b[0m\u001b[0;34m=\u001b[0m\u001b[0mtolerance\u001b[0m\u001b[0;34m)\u001b[0m\u001b[0;34m\u001b[0m\u001b[0;34m\u001b[0m\u001b[0m\n\u001b[1;32m   2650\u001b[0m         \u001b[0;32mif\u001b[0m \u001b[0mindexer\u001b[0m\u001b[0;34m.\u001b[0m\u001b[0mndim\u001b[0m \u001b[0;34m>\u001b[0m \u001b[0;36m1\u001b[0m \u001b[0;32mor\u001b[0m \u001b[0mindexer\u001b[0m\u001b[0;34m.\u001b[0m\u001b[0msize\u001b[0m \u001b[0;34m>\u001b[0m \u001b[0;36m1\u001b[0m\u001b[0;34m:\u001b[0m\u001b[0;34m\u001b[0m\u001b[0;34m\u001b[0m\u001b[0m\n",
      "\u001b[0;32mpandas/_libs/index.pyx\u001b[0m in \u001b[0;36mpandas._libs.index.IndexEngine.get_loc\u001b[0;34m()\u001b[0m\n",
      "\u001b[0;32mpandas/_libs/index.pyx\u001b[0m in \u001b[0;36mpandas._libs.index.IndexEngine.get_loc\u001b[0;34m()\u001b[0m\n",
      "\u001b[0;32mpandas/_libs/hashtable_class_helper.pxi\u001b[0m in \u001b[0;36mpandas._libs.hashtable.PyObjectHashTable.get_item\u001b[0;34m()\u001b[0m\n",
      "\u001b[0;32mpandas/_libs/hashtable_class_helper.pxi\u001b[0m in \u001b[0;36mpandas._libs.hashtable.PyObjectHashTable.get_item\u001b[0;34m()\u001b[0m\n",
      "\u001b[0;31mKeyError\u001b[0m: 'Turning_Loop'"
     ]
    }
   ],
   "source": [
    "df_new['Turning_Loop'].unique()"
   ]
  },
  {
   "cell_type": "markdown",
   "metadata": {},
   "source": [
    "Turning_Loop only returns 0 or False values. It is therefore not a good predictor for severity. Let's drop Turning_Loop from our data set."
   ]
  },
  {
   "cell_type": "code",
   "execution_count": null,
   "metadata": {},
   "outputs": [],
   "source": [
    "df_new=df_new.drop(columns=['Turning_Loop'])"
   ]
  },
  {
   "cell_type": "code",
   "execution_count": null,
   "metadata": {},
   "outputs": [],
   "source": [
    "df_new.corr() "
   ]
  },
  {
   "cell_type": "markdown",
   "metadata": {},
   "source": [
    "### Relationship between Severity and the attributes"
   ]
  },
  {
   "cell_type": "code",
   "execution_count": 163,
   "metadata": {},
   "outputs": [
    {
     "data": {
      "text/plain": [
       "2.0    134953\n",
       "3.0     56970\n",
       "4.0      6366\n",
       "1.0      1711\n",
       "Name: Severity, dtype: int64"
      ]
     },
     "execution_count": 163,
     "metadata": {},
     "output_type": "execute_result"
    }
   ],
   "source": [
    "df_sub['Severity'].value_counts()"
   ]
  },
  {
   "cell_type": "markdown",
   "metadata": {},
   "source": [
    "**Relationship between Severity and Year**"
   ]
  },
  {
   "cell_type": "code",
   "execution_count": 123,
   "metadata": {
    "scrolled": true
   },
   "outputs": [
    {
     "data": {
      "text/plain": [
       "<matplotlib.axes._subplots.AxesSubplot at 0x1b3fca3510>"
      ]
     },
     "execution_count": 123,
     "metadata": {},
     "output_type": "execute_result"
    },
    {
     "data": {
      "image/png": "[encoded data removed]",
      "text/plain": [
       "<Figure size 432x288 with 1 Axes>"
      ]
     },
     "metadata": {
      "needs_background": "light"
     },
     "output_type": "display_data"
    }
   ],
   "source": [
    "sns.boxplot(x=\"Year\", y=\"Severity\", data=df_sub)\n"
   ]
  },
  {
   "cell_type": "markdown",
   "metadata": {},
   "source": [
    "**Relationship between Severity and Month**"
   ]
  },
  {
   "cell_type": "code",
   "execution_count": 124,
   "metadata": {
    "scrolled": true
   },
   "outputs": [
    {
     "data": {
      "text/plain": [
       "<matplotlib.axes._subplots.AxesSubplot at 0x1aec66ff10>"
      ]
     },
     "execution_count": 124,
     "metadata": {},
     "output_type": "execute_result"
    },
    {
     "data": {
      "image/png": "[encoded data removed]",
      "text/plain": [
       "<Figure size 432x288 with 1 Axes>"
      ]
     },
     "metadata": {
      "needs_background": "light"
     },
     "output_type": "display_data"
    }
   ],
   "source": [
    "sns.boxplot(x=\"Month\", y=\"Severity\", data=df_sub)\n"
   ]
  },
  {
   "cell_type": "markdown",
   "metadata": {},
   "source": [
    "We see that the distributions of Severity between the different months have a significant overlap, and so Month would not be a good predictor of Severity."
   ]
  },
  {
   "cell_type": "markdown",
   "metadata": {},
   "source": [
    "**Relationship between Severity and Day**"
   ]
  },
  {
   "cell_type": "code",
   "execution_count": 125,
   "metadata": {
    "scrolled": true
   },
   "outputs": [
    {
     "data": {
      "text/plain": [
       "<matplotlib.axes._subplots.AxesSubplot at 0x1acd0db090>"
      ]
     },
     "execution_count": 125,
     "metadata": {},
     "output_type": "execute_result"
    },
    {
     "data": {
      "image/png": "[encoded data removed]",
      "text/plain": [
       "<Figure size 432x288 with 1 Axes>"
      ]
     },
     "metadata": {
      "needs_background": "light"
     },
     "output_type": "display_data"
    }
   ],
   "source": [
    "sns.boxplot(x=\"Day\", y=\"Severity\", data=df_sub)\n"
   ]
  },
  {
   "cell_type": "markdown",
   "metadata": {},
   "source": [
    "**Relationship between Severity and Weekday**"
   ]
  },
  {
   "cell_type": "code",
   "execution_count": 119,
   "metadata": {
    "scrolled": true
   },
   "outputs": [
    {
     "data": {
      "text/plain": [
       "<matplotlib.axes._subplots.AxesSubplot at 0x1b3f193590>"
      ]
     },
     "execution_count": 119,
     "metadata": {},
     "output_type": "execute_result"
    },
    {
     "data": {
      "image/png": "[encoded data removed]",
      "text/plain": [
       "<Figure size 432x288 with 1 Axes>"
      ]
     },
     "metadata": {
      "needs_background": "light"
     },
     "output_type": "display_data"
    }
   ],
   "source": [
    "sns.boxplot(x=\"Weekday\", y=\"Severity\", data=df_sub)\n"
   ]
  },
  {
   "cell_type": "markdown",
   "metadata": {},
   "source": [
    "**Relationship between Severity and Hour**"
   ]
  },
  {
   "cell_type": "code",
   "execution_count": 121,
   "metadata": {},
   "outputs": [
    {
     "data": {
      "text/plain": [
       "<matplotlib.axes._subplots.AxesSubplot at 0x1b3fc94610>"
      ]
     },
     "execution_count": 121,
     "metadata": {},
     "output_type": "execute_result"
    },
    {
     "data": {
      "image/png": "[encoded data removed]",
      "text/plain": [
       "<Figure size 432x288 with 1 Axes>"
      ]
     },
     "metadata": {
      "needs_background": "light"
     },
     "output_type": "display_data"
    }
   ],
   "source": [
    "sns.boxplot(x=\"Hour\", y=\"Severity\", data=df_sub)"
   ]
  },
  {
   "cell_type": "markdown",
   "metadata": {},
   "source": [
    "**Relationship between Severity and Time Duration**"
   ]
  },
  {
   "cell_type": "code",
   "execution_count": 133,
   "metadata": {
    "scrolled": true
   },
   "outputs": [
    {
     "data": {
      "text/plain": [
       "<matplotlib.axes._subplots.AxesSubplot at 0x1af9fb5f90>"
      ]
     },
     "execution_count": 133,
     "metadata": {},
     "output_type": "execute_result"
    },
    {
     "data": {
      "image/png": "[encoded data removed]",
      "text/plain": [
       "<Figure size 432x288 with 1 Axes>"
      ]
     },
     "metadata": {
      "needs_background": "light"
     },
     "output_type": "display_data"
    }
   ],
   "source": [
    "td= sns.regplot(x=\"Time_Duration(min)\", y=\"Severity\", data=df_sub, y_jitter=.1 )\n",
    "td.set(xlim=(0, 1440))\n",
    "td"
   ]
  },
  {
   "cell_type": "markdown",
   "metadata": {},
   "source": [
    "**Temperature as potential predictor variable of Severity**"
   ]
  },
  {
   "cell_type": "code",
   "execution_count": 167,
   "metadata": {},
   "outputs": [
    {
     "data": {
      "text/plain": [
       "[(-50, 125)]"
      ]
     },
     "execution_count": 167,
     "metadata": {},
     "output_type": "execute_result"
    },
    {
     "data": {
      "image/png": "[encoded data removed]",
      "text/plain": [
       "<Figure size 432x288 with 1 Axes>"
      ]
     },
     "metadata": {
      "needs_background": "light"
     },
     "output_type": "display_data"
    }
   ],
   "source": [
    "tmp=sns.regplot(x=\"Temperature(F)\", y=\"Severity\", data=df_sub, y_jitter=.1)\n",
    "tmp.set(xlim=(-50,125))"
   ]
  },
  {
   "cell_type": "markdown",
   "metadata": {},
   "source": [
    "Temperature does not seem like a good predictor of the severity at all since the regression line is close to horizontal.\n",
    "\n",
    "We can examine the correlation between 'Temperature(F)' and 'Severity' and see it's approximately -0.024104."
   ]
  },
  {
   "cell_type": "code",
   "execution_count": 168,
   "metadata": {},
   "outputs": [
    {
     "data": {
      "text/html": [
       "<div>\n",
       "<style scoped>\n",
       "    .dataframe tbody tr th:only-of-type {\n",
       "        vertical-align: middle;\n",
       "    }\n",
       "\n",
       "    .dataframe tbody tr th {\n",
       "        vertical-align: top;\n",
       "    }\n",
       "\n",
       "    .dataframe thead th {\n",
       "        text-align: right;\n",
       "    }\n",
       "</style>\n",
       "<table border=\"1\" class=\"dataframe\">\n",
       "  <thead>\n",
       "    <tr style=\"text-align: right;\">\n",
       "      <th></th>\n",
       "      <th>Temperature(F)</th>\n",
       "      <th>Severity</th>\n",
       "    </tr>\n",
       "  </thead>\n",
       "  <tbody>\n",
       "    <tr>\n",
       "      <th>Temperature(F)</th>\n",
       "      <td>1.000000</td>\n",
       "      <td>-0.024104</td>\n",
       "    </tr>\n",
       "    <tr>\n",
       "      <th>Severity</th>\n",
       "      <td>-0.024104</td>\n",
       "      <td>1.000000</td>\n",
       "    </tr>\n",
       "  </tbody>\n",
       "</table>\n",
       "</div>"
      ],
      "text/plain": [
       "                Temperature(F)  Severity\n",
       "Temperature(F)        1.000000 -0.024104\n",
       "Severity             -0.024104  1.000000"
      ]
     },
     "execution_count": 168,
     "metadata": {},
     "output_type": "execute_result"
    }
   ],
   "source": [
    "df_sub[['Temperature(F)','Severity']].corr()"
   ]
  },
  {
   "cell_type": "markdown",
   "metadata": {},
   "source": [
    "**Humidity as potential predictor variable of Severity**"
   ]
  },
  {
   "cell_type": "code",
   "execution_count": 544,
   "metadata": {},
   "outputs": [
    {
     "ename": "TypeError",
     "evalue": "can't multiply sequence by non-int of type 'float'",
     "output_type": "error",
     "traceback": [
      "\u001b[0;31m---------------------------------------------------------------------------\u001b[0m",
      "\u001b[0;31mTypeError\u001b[0m                                 Traceback (most recent call last)",
      "\u001b[0;32m<ipython-input-544-87d5e7fa6161>\u001b[0m in \u001b[0;36m<module>\u001b[0;34m\u001b[0m\n\u001b[0;32m----> 1\u001b[0;31m \u001b[0msns\u001b[0m\u001b[0;34m.\u001b[0m\u001b[0mregplot\u001b[0m\u001b[0;34m(\u001b[0m\u001b[0mx\u001b[0m\u001b[0;34m=\u001b[0m\u001b[0;34m\"Humidity(%)\"\u001b[0m\u001b[0;34m,\u001b[0m \u001b[0my\u001b[0m\u001b[0;34m=\u001b[0m\u001b[0;34m\"Severity\"\u001b[0m\u001b[0;34m,\u001b[0m \u001b[0mdata\u001b[0m\u001b[0;34m=\u001b[0m\u001b[0mdf_new_subset\u001b[0m\u001b[0;34m)\u001b[0m\u001b[0;34m\u001b[0m\u001b[0;34m\u001b[0m\u001b[0m\n\u001b[0m\u001b[1;32m      2\u001b[0m \u001b[0mplt\u001b[0m\u001b[0;34m.\u001b[0m\u001b[0mylim\u001b[0m\u001b[0;34m(\u001b[0m\u001b[0;36m0\u001b[0m\u001b[0;34m,\u001b[0m\u001b[0;34m)\u001b[0m\u001b[0;34m\u001b[0m\u001b[0;34m\u001b[0m\u001b[0m\n",
      "\u001b[0;32m/opt/anaconda3/lib/python3.7/site-packages/seaborn/regression.py\u001b[0m in \u001b[0;36mregplot\u001b[0;34m(x, y, data, x_estimator, x_bins, x_ci, scatter, fit_reg, ci, n_boot, units, seed, order, logistic, lowess, robust, logx, x_partial, y_partial, truncate, dropna, x_jitter, y_jitter, label, color, marker, scatter_kws, line_kws, ax)\u001b[0m\n\u001b[1;32m    816\u001b[0m     \u001b[0mscatter_kws\u001b[0m\u001b[0;34m[\u001b[0m\u001b[0;34m\"marker\"\u001b[0m\u001b[0;34m]\u001b[0m \u001b[0;34m=\u001b[0m \u001b[0mmarker\u001b[0m\u001b[0;34m\u001b[0m\u001b[0;34m\u001b[0m\u001b[0m\n\u001b[1;32m    817\u001b[0m     \u001b[0mline_kws\u001b[0m \u001b[0;34m=\u001b[0m \u001b[0;34m{\u001b[0m\u001b[0;34m}\u001b[0m \u001b[0;32mif\u001b[0m \u001b[0mline_kws\u001b[0m \u001b[0;32mis\u001b[0m \u001b[0;32mNone\u001b[0m \u001b[0;32melse\u001b[0m \u001b[0mcopy\u001b[0m\u001b[0;34m.\u001b[0m\u001b[0mcopy\u001b[0m\u001b[0;34m(\u001b[0m\u001b[0mline_kws\u001b[0m\u001b[0;34m)\u001b[0m\u001b[0;34m\u001b[0m\u001b[0;34m\u001b[0m\u001b[0m\n\u001b[0;32m--> 818\u001b[0;31m     \u001b[0mplotter\u001b[0m\u001b[0;34m.\u001b[0m\u001b[0mplot\u001b[0m\u001b[0;34m(\u001b[0m\u001b[0max\u001b[0m\u001b[0;34m,\u001b[0m \u001b[0mscatter_kws\u001b[0m\u001b[0;34m,\u001b[0m \u001b[0mline_kws\u001b[0m\u001b[0;34m)\u001b[0m\u001b[0;34m\u001b[0m\u001b[0;34m\u001b[0m\u001b[0m\n\u001b[0m\u001b[1;32m    819\u001b[0m     \u001b[0;32mreturn\u001b[0m \u001b[0max\u001b[0m\u001b[0;34m\u001b[0m\u001b[0;34m\u001b[0m\u001b[0m\n\u001b[1;32m    820\u001b[0m \u001b[0;34m\u001b[0m\u001b[0m\n",
      "\u001b[0;32m/opt/anaconda3/lib/python3.7/site-packages/seaborn/regression.py\u001b[0m in \u001b[0;36mplot\u001b[0;34m(self, ax, scatter_kws, line_kws)\u001b[0m\n\u001b[1;32m    363\u001b[0m \u001b[0;34m\u001b[0m\u001b[0m\n\u001b[1;32m    364\u001b[0m         \u001b[0;32mif\u001b[0m \u001b[0mself\u001b[0m\u001b[0;34m.\u001b[0m\u001b[0mfit_reg\u001b[0m\u001b[0;34m:\u001b[0m\u001b[0;34m\u001b[0m\u001b[0;34m\u001b[0m\u001b[0m\n\u001b[0;32m--> 365\u001b[0;31m             \u001b[0mself\u001b[0m\u001b[0;34m.\u001b[0m\u001b[0mlineplot\u001b[0m\u001b[0;34m(\u001b[0m\u001b[0max\u001b[0m\u001b[0;34m,\u001b[0m \u001b[0mline_kws\u001b[0m\u001b[0;34m)\u001b[0m\u001b[0;34m\u001b[0m\u001b[0;34m\u001b[0m\u001b[0m\n\u001b[0m\u001b[1;32m    366\u001b[0m \u001b[0;34m\u001b[0m\u001b[0m\n\u001b[1;32m    367\u001b[0m         \u001b[0;31m# Label the axes\u001b[0m\u001b[0;34m\u001b[0m\u001b[0;34m\u001b[0m\u001b[0;34m\u001b[0m\u001b[0m\n",
      "\u001b[0;32m/opt/anaconda3/lib/python3.7/site-packages/seaborn/regression.py\u001b[0m in \u001b[0;36mlineplot\u001b[0;34m(self, ax, kws)\u001b[0m\n\u001b[1;32m    406\u001b[0m         \u001b[0;34m\"\"\"Draw the model.\"\"\"\u001b[0m\u001b[0;34m\u001b[0m\u001b[0;34m\u001b[0m\u001b[0m\n\u001b[1;32m    407\u001b[0m         \u001b[0;31m# Fit the regression model\u001b[0m\u001b[0;34m\u001b[0m\u001b[0;34m\u001b[0m\u001b[0;34m\u001b[0m\u001b[0m\n\u001b[0;32m--> 408\u001b[0;31m         \u001b[0mgrid\u001b[0m\u001b[0;34m,\u001b[0m \u001b[0myhat\u001b[0m\u001b[0;34m,\u001b[0m \u001b[0merr_bands\u001b[0m \u001b[0;34m=\u001b[0m \u001b[0mself\u001b[0m\u001b[0;34m.\u001b[0m\u001b[0mfit_regression\u001b[0m\u001b[0;34m(\u001b[0m\u001b[0max\u001b[0m\u001b[0;34m)\u001b[0m\u001b[0;34m\u001b[0m\u001b[0;34m\u001b[0m\u001b[0m\n\u001b[0m\u001b[1;32m    409\u001b[0m         \u001b[0medges\u001b[0m \u001b[0;34m=\u001b[0m \u001b[0mgrid\u001b[0m\u001b[0;34m[\u001b[0m\u001b[0;36m0\u001b[0m\u001b[0;34m]\u001b[0m\u001b[0;34m,\u001b[0m \u001b[0mgrid\u001b[0m\u001b[0;34m[\u001b[0m\u001b[0;34m-\u001b[0m\u001b[0;36m1\u001b[0m\u001b[0;34m]\u001b[0m\u001b[0;34m\u001b[0m\u001b[0;34m\u001b[0m\u001b[0m\n\u001b[1;32m    410\u001b[0m \u001b[0;34m\u001b[0m\u001b[0m\n",
      "\u001b[0;32m/opt/anaconda3/lib/python3.7/site-packages/seaborn/regression.py\u001b[0m in \u001b[0;36mfit_regression\u001b[0;34m(self, ax, x_range, grid)\u001b[0m\n\u001b[1;32m    214\u001b[0m             \u001b[0myhat\u001b[0m\u001b[0;34m,\u001b[0m \u001b[0myhat_boots\u001b[0m \u001b[0;34m=\u001b[0m \u001b[0mself\u001b[0m\u001b[0;34m.\u001b[0m\u001b[0mfit_logx\u001b[0m\u001b[0;34m(\u001b[0m\u001b[0mgrid\u001b[0m\u001b[0;34m)\u001b[0m\u001b[0;34m\u001b[0m\u001b[0;34m\u001b[0m\u001b[0m\n\u001b[1;32m    215\u001b[0m         \u001b[0;32melse\u001b[0m\u001b[0;34m:\u001b[0m\u001b[0;34m\u001b[0m\u001b[0;34m\u001b[0m\u001b[0m\n\u001b[0;32m--> 216\u001b[0;31m             \u001b[0myhat\u001b[0m\u001b[0;34m,\u001b[0m \u001b[0myhat_boots\u001b[0m \u001b[0;34m=\u001b[0m \u001b[0mself\u001b[0m\u001b[0;34m.\u001b[0m\u001b[0mfit_fast\u001b[0m\u001b[0;34m(\u001b[0m\u001b[0mgrid\u001b[0m\u001b[0;34m)\u001b[0m\u001b[0;34m\u001b[0m\u001b[0;34m\u001b[0m\u001b[0m\n\u001b[0m\u001b[1;32m    217\u001b[0m \u001b[0;34m\u001b[0m\u001b[0m\n\u001b[1;32m    218\u001b[0m         \u001b[0;31m# Compute the confidence interval at each grid point\u001b[0m\u001b[0;34m\u001b[0m\u001b[0;34m\u001b[0m\u001b[0;34m\u001b[0m\u001b[0m\n",
      "\u001b[0;32m/opt/anaconda3/lib/python3.7/site-packages/seaborn/regression.py\u001b[0m in \u001b[0;36mfit_fast\u001b[0;34m(self, grid)\u001b[0m\n\u001b[1;32m    231\u001b[0m         \u001b[0mX\u001b[0m\u001b[0;34m,\u001b[0m \u001b[0my\u001b[0m \u001b[0;34m=\u001b[0m \u001b[0mnp\u001b[0m\u001b[0;34m.\u001b[0m\u001b[0mc_\u001b[0m\u001b[0;34m[\u001b[0m\u001b[0mnp\u001b[0m\u001b[0;34m.\u001b[0m\u001b[0mones\u001b[0m\u001b[0;34m(\u001b[0m\u001b[0mlen\u001b[0m\u001b[0;34m(\u001b[0m\u001b[0mself\u001b[0m\u001b[0;34m.\u001b[0m\u001b[0mx\u001b[0m\u001b[0;34m)\u001b[0m\u001b[0;34m)\u001b[0m\u001b[0;34m,\u001b[0m \u001b[0mself\u001b[0m\u001b[0;34m.\u001b[0m\u001b[0mx\u001b[0m\u001b[0;34m]\u001b[0m\u001b[0;34m,\u001b[0m \u001b[0mself\u001b[0m\u001b[0;34m.\u001b[0m\u001b[0my\u001b[0m\u001b[0;34m\u001b[0m\u001b[0;34m\u001b[0m\u001b[0m\n\u001b[1;32m    232\u001b[0m         \u001b[0mgrid\u001b[0m \u001b[0;34m=\u001b[0m \u001b[0mnp\u001b[0m\u001b[0;34m.\u001b[0m\u001b[0mc_\u001b[0m\u001b[0;34m[\u001b[0m\u001b[0mnp\u001b[0m\u001b[0;34m.\u001b[0m\u001b[0mones\u001b[0m\u001b[0;34m(\u001b[0m\u001b[0mlen\u001b[0m\u001b[0;34m(\u001b[0m\u001b[0mgrid\u001b[0m\u001b[0;34m)\u001b[0m\u001b[0;34m)\u001b[0m\u001b[0;34m,\u001b[0m \u001b[0mgrid\u001b[0m\u001b[0;34m]\u001b[0m\u001b[0;34m\u001b[0m\u001b[0;34m\u001b[0m\u001b[0m\n\u001b[0;32m--> 233\u001b[0;31m         \u001b[0myhat\u001b[0m \u001b[0;34m=\u001b[0m \u001b[0mgrid\u001b[0m\u001b[0;34m.\u001b[0m\u001b[0mdot\u001b[0m\u001b[0;34m(\u001b[0m\u001b[0mreg_func\u001b[0m\u001b[0;34m(\u001b[0m\u001b[0mX\u001b[0m\u001b[0;34m,\u001b[0m \u001b[0my\u001b[0m\u001b[0;34m)\u001b[0m\u001b[0;34m)\u001b[0m\u001b[0;34m\u001b[0m\u001b[0;34m\u001b[0m\u001b[0m\n\u001b[0m\u001b[1;32m    234\u001b[0m         \u001b[0;32mif\u001b[0m \u001b[0mself\u001b[0m\u001b[0;34m.\u001b[0m\u001b[0mci\u001b[0m \u001b[0;32mis\u001b[0m \u001b[0;32mNone\u001b[0m\u001b[0;34m:\u001b[0m\u001b[0;34m\u001b[0m\u001b[0;34m\u001b[0m\u001b[0m\n\u001b[1;32m    235\u001b[0m             \u001b[0;32mreturn\u001b[0m \u001b[0myhat\u001b[0m\u001b[0;34m,\u001b[0m \u001b[0;32mNone\u001b[0m\u001b[0;34m\u001b[0m\u001b[0;34m\u001b[0m\u001b[0m\n",
      "\u001b[0;32m/opt/anaconda3/lib/python3.7/site-packages/seaborn/regression.py\u001b[0m in \u001b[0;36mreg_func\u001b[0;34m(_x, _y)\u001b[0m\n\u001b[1;32m    227\u001b[0m         \u001b[0;34m\"\"\"Low-level regression and prediction using linear algebra.\"\"\"\u001b[0m\u001b[0;34m\u001b[0m\u001b[0;34m\u001b[0m\u001b[0m\n\u001b[1;32m    228\u001b[0m         \u001b[0;32mdef\u001b[0m \u001b[0mreg_func\u001b[0m\u001b[0;34m(\u001b[0m\u001b[0m_x\u001b[0m\u001b[0;34m,\u001b[0m \u001b[0m_y\u001b[0m\u001b[0;34m)\u001b[0m\u001b[0;34m:\u001b[0m\u001b[0;34m\u001b[0m\u001b[0;34m\u001b[0m\u001b[0m\n\u001b[0;32m--> 229\u001b[0;31m             \u001b[0;32mreturn\u001b[0m \u001b[0mnp\u001b[0m\u001b[0;34m.\u001b[0m\u001b[0mlinalg\u001b[0m\u001b[0;34m.\u001b[0m\u001b[0mpinv\u001b[0m\u001b[0;34m(\u001b[0m\u001b[0m_x\u001b[0m\u001b[0;34m)\u001b[0m\u001b[0;34m.\u001b[0m\u001b[0mdot\u001b[0m\u001b[0;34m(\u001b[0m\u001b[0m_y\u001b[0m\u001b[0;34m)\u001b[0m\u001b[0;34m\u001b[0m\u001b[0;34m\u001b[0m\u001b[0m\n\u001b[0m\u001b[1;32m    230\u001b[0m \u001b[0;34m\u001b[0m\u001b[0m\n\u001b[1;32m    231\u001b[0m         \u001b[0mX\u001b[0m\u001b[0;34m,\u001b[0m \u001b[0my\u001b[0m \u001b[0;34m=\u001b[0m \u001b[0mnp\u001b[0m\u001b[0;34m.\u001b[0m\u001b[0mc_\u001b[0m\u001b[0;34m[\u001b[0m\u001b[0mnp\u001b[0m\u001b[0;34m.\u001b[0m\u001b[0mones\u001b[0m\u001b[0;34m(\u001b[0m\u001b[0mlen\u001b[0m\u001b[0;34m(\u001b[0m\u001b[0mself\u001b[0m\u001b[0;34m.\u001b[0m\u001b[0mx\u001b[0m\u001b[0;34m)\u001b[0m\u001b[0;34m)\u001b[0m\u001b[0;34m,\u001b[0m \u001b[0mself\u001b[0m\u001b[0;34m.\u001b[0m\u001b[0mx\u001b[0m\u001b[0;34m]\u001b[0m\u001b[0;34m,\u001b[0m \u001b[0mself\u001b[0m\u001b[0;34m.\u001b[0m\u001b[0my\u001b[0m\u001b[0;34m\u001b[0m\u001b[0;34m\u001b[0m\u001b[0m\n",
      "\u001b[0;31mTypeError\u001b[0m: can't multiply sequence by non-int of type 'float'"
     ]
    },
    {
     "data": {
      "image/png": "[encoded data removed]",
      "text/plain": [
       "<Figure size 432x288 with 1 Axes>"
      ]
     },
     "metadata": {
      "needs_background": "light"
     },
     "output_type": "display_data"
    }
   ],
   "source": [
    "sns.regplot(x=\"Humidity(%)\", y=\"Severity\", data=df_new_subset)\n",
    "plt.ylim(0,)\n"
   ]
  },
  {
   "cell_type": "markdown",
   "metadata": {},
   "source": [
    "Humidity does not seem like a good predictor of the severity at all since the regression line is close to horizontal.\n",
    "\n",
    "We can examine the correlation between 'Humidity(%)' and 'Severity' and see it's approximately 0.033959."
   ]
  },
  {
   "cell_type": "code",
   "execution_count": 336,
   "metadata": {},
   "outputs": [
    {
     "data": {
      "text/html": [
       "<div>\n",
       "<style scoped>\n",
       "    .dataframe tbody tr th:only-of-type {\n",
       "        vertical-align: middle;\n",
       "    }\n",
       "\n",
       "    .dataframe tbody tr th {\n",
       "        vertical-align: top;\n",
       "    }\n",
       "\n",
       "    .dataframe thead th {\n",
       "        text-align: right;\n",
       "    }\n",
       "</style>\n",
       "<table border=\"1\" class=\"dataframe\">\n",
       "  <thead>\n",
       "    <tr style=\"text-align: right;\">\n",
       "      <th></th>\n",
       "      <th>Humidity(%)</th>\n",
       "      <th>Severity</th>\n",
       "    </tr>\n",
       "  </thead>\n",
       "  <tbody>\n",
       "    <tr>\n",
       "      <th>Humidity(%)</th>\n",
       "      <td>1.000000</td>\n",
       "      <td>0.033956</td>\n",
       "    </tr>\n",
       "    <tr>\n",
       "      <th>Severity</th>\n",
       "      <td>0.033956</td>\n",
       "      <td>1.000000</td>\n",
       "    </tr>\n",
       "  </tbody>\n",
       "</table>\n",
       "</div>"
      ],
      "text/plain": [
       "             Humidity(%)  Severity\n",
       "Humidity(%)     1.000000  0.033956\n",
       "Severity        0.033956  1.000000"
      ]
     },
     "execution_count": 336,
     "metadata": {},
     "output_type": "execute_result"
    }
   ],
   "source": [
    "df_new[['Humidity(%)','Severity']].corr()"
   ]
  },
  {
   "cell_type": "markdown",
   "metadata": {},
   "source": [
    "**Pressure as potential predictor variable of Severity**"
   ]
  },
  {
   "cell_type": "code",
   "execution_count": 121,
   "metadata": {},
   "outputs": [
    {
     "data": {
      "text/plain": [
       "([<matplotlib.axis.YTick at 0x1e49fa0a10>,\n",
       "  <matplotlib.axis.YTick at 0x1e49f76110>,\n",
       "  <matplotlib.axis.YTick at 0x1e49f85b50>,\n",
       "  <matplotlib.axis.YTick at 0x1fb1bbb5d0>],\n",
       " <a list of 4 Text yticklabel objects>)"
      ]
     },
     "execution_count": 121,
     "metadata": {},
     "output_type": "execute_result"
    },
    {
     "data": {
      "image/png": "[encoded data removed]",
      "text/plain": [
       "<Figure size 432x288 with 1 Axes>"
      ]
     },
     "metadata": {
      "needs_background": "light"
     },
     "output_type": "display_data"
    }
   ],
   "source": [
    "sns.regplot(x=\"Pressure(in)\", y=\"Severity\", data=df_new_subset)\n",
    "plt.ylim(0,)\n",
    "plt.yticks([1,2,3,4])"
   ]
  },
  {
   "cell_type": "code",
   "execution_count": null,
   "metadata": {},
   "outputs": [],
   "source": []
  },
  {
   "cell_type": "code",
   "execution_count": 122,
   "metadata": {},
   "outputs": [
    {
     "data": {
      "text/html": [
       "<div>\n",
       "<style scoped>\n",
       "    .dataframe tbody tr th:only-of-type {\n",
       "        vertical-align: middle;\n",
       "    }\n",
       "\n",
       "    .dataframe tbody tr th {\n",
       "        vertical-align: top;\n",
       "    }\n",
       "\n",
       "    .dataframe thead th {\n",
       "        text-align: right;\n",
       "    }\n",
       "</style>\n",
       "<table border=\"1\" class=\"dataframe\">\n",
       "  <thead>\n",
       "    <tr style=\"text-align: right;\">\n",
       "      <th></th>\n",
       "      <th>Pressure(in)</th>\n",
       "      <th>Severity</th>\n",
       "    </tr>\n",
       "  </thead>\n",
       "  <tbody>\n",
       "    <tr>\n",
       "      <th>Pressure(in)</th>\n",
       "      <td>1.00000</td>\n",
       "      <td>0.03809</td>\n",
       "    </tr>\n",
       "    <tr>\n",
       "      <th>Severity</th>\n",
       "      <td>0.03809</td>\n",
       "      <td>1.00000</td>\n",
       "    </tr>\n",
       "  </tbody>\n",
       "</table>\n",
       "</div>"
      ],
      "text/plain": [
       "              Pressure(in)  Severity\n",
       "Pressure(in)       1.00000   0.03809\n",
       "Severity           0.03809   1.00000"
      ]
     },
     "execution_count": 122,
     "metadata": {},
     "output_type": "execute_result"
    }
   ],
   "source": [
    "df_new[['Pressure(in)','Severity']].corr()"
   ]
  },
  {
   "cell_type": "code",
   "execution_count": null,
   "metadata": {},
   "outputs": [],
   "source": [
    "### Relationship between Severity and Visibility(mi)"
   ]
  },
  {
   "cell_type": "code",
   "execution_count": 124,
   "metadata": {},
   "outputs": [
    {
     "data": {
      "text/plain": [
       "([<matplotlib.axis.YTick at 0x1c449e9b10>,\n",
       "  <matplotlib.axis.YTick at 0x1fb1bbbd10>,\n",
       "  <matplotlib.axis.YTick at 0x1c33e88510>,\n",
       "  <matplotlib.axis.YTick at 0x1fb1e73050>],\n",
       " <a list of 4 Text yticklabel objects>)"
      ]
     },
     "execution_count": 124,
     "metadata": {},
     "output_type": "execute_result"
    },
    {
     "data": {
      "image/png": "[encoded data removed]",
      "text/plain": [
       "<Figure size 432x288 with 1 Axes>"
      ]
     },
     "metadata": {
      "needs_background": "light"
     },
     "output_type": "display_data"
    }
   ],
   "source": [
    "sns.regplot(x=\"Visibility(mi)\", y=\"Severity\", data=df_new_subset)\n",
    "plt.ylim(0,)\n",
    "plt.yticks([1,2,3,4])"
   ]
  },
  {
   "cell_type": "code",
   "execution_count": null,
   "metadata": {},
   "outputs": [],
   "source": []
  },
  {
   "cell_type": "code",
   "execution_count": 125,
   "metadata": {},
   "outputs": [
    {
     "data": {
      "text/html": [
       "<div>\n",
       "<style scoped>\n",
       "    .dataframe tbody tr th:only-of-type {\n",
       "        vertical-align: middle;\n",
       "    }\n",
       "\n",
       "    .dataframe tbody tr th {\n",
       "        vertical-align: top;\n",
       "    }\n",
       "\n",
       "    .dataframe thead th {\n",
       "        text-align: right;\n",
       "    }\n",
       "</style>\n",
       "<table border=\"1\" class=\"dataframe\">\n",
       "  <thead>\n",
       "    <tr style=\"text-align: right;\">\n",
       "      <th></th>\n",
       "      <th>Visibility(mi)</th>\n",
       "      <th>Severity</th>\n",
       "    </tr>\n",
       "  </thead>\n",
       "  <tbody>\n",
       "    <tr>\n",
       "      <th>Visibility(mi)</th>\n",
       "      <td>1.000000</td>\n",
       "      <td>-0.006351</td>\n",
       "    </tr>\n",
       "    <tr>\n",
       "      <th>Severity</th>\n",
       "      <td>-0.006351</td>\n",
       "      <td>1.000000</td>\n",
       "    </tr>\n",
       "  </tbody>\n",
       "</table>\n",
       "</div>"
      ],
      "text/plain": [
       "                Visibility(mi)  Severity\n",
       "Visibility(mi)        1.000000 -0.006351\n",
       "Severity             -0.006351  1.000000"
      ]
     },
     "execution_count": 125,
     "metadata": {},
     "output_type": "execute_result"
    }
   ],
   "source": [
    "df_new[['Visibility(mi)','Severity']].corr()"
   ]
  },
  {
   "cell_type": "code",
   "execution_count": null,
   "metadata": {},
   "outputs": [],
   "source": [
    "### Relationship between Severity and Wind Speed(mph)"
   ]
  },
  {
   "cell_type": "code",
   "execution_count": 345,
   "metadata": {},
   "outputs": [
    {
     "ename": "TypeError",
     "evalue": "'Series' object is not callable",
     "output_type": "error",
     "traceback": [
      "\u001b[0;31m---------------------------------------------------------------------------\u001b[0m",
      "\u001b[0;31mTypeError\u001b[0m                                 Traceback (most recent call last)",
      "\u001b[0;32m<ipython-input-345-ee271f62596d>\u001b[0m in \u001b[0;36m<module>\u001b[0;34m\u001b[0m\n\u001b[0;32m----> 1\u001b[0;31m \u001b[0mdf_new\u001b[0m\u001b[0;34m.\u001b[0m\u001b[0mdtypes\u001b[0m\u001b[0;34m(\u001b[0m\u001b[0;34m)\u001b[0m\u001b[0;34m\u001b[0m\u001b[0;34m\u001b[0m\u001b[0m\n\u001b[0m",
      "\u001b[0;31mTypeError\u001b[0m: 'Series' object is not callable"
     ]
    }
   ],
   "source": [
    "df_new.dtypes()"
   ]
  },
  {
   "cell_type": "code",
   "execution_count": 394,
   "metadata": {},
   "outputs": [
    {
     "ename": "ValueError",
     "evalue": "invalid literal for int() with base 10: 'Severity'",
     "output_type": "error",
     "traceback": [
      "\u001b[0;31m---------------------------------------------------------------------------\u001b[0m",
      "\u001b[0;31mValueError\u001b[0m                                Traceback (most recent call last)",
      "\u001b[0;32m<ipython-input-394-ec28554adc24>\u001b[0m in \u001b[0;36m<module>\u001b[0;34m\u001b[0m\n\u001b[0;32m----> 1\u001b[0;31m \u001b[0msns\u001b[0m\u001b[0;34m.\u001b[0m\u001b[0mregplot\u001b[0m\u001b[0;34m(\u001b[0m\u001b[0mx\u001b[0m\u001b[0;34m=\u001b[0m\u001b[0mint\u001b[0m\u001b[0;34m(\u001b[0m\u001b[0;34m\"Severity\"\u001b[0m\u001b[0;34m)\u001b[0m\u001b[0;34m,\u001b[0m \u001b[0my\u001b[0m\u001b[0;34m=\u001b[0m\u001b[0;34m\"Wind_Speed(mph)\"\u001b[0m\u001b[0;34m,\u001b[0m \u001b[0mdata\u001b[0m\u001b[0;34m=\u001b[0m\u001b[0mdf_new_subset\u001b[0m\u001b[0;34m)\u001b[0m\u001b[0;34m\u001b[0m\u001b[0;34m\u001b[0m\u001b[0m\n\u001b[0m\u001b[1;32m      2\u001b[0m \u001b[0;34m\u001b[0m\u001b[0m\n",
      "\u001b[0;31mValueError\u001b[0m: invalid literal for int() with base 10: 'Severity'"
     ]
    }
   ],
   "source": [
    "plt.plot(x=\"Severity\"), y=\"Wind_Speed(mph)\", data=df_new_subset)\n",
    "\n"
   ]
  },
  {
   "cell_type": "code",
   "execution_count": null,
   "metadata": {},
   "outputs": [],
   "source": []
  },
  {
   "cell_type": "code",
   "execution_count": 338,
   "metadata": {},
   "outputs": [
    {
     "data": {
      "text/html": [
       "<div>\n",
       "<style scoped>\n",
       "    .dataframe tbody tr th:only-of-type {\n",
       "        vertical-align: middle;\n",
       "    }\n",
       "\n",
       "    .dataframe tbody tr th {\n",
       "        vertical-align: top;\n",
       "    }\n",
       "\n",
       "    .dataframe thead th {\n",
       "        text-align: right;\n",
       "    }\n",
       "</style>\n",
       "<table border=\"1\" class=\"dataframe\">\n",
       "  <thead>\n",
       "    <tr style=\"text-align: right;\">\n",
       "      <th></th>\n",
       "      <th>Wind_Speed(mph)</th>\n",
       "      <th>Severity</th>\n",
       "    </tr>\n",
       "  </thead>\n",
       "  <tbody>\n",
       "    <tr>\n",
       "      <th>Wind_Speed(mph)</th>\n",
       "      <td>1.000000</td>\n",
       "      <td>0.032508</td>\n",
       "    </tr>\n",
       "    <tr>\n",
       "      <th>Severity</th>\n",
       "      <td>0.032508</td>\n",
       "      <td>1.000000</td>\n",
       "    </tr>\n",
       "  </tbody>\n",
       "</table>\n",
       "</div>"
      ],
      "text/plain": [
       "                 Wind_Speed(mph)  Severity\n",
       "Wind_Speed(mph)         1.000000  0.032508\n",
       "Severity                0.032508  1.000000"
      ]
     },
     "execution_count": 338,
     "metadata": {},
     "output_type": "execute_result"
    }
   ],
   "source": [
    "df_new[['Wind_Speed(mph)','Severity']].corr()"
   ]
  },
  {
   "cell_type": "code",
   "execution_count": null,
   "metadata": {},
   "outputs": [],
   "source": [
    "### Relationship between Severity and close proximity of an Amenity"
   ]
  },
  {
   "cell_type": "code",
   "execution_count": 129,
   "metadata": {},
   "outputs": [
    {
     "data": {
      "text/plain": [
       "<matplotlib.axes._subplots.AxesSubplot at 0x1fb206b310>"
      ]
     },
     "execution_count": 129,
     "metadata": {},
     "output_type": "execute_result"
    },
    {
     "data": {
      "image/png": "[encoded data removed]",
      "text/plain": [
       "<Figure size 432x288 with 1 Axes>"
      ]
     },
     "metadata": {
      "needs_background": "light"
     },
     "output_type": "display_data"
    }
   ],
   "source": [
    "sns.boxplot(x=\"Amenity\", y=\"Severity\", data=df_new_subset)"
   ]
  },
  {
   "cell_type": "code",
   "execution_count": 340,
   "metadata": {},
   "outputs": [
    {
     "data": {
      "text/html": [
       "<div>\n",
       "<style scoped>\n",
       "    .dataframe tbody tr th:only-of-type {\n",
       "        vertical-align: middle;\n",
       "    }\n",
       "\n",
       "    .dataframe tbody tr th {\n",
       "        vertical-align: top;\n",
       "    }\n",
       "\n",
       "    .dataframe thead th {\n",
       "        text-align: right;\n",
       "    }\n",
       "</style>\n",
       "<table border=\"1\" class=\"dataframe\">\n",
       "  <thead>\n",
       "    <tr style=\"text-align: right;\">\n",
       "      <th></th>\n",
       "      <th>Amenity</th>\n",
       "      <th>Severity</th>\n",
       "    </tr>\n",
       "  </thead>\n",
       "  <tbody>\n",
       "    <tr>\n",
       "      <th>Amenity</th>\n",
       "      <td>1.000000</td>\n",
       "      <td>-0.044491</td>\n",
       "    </tr>\n",
       "    <tr>\n",
       "      <th>Severity</th>\n",
       "      <td>-0.044491</td>\n",
       "      <td>1.000000</td>\n",
       "    </tr>\n",
       "  </tbody>\n",
       "</table>\n",
       "</div>"
      ],
      "text/plain": [
       "           Amenity  Severity\n",
       "Amenity   1.000000 -0.044491\n",
       "Severity -0.044491  1.000000"
      ]
     },
     "execution_count": 340,
     "metadata": {},
     "output_type": "execute_result"
    }
   ],
   "source": [
    "df_new[['Amenity','Severity']].corr()"
   ]
  },
  {
   "cell_type": "code",
   "execution_count": 464,
   "metadata": {},
   "outputs": [
    {
     "data": {
      "text/plain": [
       "array(['3', '2', '1', '4', 3, 2, 4, 1], dtype=object)"
      ]
     },
     "execution_count": 464,
     "metadata": {},
     "output_type": "execute_result"
    }
   ],
   "source": [
    "df_new['Severity'].unique()\n"
   ]
  },
  {
   "cell_type": "code",
   "execution_count": 545,
   "metadata": {},
   "outputs": [
    {
     "data": {
      "text/html": [
       "<div>\n",
       "<style scoped>\n",
       "    .dataframe tbody tr th:only-of-type {\n",
       "        vertical-align: middle;\n",
       "    }\n",
       "\n",
       "    .dataframe tbody tr th {\n",
       "        vertical-align: top;\n",
       "    }\n",
       "\n",
       "    .dataframe thead th {\n",
       "        text-align: right;\n",
       "    }\n",
       "</style>\n",
       "<table border=\"1\" class=\"dataframe\">\n",
       "  <thead>\n",
       "    <tr style=\"text-align: right;\">\n",
       "      <th>Severity</th>\n",
       "      <th>1</th>\n",
       "      <th>2</th>\n",
       "      <th>3</th>\n",
       "      <th>4</th>\n",
       "      <th>All</th>\n",
       "    </tr>\n",
       "    <tr>\n",
       "      <th>Amenity</th>\n",
       "      <th></th>\n",
       "      <th></th>\n",
       "      <th></th>\n",
       "      <th></th>\n",
       "      <th></th>\n",
       "    </tr>\n",
       "  </thead>\n",
       "  <tbody>\n",
       "    <tr>\n",
       "      <th>0</th>\n",
       "      <td>28680</td>\n",
       "      <td>2335920</td>\n",
       "      <td>995732</td>\n",
       "      <td>111213</td>\n",
       "      <td>3471545</td>\n",
       "    </tr>\n",
       "    <tr>\n",
       "      <th>1</th>\n",
       "      <td>492</td>\n",
       "      <td>37300</td>\n",
       "      <td>3168</td>\n",
       "      <td>1119</td>\n",
       "      <td>42079</td>\n",
       "    </tr>\n",
       "    <tr>\n",
       "      <th>All</th>\n",
       "      <td>29172</td>\n",
       "      <td>2373220</td>\n",
       "      <td>998900</td>\n",
       "      <td>112332</td>\n",
       "      <td>3513624</td>\n",
       "    </tr>\n",
       "  </tbody>\n",
       "</table>\n",
       "</div>"
      ],
      "text/plain": [
       "Severity      1        2       3       4      All\n",
       "Amenity                                          \n",
       "0         28680  2335920  995732  111213  3471545\n",
       "1           492    37300    3168    1119    42079\n",
       "All       29172  2373220  998900  112332  3513624"
      ]
     },
     "execution_count": 545,
     "metadata": {},
     "output_type": "execute_result"
    }
   ],
   "source": [
    "df_new_tab = pd.crosstab(df_new.Amenity, df_new.Severity, margins = True)\n",
    "df_new_tab"
   ]
  },
  {
   "cell_type": "code",
   "execution_count": 548,
   "metadata": {},
   "outputs": [
    {
     "ename": "ValueError",
     "evalue": "Length mismatch: Expected axis has 3 elements, new values have 4 elements",
     "output_type": "error",
     "traceback": [
      "\u001b[0;31m---------------------------------------------------------------------------\u001b[0m",
      "\u001b[0;31mValueError\u001b[0m                                Traceback (most recent call last)",
      "\u001b[0;32m<ipython-input-548-46659f94d796>\u001b[0m in \u001b[0;36m<module>\u001b[0;34m\u001b[0m\n\u001b[1;32m      4\u001b[0m \u001b[0mexpected\u001b[0m \u001b[0;34m=\u001b[0m \u001b[0mpd\u001b[0m\u001b[0;34m.\u001b[0m\u001b[0mDataFrame\u001b[0m\u001b[0;34m(\u001b[0m\u001b[0mexpected\u001b[0m\u001b[0;34m)\u001b[0m\u001b[0;34m\u001b[0m\u001b[0;34m\u001b[0m\u001b[0m\n\u001b[1;32m      5\u001b[0m \u001b[0;34m\u001b[0m\u001b[0m\n\u001b[0;32m----> 6\u001b[0;31m \u001b[0mexpected\u001b[0m\u001b[0;34m.\u001b[0m\u001b[0mcolumns\u001b[0m \u001b[0;34m=\u001b[0m \u001b[0;34m[\u001b[0m\u001b[0;34m\"1\"\u001b[0m\u001b[0;34m,\u001b[0m\u001b[0;34m\"2\"\u001b[0m\u001b[0;34m,\u001b[0m\u001b[0;34m\"3\"\u001b[0m\u001b[0;34m,\u001b[0m \u001b[0;34m\"4\"\u001b[0m\u001b[0;34m]\u001b[0m\u001b[0;34m\u001b[0m\u001b[0;34m\u001b[0m\u001b[0m\n\u001b[0m\u001b[1;32m      7\u001b[0m \u001b[0mexpected\u001b[0m\u001b[0;34m.\u001b[0m\u001b[0mindex\u001b[0m \u001b[0;34m=\u001b[0m \u001b[0;34m[\u001b[0m\u001b[0;34m\"0\"\u001b[0m\u001b[0;34m,\u001b[0m\u001b[0;34m\"1\"\u001b[0m\u001b[0;34m]\u001b[0m\u001b[0;34m\u001b[0m\u001b[0;34m\u001b[0m\u001b[0m\n\u001b[1;32m      8\u001b[0m \u001b[0;34m\u001b[0m\u001b[0m\n",
      "\u001b[0;32m/opt/anaconda3/lib/python3.7/site-packages/pandas/core/generic.py\u001b[0m in \u001b[0;36m__setattr__\u001b[0;34m(self, name, value)\u001b[0m\n\u001b[1;32m   5285\u001b[0m         \u001b[0;32mtry\u001b[0m\u001b[0;34m:\u001b[0m\u001b[0;34m\u001b[0m\u001b[0;34m\u001b[0m\u001b[0m\n\u001b[1;32m   5286\u001b[0m             \u001b[0mobject\u001b[0m\u001b[0;34m.\u001b[0m\u001b[0m__getattribute__\u001b[0m\u001b[0;34m(\u001b[0m\u001b[0mself\u001b[0m\u001b[0;34m,\u001b[0m \u001b[0mname\u001b[0m\u001b[0;34m)\u001b[0m\u001b[0;34m\u001b[0m\u001b[0;34m\u001b[0m\u001b[0m\n\u001b[0;32m-> 5287\u001b[0;31m             \u001b[0;32mreturn\u001b[0m \u001b[0mobject\u001b[0m\u001b[0;34m.\u001b[0m\u001b[0m__setattr__\u001b[0m\u001b[0;34m(\u001b[0m\u001b[0mself\u001b[0m\u001b[0;34m,\u001b[0m \u001b[0mname\u001b[0m\u001b[0;34m,\u001b[0m \u001b[0mvalue\u001b[0m\u001b[0;34m)\u001b[0m\u001b[0;34m\u001b[0m\u001b[0;34m\u001b[0m\u001b[0m\n\u001b[0m\u001b[1;32m   5288\u001b[0m         \u001b[0;32mexcept\u001b[0m \u001b[0mAttributeError\u001b[0m\u001b[0;34m:\u001b[0m\u001b[0;34m\u001b[0m\u001b[0;34m\u001b[0m\u001b[0m\n\u001b[1;32m   5289\u001b[0m             \u001b[0;32mpass\u001b[0m\u001b[0;34m\u001b[0m\u001b[0;34m\u001b[0m\u001b[0m\n",
      "\u001b[0;32mpandas/_libs/properties.pyx\u001b[0m in \u001b[0;36mpandas._libs.properties.AxisProperty.__set__\u001b[0;34m()\u001b[0m\n",
      "\u001b[0;32m/opt/anaconda3/lib/python3.7/site-packages/pandas/core/generic.py\u001b[0m in \u001b[0;36m_set_axis\u001b[0;34m(self, axis, labels)\u001b[0m\n\u001b[1;32m    659\u001b[0m \u001b[0;34m\u001b[0m\u001b[0m\n\u001b[1;32m    660\u001b[0m     \u001b[0;32mdef\u001b[0m \u001b[0m_set_axis\u001b[0m\u001b[0;34m(\u001b[0m\u001b[0mself\u001b[0m\u001b[0;34m,\u001b[0m \u001b[0maxis\u001b[0m\u001b[0;34m,\u001b[0m \u001b[0mlabels\u001b[0m\u001b[0;34m)\u001b[0m \u001b[0;34m->\u001b[0m \u001b[0;32mNone\u001b[0m\u001b[0;34m:\u001b[0m\u001b[0;34m\u001b[0m\u001b[0;34m\u001b[0m\u001b[0m\n\u001b[0;32m--> 661\u001b[0;31m         \u001b[0mself\u001b[0m\u001b[0;34m.\u001b[0m\u001b[0m_data\u001b[0m\u001b[0;34m.\u001b[0m\u001b[0mset_axis\u001b[0m\u001b[0;34m(\u001b[0m\u001b[0maxis\u001b[0m\u001b[0;34m,\u001b[0m \u001b[0mlabels\u001b[0m\u001b[0;34m)\u001b[0m\u001b[0;34m\u001b[0m\u001b[0;34m\u001b[0m\u001b[0m\n\u001b[0m\u001b[1;32m    662\u001b[0m         \u001b[0mself\u001b[0m\u001b[0;34m.\u001b[0m\u001b[0m_clear_item_cache\u001b[0m\u001b[0;34m(\u001b[0m\u001b[0;34m)\u001b[0m\u001b[0;34m\u001b[0m\u001b[0;34m\u001b[0m\u001b[0m\n\u001b[1;32m    663\u001b[0m \u001b[0;34m\u001b[0m\u001b[0m\n",
      "\u001b[0;32m/opt/anaconda3/lib/python3.7/site-packages/pandas/core/internals/managers.py\u001b[0m in \u001b[0;36mset_axis\u001b[0;34m(self, axis, new_labels)\u001b[0m\n\u001b[1;32m    176\u001b[0m         \u001b[0;32mif\u001b[0m \u001b[0mnew_len\u001b[0m \u001b[0;34m!=\u001b[0m \u001b[0mold_len\u001b[0m\u001b[0;34m:\u001b[0m\u001b[0;34m\u001b[0m\u001b[0;34m\u001b[0m\u001b[0m\n\u001b[1;32m    177\u001b[0m             raise ValueError(\n\u001b[0;32m--> 178\u001b[0;31m                 \u001b[0;34mf\"Length mismatch: Expected axis has {old_len} elements, new \"\u001b[0m\u001b[0;34m\u001b[0m\u001b[0;34m\u001b[0m\u001b[0m\n\u001b[0m\u001b[1;32m    179\u001b[0m                 \u001b[0;34mf\"values have {new_len} elements\"\u001b[0m\u001b[0;34m\u001b[0m\u001b[0;34m\u001b[0m\u001b[0m\n\u001b[1;32m    180\u001b[0m             )\n",
      "\u001b[0;31mValueError\u001b[0m: Length mismatch: Expected axis has 3 elements, new values have 4 elements"
     ]
    }
   ],
   "source": [
    "expected =  np.outer(df_new_tab[\"All\"][0:5],\n",
    "                     df_new_tab[\"All\"][0:3]) / 1000\n",
    "\n",
    "expected = pd.DataFrame(expected)\n",
    "\n",
    "expected.columns = [\"1\",\"2\",\"3\",\"4\"]\n",
    "expected.index = [\"0\",\"1\"]\n",
    "\n",
    "expected"
   ]
  },
  {
   "cell_type": "code",
   "execution_count": null,
   "metadata": {},
   "outputs": [],
   "source": [
    "### Relationship between Severity and close proximity of a Crossing"
   ]
  },
  {
   "cell_type": "code",
   "execution_count": 130,
   "metadata": {},
   "outputs": [
    {
     "data": {
      "text/plain": [
       "<matplotlib.axes._subplots.AxesSubplot at 0x1fb2142e50>"
      ]
     },
     "execution_count": 130,
     "metadata": {},
     "output_type": "execute_result"
    },
    {
     "data": {
      "image/png": "[encoded data removed]",
      "text/plain": [
       "<Figure size 432x288 with 1 Axes>"
      ]
     },
     "metadata": {
      "needs_background": "light"
     },
     "output_type": "display_data"
    }
   ],
   "source": [
    "sns.boxplot(x=\"Crossing\", y=\"Severity\", data=df_new_subset)"
   ]
  },
  {
   "cell_type": "code",
   "execution_count": null,
   "metadata": {},
   "outputs": [],
   "source": [
    "### Relationship between Severity and close proximity of a Give way"
   ]
  },
  {
   "cell_type": "code",
   "execution_count": 132,
   "metadata": {},
   "outputs": [
    {
     "data": {
      "text/plain": [
       "<matplotlib.axes._subplots.AxesSubplot at 0x1fb1825d10>"
      ]
     },
     "execution_count": 132,
     "metadata": {},
     "output_type": "execute_result"
    },
    {
     "data": {
      "image/png": "[encoded data removed]",
      "text/plain": [
       "<Figure size 432x288 with 1 Axes>"
      ]
     },
     "metadata": {
      "needs_background": "light"
     },
     "output_type": "display_data"
    }
   ],
   "source": [
    "sns.boxplot(x=\"Give_Way\", y=\"Severity\", data=df_new_subset)"
   ]
  },
  {
   "cell_type": "code",
   "execution_count": null,
   "metadata": {},
   "outputs": [],
   "source": [
    "### Relationship between Severity and close proximity of a Junction"
   ]
  },
  {
   "cell_type": "code",
   "execution_count": 133,
   "metadata": {},
   "outputs": [
    {
     "data": {
      "text/plain": [
       "<matplotlib.axes._subplots.AxesSubplot at 0x1fb1a367d0>"
      ]
     },
     "execution_count": 133,
     "metadata": {},
     "output_type": "execute_result"
    },
    {
     "data": {
      "image/png": "[encoded data removed]",
      "text/plain": [
       "<Figure size 432x288 with 1 Axes>"
      ]
     },
     "metadata": {
      "needs_background": "light"
     },
     "output_type": "display_data"
    }
   ],
   "source": [
    "sns.boxplot(x=\"Junction\", y=\"Severity\", data=df_new_subset)"
   ]
  },
  {
   "cell_type": "code",
   "execution_count": null,
   "metadata": {},
   "outputs": [],
   "source": [
    "### Relationship between Severity and close proximity of a No Exit"
   ]
  },
  {
   "cell_type": "code",
   "execution_count": 134,
   "metadata": {},
   "outputs": [
    {
     "data": {
      "text/plain": [
       "<matplotlib.axes._subplots.AxesSubplot at 0x1fb2af1910>"
      ]
     },
     "execution_count": 134,
     "metadata": {},
     "output_type": "execute_result"
    },
    {
     "data": {
      "image/png": "[encoded data removed]",
      "text/plain": [
       "<Figure size 432x288 with 1 Axes>"
      ]
     },
     "metadata": {
      "needs_background": "light"
     },
     "output_type": "display_data"
    }
   ],
   "source": [
    "sns.boxplot(x=\"No_Exit\", y=\"Severity\", data=df_new_subset)"
   ]
  },
  {
   "cell_type": "code",
   "execution_count": null,
   "metadata": {},
   "outputs": [],
   "source": [
    "### Relationship between Severity and close proximity of a Railway"
   ]
  },
  {
   "cell_type": "code",
   "execution_count": 135,
   "metadata": {},
   "outputs": [
    {
     "data": {
      "text/plain": [
       "<matplotlib.axes._subplots.AxesSubplot at 0x1fb2b82090>"
      ]
     },
     "execution_count": 135,
     "metadata": {},
     "output_type": "execute_result"
    },
    {
     "data": {
      "image/png": "[encoded data removed]",
      "text/plain": [
       "<Figure size 432x288 with 1 Axes>"
      ]
     },
     "metadata": {
      "needs_background": "light"
     },
     "output_type": "display_data"
    }
   ],
   "source": [
    "sns.boxplot(x=\"Railway\", y=\"Severity\", data=df_new_subset)"
   ]
  },
  {
   "cell_type": "code",
   "execution_count": null,
   "metadata": {},
   "outputs": [],
   "source": [
    "### Relationship between Severity and close proximity of a Station"
   ]
  },
  {
   "cell_type": "code",
   "execution_count": 136,
   "metadata": {},
   "outputs": [
    {
     "data": {
      "text/plain": [
       "<matplotlib.axes._subplots.AxesSubplot at 0x1fb19f0e90>"
      ]
     },
     "execution_count": 136,
     "metadata": {},
     "output_type": "execute_result"
    },
    {
     "data": {
      "image/png": "[encoded data removed]",
      "text/plain": [
       "<Figure size 432x288 with 1 Axes>"
      ]
     },
     "metadata": {
      "needs_background": "light"
     },
     "output_type": "display_data"
    }
   ],
   "source": [
    "sns.boxplot(x=\"Station\", y=\"Severity\", data=df_new_subset)"
   ]
  },
  {
   "cell_type": "code",
   "execution_count": null,
   "metadata": {},
   "outputs": [],
   "source": [
    "### Relationship between Severity and close proximity of a Stop Sign"
   ]
  },
  {
   "cell_type": "code",
   "execution_count": 138,
   "metadata": {},
   "outputs": [
    {
     "data": {
      "text/plain": [
       "<matplotlib.axes._subplots.AxesSubplot at 0x1fb19df390>"
      ]
     },
     "execution_count": 138,
     "metadata": {},
     "output_type": "execute_result"
    },
    {
     "data": {
      "image/png": "[encoded data removed]",
      "text/plain": [
       "<Figure size 432x288 with 1 Axes>"
      ]
     },
     "metadata": {
      "needs_background": "light"
     },
     "output_type": "display_data"
    }
   ],
   "source": [
    "sns.boxplot(x=\"Stop\", y=\"Severity\", data=df_new_subset)"
   ]
  },
  {
   "cell_type": "code",
   "execution_count": null,
   "metadata": {},
   "outputs": [],
   "source": [
    "### Relationship between Severity and close proximity of a Traffic Calming measurement"
   ]
  },
  {
   "cell_type": "code",
   "execution_count": 139,
   "metadata": {},
   "outputs": [
    {
     "data": {
      "text/plain": [
       "<matplotlib.axes._subplots.AxesSubplot at 0x1fb7454a10>"
      ]
     },
     "execution_count": 139,
     "metadata": {},
     "output_type": "execute_result"
    },
    {
     "data": {
      "image/png": "[encoded data removed]",
      "text/plain": [
       "<Figure size 432x288 with 1 Axes>"
      ]
     },
     "metadata": {
      "needs_background": "light"
     },
     "output_type": "display_data"
    }
   ],
   "source": [
    "sns.boxplot(x=\"Traffic_Calming\", y=\"Severity\", data=df_new_subset)"
   ]
  },
  {
   "cell_type": "code",
   "execution_count": null,
   "metadata": {},
   "outputs": [],
   "source": [
    "### Relationship between Severity and close proximity of a Traffic Signal"
   ]
  },
  {
   "cell_type": "code",
   "execution_count": 140,
   "metadata": {},
   "outputs": [
    {
     "data": {
      "text/plain": [
       "<matplotlib.axes._subplots.AxesSubplot at 0x1fbb6afdd0>"
      ]
     },
     "execution_count": 140,
     "metadata": {},
     "output_type": "execute_result"
    },
    {
     "data": {
      "image/png": "[encoded data removed]",
      "text/plain": [
       "<Figure size 432x288 with 1 Axes>"
      ]
     },
     "metadata": {
      "needs_background": "light"
     },
     "output_type": "display_data"
    }
   ],
   "source": [
    "sns.boxplot(x=\"Traffic_Signal\", y=\"Severity\", data=df_new_subset)"
   ]
  },
  {
   "cell_type": "code",
   "execution_count": null,
   "metadata": {},
   "outputs": [],
   "source": [
    "### Relationship between Severity and Day_Time"
   ]
  },
  {
   "cell_type": "code",
   "execution_count": 141,
   "metadata": {},
   "outputs": [
    {
     "data": {
      "text/plain": [
       "<matplotlib.axes._subplots.AxesSubplot at 0x1fbb8a5f10>"
      ]
     },
     "execution_count": 141,
     "metadata": {},
     "output_type": "execute_result"
    },
    {
     "data": {
      "image/png": "[encoded data removed]",
      "text/plain": [
       "<Figure size 432x288 with 1 Axes>"
      ]
     },
     "metadata": {
      "needs_background": "light"
     },
     "output_type": "display_data"
    }
   ],
   "source": [
    "sns.boxplot(x=\"Day_Time\", y=\"Severity\", data=df_new_subset)"
   ]
  },
  {
   "cell_type": "code",
   "execution_count": null,
   "metadata": {},
   "outputs": [],
   "source": []
  }
 ],
 "metadata": {
  "kernelspec": {
   "display_name": "Python 3",
   "language": "python",
   "name": "python3"
  },
  "language_info": {
   "codemirror_mode": {
    "name": "ipython",
    "version": 3
   },
   "file_extension": ".py",
   "mimetype": "text/x-python",
   "name": "python",
   "nbconvert_exporter": "python",
   "pygments_lexer": "ipython3",
   "version": "3.7.6"
  }
 },
 "nbformat": 4,
 "nbformat_minor": 4
}
