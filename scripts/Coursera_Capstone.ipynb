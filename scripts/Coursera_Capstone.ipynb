{
 "cells": [
  {
   "cell_type": "markdown",
   "metadata": {},
   "source": [
    "# Capstone Project - Accident Severity (Week 2)\n",
    "### Applied Data Science Capstone by IBM/Coursera"
   ]
  },
  {
   "cell_type": "markdown",
   "metadata": {},
   "source": [
    "## Table of contents\n",
    "* [Introduction: Business Problem](#introduction)\n",
    "* [Data and data preprocessing](#data)\n",
    "* [Methodology](#methodology)\n",
    "* [Analysis](#analysis)\n",
    "* [Results and Discussion](#results)\n",
    "* [Conclusion](#conclusion)"
   ]
  },
  {
   "cell_type": "markdown",
   "metadata": {},
   "source": [
    "## 1. Introduction: Business Problem <a name=\"introduction\"></a>\n",
    "### 1.1 Background"
   ]
  },
  {
   "cell_type": "markdown",
   "metadata": {},
   "source": [
    "In 2018, the United States had roughly 276 million vehicles in operation.  Out of those vehicles, 12 million were involved in crashes.  The United States is also among the countries with the highest rate of traffic-related fatalities per one million population.  "
   ]
  },
  {
   "cell_type": "markdown",
   "metadata": {},
   "source": [
    "### 1.2 Problem\n",
    "A lot of these accidents could be prevented if the drivers were more informed about the possible severity of car accident based on different factors. The focus of this project therefore is to predict the severity of an accident, using a number of features. For performance reasons, we will focus our efforts on accidents in the Seattle area, but this will allow us to draw conclusions which are relevant for other areas in the US as well."
   ]
  },
  {
   "cell_type": "markdown",
   "metadata": {},
   "source": [
    "### 1.3 Interest\n",
    "Reliable severity prediction of possible car accidents can help commuters to drive with more foresight or change their travel plans accordingly. In addition, an accident severity prediction system can be interesting for insurance companies in order to prevent possible costs for accidents suffered by their members."
   ]
  },
  {
   "cell_type": "markdown",
   "metadata": {},
   "source": [
    "## 2. Data and data preprocessing <a name=\"data\"></a>\n",
    "### 2.1 Data Source\n",
    "\n",
    "The dataset was obtained from the [Seattle Department of Transportation website](https://data.seattle.gov/Land-Base/Collisions/9kas-rb8d \"Seattle Department of Transportation website\"). The data was collected from 2004 to present for the Seattle area. The number of observations in the data is about 220,000 and each observation represents a traffic collision. The original data contains our chosen label, i.e a severity code based on the severity of a collision, where 1 indicates just a property damage and 4 indicates a fatality as highest impact of the collision. It also consists of 39 attributes.\n",
    "\n",
    "Before we get started loading the dataset, let's import all needed libraries."
   ]
  },
  {
   "cell_type": "markdown",
   "metadata": {},
   "source": [
    "**Import needed libraries**"
   ]
  },
  {
   "cell_type": "code",
   "execution_count": 62,
   "metadata": {},
   "outputs": [],
   "source": [
    "import pandas as pd\n",
    "import numpy as np\n",
    "from timezonefinder import TimezoneFinderL\n",
    "from scipy import stats\n",
    "\n",
    "# we are using the inline backend\n",
    "%matplotlib inline \n",
    "\n",
    "import matplotlib as mpl\n",
    "import matplotlib.pyplot as plt\n",
    "import seaborn as sns\n",
    "\n",
    "# chi-squared test with similar proportions\n",
    "from scipy.stats import chi2_contingency\n",
    "from scipy.stats import chi2\n",
    "\n",
    "#Import Gaussian Naive Bayes model\n",
    "from sklearn.naive_bayes import GaussianNB\n",
    "\n",
    "#Import KNeighborsClassifier from sklearn.neighbors\n",
    "from sklearn.neighbors import KNeighborsClassifier\n",
    "\n",
    "#Import DecisionTreeClassifier from sklearn.tree\n",
    "from sklearn.tree import DecisionTreeClassifier\n",
    "\n",
    "#Import LogisticRegression\n",
    "from sklearn.linear_model import LogisticRegression\n",
    "\n",
    "#Import train test split and metrics\n",
    "from sklearn.model_selection import train_test_split\n",
    "from sklearn.metrics import log_loss"
   ]
  },
  {
   "cell_type": "markdown",
   "metadata": {},
   "source": [
    "**Load data**"
   ]
  },
  {
   "cell_type": "code",
   "execution_count": 63,
   "metadata": {},
   "outputs": [
    {
     "name": "stderr",
     "output_type": "stream",
     "text": [
      "/opt/anaconda3/lib/python3.7/site-packages/IPython/core/interactiveshell.py:3063: DtypeWarning: Columns (35) have mixed types.Specify dtype option on import or set low_memory=False.\n",
      "  interactivity=interactivity, compiler=compiler, result=result)\n"
     ]
    }
   ],
   "source": [
    "# Read the file\n",
    "path = \"/Users/lauradohle/Box/Laura's Folder/Coursera Data Science Class/Applied Data Science Capstone/Collisions.csv\"\n",
    "df = pd.read_csv(path)"
   ]
  },
  {
   "cell_type": "markdown",
   "metadata": {},
   "source": [
    "### 2.2 Data cleaning\n",
    "\n",
    "There were several steps necessary to clean the dataset and make it usable for the problem statement:"
   ]
  },
  {
   "cell_type": "markdown",
   "metadata": {},
   "source": [
    "**Drop irrelevant attributes**\n",
    "\n",
    "First, not all of the attributes in the dataset are relevant for the problem statement. Some are also obvious information duplicates compared to other columns.\n",
    "\n",
    "Therefore 11 features were removed from the report entirely: \n",
    "\n",
    "* OBJECTID, INCKEY, SDOTCOLNUM and COLDETKEY were just different variations of unique identifiers, not important to the problem statement at hand.\n",
    "* SDOT_COLDESC was a description of the collision, that directly duplicated the information given via SDOT_COLCODE. \n",
    "* ST_COLDESC was a description of the collision, that directly duplicated the information given via ST_COLCODE.\n",
    "* EXCEPTRSNCODE and EXCEPTRSNDESC was not described in the metadata and also only consisted of different forms of missing data.\n",
    "* INCDATE was a duplicate of information also present in INCDTTM.\n",
    "* STATUS and REPORTNO we removed since it they were not described in the metadata.\n",
    "\n",
    "This left us with 28 attributes still present in the dataset."
   ]
  },
  {
   "cell_type": "code",
   "execution_count": 64,
   "metadata": {},
   "outputs": [],
   "source": [
    "#drop the columns not relevant to our problem statement\n",
    "\n",
    "df_new=df.drop(columns=['OBJECTID', 'INCKEY','COLDETKEY', 'SDOT_COLDESC', 'SDOTCOLNUM', 'ST_COLDESC', 'REPORTNO', 'STATUS', 'EXCEPTRSNCODE', 'EXCEPTRSNDESC', 'INCDATE'])\n"
   ]
  },
  {
   "cell_type": "markdown",
   "metadata": {},
   "source": [
    "**Change columns to correct data format**\n",
    "\n",
    "The next step in data cleaning was to check and make sure that all data was in the correct format (int, float, text or other)."
   ]
  },
  {
   "cell_type": "code",
   "execution_count": 65,
   "metadata": {},
   "outputs": [
    {
     "data": {
      "text/plain": [
       "X                  float64\n",
       "Y                  float64\n",
       "ADDRTYPE            object\n",
       "INTKEY             float64\n",
       "LOCATION            object\n",
       "SEVERITYCODE        object\n",
       "SEVERITYDESC        object\n",
       "COLLISIONTYPE       object\n",
       "PERSONCOUNT          int64\n",
       "PEDCOUNT             int64\n",
       "PEDCYLCOUNT          int64\n",
       "VEHCOUNT             int64\n",
       "INJURIES             int64\n",
       "SERIOUSINJURIES      int64\n",
       "FATALITIES           int64\n",
       "INCDTTM             object\n",
       "JUNCTIONTYPE        object\n",
       "SDOT_COLCODE       float64\n",
       "INATTENTIONIND      object\n",
       "UNDERINFL           object\n",
       "WEATHER             object\n",
       "ROADCOND            object\n",
       "LIGHTCOND           object\n",
       "PEDROWNOTGRNT       object\n",
       "SPEEDING            object\n",
       "ST_COLCODE          object\n",
       "SEGLANEKEY           int64\n",
       "CROSSWALKKEY         int64\n",
       "HITPARKEDCAR        object\n",
       "dtype: object"
      ]
     },
     "execution_count": 65,
     "metadata": {},
     "output_type": "execute_result"
    }
   ],
   "source": [
    "#Check data formats\n",
    "df_new.dtypes"
   ]
  },
  {
   "cell_type": "markdown",
   "metadata": {},
   "source": [
    "As we can see above, some columns are not of the correct data type: \n",
    "* The multiclass categorical data of 'SDOT_COLCODE' needs to have type 'str' (object).\n",
    "* The Boolean values 'INATTENTIONIND', 'UNDERINFL', 'PEDROWNOTGRNT', 'SPEEDING', 'HITPARKEDCAR' need to be changed to numeric values 0/1 instead of True/False and therefore be of type 'float' or 'int' to make them more usable for the machine learning section later on. \n",
    "* Also, 'INCDTTM' needs to be converted to the datatype 'datetime'.\n",
    "\n",
    "While having a closer look at those attributes, let's also make sure to clean them of any duplicate or missing values."
   ]
  },
  {
   "cell_type": "code",
   "execution_count": 66,
   "metadata": {},
   "outputs": [
    {
     "data": {
      "text/plain": [
       "11.0    92089\n",
       "14.0    59300\n",
       "0.0     19158\n",
       "16.0    10935\n",
       "28.0     9599\n",
       "24.0     7694\n",
       "13.0     6887\n",
       "26.0     5072\n",
       "18.0     3434\n",
       "15.0     1820\n",
       "12.0     1781\n",
       "51.0     1472\n",
       "29.0      559\n",
       "21.0      207\n",
       "56.0      199\n",
       "27.0      173\n",
       "54.0      153\n",
       "23.0      129\n",
       "48.0      119\n",
       "31.0      111\n",
       "25.0      110\n",
       "34.0      100\n",
       "64.0       98\n",
       "69.0       86\n",
       "33.0       57\n",
       "55.0       56\n",
       "66.0       31\n",
       "22.0       19\n",
       "44.0       16\n",
       "32.0       13\n",
       "53.0        9\n",
       "61.0        7\n",
       "58.0        6\n",
       "35.0        6\n",
       "68.0        6\n",
       "46.0        4\n",
       "36.0        4\n",
       "52.0        2\n",
       "47.0        2\n",
       "nan         1\n",
       "87.0        1\n",
       "Name: SDOT_COLCODE, dtype: int64"
      ]
     },
     "execution_count": 66,
     "metadata": {},
     "output_type": "execute_result"
    }
   ],
   "source": [
    "#Convert SDOT_COLCODE to type 'str'\n",
    "df_new[['SDOT_COLCODE']] = df_new[['SDOT_COLCODE']].astype('str')\n",
    "\n",
    "#Check for NaN values\n",
    "df_new['SDOT_COLCODE'].value_counts(dropna=False)"
   ]
  },
  {
   "cell_type": "markdown",
   "metadata": {},
   "source": [
    "SDOT_COLCODE has one NaN value that we can drop."
   ]
  },
  {
   "cell_type": "code",
   "execution_count": 67,
   "metadata": {},
   "outputs": [],
   "source": [
    "#get list of index with NaN values for SDOT_COLCODE attribute\n",
    "index_SDOT=df_new.loc[pd.isna(df_new[\"SDOT_COLCODE\"]), :].index\n",
    "\n",
    "#drop the rows with NaN values for ST_COLCODE attributes \n",
    "for i in index_SDOT:\n",
    "    df_new.drop(index_SDOT, inplace=True)"
   ]
  },
  {
   "cell_type": "markdown",
   "metadata": {},
   "source": [
    "Boolean attributes that have to be converted:"
   ]
  },
  {
   "cell_type": "code",
   "execution_count": 68,
   "metadata": {},
   "outputs": [
    {
     "data": {
      "text/plain": [
       "NaN    191337\n",
       "Y       30188\n",
       "Name: INATTENTIONIND, dtype: int64"
      ]
     },
     "execution_count": 68,
     "metadata": {},
     "output_type": "execute_result"
    }
   ],
   "source": [
    "#Check for NaN values or duplicate values\n",
    "df_new['INATTENTIONIND'].value_counts(dropna=False)"
   ]
  },
  {
   "cell_type": "code",
   "execution_count": 69,
   "metadata": {},
   "outputs": [
    {
     "data": {
      "text/plain": [
       "N      103927\n",
       "0       81676\n",
       "NaN     26293\n",
       "Y        5399\n",
       "1        4230\n",
       "Name: UNDERINFL, dtype: int64"
      ]
     },
     "execution_count": 69,
     "metadata": {},
     "output_type": "execute_result"
    }
   ],
   "source": [
    "#Check for NaN values or duplicate values\n",
    "df_new['UNDERINFL'].value_counts(dropna=False)"
   ]
  },
  {
   "cell_type": "code",
   "execution_count": 70,
   "metadata": {},
   "outputs": [
    {
     "data": {
      "text/plain": [
       "NaN    216330\n",
       "Y        5195\n",
       "Name: PEDROWNOTGRNT, dtype: int64"
      ]
     },
     "execution_count": 70,
     "metadata": {},
     "output_type": "execute_result"
    }
   ],
   "source": [
    "#Check for NaN values or duplicate values\n",
    "df_new['PEDROWNOTGRNT'].value_counts(dropna=False)"
   ]
  },
  {
   "cell_type": "code",
   "execution_count": 71,
   "metadata": {},
   "outputs": [
    {
     "data": {
      "text/plain": [
       "NaN    211596\n",
       "Y        9929\n",
       "Name: SPEEDING, dtype: int64"
      ]
     },
     "execution_count": 71,
     "metadata": {},
     "output_type": "execute_result"
    }
   ],
   "source": [
    "#Check for NaN values or duplicate values\n",
    "df_new['SPEEDING'].value_counts(dropna=False)"
   ]
  },
  {
   "cell_type": "code",
   "execution_count": 72,
   "metadata": {},
   "outputs": [
    {
     "data": {
      "text/plain": [
       "N    209492\n",
       "Y     12033\n",
       "Name: HITPARKEDCAR, dtype: int64"
      ]
     },
     "execution_count": 72,
     "metadata": {},
     "output_type": "execute_result"
    }
   ],
   "source": [
    "#Check for NaN values or duplicate values\n",
    "df_new['HITPARKEDCAR'].value_counts(dropna=False)"
   ]
  },
  {
   "cell_type": "markdown",
   "metadata": {},
   "source": [
    "For the attributes INATTENTIONIND, SPEEDING and PEDROWNOTGRNT people only entered 'Y' or did not enter anything at all, instead of entering 'N'. For those three attributes we will replace the 'Y' values with 1 and the NaN values with 0 and turn the dtype into float, to make them usable for the machine learning model later on."
   ]
  },
  {
   "cell_type": "code",
   "execution_count": 73,
   "metadata": {},
   "outputs": [],
   "source": [
    "#Convert True/False values to 1/0\n",
    "df_new[['INATTENTIONIND', 'PEDROWNOTGRNT', 'SPEEDING']] = df_new[['INATTENTIONIND', 'PEDROWNOTGRNT', 'SPEEDING']].replace({'Y': 1})\n",
    "df_new[['HITPARKEDCAR']] = df_new[['HITPARKEDCAR']].replace({'Y': 1, 'N': 0})"
   ]
  },
  {
   "cell_type": "code",
   "execution_count": 74,
   "metadata": {},
   "outputs": [],
   "source": [
    "#Fill NaN values with 0\n",
    "df_new[['INATTENTIONIND', 'PEDROWNOTGRNT', 'SPEEDING']] = df_new[['INATTENTIONIND', 'PEDROWNOTGRNT', 'SPEEDING']].fillna(0)\n",
    "\n",
    "#Convert boolean values to type 'float64'\n",
    "df_new[['INATTENTIONIND', 'PEDROWNOTGRNT', 'SPEEDING']] = df_new[['INATTENTIONIND', 'PEDROWNOTGRNT', 'SPEEDING']].astype('float64')"
   ]
  },
  {
   "cell_type": "markdown",
   "metadata": {},
   "source": [
    "For the attribute 'UNDERINFL' there is a mix between numeric and string boolean values, as well as some missing values. We will convert the 'Y' values into 1 and the 'N' values into 0 before having a closer look at the NaN values."
   ]
  },
  {
   "cell_type": "code",
   "execution_count": 75,
   "metadata": {},
   "outputs": [],
   "source": [
    "#Convert True/False values to 1/0\n",
    "df_new[['UNDERINFL']] = df_new[['UNDERINFL']].replace({'Y': 1, 'N':0})"
   ]
  },
  {
   "cell_type": "markdown",
   "metadata": {},
   "source": [
    "Due to the fact that, if we look at the other boolean values that indicate a contributing factor to the accident, the number of TRUE(1) values is roughly between 2-15% and we already have 5% TRUE values for the 'UNDERINFL' attribute, we will count the NaN values as FALSE(0)."
   ]
  },
  {
   "cell_type": "code",
   "execution_count": 76,
   "metadata": {},
   "outputs": [],
   "source": [
    "df_new[['UNDERINFL']] = df_new[['UNDERINFL']].fillna(0)"
   ]
  },
  {
   "cell_type": "code",
   "execution_count": 77,
   "metadata": {},
   "outputs": [],
   "source": [
    "#Convert boolean value to type 'float64'\n",
    "df_new[['UNDERINFL']] = df_new[['UNDERINFL']].astype('float64')"
   ]
  },
  {
   "cell_type": "markdown",
   "metadata": {},
   "source": [
    "Finally, let's change the attribute 'INCDTTM' to a datetime type and check for any possible missing values:"
   ]
  },
  {
   "cell_type": "code",
   "execution_count": 78,
   "metadata": {},
   "outputs": [
    {
     "data": {
      "text/plain": [
       "0"
      ]
     },
     "execution_count": 78,
     "metadata": {},
     "output_type": "execute_result"
    }
   ],
   "source": [
    "#Convert date and time values to type 'datetime64'\n",
    "df_new[['INCDTTM']]=df_new[['INCDTTM']].astype('datetime64')\n",
    "\n",
    "#Check for NaN values\n",
    "df_new['INCDTTM'].isna().sum()"
   ]
  },
  {
   "cell_type": "markdown",
   "metadata": {},
   "source": [
    "**Split date and time attribute**\n",
    "\n",
    "Time attributes might be very relevant when trying to predict accident severity. For example, there might be larger severity accidents during rush hour when people are commuting than during general working hours. That is why it makes sense to split the Datetime attribute into smaller increments."
   ]
  },
  {
   "cell_type": "code",
   "execution_count": 79,
   "metadata": {},
   "outputs": [],
   "source": [
    "# Extract year, month, day, hour and weekday\n",
    "df_new['YEAR']=df_new['INCDTTM'].dt.year\n",
    "df_new['MONTH']=df_new['INCDTTM'].dt.strftime('%b')\n",
    "df_new['DAY']=df_new['INCDTTM'].dt.day\n",
    "df_new['HOUR']=df_new['INCDTTM'].dt.hour\n",
    "df_new['WEEKDAY']=df_new['INCDTTM'].dt.strftime('%a')\n"
   ]
  },
  {
   "cell_type": "code",
   "execution_count": 80,
   "metadata": {},
   "outputs": [
    {
     "data": {
      "text/plain": [
       "X                         float64\n",
       "Y                         float64\n",
       "ADDRTYPE                   object\n",
       "INTKEY                    float64\n",
       "LOCATION                   object\n",
       "SEVERITYCODE               object\n",
       "SEVERITYDESC               object\n",
       "COLLISIONTYPE              object\n",
       "PERSONCOUNT                 int64\n",
       "PEDCOUNT                    int64\n",
       "PEDCYLCOUNT                 int64\n",
       "VEHCOUNT                    int64\n",
       "INJURIES                    int64\n",
       "SERIOUSINJURIES             int64\n",
       "FATALITIES                  int64\n",
       "INCDTTM            datetime64[ns]\n",
       "JUNCTIONTYPE               object\n",
       "SDOT_COLCODE               object\n",
       "INATTENTIONIND            float64\n",
       "UNDERINFL                 float64\n",
       "WEATHER                    object\n",
       "ROADCOND                   object\n",
       "LIGHTCOND                  object\n",
       "PEDROWNOTGRNT             float64\n",
       "SPEEDING                  float64\n",
       "ST_COLCODE                 object\n",
       "SEGLANEKEY                  int64\n",
       "CROSSWALKKEY                int64\n",
       "HITPARKEDCAR                int64\n",
       "YEAR                        int64\n",
       "MONTH                      object\n",
       "DAY                         int64\n",
       "HOUR                        int64\n",
       "WEEKDAY                    object\n",
       "dtype: object"
      ]
     },
     "execution_count": 80,
     "metadata": {},
     "output_type": "execute_result"
    }
   ],
   "source": [
    "#Check if the new attributes are in the correct format\n",
    "df_new.dtypes"
   ]
  },
  {
   "cell_type": "markdown",
   "metadata": {},
   "source": [
    "Now that we split the relevant time data into different attributes we can drop the original time attribute."
   ]
  },
  {
   "cell_type": "code",
   "execution_count": 81,
   "metadata": {},
   "outputs": [],
   "source": [
    "df_new=df_new.drop(columns=['INCDTTM'])"
   ]
  },
  {
   "cell_type": "markdown",
   "metadata": {},
   "source": [
    "**Clean remaining categorical data**\n",
    "\n",
    "Before we continue with identifying and handling missing values, let's have a look at the categorical data we have not looked at yet to see if it needs some additional grouping and cleaning.\n",
    "\n",
    "We have ten categorical data attributes (excluding boolean) and one categorical label we need to inspect:\n",
    "\n",
    "<ul>\n",
    "   <li>1. \"ADDRTYPE\"</li>\n",
    "   <li>2. \"JUNCTIONTYPE\"</li>\n",
    "   <li>3. \"ST_COLCODE\"</li>    \n",
    "   <li>4. \"COLLISIONTYPE\"</li>\n",
    "   <li>5. \"WEATHER\"</li>\n",
    "   <li>6. \"ROADCOND\"</li>\n",
    "   <li>7. \"LIGHTCOND\"</li>\n",
    "   <li>8. \"SEGLANEKEY\"</li>\n",
    "   <li>9. \"CROSSWALKKEY\"</li>\n",
    "   <li>10. \"SEVERITYDESC\"</li>\n",
    "   <li>11. Label:\"SEVERITYCODE\"</li>\n",
    "</ul>\n",
    "\n",
    "Let's go through each of them to see if they need to be cleaned."
   ]
  },
  {
   "cell_type": "markdown",
   "metadata": {},
   "source": [
    "**1 ADDRTYPE**"
   ]
  },
  {
   "cell_type": "code",
   "execution_count": 82,
   "metadata": {},
   "outputs": [
    {
     "data": {
      "text/plain": [
       "Block           144999\n",
       "Intersection     71936\n",
       "NaN               3712\n",
       "Alley              878\n",
       "Name: ADDRTYPE, dtype: int64"
      ]
     },
     "execution_count": 82,
     "metadata": {},
     "output_type": "execute_result"
    }
   ],
   "source": [
    "#Check for missing or duplicate values\n",
    "df_new['ADDRTYPE'].value_counts(dropna=False)"
   ]
  },
  {
   "cell_type": "markdown",
   "metadata": {},
   "source": [
    "We can actually tell if a ADDRTYPE is a Block, Intersection or Alley by looking at the LOCATION attribute, as they are very related:\n",
    "\n",
    "* For Blocks the phrasing of the LOCATION is: \"X BETWEEN Y AND Z\"\n",
    "* For Intersections the phrasing of LOCATION is: \"X AND Y\"\n",
    "* For Alleys the LOCATION always has a NaN value, while LOCATION never has a NaN value for ADDRTYPE Block or Intersection.\n",
    "\n",
    "\n",
    "If we look at the rows with ADDRTYPE NaN, all of them also have LOCATION NaN. Because LOCATION NaN always mean Alley we will assign them as Alleys."
   ]
  },
  {
   "cell_type": "code",
   "execution_count": 83,
   "metadata": {},
   "outputs": [],
   "source": [
    "#Assign missing values the value 'Alley'\n",
    "df_new[['ADDRTYPE']] = df_new[['ADDRTYPE']].fillna('Alley')"
   ]
  },
  {
   "cell_type": "markdown",
   "metadata": {},
   "source": [
    "**2 JUNCTIONTYPE**"
   ]
  },
  {
   "cell_type": "code",
   "execution_count": 84,
   "metadata": {},
   "outputs": [
    {
     "data": {
      "text/plain": [
       "Mid-Block (not related to intersection)              101709\n",
       "At Intersection (intersection related)                69228\n",
       "Mid-Block (but intersection related)                  24410\n",
       "NaN                                                   11974\n",
       "Driveway Junction                                     11496\n",
       "At Intersection (but not related to intersection)      2497\n",
       "Ramp Junction                                           190\n",
       "Unknown                                                  21\n",
       "Name: JUNCTIONTYPE, dtype: int64"
      ]
     },
     "execution_count": 84,
     "metadata": {},
     "output_type": "execute_result"
    }
   ],
   "source": [
    "#Check for missing or duplicate values\n",
    "df_new['JUNCTIONTYPE'].value_counts(dropna=False)"
   ]
  },
  {
   "cell_type": "markdown",
   "metadata": {},
   "source": [
    "JUNCTIONTYPE has two different types of missing values: Unknown and NaN. We will replace Unknown with NaN."
   ]
  },
  {
   "cell_type": "code",
   "execution_count": 85,
   "metadata": {},
   "outputs": [],
   "source": [
    "# replace \"unknown\" to NaN\n",
    "df_new['JUNCTIONTYPE'].replace(\"Unknown\", np.nan, inplace = True)"
   ]
  },
  {
   "cell_type": "markdown",
   "metadata": {},
   "source": [
    "46% of all accidents happen Mid-Block (not related to intersection). That is why we replace missing values with 'Mid-Block (not related to intersection)' as the most frequent."
   ]
  },
  {
   "cell_type": "code",
   "execution_count": 86,
   "metadata": {},
   "outputs": [],
   "source": [
    "#Replace missing values with most frequent value\n",
    "df_new['JUNCTIONTYPE'] = df_new['JUNCTIONTYPE'].fillna('Mid-Block (not related to intersection)')"
   ]
  },
  {
   "cell_type": "markdown",
   "metadata": {},
   "source": [
    "**3 ST_COLCODE**"
   ]
  },
  {
   "cell_type": "code",
   "execution_count": 87,
   "metadata": {},
   "outputs": [
    {
     "data": {
      "text/plain": [
       "9413"
      ]
     },
     "execution_count": 87,
     "metadata": {},
     "output_type": "execute_result"
    }
   ],
   "source": [
    "#Check for missing or duplicate values\n",
    "df_new['ST_COLCODE'].isna().sum()"
   ]
  },
  {
   "cell_type": "markdown",
   "metadata": {},
   "source": [
    "The missing vales for ST_COLCODE cannot realistically be replaced with other data. We will therefore drop the rows missing data."
   ]
  },
  {
   "cell_type": "code",
   "execution_count": 89,
   "metadata": {},
   "outputs": [],
   "source": [
    "#get list of index with NaN values for ST_COLCODE attribute\n",
    "index_list=df_new.loc[pd.isna(df_new[\"ST_COLCODE\"]), :].index\n",
    "\n",
    "#drop the rows with NaN values for ST_COLCODE attributes \n",
    "for i in index_list:\n",
    "    df_new.drop(index_list, inplace=True)"
   ]
  },
  {
   "cell_type": "markdown",
   "metadata": {},
   "source": [
    "**4 COLLISIONTYPE**"
   ]
  },
  {
   "cell_type": "code",
   "execution_count": 90,
   "metadata": {},
   "outputs": [
    {
     "data": {
      "text/plain": [
       "Parked Car    48551\n",
       "Angles        35573\n",
       "Rear Ended    34691\n",
       "Other         24588\n",
       "Sideswipe     18891\n",
       "NaN           16900\n",
       "Left Turn     14115\n",
       "Pedestrian     7666\n",
       "Cycles         5932\n",
       "Right Turn     3017\n",
       "Head On        2188\n",
       "Name: COLLISIONTYPE, dtype: int64"
      ]
     },
     "execution_count": 90,
     "metadata": {},
     "output_type": "execute_result"
    }
   ],
   "source": [
    "#Check for missing or duplicate values\n",
    "df_new['COLLISIONTYPE'].value_counts(dropna=False)"
   ]
  },
  {
   "cell_type": "markdown",
   "metadata": {},
   "source": [
    "We can derive the missing COLLISIONTYPE values by taking them from the descriptions of ST_COLCODE for each row."
   ]
  },
  {
   "cell_type": "code",
   "execution_count": 91,
   "metadata": {},
   "outputs": [],
   "source": [
    "#Replace NaN values for COLLISIONTYPE by taking them from the descriptions of ST_COLCODE for each row and matching those values to categories fro COLLISIONTYPE.\n",
    "\n",
    "index_coll=df_new.loc[pd.isna(df_new['COLLISIONTYPE']), :].index\n",
    "\n",
    "pedestrian=['0','1','2','3','4','5']\n",
    "angles=['10']\n",
    "sideswipe=['11','12','26','27','71','72','81','82']\n",
    "rear_ended=['13','14','83','84','73','74']\n",
    "left_turn=['15','28','29']\n",
    "right_turn=['16']\n",
    "parked_car=['19','20','32']\n",
    "other=['21','22','23','31','40','41','42','43','47','48','49','50','51','52','53','54','55','56','57','58','59','60','61','62','63','64','65','66','67']\n",
    "head_on=['24','25','30']\n",
    "cycles=['44','45','46']\n",
    "\n",
    "for i in index_coll:\n",
    "    if df_new.loc[i, 'ST_COLCODE'] in pedestrian:\n",
    "        df_new.loc[i,'COLLISIONTYPE'] = 'Pedestrian'\n",
    "    elif df_new.loc[i, 'ST_COLCODE'] in angles:\n",
    "        df_new.loc[i,'COLLISIONTYPE'] = 'Angles'\n",
    "    elif df_new.loc[i, 'ST_COLCODE'] in sideswipe:\n",
    "        df_new.loc[i,'COLLISIONTYPE'] = 'Sideswipe'\n",
    "    elif df_new.loc[i, 'ST_COLCODE'] in rear_ended:\n",
    "        df_new.loc[i,'COLLISIONTYPE'] = 'Rear Ended'\n",
    "    elif df_new.loc[i, 'ST_COLCODE'] in left_turn:\n",
    "        df_new.loc[i,'COLLISIONTYPE'] = 'Left Turn'\n",
    "    elif df_new.loc[i, 'ST_COLCODE'] in right_turn:\n",
    "        df_new.loc[i,'COLLISIONTYPE'] = 'Right Turn'\n",
    "    elif df_new.loc[i, 'ST_COLCODE'] in parked_car:\n",
    "        df_new.loc[i,'COLLISIONTYPE'] = 'Parked Car'\n",
    "    elif df_new.loc[i, 'ST_COLCODE'] in other:\n",
    "        df_new.loc[i,'COLLISIONTYPE'] = 'Other'    \n",
    "    elif df_new.loc[i, 'ST_COLCODE'] in head_on:\n",
    "        df_new.loc[i,'COLLISIONTYPE'] = 'Head On'\n",
    "    else: \n",
    "        df_new.loc[i,'COLLISIONTYPE'] = 'Cycles'"
   ]
  },
  {
   "cell_type": "markdown",
   "metadata": {},
   "source": [
    "**5 WEATHER**"
   ]
  },
  {
   "cell_type": "code",
   "execution_count": 92,
   "metadata": {
    "scrolled": true
   },
   "outputs": [
    {
     "data": {
      "text/plain": [
       "Clear                       114733\n",
       "Raining                      34029\n",
       "Overcast                     28545\n",
       "NaN                          17109\n",
       "Unknown                      15131\n",
       "Snowing                        919\n",
       "Other                          860\n",
       "Fog/Smog/Smoke                 577\n",
       "Sleet/Hail/Freezing Rain       116\n",
       "Blowing Sand/Dirt               56\n",
       "Severe Crosswind                26\n",
       "Partly Cloudy                   10\n",
       "Blowing Snow                     1\n",
       "Name: WEATHER, dtype: int64"
      ]
     },
     "execution_count": 92,
     "metadata": {},
     "output_type": "execute_result"
    }
   ],
   "source": [
    "#Check for missing or duplicate values\n",
    "df_new['WEATHER'].value_counts(dropna=False)"
   ]
  },
  {
   "cell_type": "markdown",
   "metadata": {},
   "source": [
    "WEATHER has two different types of missing values: Unknown and NaN. We will replace Unknown with NaN."
   ]
  },
  {
   "cell_type": "code",
   "execution_count": 93,
   "metadata": {},
   "outputs": [],
   "source": [
    "# replace \"unknown\" to NaN\n",
    "df_new['WEATHER'].replace(\"Unknown\", np.nan, inplace = True)"
   ]
  },
  {
   "cell_type": "markdown",
   "metadata": {},
   "source": [
    "Almost 60% of all accidents happen in clear weather. That is why we replace missing values with 'Clear' as the most frequent."
   ]
  },
  {
   "cell_type": "code",
   "execution_count": 94,
   "metadata": {},
   "outputs": [],
   "source": [
    "#Replace missing values with most frequent value\n",
    "df_new['WEATHER'] = df_new['WEATHER'].fillna('Clear')"
   ]
  },
  {
   "cell_type": "markdown",
   "metadata": {},
   "source": [
    "**6 ROADCOND**"
   ]
  },
  {
   "cell_type": "code",
   "execution_count": 95,
   "metadata": {
    "scrolled": true
   },
   "outputs": [
    {
     "data": {
      "text/plain": [
       "Dry               128583\n",
       "Wet                48723\n",
       "NaN                17028\n",
       "Unknown            15137\n",
       "Ice                 1231\n",
       "Snow/Slush          1014\n",
       "Other                136\n",
       "Standing Water       119\n",
       "Sand/Mud/Dirt         77\n",
       "Oil                   64\n",
       "Name: ROADCOND, dtype: int64"
      ]
     },
     "execution_count": 95,
     "metadata": {},
     "output_type": "execute_result"
    }
   ],
   "source": [
    "#Check for missing or duplicate values\n",
    "df_new['ROADCOND'].value_counts(dropna=False)"
   ]
  },
  {
   "cell_type": "markdown",
   "metadata": {},
   "source": [
    "ROADCOND also has two different types of missing values: Unknown and NaN. We will replace Unknown with NaN."
   ]
  },
  {
   "cell_type": "code",
   "execution_count": 96,
   "metadata": {},
   "outputs": [],
   "source": [
    "# replace \"unknown\" to NaN\n",
    "df_new['ROADCOND'].replace(\"Unknown\", np.nan, inplace = True)"
   ]
  },
  {
   "cell_type": "markdown",
   "metadata": {},
   "source": [
    "Almost 60% of all accidents happen on dry road. That is why we replace missing values with 'Dry' as the most frequent."
   ]
  },
  {
   "cell_type": "code",
   "execution_count": 97,
   "metadata": {},
   "outputs": [],
   "source": [
    "#Replace missing values with most frequent value\n",
    "df_new['ROADCOND'] = df_new['ROADCOND'].fillna('Dry')"
   ]
  },
  {
   "cell_type": "markdown",
   "metadata": {},
   "source": [
    "**7 LIGHTCOND**"
   ]
  },
  {
   "cell_type": "code",
   "execution_count": 98,
   "metadata": {
    "scrolled": true
   },
   "outputs": [
    {
     "data": {
      "text/plain": [
       "Daylight                    119479\n",
       "Dark - Street Lights On      50130\n",
       "NaN                          17198\n",
       "Unknown                      13532\n",
       "Dusk                          6081\n",
       "Dawn                          2608\n",
       "Dark - No Street Lights       1578\n",
       "Dark - Street Lights Off      1239\n",
       "Other                          244\n",
       "Dark - Unknown Lighting         23\n",
       "Name: LIGHTCOND, dtype: int64"
      ]
     },
     "execution_count": 98,
     "metadata": {},
     "output_type": "execute_result"
    }
   ],
   "source": [
    "#Check for missing or duplicate values\n",
    "df_new['LIGHTCOND'].value_counts(dropna=False)"
   ]
  },
  {
   "cell_type": "markdown",
   "metadata": {},
   "source": [
    "LIGHTCOND also has two different types of missing values: Unknown and NaN. We will replace Unknown with NaN."
   ]
  },
  {
   "cell_type": "code",
   "execution_count": 99,
   "metadata": {},
   "outputs": [],
   "source": [
    "# replace \"unknown\" to NaN\n",
    "df_new['LIGHTCOND'].replace(\"Unknown\", np.nan, inplace = True)"
   ]
  },
  {
   "cell_type": "markdown",
   "metadata": {},
   "source": [
    "We can derive the missing values for LIGHTCOND with a combination of MONTH and HOUR data.  We can at least tell wheather it was dark or light outside for Seattle.\n"
   ]
  },
  {
   "cell_type": "code",
   "execution_count": 100,
   "metadata": {},
   "outputs": [
    {
     "data": {
      "text/html": [
       "<div>\n",
       "<style scoped>\n",
       "    .dataframe tbody tr th:only-of-type {\n",
       "        vertical-align: middle;\n",
       "    }\n",
       "\n",
       "    .dataframe tbody tr th {\n",
       "        vertical-align: top;\n",
       "    }\n",
       "\n",
       "    .dataframe thead th {\n",
       "        text-align: right;\n",
       "    }\n",
       "</style>\n",
       "<table border=\"1\" class=\"dataframe\">\n",
       "  <thead>\n",
       "    <tr style=\"text-align: right;\">\n",
       "      <th></th>\n",
       "      <th>Month</th>\n",
       "      <th>Day(Hour)</th>\n",
       "      <th>Night(Hour)</th>\n",
       "    </tr>\n",
       "  </thead>\n",
       "  <tbody>\n",
       "    <tr>\n",
       "      <th>0</th>\n",
       "      <td>Jan</td>\n",
       "      <td>8</td>\n",
       "      <td>17</td>\n",
       "    </tr>\n",
       "    <tr>\n",
       "      <th>1</th>\n",
       "      <td>Feb</td>\n",
       "      <td>7</td>\n",
       "      <td>17</td>\n",
       "    </tr>\n",
       "    <tr>\n",
       "      <th>2</th>\n",
       "      <td>Mar</td>\n",
       "      <td>6</td>\n",
       "      <td>18</td>\n",
       "    </tr>\n",
       "    <tr>\n",
       "      <th>3</th>\n",
       "      <td>Apr</td>\n",
       "      <td>6</td>\n",
       "      <td>20</td>\n",
       "    </tr>\n",
       "    <tr>\n",
       "      <th>4</th>\n",
       "      <td>May</td>\n",
       "      <td>5</td>\n",
       "      <td>21</td>\n",
       "    </tr>\n",
       "    <tr>\n",
       "      <th>5</th>\n",
       "      <td>Jun</td>\n",
       "      <td>5</td>\n",
       "      <td>21</td>\n",
       "    </tr>\n",
       "    <tr>\n",
       "      <th>6</th>\n",
       "      <td>Jul</td>\n",
       "      <td>4</td>\n",
       "      <td>22</td>\n",
       "    </tr>\n",
       "    <tr>\n",
       "      <th>7</th>\n",
       "      <td>Aug</td>\n",
       "      <td>5</td>\n",
       "      <td>21</td>\n",
       "    </tr>\n",
       "    <tr>\n",
       "      <th>8</th>\n",
       "      <td>Sep</td>\n",
       "      <td>6</td>\n",
       "      <td>20</td>\n",
       "    </tr>\n",
       "    <tr>\n",
       "      <th>9</th>\n",
       "      <td>Oct</td>\n",
       "      <td>6</td>\n",
       "      <td>19</td>\n",
       "    </tr>\n",
       "    <tr>\n",
       "      <th>10</th>\n",
       "      <td>Nov</td>\n",
       "      <td>6</td>\n",
       "      <td>17</td>\n",
       "    </tr>\n",
       "    <tr>\n",
       "      <th>11</th>\n",
       "      <td>Dec</td>\n",
       "      <td>7</td>\n",
       "      <td>17</td>\n",
       "    </tr>\n",
       "  </tbody>\n",
       "</table>\n",
       "</div>"
      ],
      "text/plain": [
       "   Month  Day(Hour)  Night(Hour)\n",
       "0    Jan          8           17\n",
       "1    Feb          7           17\n",
       "2    Mar          6           18\n",
       "3    Apr          6           20\n",
       "4    May          5           21\n",
       "5    Jun          5           21\n",
       "6    Jul          4           22\n",
       "7    Aug          5           21\n",
       "8    Sep          6           20\n",
       "9    Oct          6           19\n",
       "10   Nov          6           17\n",
       "11   Dec          7           17"
      ]
     },
     "execution_count": 100,
     "metadata": {},
     "output_type": "execute_result"
    }
   ],
   "source": [
    "light_data = {'Month': ['Jan', 'Feb', 'Mar', 'Apr', 'May', 'Jun', 'Jul', 'Aug', 'Sep', 'Oct', 'Nov', 'Dec'], 'Day(Hour)': [8,7,6,6,5,5,4,5,6,6,6,7], 'Night(Hour)': [17,17,18,20,21,21,22,21,20,19,17,17]}\n",
    "seattle_light = pd.DataFrame(data=light_data)\n",
    "seattle_light"
   ]
  },
  {
   "cell_type": "code",
   "execution_count": 101,
   "metadata": {},
   "outputs": [],
   "source": [
    "#Replace NaN values for LIGHTCOND with either Daylight or Dark - Unknown Lighting\n",
    "\n",
    "index_light=df_new.loc[pd.isna(df_new['LIGHTCOND']), :].index\n",
    "\n",
    "for i in index_light:\n",
    "    if (df_new.loc[i,'MONTH'] == 'Jan') & (df_new.loc[i,'HOUR'] >=8) & (df_new.loc[i,'HOUR'] <=17) or (df_new.loc[i,'MONTH'] == 'Feb') & (df_new.loc[i,'HOUR'] >=7) & (df_new.loc[i,'HOUR'] <=17) or (df_new.loc[i,'MONTH'] == 'Mar') & (df_new.loc[i,'HOUR'] >=6) & (df_new.loc[i,'HOUR'] <=18) or (df_new.loc[i,'MONTH'] == 'Apr') & (df_new.loc[i,'HOUR'] >=6) & (df_new.loc[i,'HOUR'] <=20) or (df_new.loc[i,'MONTH'] == 'May') & (df_new.loc[i,'HOUR'] >=5) & (df_new.loc[i,'HOUR'] <=21) or (df_new.loc[i,'MONTH'] == 'Jun') & (df_new.loc[i,'HOUR'] >=5) & (df_new.loc[i,'HOUR'] <=21) or (df_new.loc[i,'MONTH'] == 'Jul') & (df_new.loc[i,'HOUR'] >=4) & (df_new.loc[i,'HOUR'] <=22) or (df_new.loc[i,'MONTH'] == 'Aug') & (df_new.loc[i,'HOUR'] >=5) & (df_new.loc[i,'HOUR'] <=21) or (df_new.loc[i,'MONTH'] == 'Sep') & (df_new.loc[i,'HOUR'] >=6) & (df_new.loc[i,'HOUR'] <=20) or (df_new.loc[i,'MONTH'] == 'Oct') & (df_new.loc[i,'HOUR'] >=6) & (df_new.loc[i,'HOUR'] <=19) or (df_new.loc[i,'MONTH'] == 'Nov') & (df_new.loc[i,'HOUR'] >=6) & (df_new.loc[i,'HOUR'] <=17) or (df_new.loc[i,'MONTH'] == 'Dec') & (df_new.loc[i,'HOUR'] >=7) & (df_new.loc[i,'HOUR'] <=17) :\n",
    "        df_new.loc[i,'LIGHTCOND'] = 'Daylight'\n",
    "    else:\n",
    "        df_new.loc[i,'LIGHTCOND'] = 'Dark - Unknown Lighting'"
   ]
  },
  {
   "cell_type": "markdown",
   "metadata": {},
   "source": [
    "**8 SEGLANEKEY**"
   ]
  },
  {
   "cell_type": "code",
   "execution_count": 102,
   "metadata": {},
   "outputs": [
    {
     "data": {
      "text/plain": [
       "0        209095\n",
       "6532         19\n",
       "6078         19\n",
       "12162        18\n",
       "10336        15\n",
       "          ...  \n",
       "6848          1\n",
       "41943         1\n",
       "15428         1\n",
       "7360          1\n",
       "16376         1\n",
       "Name: SEGLANEKEY, Length: 2091, dtype: int64"
      ]
     },
     "execution_count": 102,
     "metadata": {},
     "output_type": "execute_result"
    }
   ],
   "source": [
    "#Check for missing or duplicate values\n",
    "df_new['SEGLANEKEY'].value_counts(dropna=False)"
   ]
  },
  {
   "cell_type": "markdown",
   "metadata": {},
   "source": [
    "SEGLANEKEY is mainly consists of 0 as a key, which is most likely a missing value, that cannot be replaced because of the high number of missing values. We should therefore drop SEGLANEKEY entirely."
   ]
  },
  {
   "cell_type": "code",
   "execution_count": 103,
   "metadata": {},
   "outputs": [],
   "source": [
    "#drop column\n",
    "df_new=df_new.drop(columns=['SEGLANEKEY'])"
   ]
  },
  {
   "cell_type": "markdown",
   "metadata": {},
   "source": [
    "**9 CROSSWALKKEY**"
   ]
  },
  {
   "cell_type": "code",
   "execution_count": 104,
   "metadata": {},
   "outputs": [
    {
     "data": {
      "text/plain": [
       "0         207870\n",
       "523609        19\n",
       "520838        15\n",
       "524265        13\n",
       "525567        13\n",
       "           ...  \n",
       "525111         1\n",
       "523080         1\n",
       "521033         1\n",
       "523208         1\n",
       "521927         1\n",
       "Name: CROSSWALKKEY, Length: 2343, dtype: int64"
      ]
     },
     "execution_count": 104,
     "metadata": {},
     "output_type": "execute_result"
    }
   ],
   "source": [
    "#Check for missing or duplicate values\n",
    "df_new['CROSSWALKKEY'].value_counts(dropna=False)"
   ]
  },
  {
   "cell_type": "markdown",
   "metadata": {},
   "source": [
    "CROSSWALKKEY is mainly consists of 0 as a key, which is most likely a missing value, that cannot be replaced because of the high number of missing values. We should therefore drop CROSSWALKKEY entirely."
   ]
  },
  {
   "cell_type": "code",
   "execution_count": 105,
   "metadata": {},
   "outputs": [],
   "source": [
    "#drop column\n",
    "df_new=df_new.drop(columns=['CROSSWALKKEY'])"
   ]
  },
  {
   "cell_type": "markdown",
   "metadata": {},
   "source": [
    "**10 SEVERITYDESC**"
   ]
  },
  {
   "cell_type": "code",
   "execution_count": 106,
   "metadata": {},
   "outputs": [
    {
     "data": {
      "text/plain": [
       "Property Damage Only Collision    137666\n",
       "Injury Collision                   58770\n",
       "Unknown                            12221\n",
       "Serious Injury Collision            3105\n",
       "Fatality Collision                   350\n",
       "Name: SEVERITYDESC, dtype: int64"
      ]
     },
     "execution_count": 106,
     "metadata": {},
     "output_type": "execute_result"
    }
   ],
   "source": [
    "#Check for missing or duplicate values\n",
    "df_new['SEVERITYDESC'].value_counts(dropna=False)"
   ]
  },
  {
   "cell_type": "markdown",
   "metadata": {},
   "source": [
    "SEVERITYDESC has one type of missing value: Unknown. First we need to change Unknown to NaN."
   ]
  },
  {
   "cell_type": "code",
   "execution_count": 107,
   "metadata": {},
   "outputs": [],
   "source": [
    "# replace \"unknown\" to NaN\n",
    "df_new['SEVERITYDESC'].replace(\"Unknown\", np.nan, inplace = True)"
   ]
  },
  {
   "cell_type": "markdown",
   "metadata": {},
   "source": [
    "We can now assign the correct SEVERITYDESC to the rows missing data by combining the SEVERITYDESC with INJURIES, SERIOUSINJURIES and FATALITIES. But first, let's have a look at INJURIES, SERIOUSINJURIES and FATALITIES to see if they need cleaning ahead of us replacing the missing values of SEVERITYCODE."
   ]
  },
  {
   "cell_type": "code",
   "execution_count": 108,
   "metadata": {},
   "outputs": [
    {
     "data": {
      "text/html": [
       "<div>\n",
       "<style scoped>\n",
       "    .dataframe tbody tr th:only-of-type {\n",
       "        vertical-align: middle;\n",
       "    }\n",
       "\n",
       "    .dataframe tbody tr th {\n",
       "        vertical-align: top;\n",
       "    }\n",
       "\n",
       "    .dataframe thead th {\n",
       "        text-align: right;\n",
       "    }\n",
       "</style>\n",
       "<table border=\"1\" class=\"dataframe\">\n",
       "  <thead>\n",
       "    <tr style=\"text-align: right;\">\n",
       "      <th></th>\n",
       "      <th>X</th>\n",
       "      <th>Y</th>\n",
       "      <th>ADDRTYPE</th>\n",
       "      <th>INTKEY</th>\n",
       "      <th>LOCATION</th>\n",
       "      <th>SEVERITYCODE</th>\n",
       "      <th>SEVERITYDESC</th>\n",
       "      <th>COLLISIONTYPE</th>\n",
       "      <th>PERSONCOUNT</th>\n",
       "      <th>PEDCOUNT</th>\n",
       "      <th>...</th>\n",
       "      <th>LIGHTCOND</th>\n",
       "      <th>PEDROWNOTGRNT</th>\n",
       "      <th>SPEEDING</th>\n",
       "      <th>ST_COLCODE</th>\n",
       "      <th>HITPARKEDCAR</th>\n",
       "      <th>YEAR</th>\n",
       "      <th>MONTH</th>\n",
       "      <th>DAY</th>\n",
       "      <th>HOUR</th>\n",
       "      <th>WEEKDAY</th>\n",
       "    </tr>\n",
       "  </thead>\n",
       "  <tbody>\n",
       "    <tr>\n",
       "      <th>1970</th>\n",
       "      <td>1.253323e+06</td>\n",
       "      <td>251958.909174</td>\n",
       "      <td>Block</td>\n",
       "      <td>NaN</td>\n",
       "      <td>SEAVIEW AVE NW BETWEEN NW 67TH ST AND NW 75TH ST</td>\n",
       "      <td>3</td>\n",
       "      <td>Fatality Collision</td>\n",
       "      <td>Left Turn</td>\n",
       "      <td>2</td>\n",
       "      <td>0</td>\n",
       "      <td>...</td>\n",
       "      <td>Daylight</td>\n",
       "      <td>0.0</td>\n",
       "      <td>0.0</td>\n",
       "      <td>28</td>\n",
       "      <td>0</td>\n",
       "      <td>2018</td>\n",
       "      <td>Aug</td>\n",
       "      <td>14</td>\n",
       "      <td>9</td>\n",
       "      <td>Tue</td>\n",
       "    </tr>\n",
       "    <tr>\n",
       "      <th>9208</th>\n",
       "      <td>1.285370e+06</td>\n",
       "      <td>200056.861441</td>\n",
       "      <td>Block</td>\n",
       "      <td>NaN</td>\n",
       "      <td>RAINIER AVE S BETWEEN S FRONTENAC ST AND S MYR...</td>\n",
       "      <td>3</td>\n",
       "      <td>Fatality Collision</td>\n",
       "      <td>Sideswipe</td>\n",
       "      <td>7</td>\n",
       "      <td>0</td>\n",
       "      <td>...</td>\n",
       "      <td>Dark - Street Lights On</td>\n",
       "      <td>0.0</td>\n",
       "      <td>1.0</td>\n",
       "      <td>11</td>\n",
       "      <td>0</td>\n",
       "      <td>2004</td>\n",
       "      <td>Aug</td>\n",
       "      <td>15</td>\n",
       "      <td>21</td>\n",
       "      <td>Sun</td>\n",
       "    </tr>\n",
       "    <tr>\n",
       "      <th>20567</th>\n",
       "      <td>1.268574e+06</td>\n",
       "      <td>214736.772112</td>\n",
       "      <td>Block</td>\n",
       "      <td>NaN</td>\n",
       "      <td>EAST MARGINAL WAY S BETWEEN S STACY ST AND S H...</td>\n",
       "      <td>3</td>\n",
       "      <td>Fatality Collision</td>\n",
       "      <td>Other</td>\n",
       "      <td>4</td>\n",
       "      <td>0</td>\n",
       "      <td>...</td>\n",
       "      <td>Dark - Street Lights On</td>\n",
       "      <td>0.0</td>\n",
       "      <td>0.0</td>\n",
       "      <td>50</td>\n",
       "      <td>0</td>\n",
       "      <td>2005</td>\n",
       "      <td>Mar</td>\n",
       "      <td>4</td>\n",
       "      <td>0</td>\n",
       "      <td>Fri</td>\n",
       "    </tr>\n",
       "    <tr>\n",
       "      <th>20716</th>\n",
       "      <td>1.274853e+06</td>\n",
       "      <td>251502.760886</td>\n",
       "      <td>Block</td>\n",
       "      <td>NaN</td>\n",
       "      <td>ROOSEVELT WAY NE BETWEEN NE 70TH ST AND NE 71S...</td>\n",
       "      <td>3</td>\n",
       "      <td>Fatality Collision</td>\n",
       "      <td>Other</td>\n",
       "      <td>6</td>\n",
       "      <td>0</td>\n",
       "      <td>...</td>\n",
       "      <td>Dark - Street Lights On</td>\n",
       "      <td>0.0</td>\n",
       "      <td>1.0</td>\n",
       "      <td>50</td>\n",
       "      <td>0</td>\n",
       "      <td>2005</td>\n",
       "      <td>Nov</td>\n",
       "      <td>10</td>\n",
       "      <td>23</td>\n",
       "      <td>Thu</td>\n",
       "    </tr>\n",
       "    <tr>\n",
       "      <th>23149</th>\n",
       "      <td>1.268255e+06</td>\n",
       "      <td>255550.050490</td>\n",
       "      <td>Intersection</td>\n",
       "      <td>37367.0</td>\n",
       "      <td>AURORA AVE N AND N 85TH ST</td>\n",
       "      <td>3</td>\n",
       "      <td>Fatality Collision</td>\n",
       "      <td>Angles</td>\n",
       "      <td>3</td>\n",
       "      <td>0</td>\n",
       "      <td>...</td>\n",
       "      <td>Daylight</td>\n",
       "      <td>0.0</td>\n",
       "      <td>0.0</td>\n",
       "      <td>10</td>\n",
       "      <td>0</td>\n",
       "      <td>2005</td>\n",
       "      <td>May</td>\n",
       "      <td>26</td>\n",
       "      <td>10</td>\n",
       "      <td>Thu</td>\n",
       "    </tr>\n",
       "  </tbody>\n",
       "</table>\n",
       "<p>5 rows × 31 columns</p>\n",
       "</div>"
      ],
      "text/plain": [
       "                  X              Y      ADDRTYPE   INTKEY  \\\n",
       "1970   1.253323e+06  251958.909174         Block      NaN   \n",
       "9208   1.285370e+06  200056.861441         Block      NaN   \n",
       "20567  1.268574e+06  214736.772112         Block      NaN   \n",
       "20716  1.274853e+06  251502.760886         Block      NaN   \n",
       "23149  1.268255e+06  255550.050490  Intersection  37367.0   \n",
       "\n",
       "                                                LOCATION SEVERITYCODE  \\\n",
       "1970    SEAVIEW AVE NW BETWEEN NW 67TH ST AND NW 75TH ST            3   \n",
       "9208   RAINIER AVE S BETWEEN S FRONTENAC ST AND S MYR...            3   \n",
       "20567  EAST MARGINAL WAY S BETWEEN S STACY ST AND S H...            3   \n",
       "20716  ROOSEVELT WAY NE BETWEEN NE 70TH ST AND NE 71S...            3   \n",
       "23149                         AURORA AVE N AND N 85TH ST            3   \n",
       "\n",
       "             SEVERITYDESC COLLISIONTYPE  PERSONCOUNT  PEDCOUNT  ...  \\\n",
       "1970   Fatality Collision     Left Turn            2         0  ...   \n",
       "9208   Fatality Collision     Sideswipe            7         0  ...   \n",
       "20567  Fatality Collision         Other            4         0  ...   \n",
       "20716  Fatality Collision         Other            6         0  ...   \n",
       "23149  Fatality Collision        Angles            3         0  ...   \n",
       "\n",
       "                     LIGHTCOND  PEDROWNOTGRNT  SPEEDING  ST_COLCODE  \\\n",
       "1970                  Daylight            0.0       0.0          28   \n",
       "9208   Dark - Street Lights On            0.0       1.0          11   \n",
       "20567  Dark - Street Lights On            0.0       0.0          50   \n",
       "20716  Dark - Street Lights On            0.0       1.0          50   \n",
       "23149                 Daylight            0.0       0.0          10   \n",
       "\n",
       "       HITPARKEDCAR  YEAR MONTH  DAY  HOUR WEEKDAY  \n",
       "1970              0  2018   Aug   14     9     Tue  \n",
       "9208              0  2004   Aug   15    21     Sun  \n",
       "20567             0  2005   Mar    4     0     Fri  \n",
       "20716             0  2005   Nov   10    23     Thu  \n",
       "23149             0  2005   May   26    10     Thu  \n",
       "\n",
       "[5 rows x 31 columns]"
      ]
     },
     "execution_count": 108,
     "metadata": {},
     "output_type": "execute_result"
    }
   ],
   "source": [
    "#Are there cases where they are not mutually exclusive?\n",
    "\n",
    "mut_ex=df_new[(df_new['INJURIES'] > 0) & (df_new['SERIOUSINJURIES'] > 0) & (df_new['FATALITIES'] > 0)]\n",
    "mut_ex.head()"
   ]
  },
  {
   "cell_type": "markdown",
   "metadata": {},
   "source": [
    "We can see that INJURIES, SERIOUSINJURIES and FATALITIES are not mutually exclusive. This might pose a problem when we want to use those attributes to create the missing values for SEVERITYDESC.\n",
    "\n",
    "We can solve this by combining multiple conditions for the values of INJURIES, SERIOUSINJURIES and FATALITIES, that allows us to only consider the maximum mentioned damage for SEVERITYDESC, ranking property damage, injury, serious injury and fatality."
   ]
  },
  {
   "cell_type": "code",
   "execution_count": 109,
   "metadata": {},
   "outputs": [],
   "source": [
    "#Replace NaN values for SEVERITYDESC\n",
    "\n",
    "index_sevdesc=df_new.loc[pd.isna(df_new['SEVERITYDESC']), :].index\n",
    "\n",
    "for i in index_sevdesc:\n",
    "    if (df_new.loc[i, 'INJURIES']>0) and not (((df_new.loc[i, 'SERIOUSINJURIES']>0) and (df_new.loc[i, 'FATALITIES']>0)) or (df_new.loc[i, 'SERIOUSINJURIES']>0) or (df_new.loc[i, 'FATALITIES']>0)):\n",
    "        df_new.loc[i,'SEVERITYDESC'] = 'Injury Collision'\n",
    "    elif (df_new.loc[i, 'SERIOUSINJURIES']>0) and not (df_new.loc[i, 'FATALITIES']>0):\n",
    "        df_new.loc[i,'SEVERITYDESC'] = 'Serious Injury Collision'\n",
    "    elif df_new.loc[i, 'FATALITIES']>0:\n",
    "        df_new.loc[i,'SEVERITYDESC'] = 'Fatality Collision'\n",
    "    else: \n",
    "        df_new.loc[i,'SEVERITYDESC'] = 'Property Damage Only Collision'"
   ]
  },
  {
   "cell_type": "markdown",
   "metadata": {},
   "source": [
    "**11 Label: SEVERITYCODE**"
   ]
  },
  {
   "cell_type": "code",
   "execution_count": 110,
   "metadata": {
    "scrolled": true
   },
   "outputs": [
    {
     "data": {
      "text/plain": [
       "1     137666\n",
       "2      58770\n",
       "0      12221\n",
       "2b      3105\n",
       "3        350\n",
       "Name: SEVERITYCODE, dtype: int64"
      ]
     },
     "execution_count": 110,
     "metadata": {},
     "output_type": "execute_result"
    }
   ],
   "source": [
    "#Check for missing or duplicate values\n",
    "df_new['SEVERITYCODE'].value_counts(dropna=False)"
   ]
  },
  {
   "cell_type": "markdown",
   "metadata": {},
   "source": [
    "SEVERITYCODE also has two different types of missing values: 0(Unknown) and NaN. First, we will replace 0(Unknown) with NaN."
   ]
  },
  {
   "cell_type": "code",
   "execution_count": 111,
   "metadata": {},
   "outputs": [],
   "source": [
    "# replace \"0\" to NaN\n",
    "df_new['SEVERITYCODE'].replace(\"0\", np.nan, inplace = True)"
   ]
  },
  {
   "cell_type": "markdown",
   "metadata": {},
   "source": [
    "We can assign the correct SEVERITYCODE to the rows missing data by combining the SEVERITYCODE with SEVERITYDESC."
   ]
  },
  {
   "cell_type": "code",
   "execution_count": 112,
   "metadata": {},
   "outputs": [],
   "source": [
    "#Replace NaN values for SEVERITYCODE\n",
    "\n",
    "index_sev=df_new.loc[pd.isna(df_new['SEVERITYCODE']), :].index\n",
    "\n",
    "for i in index_sev:\n",
    "    if df_new.loc[i, 'SEVERITYDESC']=='Injury Collision':\n",
    "        df_new.loc[i,'SEVERITYCODE'] = '2'\n",
    "    elif df_new.loc[i, 'SEVERITYDESC']=='Serious Injury Collision':\n",
    "        df_new.loc[i,'SEVERITYCODE'] = '2b'\n",
    "    elif df_new.loc[i, 'SEVERITYDESC']=='Fatality Collision':\n",
    "        df_new.loc[i,'SEVERITYCODE'] = '3'\n",
    "    else: \n",
    "        df_new.loc[i,'SEVERITYCODE'] = '1'"
   ]
  },
  {
   "cell_type": "markdown",
   "metadata": {},
   "source": [
    "For better output during the data exploration phase, let's also change the values of SEVERITYCODE to a numerical sequence from 0-3 rather than 1, 2, 2b, 3."
   ]
  },
  {
   "cell_type": "code",
   "execution_count": 113,
   "metadata": {},
   "outputs": [],
   "source": [
    "#Convert 1, 2, 2b, 3 values to 0, 1, 2, 3\n",
    "df_new[['SEVERITYCODE']] = df_new[['SEVERITYCODE']].replace({'1': '0', '2': '1', '2b': '2', '3': '3'})"
   ]
  },
  {
   "cell_type": "markdown",
   "metadata": {},
   "source": [
    "Finally, let's change SEVERITYCODE from object to integer type."
   ]
  },
  {
   "cell_type": "code",
   "execution_count": 114,
   "metadata": {},
   "outputs": [],
   "source": [
    "#Convert SEVERITYCODE values to type 'int64'\n",
    "df_new[['SEVERITYCODE']]=df_new[['SEVERITYCODE']].astype('int64')"
   ]
  },
  {
   "cell_type": "markdown",
   "metadata": {},
   "source": [
    "**Identify and handle remaining missing values**\n"
   ]
  },
  {
   "cell_type": "code",
   "execution_count": 115,
   "metadata": {
    "scrolled": true
   },
   "outputs": [
    {
     "data": {
      "text/html": [
       "<div>\n",
       "<style scoped>\n",
       "    .dataframe tbody tr th:only-of-type {\n",
       "        vertical-align: middle;\n",
       "    }\n",
       "\n",
       "    .dataframe tbody tr th {\n",
       "        vertical-align: top;\n",
       "    }\n",
       "\n",
       "    .dataframe thead th {\n",
       "        text-align: right;\n",
       "    }\n",
       "</style>\n",
       "<table border=\"1\" class=\"dataframe\">\n",
       "  <thead>\n",
       "    <tr style=\"text-align: right;\">\n",
       "      <th></th>\n",
       "      <th>X</th>\n",
       "      <th>Y</th>\n",
       "      <th>ADDRTYPE</th>\n",
       "      <th>INTKEY</th>\n",
       "      <th>LOCATION</th>\n",
       "      <th>SEVERITYCODE</th>\n",
       "      <th>SEVERITYDESC</th>\n",
       "      <th>COLLISIONTYPE</th>\n",
       "      <th>PERSONCOUNT</th>\n",
       "      <th>PEDCOUNT</th>\n",
       "      <th>...</th>\n",
       "      <th>LIGHTCOND</th>\n",
       "      <th>PEDROWNOTGRNT</th>\n",
       "      <th>SPEEDING</th>\n",
       "      <th>ST_COLCODE</th>\n",
       "      <th>HITPARKEDCAR</th>\n",
       "      <th>YEAR</th>\n",
       "      <th>MONTH</th>\n",
       "      <th>DAY</th>\n",
       "      <th>HOUR</th>\n",
       "      <th>WEEKDAY</th>\n",
       "    </tr>\n",
       "  </thead>\n",
       "  <tbody>\n",
       "    <tr>\n",
       "      <th>0</th>\n",
       "      <td>False</td>\n",
       "      <td>False</td>\n",
       "      <td>False</td>\n",
       "      <td>True</td>\n",
       "      <td>False</td>\n",
       "      <td>False</td>\n",
       "      <td>False</td>\n",
       "      <td>False</td>\n",
       "      <td>False</td>\n",
       "      <td>False</td>\n",
       "      <td>...</td>\n",
       "      <td>False</td>\n",
       "      <td>False</td>\n",
       "      <td>False</td>\n",
       "      <td>False</td>\n",
       "      <td>False</td>\n",
       "      <td>False</td>\n",
       "      <td>False</td>\n",
       "      <td>False</td>\n",
       "      <td>False</td>\n",
       "      <td>False</td>\n",
       "    </tr>\n",
       "    <tr>\n",
       "      <th>1</th>\n",
       "      <td>False</td>\n",
       "      <td>False</td>\n",
       "      <td>False</td>\n",
       "      <td>True</td>\n",
       "      <td>False</td>\n",
       "      <td>False</td>\n",
       "      <td>False</td>\n",
       "      <td>False</td>\n",
       "      <td>False</td>\n",
       "      <td>False</td>\n",
       "      <td>...</td>\n",
       "      <td>False</td>\n",
       "      <td>False</td>\n",
       "      <td>False</td>\n",
       "      <td>False</td>\n",
       "      <td>False</td>\n",
       "      <td>False</td>\n",
       "      <td>False</td>\n",
       "      <td>False</td>\n",
       "      <td>False</td>\n",
       "      <td>False</td>\n",
       "    </tr>\n",
       "    <tr>\n",
       "      <th>2</th>\n",
       "      <td>False</td>\n",
       "      <td>False</td>\n",
       "      <td>False</td>\n",
       "      <td>False</td>\n",
       "      <td>False</td>\n",
       "      <td>False</td>\n",
       "      <td>False</td>\n",
       "      <td>False</td>\n",
       "      <td>False</td>\n",
       "      <td>False</td>\n",
       "      <td>...</td>\n",
       "      <td>False</td>\n",
       "      <td>False</td>\n",
       "      <td>False</td>\n",
       "      <td>False</td>\n",
       "      <td>False</td>\n",
       "      <td>False</td>\n",
       "      <td>False</td>\n",
       "      <td>False</td>\n",
       "      <td>False</td>\n",
       "      <td>False</td>\n",
       "    </tr>\n",
       "    <tr>\n",
       "      <th>3</th>\n",
       "      <td>False</td>\n",
       "      <td>False</td>\n",
       "      <td>False</td>\n",
       "      <td>False</td>\n",
       "      <td>False</td>\n",
       "      <td>False</td>\n",
       "      <td>False</td>\n",
       "      <td>False</td>\n",
       "      <td>False</td>\n",
       "      <td>False</td>\n",
       "      <td>...</td>\n",
       "      <td>False</td>\n",
       "      <td>False</td>\n",
       "      <td>False</td>\n",
       "      <td>False</td>\n",
       "      <td>False</td>\n",
       "      <td>False</td>\n",
       "      <td>False</td>\n",
       "      <td>False</td>\n",
       "      <td>False</td>\n",
       "      <td>False</td>\n",
       "    </tr>\n",
       "    <tr>\n",
       "      <th>4</th>\n",
       "      <td>False</td>\n",
       "      <td>False</td>\n",
       "      <td>False</td>\n",
       "      <td>True</td>\n",
       "      <td>False</td>\n",
       "      <td>False</td>\n",
       "      <td>False</td>\n",
       "      <td>False</td>\n",
       "      <td>False</td>\n",
       "      <td>False</td>\n",
       "      <td>...</td>\n",
       "      <td>False</td>\n",
       "      <td>False</td>\n",
       "      <td>False</td>\n",
       "      <td>False</td>\n",
       "      <td>False</td>\n",
       "      <td>False</td>\n",
       "      <td>False</td>\n",
       "      <td>False</td>\n",
       "      <td>False</td>\n",
       "      <td>False</td>\n",
       "    </tr>\n",
       "  </tbody>\n",
       "</table>\n",
       "<p>5 rows × 31 columns</p>\n",
       "</div>"
      ],
      "text/plain": [
       "       X      Y  ADDRTYPE  INTKEY  LOCATION  SEVERITYCODE  SEVERITYDESC  \\\n",
       "0  False  False     False    True     False         False         False   \n",
       "1  False  False     False    True     False         False         False   \n",
       "2  False  False     False   False     False         False         False   \n",
       "3  False  False     False   False     False         False         False   \n",
       "4  False  False     False    True     False         False         False   \n",
       "\n",
       "   COLLISIONTYPE  PERSONCOUNT  PEDCOUNT  ...  LIGHTCOND  PEDROWNOTGRNT  \\\n",
       "0          False        False     False  ...      False          False   \n",
       "1          False        False     False  ...      False          False   \n",
       "2          False        False     False  ...      False          False   \n",
       "3          False        False     False  ...      False          False   \n",
       "4          False        False     False  ...      False          False   \n",
       "\n",
       "   SPEEDING  ST_COLCODE  HITPARKEDCAR   YEAR  MONTH    DAY   HOUR  WEEKDAY  \n",
       "0     False       False         False  False  False  False  False    False  \n",
       "1     False       False         False  False  False  False  False    False  \n",
       "2     False       False         False  False  False  False  False    False  \n",
       "3     False       False         False  False  False  False  False    False  \n",
       "4     False       False         False  False  False  False  False    False  \n",
       "\n",
       "[5 rows x 31 columns]"
      ]
     },
     "execution_count": 115,
     "metadata": {},
     "output_type": "execute_result"
    }
   ],
   "source": [
    "#Identify missing values\n",
    "missing_data = df_new.isnull()\n",
    "missing_data.head(5)"
   ]
  },
  {
   "cell_type": "markdown",
   "metadata": {},
   "source": [
    "Using a for loop, we can figure out the number of missing values in each column. \"True\" represents a missing value, \"False\" means the value is present in the dataset."
   ]
  },
  {
   "cell_type": "code",
   "execution_count": 116,
   "metadata": {},
   "outputs": [
    {
     "name": "stdout",
     "output_type": "stream",
     "text": [
      "X\n",
      "False    205448\n",
      "True       6664\n",
      "Name: X, dtype: int64\n",
      "\n",
      "Y\n",
      "False    205448\n",
      "True       6664\n",
      "Name: Y, dtype: int64\n",
      "\n",
      "ADDRTYPE\n",
      "False    212112\n",
      "Name: ADDRTYPE, dtype: int64\n",
      "\n",
      "INTKEY\n",
      "True     142758\n",
      "False     69354\n",
      "Name: INTKEY, dtype: int64\n",
      "\n",
      "LOCATION\n",
      "False    208202\n",
      "True       3910\n",
      "Name: LOCATION, dtype: int64\n",
      "\n",
      "SEVERITYCODE\n",
      "False    212112\n",
      "Name: SEVERITYCODE, dtype: int64\n",
      "\n",
      "SEVERITYDESC\n",
      "False    212112\n",
      "Name: SEVERITYDESC, dtype: int64\n",
      "\n",
      "COLLISIONTYPE\n",
      "False    212112\n",
      "Name: COLLISIONTYPE, dtype: int64\n",
      "\n",
      "PERSONCOUNT\n",
      "False    212112\n",
      "Name: PERSONCOUNT, dtype: int64\n",
      "\n",
      "PEDCOUNT\n",
      "False    212112\n",
      "Name: PEDCOUNT, dtype: int64\n",
      "\n",
      "PEDCYLCOUNT\n",
      "False    212112\n",
      "Name: PEDCYLCOUNT, dtype: int64\n",
      "\n",
      "VEHCOUNT\n",
      "False    212112\n",
      "Name: VEHCOUNT, dtype: int64\n",
      "\n",
      "INJURIES\n",
      "False    212112\n",
      "Name: INJURIES, dtype: int64\n",
      "\n",
      "SERIOUSINJURIES\n",
      "False    212112\n",
      "Name: SERIOUSINJURIES, dtype: int64\n",
      "\n",
      "FATALITIES\n",
      "False    212112\n",
      "Name: FATALITIES, dtype: int64\n",
      "\n",
      "JUNCTIONTYPE\n",
      "False    212112\n",
      "Name: JUNCTIONTYPE, dtype: int64\n",
      "\n",
      "SDOT_COLCODE\n",
      "False    212112\n",
      "Name: SDOT_COLCODE, dtype: int64\n",
      "\n",
      "INATTENTIONIND\n",
      "False    212112\n",
      "Name: INATTENTIONIND, dtype: int64\n",
      "\n",
      "UNDERINFL\n",
      "False    212112\n",
      "Name: UNDERINFL, dtype: int64\n",
      "\n",
      "WEATHER\n",
      "False    212112\n",
      "Name: WEATHER, dtype: int64\n",
      "\n",
      "ROADCOND\n",
      "False    212112\n",
      "Name: ROADCOND, dtype: int64\n",
      "\n",
      "LIGHTCOND\n",
      "False    212112\n",
      "Name: LIGHTCOND, dtype: int64\n",
      "\n",
      "PEDROWNOTGRNT\n",
      "False    212112\n",
      "Name: PEDROWNOTGRNT, dtype: int64\n",
      "\n",
      "SPEEDING\n",
      "False    212112\n",
      "Name: SPEEDING, dtype: int64\n",
      "\n",
      "ST_COLCODE\n",
      "False    212112\n",
      "Name: ST_COLCODE, dtype: int64\n",
      "\n",
      "HITPARKEDCAR\n",
      "False    212112\n",
      "Name: HITPARKEDCAR, dtype: int64\n",
      "\n",
      "YEAR\n",
      "False    212112\n",
      "Name: YEAR, dtype: int64\n",
      "\n",
      "MONTH\n",
      "False    212112\n",
      "Name: MONTH, dtype: int64\n",
      "\n",
      "DAY\n",
      "False    212112\n",
      "Name: DAY, dtype: int64\n",
      "\n",
      "HOUR\n",
      "False    212112\n",
      "Name: HOUR, dtype: int64\n",
      "\n",
      "WEEKDAY\n",
      "False    212112\n",
      "Name: WEEKDAY, dtype: int64\n",
      "\n"
     ]
    }
   ],
   "source": [
    "#Count missing values in each column\n",
    "for column in missing_data.columns.values.tolist():\n",
    "    print(column)\n",
    "    print (missing_data[column].value_counts())\n",
    "    print(\"\")   "
   ]
  },
  {
   "cell_type": "markdown",
   "metadata": {},
   "source": [
    "Based on the summary above, each column has 212,112 rows of data, with 4 columns containing missing data:\n",
    "<ol>\n",
    "    <li>\"X\": 6664 missing data points</li>\n",
    "    <li>\"Y\": 6664 missing data points</li>\n",
    "    <li>\"INTKEY\": 142758 missing data points</li>\n",
    "    <li>\"LOCATION\": 3910 missing data points</li>  \n",
    "</ol>"
   ]
  },
  {
   "cell_type": "markdown",
   "metadata": {},
   "source": [
    "**Handle missing values**\n",
    "\n",
    "Whole columns should be dropped only if most entries in the column are empty.\n",
    "In our dataset, INTKEY has enough missing values to drop entirely (~67%).\n",
    "We can also drop whole columns for X, Y and Location. They have a lot of missing values we cannot realistically retrieve from other sources and aren't really necessary to predict severity."
   ]
  },
  {
   "cell_type": "code",
   "execution_count": 117,
   "metadata": {},
   "outputs": [],
   "source": [
    "#drop columns\n",
    "\n",
    "df_new=df_new.drop(columns=['X', 'Y', 'LOCATION', 'INTKEY'])"
   ]
  },
  {
   "cell_type": "markdown",
   "metadata": {},
   "source": [
    "Let's do one final check to see if we got rid of all missing data values."
   ]
  },
  {
   "cell_type": "code",
   "execution_count": 118,
   "metadata": {},
   "outputs": [
    {
     "data": {
      "text/html": [
       "<div>\n",
       "<style scoped>\n",
       "    .dataframe tbody tr th:only-of-type {\n",
       "        vertical-align: middle;\n",
       "    }\n",
       "\n",
       "    .dataframe tbody tr th {\n",
       "        vertical-align: top;\n",
       "    }\n",
       "\n",
       "    .dataframe thead th {\n",
       "        text-align: right;\n",
       "    }\n",
       "</style>\n",
       "<table border=\"1\" class=\"dataframe\">\n",
       "  <thead>\n",
       "    <tr style=\"text-align: right;\">\n",
       "      <th></th>\n",
       "      <th>ADDRTYPE</th>\n",
       "      <th>SEVERITYCODE</th>\n",
       "      <th>SEVERITYDESC</th>\n",
       "      <th>COLLISIONTYPE</th>\n",
       "      <th>PERSONCOUNT</th>\n",
       "      <th>PEDCOUNT</th>\n",
       "      <th>PEDCYLCOUNT</th>\n",
       "      <th>VEHCOUNT</th>\n",
       "      <th>INJURIES</th>\n",
       "      <th>SERIOUSINJURIES</th>\n",
       "      <th>...</th>\n",
       "      <th>LIGHTCOND</th>\n",
       "      <th>PEDROWNOTGRNT</th>\n",
       "      <th>SPEEDING</th>\n",
       "      <th>ST_COLCODE</th>\n",
       "      <th>HITPARKEDCAR</th>\n",
       "      <th>YEAR</th>\n",
       "      <th>MONTH</th>\n",
       "      <th>DAY</th>\n",
       "      <th>HOUR</th>\n",
       "      <th>WEEKDAY</th>\n",
       "    </tr>\n",
       "  </thead>\n",
       "  <tbody>\n",
       "    <tr>\n",
       "      <th>0</th>\n",
       "      <td>False</td>\n",
       "      <td>False</td>\n",
       "      <td>False</td>\n",
       "      <td>False</td>\n",
       "      <td>False</td>\n",
       "      <td>False</td>\n",
       "      <td>False</td>\n",
       "      <td>False</td>\n",
       "      <td>False</td>\n",
       "      <td>False</td>\n",
       "      <td>...</td>\n",
       "      <td>False</td>\n",
       "      <td>False</td>\n",
       "      <td>False</td>\n",
       "      <td>False</td>\n",
       "      <td>False</td>\n",
       "      <td>False</td>\n",
       "      <td>False</td>\n",
       "      <td>False</td>\n",
       "      <td>False</td>\n",
       "      <td>False</td>\n",
       "    </tr>\n",
       "    <tr>\n",
       "      <th>1</th>\n",
       "      <td>False</td>\n",
       "      <td>False</td>\n",
       "      <td>False</td>\n",
       "      <td>False</td>\n",
       "      <td>False</td>\n",
       "      <td>False</td>\n",
       "      <td>False</td>\n",
       "      <td>False</td>\n",
       "      <td>False</td>\n",
       "      <td>False</td>\n",
       "      <td>...</td>\n",
       "      <td>False</td>\n",
       "      <td>False</td>\n",
       "      <td>False</td>\n",
       "      <td>False</td>\n",
       "      <td>False</td>\n",
       "      <td>False</td>\n",
       "      <td>False</td>\n",
       "      <td>False</td>\n",
       "      <td>False</td>\n",
       "      <td>False</td>\n",
       "    </tr>\n",
       "    <tr>\n",
       "      <th>2</th>\n",
       "      <td>False</td>\n",
       "      <td>False</td>\n",
       "      <td>False</td>\n",
       "      <td>False</td>\n",
       "      <td>False</td>\n",
       "      <td>False</td>\n",
       "      <td>False</td>\n",
       "      <td>False</td>\n",
       "      <td>False</td>\n",
       "      <td>False</td>\n",
       "      <td>...</td>\n",
       "      <td>False</td>\n",
       "      <td>False</td>\n",
       "      <td>False</td>\n",
       "      <td>False</td>\n",
       "      <td>False</td>\n",
       "      <td>False</td>\n",
       "      <td>False</td>\n",
       "      <td>False</td>\n",
       "      <td>False</td>\n",
       "      <td>False</td>\n",
       "    </tr>\n",
       "    <tr>\n",
       "      <th>3</th>\n",
       "      <td>False</td>\n",
       "      <td>False</td>\n",
       "      <td>False</td>\n",
       "      <td>False</td>\n",
       "      <td>False</td>\n",
       "      <td>False</td>\n",
       "      <td>False</td>\n",
       "      <td>False</td>\n",
       "      <td>False</td>\n",
       "      <td>False</td>\n",
       "      <td>...</td>\n",
       "      <td>False</td>\n",
       "      <td>False</td>\n",
       "      <td>False</td>\n",
       "      <td>False</td>\n",
       "      <td>False</td>\n",
       "      <td>False</td>\n",
       "      <td>False</td>\n",
       "      <td>False</td>\n",
       "      <td>False</td>\n",
       "      <td>False</td>\n",
       "    </tr>\n",
       "    <tr>\n",
       "      <th>4</th>\n",
       "      <td>False</td>\n",
       "      <td>False</td>\n",
       "      <td>False</td>\n",
       "      <td>False</td>\n",
       "      <td>False</td>\n",
       "      <td>False</td>\n",
       "      <td>False</td>\n",
       "      <td>False</td>\n",
       "      <td>False</td>\n",
       "      <td>False</td>\n",
       "      <td>...</td>\n",
       "      <td>False</td>\n",
       "      <td>False</td>\n",
       "      <td>False</td>\n",
       "      <td>False</td>\n",
       "      <td>False</td>\n",
       "      <td>False</td>\n",
       "      <td>False</td>\n",
       "      <td>False</td>\n",
       "      <td>False</td>\n",
       "      <td>False</td>\n",
       "    </tr>\n",
       "  </tbody>\n",
       "</table>\n",
       "<p>5 rows × 27 columns</p>\n",
       "</div>"
      ],
      "text/plain": [
       "   ADDRTYPE  SEVERITYCODE  SEVERITYDESC  COLLISIONTYPE  PERSONCOUNT  PEDCOUNT  \\\n",
       "0     False         False         False          False        False     False   \n",
       "1     False         False         False          False        False     False   \n",
       "2     False         False         False          False        False     False   \n",
       "3     False         False         False          False        False     False   \n",
       "4     False         False         False          False        False     False   \n",
       "\n",
       "   PEDCYLCOUNT  VEHCOUNT  INJURIES  SERIOUSINJURIES  ...  LIGHTCOND  \\\n",
       "0        False     False     False            False  ...      False   \n",
       "1        False     False     False            False  ...      False   \n",
       "2        False     False     False            False  ...      False   \n",
       "3        False     False     False            False  ...      False   \n",
       "4        False     False     False            False  ...      False   \n",
       "\n",
       "   PEDROWNOTGRNT  SPEEDING  ST_COLCODE  HITPARKEDCAR   YEAR  MONTH    DAY  \\\n",
       "0          False     False       False         False  False  False  False   \n",
       "1          False     False       False         False  False  False  False   \n",
       "2          False     False       False         False  False  False  False   \n",
       "3          False     False       False         False  False  False  False   \n",
       "4          False     False       False         False  False  False  False   \n",
       "\n",
       "    HOUR  WEEKDAY  \n",
       "0  False    False  \n",
       "1  False    False  \n",
       "2  False    False  \n",
       "3  False    False  \n",
       "4  False    False  \n",
       "\n",
       "[5 rows x 27 columns]"
      ]
     },
     "execution_count": 118,
     "metadata": {},
     "output_type": "execute_result"
    }
   ],
   "source": [
    "missing_data_check = df_new.isnull()\n",
    "missing_data_check.head(5)"
   ]
  },
  {
   "cell_type": "code",
   "execution_count": 119,
   "metadata": {},
   "outputs": [
    {
     "name": "stdout",
     "output_type": "stream",
     "text": [
      "ADDRTYPE\n",
      "False    212112\n",
      "Name: ADDRTYPE, dtype: int64\n",
      "\n",
      "SEVERITYCODE\n",
      "False    212112\n",
      "Name: SEVERITYCODE, dtype: int64\n",
      "\n",
      "SEVERITYDESC\n",
      "False    212112\n",
      "Name: SEVERITYDESC, dtype: int64\n",
      "\n",
      "COLLISIONTYPE\n",
      "False    212112\n",
      "Name: COLLISIONTYPE, dtype: int64\n",
      "\n",
      "PERSONCOUNT\n",
      "False    212112\n",
      "Name: PERSONCOUNT, dtype: int64\n",
      "\n",
      "PEDCOUNT\n",
      "False    212112\n",
      "Name: PEDCOUNT, dtype: int64\n",
      "\n",
      "PEDCYLCOUNT\n",
      "False    212112\n",
      "Name: PEDCYLCOUNT, dtype: int64\n",
      "\n",
      "VEHCOUNT\n",
      "False    212112\n",
      "Name: VEHCOUNT, dtype: int64\n",
      "\n",
      "INJURIES\n",
      "False    212112\n",
      "Name: INJURIES, dtype: int64\n",
      "\n",
      "SERIOUSINJURIES\n",
      "False    212112\n",
      "Name: SERIOUSINJURIES, dtype: int64\n",
      "\n",
      "FATALITIES\n",
      "False    212112\n",
      "Name: FATALITIES, dtype: int64\n",
      "\n",
      "JUNCTIONTYPE\n",
      "False    212112\n",
      "Name: JUNCTIONTYPE, dtype: int64\n",
      "\n",
      "SDOT_COLCODE\n",
      "False    212112\n",
      "Name: SDOT_COLCODE, dtype: int64\n",
      "\n",
      "INATTENTIONIND\n",
      "False    212112\n",
      "Name: INATTENTIONIND, dtype: int64\n",
      "\n",
      "UNDERINFL\n",
      "False    212112\n",
      "Name: UNDERINFL, dtype: int64\n",
      "\n",
      "WEATHER\n",
      "False    212112\n",
      "Name: WEATHER, dtype: int64\n",
      "\n",
      "ROADCOND\n",
      "False    212112\n",
      "Name: ROADCOND, dtype: int64\n",
      "\n",
      "LIGHTCOND\n",
      "False    212112\n",
      "Name: LIGHTCOND, dtype: int64\n",
      "\n",
      "PEDROWNOTGRNT\n",
      "False    212112\n",
      "Name: PEDROWNOTGRNT, dtype: int64\n",
      "\n",
      "SPEEDING\n",
      "False    212112\n",
      "Name: SPEEDING, dtype: int64\n",
      "\n",
      "ST_COLCODE\n",
      "False    212112\n",
      "Name: ST_COLCODE, dtype: int64\n",
      "\n",
      "HITPARKEDCAR\n",
      "False    212112\n",
      "Name: HITPARKEDCAR, dtype: int64\n",
      "\n",
      "YEAR\n",
      "False    212112\n",
      "Name: YEAR, dtype: int64\n",
      "\n",
      "MONTH\n",
      "False    212112\n",
      "Name: MONTH, dtype: int64\n",
      "\n",
      "DAY\n",
      "False    212112\n",
      "Name: DAY, dtype: int64\n",
      "\n",
      "HOUR\n",
      "False    212112\n",
      "Name: HOUR, dtype: int64\n",
      "\n",
      "WEEKDAY\n",
      "False    212112\n",
      "Name: WEEKDAY, dtype: int64\n",
      "\n"
     ]
    }
   ],
   "source": [
    "for column in missing_data_check.columns.values.tolist():\n",
    "    print(column)\n",
    "    print (missing_data_check[column].value_counts())\n",
    "    print(\"\")   "
   ]
  },
  {
   "cell_type": "markdown",
   "metadata": {},
   "source": [
    "All NaN values now have been removed and we still have 212,112 individual accident events."
   ]
  },
  {
   "cell_type": "markdown",
   "metadata": {},
   "source": [
    "### 2.3 Feature selection\n",
    "\n",
    "After data cleaning, there were 212,112 samples and 26 attributes in the data. Upon examining each attribute, it was clear that there was some further redundancy. \n",
    "\n",
    "ST_COLCODE indicates the type of collision and is therefore almost identical with COLLISIONTYPE, so I decided to drop ST_COLCODE.\n",
    "\n",
    "SEVERITYDESC is the more detailed description version of SEVERITYCODE. I therefore decided to drop SEVERITYDESC to decrease redundancy.\n",
    "\n",
    "After all, 24 features were selected for data exploration.\n",
    "\n"
   ]
  },
  {
   "cell_type": "code",
   "execution_count": 120,
   "metadata": {},
   "outputs": [],
   "source": [
    "#drop SEVERITYDESC and ST_COLCODE\n",
    "\n",
    "df_cleaned=df_new.drop(columns=['SEVERITYDESC', 'ST_COLCODE'])"
   ]
  },
  {
   "cell_type": "markdown",
   "metadata": {},
   "source": [
    "## 3. Methodology <a name=\"methodology\"></a>"
   ]
  },
  {
   "cell_type": "markdown",
   "metadata": {},
   "source": [
    "In this project we will try to predict the severity of an accident in the Seattle area based on different predictor features.\n",
    "\n",
    "In our first step we have collected a suitable database that includes accident severity as a label and a number of additional attributes that could serve as predictor features potentially. \n",
    "\n",
    "Our second step was to cleaned and wrangled the dataset: \n",
    "<li>Obviously irrelevant features have been dismissed</li>\n",
    "<li>Categorical data has been cleaned</li>\n",
    "<li>Features containing any missing data points have been cleaned and dropped if necessary</li>\n",
    "\n",
    "The next step in our analysis will be the exploration of the relationship between SEVERITYCODE and our potential predictor features to get a better understanding of possible good candidates for features in our ML models. After finishing the data exploration we will drop features which do not serve as good predictor attributes for SEVERITYCODE.\n",
    "\n",
    "We will then go ahead and preprocess the remaining data for our ML models by turning categorical data into numerical data and splitting our data set into training and testing data.\n",
    "\n",
    "Lastly, we will try ML different models and decide which one is the most suitable for the task.\n"
   ]
  },
  {
   "cell_type": "markdown",
   "metadata": {},
   "source": [
    "### 3.1 Explorative analysis\n",
    "**Relationship between Severity and the numerical attributes**\n",
    "\n",
    "In total, there are 7 numerical attributes where we need to explore the relationship to SEVERITYCODE further:\n",
    "* 1 PERSONCOUNT\n",
    "* 2 PEDCOUNT\n",
    "* 3 PEDCYLCOUNT\n",
    "* 4 VEHCOUNT\n",
    "* 5 INJURIES\n",
    "* 6 SERIOUSINJURIES\n",
    "* 7 FATALITIES\n",
    "\n",
    "For the numerical attributes in our data set I decided to use a scatterplot visualization and the Kendall’s rank coefficient combined with the p value for quantitative analysis.\n",
    "\n",
    "The Kendall’s rank coefficient allows the comparison of columns of ranked data. A value close to 0 means no relationship and values close to 1 mean a perfect relationship. The test can also produce negative values, but they can just be treated like positive values."
   ]
  },
  {
   "cell_type": "markdown",
   "metadata": {},
   "source": [
    "**1 Relationship between SEVERITYCODE and PERSONCOUNT**"
   ]
  },
  {
   "cell_type": "code",
   "execution_count": 121,
   "metadata": {},
   "outputs": [
    {
     "data": {
      "text/plain": [
       "[(-0.7320677109467547, 4)]"
      ]
     },
     "execution_count": 121,
     "metadata": {},
     "output_type": "execute_result"
    },
    {
     "data": {
      "image/png": "[encoded data removed]",
      "text/plain": [
       "<Figure size 1080x288 with 1 Axes>"
      ]
     },
     "metadata": {
      "needs_background": "light"
     },
     "output_type": "display_data"
    }
   ],
   "source": [
    "plt.figure(figsize=(15,4))\n",
    "\n",
    "pc=sns.regplot(x=\"PERSONCOUNT\", y=\"SEVERITYCODE\", data=df_cleaned, x_jitter=.4, y_jitter=.4)\n",
    "pc.set(ylim=(None,4))"
   ]
  },
  {
   "cell_type": "markdown",
   "metadata": {},
   "source": [
    "The regression line is almost horizontal and the data points are very far from the fitted line. Therefore it might not be a reliable variable."
   ]
  },
  {
   "cell_type": "code",
   "execution_count": 122,
   "metadata": {
    "scrolled": true
   },
   "outputs": [
    {
     "name": "stdout",
     "output_type": "stream",
     "text": [
      "0.17642911978677406\n",
      "0.0\n"
     ]
    }
   ],
   "source": [
    "tau, p_value = stats.kendalltau(df_cleaned[\"PERSONCOUNT\"], df_cleaned[\"SEVERITYCODE\"])\n",
    "print(tau)\n",
    "print(p_value)"
   ]
  },
  {
   "cell_type": "markdown",
   "metadata": {},
   "source": [
    "**Conclusion**\n",
    "\n",
    "<p>Since the p-value is $<$ 0.001, the correlation between PERSONCOUNT and SEVERITYCODE is statistically significant, although the linear relationship is weak (~0.176)</p>\n",
    "\n",
    "***=> PERSONCOUNT is not a good predictor of SEVERITYCODE.***"
   ]
  },
  {
   "cell_type": "markdown",
   "metadata": {},
   "source": [
    "**2 Relationship between SEVERITYCODE and PEDCOUNT**"
   ]
  },
  {
   "cell_type": "code",
   "execution_count": 123,
   "metadata": {},
   "outputs": [
    {
     "data": {
      "text/plain": [
       "[(-0.6666749598745598, 4)]"
      ]
     },
     "execution_count": 123,
     "metadata": {},
     "output_type": "execute_result"
    },
    {
     "data": {
      "image/png": "[encoded data removed]",
      "text/plain": [
       "<Figure size 1080x288 with 1 Axes>"
      ]
     },
     "metadata": {
      "needs_background": "light"
     },
     "output_type": "display_data"
    }
   ],
   "source": [
    "plt.figure(figsize=(15,4))\n",
    "\n",
    "pc=sns.regplot(x=\"PEDCOUNT\", y=\"SEVERITYCODE\", data=df_cleaned, x_jitter=.4, y_jitter=.4)\n",
    "pc.set(ylim=(None,4))"
   ]
  },
  {
   "cell_type": "markdown",
   "metadata": {},
   "source": [
    "<p>Even though the regression line is almost a perfect diagonal, the data points are very far from the fitted line. Therefore PERSONCOUNT does not seem to be a reliable variable.</p>"
   ]
  },
  {
   "cell_type": "code",
   "execution_count": 124,
   "metadata": {
    "scrolled": true
   },
   "outputs": [
    {
     "name": "stdout",
     "output_type": "stream",
     "text": [
      "0.277642648139243\n",
      "0.0\n"
     ]
    }
   ],
   "source": [
    "tau, p_value = stats.kendalltau(df_cleaned[\"PEDCOUNT\"], df_cleaned[\"SEVERITYCODE\"])\n",
    "print(tau)\n",
    "print(p_value)"
   ]
  },
  {
   "cell_type": "markdown",
   "metadata": {},
   "source": [
    "**Conclusion**\n",
    "\n",
    "<p>Since the p-value is $<$ 0.001, the correlation between PEDCOUNT and SEVERITYCODE is statistically significant, although the linear relationship is weak (~0.278)</p>\n",
    "\n",
    "***=> PEDCOUNT is not a good predictor of SEVERITYCODE.***"
   ]
  },
  {
   "cell_type": "markdown",
   "metadata": {},
   "source": [
    "**3 Relationship between SEVERITYCODE and PEDCYLCOUNT**"
   ]
  },
  {
   "cell_type": "code",
   "execution_count": 125,
   "metadata": {},
   "outputs": [
    {
     "data": {
      "text/plain": [
       "[(-0.6065326702988574, 4),\n",
       " [<matplotlib.axis.XTick at 0x1a29489f90>,\n",
       "  <matplotlib.axis.XTick at 0x1a294957d0>,\n",
       "  <matplotlib.axis.XTick at 0x1a29495850>,\n",
       "  <matplotlib.axis.XTick at 0x1a2941d410>]]"
      ]
     },
     "execution_count": 125,
     "metadata": {},
     "output_type": "execute_result"
    },
    {
     "data": {
      "image/png": "[encoded data removed]",
      "text/plain": [
       "<Figure size 1080x288 with 1 Axes>"
      ]
     },
     "metadata": {
      "needs_background": "light"
     },
     "output_type": "display_data"
    }
   ],
   "source": [
    "plt.figure(figsize=(15,4))\n",
    "\n",
    "pcc=sns.regplot(x=\"PEDCYLCOUNT\", y=\"SEVERITYCODE\", data=df_cleaned, x_jitter=.4, y_jitter=.4)\n",
    "pcc.set(ylim=(None,4), xticks=[0,1,2,3])"
   ]
  },
  {
   "cell_type": "markdown",
   "metadata": {},
   "source": [
    "<p>The regression line isn't very steep and the data points are very far from the fitted line. Therefore it might not be a reliable variable.</p>"
   ]
  },
  {
   "cell_type": "code",
   "execution_count": 126,
   "metadata": {
    "scrolled": true
   },
   "outputs": [
    {
     "name": "stdout",
     "output_type": "stream",
     "text": [
      "0.2223612644246027\n",
      "0.0\n"
     ]
    }
   ],
   "source": [
    "tau, p_value = stats.kendalltau(df_cleaned[\"PEDCYLCOUNT\"], df_cleaned[\"SEVERITYCODE\"])\n",
    "print(tau)\n",
    "print(p_value)"
   ]
  },
  {
   "cell_type": "markdown",
   "metadata": {},
   "source": [
    "**Conclusion**\n",
    "\n",
    "<p>Since the p-value is $<$ 0.001, the correlation between PEDCYLCOUNT and SEVERITYCODE is statistically significant, although the linear relationship is weak (~0.222)</p>\n",
    "\n",
    "***=> PEDCYLCOUNT is not a good predictor of SEVERITYCODE.***"
   ]
  },
  {
   "cell_type": "markdown",
   "metadata": {},
   "source": [
    "**4 Relationship between SEVERITYCODE and VEHCOUNT**"
   ]
  },
  {
   "cell_type": "code",
   "execution_count": 127,
   "metadata": {},
   "outputs": [
    {
     "data": {
      "text/plain": [
       "[(-0.6066691164071432, 4),\n",
       " [<matplotlib.axis.XTick at 0x1a293e3550>,\n",
       "  <matplotlib.axis.XTick at 0x1a293edbd0>,\n",
       "  <matplotlib.axis.XTick at 0x1a293ed090>,\n",
       "  <matplotlib.axis.XTick at 0x1a293c1090>]]"
      ]
     },
     "execution_count": 127,
     "metadata": {},
     "output_type": "execute_result"
    },
    {
     "data": {
      "image/png": "[encoded data removed]",
      "text/plain": [
       "<Figure size 1080x288 with 1 Axes>"
      ]
     },
     "metadata": {
      "needs_background": "light"
     },
     "output_type": "display_data"
    }
   ],
   "source": [
    "plt.figure(figsize=(15,4))\n",
    "\n",
    "pcc=sns.regplot(x=\"VEHCOUNT\", y=\"SEVERITYCODE\", data=df_cleaned, x_jitter=.4, y_jitter=.4)\n",
    "pcc.set(ylim=(None,4),  xticks=[0,1,2,3])"
   ]
  },
  {
   "cell_type": "markdown",
   "metadata": {},
   "source": [
    "The regression line is almost horizontal and the data points are very far from the fitted line. Therefore it might not be a reliable variable."
   ]
  },
  {
   "cell_type": "code",
   "execution_count": 128,
   "metadata": {
    "scrolled": true
   },
   "outputs": [
    {
     "name": "stdout",
     "output_type": "stream",
     "text": [
      "-0.020767258732977734\n",
      "5.2700825661091405e-24\n"
     ]
    }
   ],
   "source": [
    "tau, p_value = stats.kendalltau(df_cleaned[\"VEHCOUNT\"], df_cleaned[\"SEVERITYCODE\"])\n",
    "print(tau)\n",
    "print(p_value)"
   ]
  },
  {
   "cell_type": "markdown",
   "metadata": {},
   "source": [
    "**Conclusion**\n",
    "\n",
    "<p>Since the p-value is $>$ 0.001, the correlation between VEHCOUNT and SEVERITYCODE is statistically significant and the linear relationship is weak (~0.021)</p>\n",
    "\n",
    "***=> VEHCOUNT is not a good predictor of SEVERITYCODE.***"
   ]
  },
  {
   "cell_type": "markdown",
   "metadata": {},
   "source": [
    "**5 Relationship between SEVERITYCODE and INJURIES**"
   ]
  },
  {
   "cell_type": "code",
   "execution_count": 176,
   "metadata": {},
   "outputs": [
    {
     "data": {
      "text/plain": [
       "[(0, 4), (-4.324134071340906, 20)]"
      ]
     },
     "execution_count": 176,
     "metadata": {},
     "output_type": "execute_result"
    },
    {
     "data": {
      "image/png": "[encoded data removed]",
      "text/plain": [
       "<Figure size 1080x288 with 1 Axes>"
      ]
     },
     "metadata": {
      "needs_background": "light"
     },
     "output_type": "display_data"
    }
   ],
   "source": [
    "plt.figure(figsize=(15,4))\n",
    "\n",
    "pcc=sns.regplot(x=\"INJURIES\", y=\"SEVERITYCODE\", data=df_cleaned, x_jitter=.4, y_jitter=.4)\n",
    "pcc.set(ylim=(0,4), xlim=(None,20))"
   ]
  },
  {
   "cell_type": "markdown",
   "metadata": {},
   "source": [
    "<p>The regression line is almost a perfect diagonal and the data points are fairly close to the fitted line. Therefore INJURIES does seem to be a reliable variable.</p>"
   ]
  },
  {
   "cell_type": "code",
   "execution_count": 130,
   "metadata": {
    "scrolled": true
   },
   "outputs": [
    {
     "name": "stdout",
     "output_type": "stream",
     "text": [
      "0.9488286804868286\n",
      "0.0\n"
     ]
    }
   ],
   "source": [
    "tau, p_value = stats.kendalltau(df_cleaned[\"INJURIES\"], df_cleaned[\"SEVERITYCODE\"])\n",
    "print(tau)\n",
    "print(p_value)"
   ]
  },
  {
   "cell_type": "markdown",
   "metadata": {},
   "source": [
    "**Conclusion**\n",
    "\n",
    "<p>Since the p-value is $<$ 0.001, the correlation between INJURIES and SEVERITYCODE is statistically significant and the linear relationship is strong (~0.949)</p>\n",
    "\n",
    "***=> INJURIES is a good predictor of SEVERITYCODE.***"
   ]
  },
  {
   "cell_type": "markdown",
   "metadata": {},
   "source": [
    "**6 Relationship between SEVERITYCODE and SERIOUSINJURIES**"
   ]
  },
  {
   "cell_type": "code",
   "execution_count": 131,
   "metadata": {},
   "outputs": [
    {
     "data": {
      "text/plain": [
       "[(0, 4)]"
      ]
     },
     "execution_count": 131,
     "metadata": {},
     "output_type": "execute_result"
    },
    {
     "data": {
      "image/png": "[encoded data removed]",
      "text/plain": [
       "<Figure size 1080x288 with 1 Axes>"
      ]
     },
     "metadata": {
      "needs_background": "light"
     },
     "output_type": "display_data"
    }
   ],
   "source": [
    "plt.figure(figsize=(15,4))\n",
    "\n",
    "pcc=sns.regplot(x=\"SERIOUSINJURIES\", y=\"SEVERITYCODE\", data=df_cleaned, x_jitter=.4, y_jitter=.4)\n",
    "pcc.set(ylim=(0,4))"
   ]
  },
  {
   "cell_type": "markdown",
   "metadata": {},
   "source": [
    "<p>Even though the regression line is almost a perfect diagonal, the data points are very far from the fitted line. Therefore SERIOUSINJURIES does not seem to be a reliable variable.</p>"
   ]
  },
  {
   "cell_type": "code",
   "execution_count": 132,
   "metadata": {
    "scrolled": true
   },
   "outputs": [
    {
     "name": "stdout",
     "output_type": "stream",
     "text": [
      "0.2603408999481954\n",
      "0.0\n"
     ]
    }
   ],
   "source": [
    "tau, p_value = stats.kendalltau(df_cleaned[\"SERIOUSINJURIES\"], df_cleaned[\"SEVERITYCODE\"])\n",
    "print(tau)\n",
    "print(p_value)"
   ]
  },
  {
   "cell_type": "markdown",
   "metadata": {},
   "source": [
    "**Conclusion**\n",
    "\n",
    "<p>Since the p-value is $<$ 0.001, the correlation between SERIOUSINJURIES and SEVERITYCODE is statistically significant, but the linear relationship is weak (~0.260)</p>\n",
    "\n",
    "***=> SERIOUSINJURIES is not a good predictor of SEVERITYCODE.***"
   ]
  },
  {
   "cell_type": "markdown",
   "metadata": {},
   "source": [
    "**7 Relationship between SEVERITYCODE and FATALITIES**"
   ]
  },
  {
   "cell_type": "code",
   "execution_count": 133,
   "metadata": {},
   "outputs": [
    {
     "data": {
      "text/plain": [
       "[(0, 4)]"
      ]
     },
     "execution_count": 133,
     "metadata": {},
     "output_type": "execute_result"
    },
    {
     "data": {
      "image/png": "[encoded data removed]",
      "text/plain": [
       "<Figure size 1080x288 with 1 Axes>"
      ]
     },
     "metadata": {
      "needs_background": "light"
     },
     "output_type": "display_data"
    }
   ],
   "source": [
    "plt.figure(figsize=(15,4))\n",
    "\n",
    "pcc=sns.regplot(x=\"FATALITIES\", y=\"SEVERITYCODE\", data=df_cleaned, x_jitter=.4, y_jitter=.4)\n",
    "pcc.set(ylim=(0,4))"
   ]
  },
  {
   "cell_type": "markdown",
   "metadata": {},
   "source": [
    "<p>Even though the regression line is almost a perfect diagonal, the data points are very far from the fitted line. Therefore FATALITIES does not seem to be a reliable variable.</p>"
   ]
  },
  {
   "cell_type": "code",
   "execution_count": 134,
   "metadata": {},
   "outputs": [
    {
     "name": "stdout",
     "output_type": "stream",
     "text": [
      "0.08818087504503065\n",
      "0.0\n"
     ]
    }
   ],
   "source": [
    "tau, p_value = stats.kendalltau(df_cleaned[\"FATALITIES\"], df_cleaned[\"SEVERITYCODE\"])\n",
    "print(tau)\n",
    "print(p_value)"
   ]
  },
  {
   "cell_type": "markdown",
   "metadata": {},
   "source": [
    "**Conclusion**\n",
    "\n",
    "<p>Since the p-value is $<$ 0.001, the correlation between FATALITIES and SEVERITYCODE is statistically significant, but the linear relationship is weak (~0.088)</p>\n",
    "\n",
    "***=> FATALITIES is not a good predictor of SEVERITYCODE.***"
   ]
  },
  {
   "cell_type": "markdown",
   "metadata": {},
   "source": [
    "**Relationship between Severity and the categorical attributes**\n",
    "\n",
    "A good way to visualize categorical variables and identify their relationship with the label variable is by using boxplots. We will visualize all categorical feature attributes and also look at the frequency of each categorical value of an attribute. This will give us a good idea whether or not an attribute would be a helpful predictor variable.\n",
    "\n",
    "\n",
    "In total, there are 17 categorical attributes for which we need to explore the relationship to SEVERITYCODE further:\n",
    "* 1 ADDRTYPE\n",
    "* 2 COLLISIONTYPE\n",
    "* 3 JUNCTIONTYPE\n",
    "* 4 SDOT_COLCODE\n",
    "* 5 INATTENTIONIND\n",
    "* 6 UNDERINFL\n",
    "* 7 WEATHER\n",
    "* 8 ROADCOND\n",
    "* 9 LIGHTCOND\n",
    "* 10 PEDROWNOTGRNT\n",
    "* 11 SPEEDING\n",
    "* 12 HITPARKEDCAR\n",
    "* 13 YEAR\n",
    "* 14 MONTH\n",
    "* 15 DAY\n",
    "* 16 HOUR\n",
    "* 17 WEEKDAY"
   ]
  },
  {
   "cell_type": "markdown",
   "metadata": {},
   "source": [
    "**1 Relationship between SEVERITYCODE and ADDRTYPE**"
   ]
  },
  {
   "cell_type": "code",
   "execution_count": 172,
   "metadata": {},
   "outputs": [
    {
     "data": {
      "text/plain": [
       "<matplotlib.axes._subplots.AxesSubplot at 0x1a25b44ed0>"
      ]
     },
     "execution_count": 172,
     "metadata": {},
     "output_type": "execute_result"
    },
    {
     "data": {
      "image/png": "[encoded data removed]",
      "text/plain": [
       "<Figure size 432x288 with 1 Axes>"
      ]
     },
     "metadata": {
      "needs_background": "light"
     },
     "output_type": "display_data"
    }
   ],
   "source": [
    "sns.boxplot(x=\"ADDRTYPE\", y=\"SEVERITYCODE\", data=df_cleaned)"
   ]
  },
  {
   "cell_type": "code",
   "execution_count": 137,
   "metadata": {},
   "outputs": [
    {
     "data": {
      "text/html": [
       "<div>\n",
       "<style scoped>\n",
       "    .dataframe tbody tr th:only-of-type {\n",
       "        vertical-align: middle;\n",
       "    }\n",
       "\n",
       "    .dataframe tbody tr th {\n",
       "        vertical-align: top;\n",
       "    }\n",
       "\n",
       "    .dataframe thead th {\n",
       "        text-align: right;\n",
       "    }\n",
       "</style>\n",
       "<table border=\"1\" class=\"dataframe\">\n",
       "  <thead>\n",
       "    <tr style=\"text-align: right;\">\n",
       "      <th></th>\n",
       "      <th>value_counts</th>\n",
       "    </tr>\n",
       "    <tr>\n",
       "      <th>ADDRTYPE</th>\n",
       "      <th></th>\n",
       "    </tr>\n",
       "  </thead>\n",
       "  <tbody>\n",
       "    <tr>\n",
       "      <th>Block</th>\n",
       "      <td>138848</td>\n",
       "    </tr>\n",
       "    <tr>\n",
       "      <th>Intersection</th>\n",
       "      <td>69354</td>\n",
       "    </tr>\n",
       "    <tr>\n",
       "      <th>Alley</th>\n",
       "      <td>3910</td>\n",
       "    </tr>\n",
       "  </tbody>\n",
       "</table>\n",
       "</div>"
      ],
      "text/plain": [
       "              value_counts\n",
       "ADDRTYPE                  \n",
       "Block               138848\n",
       "Intersection         69354\n",
       "Alley                 3910"
      ]
     },
     "execution_count": 137,
     "metadata": {},
     "output_type": "execute_result"
    }
   ],
   "source": [
    "ADDRTYPE_counts = df_cleaned['ADDRTYPE'].value_counts().to_frame()\n",
    "ADDRTYPE_counts.rename(columns={'ADDRTYPE': 'value_counts'}, inplace=True)\n",
    "ADDRTYPE_counts.index.name = 'ADDRTYPE'\n",
    "ADDRTYPE_counts"
   ]
  },
  {
   "cell_type": "markdown",
   "metadata": {},
   "source": [
    "**Conclusion**\n",
    "\n",
    "The distribution of SEVERITYCODE between the different ADDRTYPE categories differs and frequency distribution between the categories is acceptable.\n",
    "\n",
    "***=> ADDRTYPE is a good predictor of SEVERITYCODE.***"
   ]
  },
  {
   "cell_type": "markdown",
   "metadata": {},
   "source": [
    "**2 Relationship between SEVERITYCODE and COLLISIONTYPE**"
   ]
  },
  {
   "cell_type": "code",
   "execution_count": 138,
   "metadata": {},
   "outputs": [
    {
     "data": {
      "text/plain": [
       "<matplotlib.axes._subplots.AxesSubplot at 0x1a29214090>"
      ]
     },
     "execution_count": 138,
     "metadata": {},
     "output_type": "execute_result"
    },
    {
     "data": {
      "image/png": "[encoded data removed]",
      "text/plain": [
       "<Figure size 1080x576 with 1 Axes>"
      ]
     },
     "metadata": {
      "needs_background": "light"
     },
     "output_type": "display_data"
    }
   ],
   "source": [
    "plt.figure(figsize=(15,8))\n",
    "\n",
    "sns.boxplot(x=\"COLLISIONTYPE\", y=\"SEVERITYCODE\", data=df_cleaned)"
   ]
  },
  {
   "cell_type": "code",
   "execution_count": 139,
   "metadata": {},
   "outputs": [
    {
     "data": {
      "text/html": [
       "<div>\n",
       "<style scoped>\n",
       "    .dataframe tbody tr th:only-of-type {\n",
       "        vertical-align: middle;\n",
       "    }\n",
       "\n",
       "    .dataframe tbody tr th {\n",
       "        vertical-align: top;\n",
       "    }\n",
       "\n",
       "    .dataframe thead th {\n",
       "        text-align: right;\n",
       "    }\n",
       "</style>\n",
       "<table border=\"1\" class=\"dataframe\">\n",
       "  <thead>\n",
       "    <tr style=\"text-align: right;\">\n",
       "      <th></th>\n",
       "      <th>value_counts</th>\n",
       "    </tr>\n",
       "    <tr>\n",
       "      <th>COLLISIONTYPE</th>\n",
       "      <th></th>\n",
       "    </tr>\n",
       "  </thead>\n",
       "  <tbody>\n",
       "    <tr>\n",
       "      <th>Parked Car</th>\n",
       "      <td>48551</td>\n",
       "    </tr>\n",
       "    <tr>\n",
       "      <th>Angles</th>\n",
       "      <td>35573</td>\n",
       "    </tr>\n",
       "    <tr>\n",
       "      <th>Rear Ended</th>\n",
       "      <td>34691</td>\n",
       "    </tr>\n",
       "    <tr>\n",
       "      <th>Other</th>\n",
       "      <td>24588</td>\n",
       "    </tr>\n",
       "    <tr>\n",
       "      <th>Cycles</th>\n",
       "      <td>22832</td>\n",
       "    </tr>\n",
       "    <tr>\n",
       "      <th>Sideswipe</th>\n",
       "      <td>18891</td>\n",
       "    </tr>\n",
       "    <tr>\n",
       "      <th>Left Turn</th>\n",
       "      <td>14115</td>\n",
       "    </tr>\n",
       "    <tr>\n",
       "      <th>Pedestrian</th>\n",
       "      <td>7666</td>\n",
       "    </tr>\n",
       "    <tr>\n",
       "      <th>Right Turn</th>\n",
       "      <td>3017</td>\n",
       "    </tr>\n",
       "    <tr>\n",
       "      <th>Head On</th>\n",
       "      <td>2188</td>\n",
       "    </tr>\n",
       "  </tbody>\n",
       "</table>\n",
       "</div>"
      ],
      "text/plain": [
       "               value_counts\n",
       "COLLISIONTYPE              \n",
       "Parked Car            48551\n",
       "Angles                35573\n",
       "Rear Ended            34691\n",
       "Other                 24588\n",
       "Cycles                22832\n",
       "Sideswipe             18891\n",
       "Left Turn             14115\n",
       "Pedestrian             7666\n",
       "Right Turn             3017\n",
       "Head On                2188"
      ]
     },
     "execution_count": 139,
     "metadata": {},
     "output_type": "execute_result"
    }
   ],
   "source": [
    "COLLISIONTYPE_counts = df_cleaned['COLLISIONTYPE'].value_counts().to_frame()\n",
    "COLLISIONTYPE_counts.rename(columns={'COLLISIONTYPE': 'value_counts'}, inplace=True)\n",
    "COLLISIONTYPE_counts.index.name = 'COLLISIONTYPE'\n",
    "COLLISIONTYPE_counts"
   ]
  },
  {
   "cell_type": "markdown",
   "metadata": {},
   "source": [
    "**Conclusion**\n",
    "\n",
    "The distribution of SEVERITYCODE between the different categories of COLLISIONTYPE have significant overlap, but they frequency distribution between the categories is not skewed.\n",
    "\n",
    "***=> Because of the overlap COLLISIONTYPE is not a good predictor of SEVERITYCODE.***"
   ]
  },
  {
   "cell_type": "markdown",
   "metadata": {},
   "source": [
    "**3 Relationship between SEVERITYCODE and JUNCTIONTYPE**"
   ]
  },
  {
   "cell_type": "code",
   "execution_count": 82,
   "metadata": {},
   "outputs": [
    {
     "data": {
      "text/plain": [
       "<matplotlib.axes._subplots.AxesSubplot at 0x1a2a27d350>"
      ]
     },
     "execution_count": 82,
     "metadata": {},
     "output_type": "execute_result"
    },
    {
     "data": {
      "image/png": "[encoded data removed]",
      "text/plain": [
       "<Figure size 1800x576 with 1 Axes>"
      ]
     },
     "metadata": {
      "needs_background": "light"
     },
     "output_type": "display_data"
    }
   ],
   "source": [
    "plt.figure(figsize=(25,8))\n",
    "sns.boxplot(x=\"JUNCTIONTYPE\", y=\"SEVERITYCODE\", data=df_cleaned)"
   ]
  },
  {
   "cell_type": "code",
   "execution_count": 140,
   "metadata": {},
   "outputs": [
    {
     "data": {
      "text/html": [
       "<div>\n",
       "<style scoped>\n",
       "    .dataframe tbody tr th:only-of-type {\n",
       "        vertical-align: middle;\n",
       "    }\n",
       "\n",
       "    .dataframe tbody tr th {\n",
       "        vertical-align: top;\n",
       "    }\n",
       "\n",
       "    .dataframe thead th {\n",
       "        text-align: right;\n",
       "    }\n",
       "</style>\n",
       "<table border=\"1\" class=\"dataframe\">\n",
       "  <thead>\n",
       "    <tr style=\"text-align: right;\">\n",
       "      <th></th>\n",
       "      <th>value_counts</th>\n",
       "    </tr>\n",
       "    <tr>\n",
       "      <th>JUNCTIONTYPE</th>\n",
       "      <th></th>\n",
       "    </tr>\n",
       "  </thead>\n",
       "  <tbody>\n",
       "    <tr>\n",
       "      <th>Mid-Block (not related to intersection)</th>\n",
       "      <td>108450</td>\n",
       "    </tr>\n",
       "    <tr>\n",
       "      <th>At Intersection (intersection related)</th>\n",
       "      <td>67019</td>\n",
       "    </tr>\n",
       "    <tr>\n",
       "      <th>Mid-Block (but intersection related)</th>\n",
       "      <td>23305</td>\n",
       "    </tr>\n",
       "    <tr>\n",
       "      <th>Driveway Junction</th>\n",
       "      <td>10981</td>\n",
       "    </tr>\n",
       "    <tr>\n",
       "      <th>At Intersection (but not related to intersection)</th>\n",
       "      <td>2170</td>\n",
       "    </tr>\n",
       "    <tr>\n",
       "      <th>Ramp Junction</th>\n",
       "      <td>187</td>\n",
       "    </tr>\n",
       "  </tbody>\n",
       "</table>\n",
       "</div>"
      ],
      "text/plain": [
       "                                                   value_counts\n",
       "JUNCTIONTYPE                                                   \n",
       "Mid-Block (not related to intersection)                  108450\n",
       "At Intersection (intersection related)                    67019\n",
       "Mid-Block (but intersection related)                      23305\n",
       "Driveway Junction                                         10981\n",
       "At Intersection (but not related to intersection)          2170\n",
       "Ramp Junction                                               187"
      ]
     },
     "execution_count": 140,
     "metadata": {},
     "output_type": "execute_result"
    }
   ],
   "source": [
    "JUNCTIONTYPE_counts = df_cleaned['JUNCTIONTYPE'].value_counts().to_frame()\n",
    "JUNCTIONTYPE_counts.rename(columns={'JUNCTIONTYPE': 'value_counts'}, inplace=True)\n",
    "JUNCTIONTYPE_counts.index.name = 'JUNCTIONTYPE'\n",
    "JUNCTIONTYPE_counts"
   ]
  },
  {
   "cell_type": "markdown",
   "metadata": {},
   "source": [
    "**Conclusion**\n",
    "\n",
    "The distribution of SEVERITYCODE between the different categories of JUNCTIONTYPE have significant overlap, but they frequency distribution between the categories is not skewed.\n",
    "\n",
    "***=> Because of the overlap JUNCTIONTYPE is not a good predictor of SEVERITYCODE.***"
   ]
  },
  {
   "cell_type": "markdown",
   "metadata": {},
   "source": [
    "**4 Relationship between SEVERITYCODE and SDOT_COLCODE**"
   ]
  },
  {
   "cell_type": "code",
   "execution_count": 141,
   "metadata": {},
   "outputs": [
    {
     "data": {
      "text/plain": [
       "<matplotlib.axes._subplots.AxesSubplot at 0x1a26364b10>"
      ]
     },
     "execution_count": 141,
     "metadata": {},
     "output_type": "execute_result"
    },
    {
     "data": {
      "image/png": "[encoded data removed]",
      "text/plain": [
       "<Figure size 1800x576 with 1 Axes>"
      ]
     },
     "metadata": {
      "needs_background": "light"
     },
     "output_type": "display_data"
    }
   ],
   "source": [
    "plt.figure(figsize=(25, 8))\n",
    "sns.boxplot(x=\"SDOT_COLCODE\", y=\"SEVERITYCODE\", data=df_cleaned)"
   ]
  },
  {
   "cell_type": "code",
   "execution_count": 142,
   "metadata": {},
   "outputs": [
    {
     "data": {
      "text/html": [
       "<div>\n",
       "<style scoped>\n",
       "    .dataframe tbody tr th:only-of-type {\n",
       "        vertical-align: middle;\n",
       "    }\n",
       "\n",
       "    .dataframe tbody tr th {\n",
       "        vertical-align: top;\n",
       "    }\n",
       "\n",
       "    .dataframe thead th {\n",
       "        text-align: right;\n",
       "    }\n",
       "</style>\n",
       "<table border=\"1\" class=\"dataframe\">\n",
       "  <thead>\n",
       "    <tr style=\"text-align: right;\">\n",
       "      <th></th>\n",
       "      <th>value_counts</th>\n",
       "    </tr>\n",
       "    <tr>\n",
       "      <th>SDOT_COLCODE</th>\n",
       "      <th></th>\n",
       "    </tr>\n",
       "  </thead>\n",
       "  <tbody>\n",
       "    <tr>\n",
       "      <th>11.0</th>\n",
       "      <td>89084</td>\n",
       "    </tr>\n",
       "    <tr>\n",
       "      <th>14.0</th>\n",
       "      <td>57015</td>\n",
       "    </tr>\n",
       "    <tr>\n",
       "      <th>0.0</th>\n",
       "      <td>16838</td>\n",
       "    </tr>\n",
       "    <tr>\n",
       "      <th>16.0</th>\n",
       "      <td>10274</td>\n",
       "    </tr>\n",
       "    <tr>\n",
       "      <th>28.0</th>\n",
       "      <td>9335</td>\n",
       "    </tr>\n",
       "    <tr>\n",
       "      <th>24.0</th>\n",
       "      <td>7585</td>\n",
       "    </tr>\n",
       "    <tr>\n",
       "      <th>13.0</th>\n",
       "      <td>6605</td>\n",
       "    </tr>\n",
       "    <tr>\n",
       "      <th>26.0</th>\n",
       "      <td>4958</td>\n",
       "    </tr>\n",
       "    <tr>\n",
       "      <th>18.0</th>\n",
       "      <td>3384</td>\n",
       "    </tr>\n",
       "    <tr>\n",
       "      <th>15.0</th>\n",
       "      <td>1686</td>\n",
       "    </tr>\n",
       "    <tr>\n",
       "      <th>12.0</th>\n",
       "      <td>1679</td>\n",
       "    </tr>\n",
       "    <tr>\n",
       "      <th>51.0</th>\n",
       "      <td>1454</td>\n",
       "    </tr>\n",
       "    <tr>\n",
       "      <th>29.0</th>\n",
       "      <td>539</td>\n",
       "    </tr>\n",
       "    <tr>\n",
       "      <th>21.0</th>\n",
       "      <td>205</td>\n",
       "    </tr>\n",
       "    <tr>\n",
       "      <th>56.0</th>\n",
       "      <td>194</td>\n",
       "    </tr>\n",
       "    <tr>\n",
       "      <th>27.0</th>\n",
       "      <td>172</td>\n",
       "    </tr>\n",
       "    <tr>\n",
       "      <th>54.0</th>\n",
       "      <td>153</td>\n",
       "    </tr>\n",
       "    <tr>\n",
       "      <th>23.0</th>\n",
       "      <td>128</td>\n",
       "    </tr>\n",
       "    <tr>\n",
       "      <th>48.0</th>\n",
       "      <td>111</td>\n",
       "    </tr>\n",
       "    <tr>\n",
       "      <th>25.0</th>\n",
       "      <td>109</td>\n",
       "    </tr>\n",
       "    <tr>\n",
       "      <th>31.0</th>\n",
       "      <td>106</td>\n",
       "    </tr>\n",
       "    <tr>\n",
       "      <th>64.0</th>\n",
       "      <td>94</td>\n",
       "    </tr>\n",
       "    <tr>\n",
       "      <th>34.0</th>\n",
       "      <td>94</td>\n",
       "    </tr>\n",
       "    <tr>\n",
       "      <th>69.0</th>\n",
       "      <td>81</td>\n",
       "    </tr>\n",
       "    <tr>\n",
       "      <th>33.0</th>\n",
       "      <td>55</td>\n",
       "    </tr>\n",
       "    <tr>\n",
       "      <th>55.0</th>\n",
       "      <td>54</td>\n",
       "    </tr>\n",
       "    <tr>\n",
       "      <th>66.0</th>\n",
       "      <td>28</td>\n",
       "    </tr>\n",
       "    <tr>\n",
       "      <th>22.0</th>\n",
       "      <td>18</td>\n",
       "    </tr>\n",
       "    <tr>\n",
       "      <th>44.0</th>\n",
       "      <td>16</td>\n",
       "    </tr>\n",
       "    <tr>\n",
       "      <th>32.0</th>\n",
       "      <td>12</td>\n",
       "    </tr>\n",
       "    <tr>\n",
       "      <th>53.0</th>\n",
       "      <td>9</td>\n",
       "    </tr>\n",
       "    <tr>\n",
       "      <th>61.0</th>\n",
       "      <td>7</td>\n",
       "    </tr>\n",
       "    <tr>\n",
       "      <th>58.0</th>\n",
       "      <td>6</td>\n",
       "    </tr>\n",
       "    <tr>\n",
       "      <th>35.0</th>\n",
       "      <td>6</td>\n",
       "    </tr>\n",
       "    <tr>\n",
       "      <th>68.0</th>\n",
       "      <td>6</td>\n",
       "    </tr>\n",
       "    <tr>\n",
       "      <th>36.0</th>\n",
       "      <td>4</td>\n",
       "    </tr>\n",
       "    <tr>\n",
       "      <th>46.0</th>\n",
       "      <td>3</td>\n",
       "    </tr>\n",
       "    <tr>\n",
       "      <th>47.0</th>\n",
       "      <td>2</td>\n",
       "    </tr>\n",
       "    <tr>\n",
       "      <th>52.0</th>\n",
       "      <td>2</td>\n",
       "    </tr>\n",
       "    <tr>\n",
       "      <th>87.0</th>\n",
       "      <td>1</td>\n",
       "    </tr>\n",
       "  </tbody>\n",
       "</table>\n",
       "</div>"
      ],
      "text/plain": [
       "              value_counts\n",
       "SDOT_COLCODE              \n",
       "11.0                 89084\n",
       "14.0                 57015\n",
       "0.0                  16838\n",
       "16.0                 10274\n",
       "28.0                  9335\n",
       "24.0                  7585\n",
       "13.0                  6605\n",
       "26.0                  4958\n",
       "18.0                  3384\n",
       "15.0                  1686\n",
       "12.0                  1679\n",
       "51.0                  1454\n",
       "29.0                   539\n",
       "21.0                   205\n",
       "56.0                   194\n",
       "27.0                   172\n",
       "54.0                   153\n",
       "23.0                   128\n",
       "48.0                   111\n",
       "25.0                   109\n",
       "31.0                   106\n",
       "64.0                    94\n",
       "34.0                    94\n",
       "69.0                    81\n",
       "33.0                    55\n",
       "55.0                    54\n",
       "66.0                    28\n",
       "22.0                    18\n",
       "44.0                    16\n",
       "32.0                    12\n",
       "53.0                     9\n",
       "61.0                     7\n",
       "58.0                     6\n",
       "35.0                     6\n",
       "68.0                     6\n",
       "36.0                     4\n",
       "46.0                     3\n",
       "47.0                     2\n",
       "52.0                     2\n",
       "87.0                     1"
      ]
     },
     "execution_count": 142,
     "metadata": {},
     "output_type": "execute_result"
    }
   ],
   "source": [
    "SDOT_COLCODE_counts = df_cleaned['SDOT_COLCODE'].value_counts().to_frame()\n",
    "SDOT_COLCODE_counts.rename(columns={'SDOT_COLCODE': 'value_counts'}, inplace=True)\n",
    "SDOT_COLCODE_counts.index.name = 'SDOT_COLCODE'\n",
    "SDOT_COLCODE_counts"
   ]
  },
  {
   "cell_type": "markdown",
   "metadata": {},
   "source": [
    "**Conclusion**\n",
    "\n",
    "We see that the distribution of SEVERITYCODE between the different SDOT_COLCODE categories differs; as such SDOT_COLCODE could potentially be a predictor of SEVERITYCODE. However, looking at the value counts for the individual categories, some of them have a little as 1 value count, so the results are skewed. Thus, we are not able to draw any conclusions about the SDOT_COLCODE.\n",
    "\n",
    "***=> SDOT_COLCODE is not a good predictor of SEVERITYCODE.***"
   ]
  },
  {
   "cell_type": "markdown",
   "metadata": {},
   "source": [
    "**5 Relationship between SEVERITYCODE and INATTENTIONIND**"
   ]
  },
  {
   "cell_type": "code",
   "execution_count": 144,
   "metadata": {},
   "outputs": [
    {
     "data": {
      "text/plain": [
       "<matplotlib.axes._subplots.AxesSubplot at 0x1a25eea250>"
      ]
     },
     "execution_count": 144,
     "metadata": {},
     "output_type": "execute_result"
    },
    {
     "data": {
      "image/png": "[encoded data removed]",
      "text/plain": [
       "<Figure size 432x288 with 1 Axes>"
      ]
     },
     "metadata": {
      "needs_background": "light"
     },
     "output_type": "display_data"
    }
   ],
   "source": [
    "sns.boxplot(x=\"INATTENTIONIND\", y=\"SEVERITYCODE\", data=df_cleaned)"
   ]
  },
  {
   "cell_type": "code",
   "execution_count": 143,
   "metadata": {},
   "outputs": [
    {
     "data": {
      "text/html": [
       "<div>\n",
       "<style scoped>\n",
       "    .dataframe tbody tr th:only-of-type {\n",
       "        vertical-align: middle;\n",
       "    }\n",
       "\n",
       "    .dataframe tbody tr th {\n",
       "        vertical-align: top;\n",
       "    }\n",
       "\n",
       "    .dataframe thead th {\n",
       "        text-align: right;\n",
       "    }\n",
       "</style>\n",
       "<table border=\"1\" class=\"dataframe\">\n",
       "  <thead>\n",
       "    <tr style=\"text-align: right;\">\n",
       "      <th></th>\n",
       "      <th>value_counts</th>\n",
       "    </tr>\n",
       "    <tr>\n",
       "      <th>INATTENTIONIND</th>\n",
       "      <th></th>\n",
       "    </tr>\n",
       "  </thead>\n",
       "  <tbody>\n",
       "    <tr>\n",
       "      <th>0.0</th>\n",
       "      <td>181925</td>\n",
       "    </tr>\n",
       "    <tr>\n",
       "      <th>1.0</th>\n",
       "      <td>30187</td>\n",
       "    </tr>\n",
       "  </tbody>\n",
       "</table>\n",
       "</div>"
      ],
      "text/plain": [
       "                value_counts\n",
       "INATTENTIONIND              \n",
       "0.0                   181925\n",
       "1.0                    30187"
      ]
     },
     "execution_count": 143,
     "metadata": {},
     "output_type": "execute_result"
    }
   ],
   "source": [
    "INATTENTIONIND_counts = df_cleaned['INATTENTIONIND'].value_counts().to_frame()\n",
    "INATTENTIONIND_counts.rename(columns={'INATTENTIONIND': 'value_counts'}, inplace=True)\n",
    "INATTENTIONIND_counts.index.name = 'INATTENTIONIND'\n",
    "INATTENTIONIND_counts"
   ]
  },
  {
   "cell_type": "markdown",
   "metadata": {},
   "source": [
    "**Conclusion**\n",
    "\n",
    "The distribution of SEVERITYCODE between the different categories of INATTENTIONIND have significant overlap, but they frequency distribution between the categories is not skewed.\n",
    "\n",
    "***=> Because of the overlap INATTENTIONIND is not a good predictor of SEVERITYCODE.***"
   ]
  },
  {
   "cell_type": "markdown",
   "metadata": {},
   "source": [
    "**6 Relationship between SEVERITYCODE and UNDERINFL**"
   ]
  },
  {
   "cell_type": "code",
   "execution_count": 146,
   "metadata": {},
   "outputs": [
    {
     "data": {
      "text/plain": [
       "<matplotlib.axes._subplots.AxesSubplot at 0x1a25dda350>"
      ]
     },
     "execution_count": 146,
     "metadata": {},
     "output_type": "execute_result"
    },
    {
     "data": {
      "image/png": "[encoded data removed]",
      "text/plain": [
       "<Figure size 432x288 with 1 Axes>"
      ]
     },
     "metadata": {
      "needs_background": "light"
     },
     "output_type": "display_data"
    }
   ],
   "source": [
    "sns.boxplot(x=\"UNDERINFL\", y=\"SEVERITYCODE\", data=df_cleaned)"
   ]
  },
  {
   "cell_type": "code",
   "execution_count": 145,
   "metadata": {},
   "outputs": [
    {
     "data": {
      "text/html": [
       "<div>\n",
       "<style scoped>\n",
       "    .dataframe tbody tr th:only-of-type {\n",
       "        vertical-align: middle;\n",
       "    }\n",
       "\n",
       "    .dataframe tbody tr th {\n",
       "        vertical-align: top;\n",
       "    }\n",
       "\n",
       "    .dataframe thead th {\n",
       "        text-align: right;\n",
       "    }\n",
       "</style>\n",
       "<table border=\"1\" class=\"dataframe\">\n",
       "  <thead>\n",
       "    <tr style=\"text-align: right;\">\n",
       "      <th></th>\n",
       "      <th>value_counts</th>\n",
       "    </tr>\n",
       "    <tr>\n",
       "      <th>UNDERINFL</th>\n",
       "      <th></th>\n",
       "    </tr>\n",
       "  </thead>\n",
       "  <tbody>\n",
       "    <tr>\n",
       "      <th>0.0</th>\n",
       "      <td>202484</td>\n",
       "    </tr>\n",
       "    <tr>\n",
       "      <th>1.0</th>\n",
       "      <td>9628</td>\n",
       "    </tr>\n",
       "  </tbody>\n",
       "</table>\n",
       "</div>"
      ],
      "text/plain": [
       "           value_counts\n",
       "UNDERINFL              \n",
       "0.0              202484\n",
       "1.0                9628"
      ]
     },
     "execution_count": 145,
     "metadata": {},
     "output_type": "execute_result"
    }
   ],
   "source": [
    "UNDERINFL_counts = df_cleaned['UNDERINFL'].value_counts().to_frame()\n",
    "UNDERINFL_counts.rename(columns={'UNDERINFL': 'value_counts'}, inplace=True)\n",
    "UNDERINFL_counts.index.name = 'UNDERINFL'\n",
    "UNDERINFL_counts"
   ]
  },
  {
   "cell_type": "markdown",
   "metadata": {},
   "source": [
    "**Conclusion**\n",
    "\n",
    "The distribution of SEVERITYCODE between the different categories of UNDERINFL have significant overlap, but they frequency distribution between the categories is not skewed.\n",
    "\n",
    "***=> Because of the overlap UNDERINFL is not a good predictor of SEVERITYCODE.***"
   ]
  },
  {
   "cell_type": "markdown",
   "metadata": {},
   "source": [
    "**7 Relationship between SEVERITYCODE and WEATHER**"
   ]
  },
  {
   "cell_type": "code",
   "execution_count": 147,
   "metadata": {},
   "outputs": [
    {
     "data": {
      "text/plain": [
       "<matplotlib.axes._subplots.AxesSubplot at 0x1a25dc8210>"
      ]
     },
     "execution_count": 147,
     "metadata": {},
     "output_type": "execute_result"
    },
    {
     "data": {
      "image/png": "[encoded data removed]",
      "text/plain": [
       "<Figure size 1800x576 with 1 Axes>"
      ]
     },
     "metadata": {
      "needs_background": "light"
     },
     "output_type": "display_data"
    }
   ],
   "source": [
    "plt.figure(figsize=(25, 8))\n",
    "sns.boxplot(x=\"WEATHER\", y=\"SEVERITYCODE\", data=df_cleaned)"
   ]
  },
  {
   "cell_type": "code",
   "execution_count": 148,
   "metadata": {},
   "outputs": [
    {
     "data": {
      "text/html": [
       "<div>\n",
       "<style scoped>\n",
       "    .dataframe tbody tr th:only-of-type {\n",
       "        vertical-align: middle;\n",
       "    }\n",
       "\n",
       "    .dataframe tbody tr th {\n",
       "        vertical-align: top;\n",
       "    }\n",
       "\n",
       "    .dataframe thead th {\n",
       "        text-align: right;\n",
       "    }\n",
       "</style>\n",
       "<table border=\"1\" class=\"dataframe\">\n",
       "  <thead>\n",
       "    <tr style=\"text-align: right;\">\n",
       "      <th></th>\n",
       "      <th>value_counts</th>\n",
       "    </tr>\n",
       "    <tr>\n",
       "      <th>WEATHER</th>\n",
       "      <th></th>\n",
       "    </tr>\n",
       "  </thead>\n",
       "  <tbody>\n",
       "    <tr>\n",
       "      <th>Clear</th>\n",
       "      <td>146973</td>\n",
       "    </tr>\n",
       "    <tr>\n",
       "      <th>Raining</th>\n",
       "      <td>34029</td>\n",
       "    </tr>\n",
       "    <tr>\n",
       "      <th>Overcast</th>\n",
       "      <td>28545</td>\n",
       "    </tr>\n",
       "    <tr>\n",
       "      <th>Snowing</th>\n",
       "      <td>919</td>\n",
       "    </tr>\n",
       "    <tr>\n",
       "      <th>Other</th>\n",
       "      <td>860</td>\n",
       "    </tr>\n",
       "    <tr>\n",
       "      <th>Fog/Smog/Smoke</th>\n",
       "      <td>577</td>\n",
       "    </tr>\n",
       "    <tr>\n",
       "      <th>Sleet/Hail/Freezing Rain</th>\n",
       "      <td>116</td>\n",
       "    </tr>\n",
       "    <tr>\n",
       "      <th>Blowing Sand/Dirt</th>\n",
       "      <td>56</td>\n",
       "    </tr>\n",
       "    <tr>\n",
       "      <th>Severe Crosswind</th>\n",
       "      <td>26</td>\n",
       "    </tr>\n",
       "    <tr>\n",
       "      <th>Partly Cloudy</th>\n",
       "      <td>10</td>\n",
       "    </tr>\n",
       "    <tr>\n",
       "      <th>Blowing Snow</th>\n",
       "      <td>1</td>\n",
       "    </tr>\n",
       "  </tbody>\n",
       "</table>\n",
       "</div>"
      ],
      "text/plain": [
       "                          value_counts\n",
       "WEATHER                               \n",
       "Clear                           146973\n",
       "Raining                          34029\n",
       "Overcast                         28545\n",
       "Snowing                            919\n",
       "Other                              860\n",
       "Fog/Smog/Smoke                     577\n",
       "Sleet/Hail/Freezing Rain           116\n",
       "Blowing Sand/Dirt                   56\n",
       "Severe Crosswind                    26\n",
       "Partly Cloudy                       10\n",
       "Blowing Snow                         1"
      ]
     },
     "execution_count": 148,
     "metadata": {},
     "output_type": "execute_result"
    }
   ],
   "source": [
    "WEATHER_counts = df_cleaned['WEATHER'].value_counts().to_frame()\n",
    "WEATHER_counts.rename(columns={'WEATHER': 'value_counts'}, inplace=True)\n",
    "WEATHER_counts.index.name = 'WEATHER'\n",
    "WEATHER_counts"
   ]
  },
  {
   "cell_type": "markdown",
   "metadata": {},
   "source": [
    "**Conclusion**\n",
    "\n",
    "We see that the distribution of SEVERITYCODE between the different WEATHER categories differs; as such WEATHER could potentially be a predictor of SEVERITYCODE. However, looking at the value counts for the individual categories, some of them have a little as 1 value count, so the results are skewed. Thus, we are not able to draw any conclusions about the WEATHER.\n",
    "\n",
    "***=> WEATHER is not a good predictor of SEVERITYCODE.***"
   ]
  },
  {
   "cell_type": "markdown",
   "metadata": {},
   "source": [
    "**8 Relationship between SEVERITYCODE and ROADCOND**"
   ]
  },
  {
   "cell_type": "code",
   "execution_count": 149,
   "metadata": {},
   "outputs": [
    {
     "data": {
      "text/plain": [
       "<matplotlib.axes._subplots.AxesSubplot at 0x1a25d0b610>"
      ]
     },
     "execution_count": 149,
     "metadata": {},
     "output_type": "execute_result"
    },
    {
     "data": {
      "image/png": "[encoded data removed]",
      "text/plain": [
       "<Figure size 1800x576 with 1 Axes>"
      ]
     },
     "metadata": {
      "needs_background": "light"
     },
     "output_type": "display_data"
    }
   ],
   "source": [
    "plt.figure(figsize=(25, 8))\n",
    "sns.boxplot(x=\"ROADCOND\", y=\"SEVERITYCODE\", data=df_cleaned)"
   ]
  },
  {
   "cell_type": "code",
   "execution_count": 151,
   "metadata": {},
   "outputs": [
    {
     "data": {
      "text/html": [
       "<div>\n",
       "<style scoped>\n",
       "    .dataframe tbody tr th:only-of-type {\n",
       "        vertical-align: middle;\n",
       "    }\n",
       "\n",
       "    .dataframe tbody tr th {\n",
       "        vertical-align: top;\n",
       "    }\n",
       "\n",
       "    .dataframe thead th {\n",
       "        text-align: right;\n",
       "    }\n",
       "</style>\n",
       "<table border=\"1\" class=\"dataframe\">\n",
       "  <thead>\n",
       "    <tr style=\"text-align: right;\">\n",
       "      <th></th>\n",
       "      <th>value_counts</th>\n",
       "    </tr>\n",
       "    <tr>\n",
       "      <th>ROADCOND</th>\n",
       "      <th></th>\n",
       "    </tr>\n",
       "  </thead>\n",
       "  <tbody>\n",
       "    <tr>\n",
       "      <th>Dry</th>\n",
       "      <td>160748</td>\n",
       "    </tr>\n",
       "    <tr>\n",
       "      <th>Wet</th>\n",
       "      <td>48723</td>\n",
       "    </tr>\n",
       "    <tr>\n",
       "      <th>Ice</th>\n",
       "      <td>1231</td>\n",
       "    </tr>\n",
       "    <tr>\n",
       "      <th>Snow/Slush</th>\n",
       "      <td>1014</td>\n",
       "    </tr>\n",
       "    <tr>\n",
       "      <th>Other</th>\n",
       "      <td>136</td>\n",
       "    </tr>\n",
       "    <tr>\n",
       "      <th>Standing Water</th>\n",
       "      <td>119</td>\n",
       "    </tr>\n",
       "    <tr>\n",
       "      <th>Sand/Mud/Dirt</th>\n",
       "      <td>77</td>\n",
       "    </tr>\n",
       "    <tr>\n",
       "      <th>Oil</th>\n",
       "      <td>64</td>\n",
       "    </tr>\n",
       "  </tbody>\n",
       "</table>\n",
       "</div>"
      ],
      "text/plain": [
       "                value_counts\n",
       "ROADCOND                    \n",
       "Dry                   160748\n",
       "Wet                    48723\n",
       "Ice                     1231\n",
       "Snow/Slush              1014\n",
       "Other                    136\n",
       "Standing Water           119\n",
       "Sand/Mud/Dirt             77\n",
       "Oil                       64"
      ]
     },
     "execution_count": 151,
     "metadata": {},
     "output_type": "execute_result"
    }
   ],
   "source": [
    "ROADCOND_counts = df_cleaned['ROADCOND'].value_counts().to_frame()\n",
    "ROADCOND_counts.rename(columns={'ROADCOND': 'value_counts'}, inplace=True)\n",
    "ROADCOND_counts.index.name = 'ROADCOND'\n",
    "ROADCOND_counts"
   ]
  },
  {
   "cell_type": "markdown",
   "metadata": {},
   "source": [
    "**Conclusion**\n",
    "\n",
    "The distribution of SEVERITYCODE between the different categories of ROADCOND have significant overlap, but they frequency distribution between the categories is not skewed.\n",
    "\n",
    "***=> Because of the overlap ROADCOND is not a good predictor of SEVERITYCODE.***"
   ]
  },
  {
   "cell_type": "markdown",
   "metadata": {},
   "source": [
    "**9 Relationship between SEVERITYCODE and LIGHTCOND**"
   ]
  },
  {
   "cell_type": "code",
   "execution_count": 152,
   "metadata": {
    "scrolled": true
   },
   "outputs": [
    {
     "data": {
      "text/plain": [
       "<matplotlib.axes._subplots.AxesSubplot at 0x1a25ce9590>"
      ]
     },
     "execution_count": 152,
     "metadata": {},
     "output_type": "execute_result"
    },
    {
     "data": {
      "image/png": "[encoded data removed]",
      "text/plain": [
       "<Figure size 1800x576 with 1 Axes>"
      ]
     },
     "metadata": {
      "needs_background": "light"
     },
     "output_type": "display_data"
    }
   ],
   "source": [
    "plt.figure(figsize=(25, 8))\n",
    "sns.boxplot(x=\"LIGHTCOND\", y=\"SEVERITYCODE\", data=df_cleaned)"
   ]
  },
  {
   "cell_type": "code",
   "execution_count": 153,
   "metadata": {},
   "outputs": [
    {
     "data": {
      "text/html": [
       "<div>\n",
       "<style scoped>\n",
       "    .dataframe tbody tr th:only-of-type {\n",
       "        vertical-align: middle;\n",
       "    }\n",
       "\n",
       "    .dataframe tbody tr th {\n",
       "        vertical-align: top;\n",
       "    }\n",
       "\n",
       "    .dataframe thead th {\n",
       "        text-align: right;\n",
       "    }\n",
       "</style>\n",
       "<table border=\"1\" class=\"dataframe\">\n",
       "  <thead>\n",
       "    <tr style=\"text-align: right;\">\n",
       "      <th></th>\n",
       "      <th>value_counts</th>\n",
       "    </tr>\n",
       "    <tr>\n",
       "      <th>LIGHTCOND</th>\n",
       "      <th></th>\n",
       "    </tr>\n",
       "  </thead>\n",
       "  <tbody>\n",
       "    <tr>\n",
       "      <th>Daylight</th>\n",
       "      <td>127944</td>\n",
       "    </tr>\n",
       "    <tr>\n",
       "      <th>Dark - Street Lights On</th>\n",
       "      <td>50130</td>\n",
       "    </tr>\n",
       "    <tr>\n",
       "      <th>Dark - Unknown Lighting</th>\n",
       "      <td>22288</td>\n",
       "    </tr>\n",
       "    <tr>\n",
       "      <th>Dusk</th>\n",
       "      <td>6081</td>\n",
       "    </tr>\n",
       "    <tr>\n",
       "      <th>Dawn</th>\n",
       "      <td>2608</td>\n",
       "    </tr>\n",
       "    <tr>\n",
       "      <th>Dark - No Street Lights</th>\n",
       "      <td>1578</td>\n",
       "    </tr>\n",
       "    <tr>\n",
       "      <th>Dark - Street Lights Off</th>\n",
       "      <td>1239</td>\n",
       "    </tr>\n",
       "    <tr>\n",
       "      <th>Other</th>\n",
       "      <td>244</td>\n",
       "    </tr>\n",
       "  </tbody>\n",
       "</table>\n",
       "</div>"
      ],
      "text/plain": [
       "                          value_counts\n",
       "LIGHTCOND                             \n",
       "Daylight                        127944\n",
       "Dark - Street Lights On          50130\n",
       "Dark - Unknown Lighting          22288\n",
       "Dusk                              6081\n",
       "Dawn                              2608\n",
       "Dark - No Street Lights           1578\n",
       "Dark - Street Lights Off          1239\n",
       "Other                              244"
      ]
     },
     "execution_count": 153,
     "metadata": {},
     "output_type": "execute_result"
    }
   ],
   "source": [
    "LIGHTCOND_counts = df_cleaned['LIGHTCOND'].value_counts().to_frame()\n",
    "LIGHTCOND_counts.rename(columns={'LIGHTCOND': 'value_counts'}, inplace=True)\n",
    "LIGHTCOND_counts.index.name = 'LIGHTCOND'\n",
    "LIGHTCOND_counts"
   ]
  },
  {
   "cell_type": "markdown",
   "metadata": {},
   "source": [
    "**Conclusion**\n",
    "\n",
    "The distribution of SEVERITYCODE between the different categories of LIGHTCOND have significant overlap, but they frequency distribution between the categories is not skewed.\n",
    "\n",
    "***=> Because of the overlap LIGHTCOND is not a good predictor of SEVERITYCODE.***"
   ]
  },
  {
   "cell_type": "markdown",
   "metadata": {},
   "source": [
    "**10 Relationship between SEVERITYCODE and PEDROWNOTGRNT**"
   ]
  },
  {
   "cell_type": "code",
   "execution_count": 154,
   "metadata": {},
   "outputs": [
    {
     "data": {
      "text/plain": [
       "<matplotlib.axes._subplots.AxesSubplot at 0x1a25cc8ed0>"
      ]
     },
     "execution_count": 154,
     "metadata": {},
     "output_type": "execute_result"
    },
    {
     "data": {
      "image/png": "[encoded data removed]",
      "text/plain": [
       "<Figure size 432x288 with 1 Axes>"
      ]
     },
     "metadata": {
      "needs_background": "light"
     },
     "output_type": "display_data"
    }
   ],
   "source": [
    "sns.boxplot(x=\"PEDROWNOTGRNT\", y=\"SEVERITYCODE\", data=df_cleaned)"
   ]
  },
  {
   "cell_type": "code",
   "execution_count": 155,
   "metadata": {},
   "outputs": [
    {
     "data": {
      "text/html": [
       "<div>\n",
       "<style scoped>\n",
       "    .dataframe tbody tr th:only-of-type {\n",
       "        vertical-align: middle;\n",
       "    }\n",
       "\n",
       "    .dataframe tbody tr th {\n",
       "        vertical-align: top;\n",
       "    }\n",
       "\n",
       "    .dataframe thead th {\n",
       "        text-align: right;\n",
       "    }\n",
       "</style>\n",
       "<table border=\"1\" class=\"dataframe\">\n",
       "  <thead>\n",
       "    <tr style=\"text-align: right;\">\n",
       "      <th></th>\n",
       "      <th>value_counts</th>\n",
       "    </tr>\n",
       "    <tr>\n",
       "      <th>PEDROWNOTGRNT</th>\n",
       "      <th></th>\n",
       "    </tr>\n",
       "  </thead>\n",
       "  <tbody>\n",
       "    <tr>\n",
       "      <th>0.0</th>\n",
       "      <td>206921</td>\n",
       "    </tr>\n",
       "    <tr>\n",
       "      <th>1.0</th>\n",
       "      <td>5191</td>\n",
       "    </tr>\n",
       "  </tbody>\n",
       "</table>\n",
       "</div>"
      ],
      "text/plain": [
       "               value_counts\n",
       "PEDROWNOTGRNT              \n",
       "0.0                  206921\n",
       "1.0                    5191"
      ]
     },
     "execution_count": 155,
     "metadata": {},
     "output_type": "execute_result"
    }
   ],
   "source": [
    "PEDROWNOTGRNT_counts = df_cleaned['PEDROWNOTGRNT'].value_counts().to_frame()\n",
    "PEDROWNOTGRNT_counts.rename(columns={'PEDROWNOTGRNT': 'value_counts'}, inplace=True)\n",
    "PEDROWNOTGRNT_counts.index.name = 'PEDROWNOTGRNT'\n",
    "PEDROWNOTGRNT_counts"
   ]
  },
  {
   "cell_type": "markdown",
   "metadata": {},
   "source": [
    "**Conclusion**\n",
    "\n",
    "The distribution of SEVERITYCODE between the different PEDROWNOTGRNT categories differs and frequency distribution between the categories is acceptable.\n",
    "\n",
    "***=> PEDROWNOTGRNT is a good predictor of SEVERITYCODE.***"
   ]
  },
  {
   "cell_type": "markdown",
   "metadata": {},
   "source": [
    "**11 Relationship between SEVERITYCODE and SPEEDING**"
   ]
  },
  {
   "cell_type": "code",
   "execution_count": 156,
   "metadata": {},
   "outputs": [
    {
     "data": {
      "text/plain": [
       "<matplotlib.axes._subplots.AxesSubplot at 0x1a25cb8e50>"
      ]
     },
     "execution_count": 156,
     "metadata": {},
     "output_type": "execute_result"
    },
    {
     "data": {
      "image/png": "[encoded data removed]",
      "text/plain": [
       "<Figure size 432x288 with 1 Axes>"
      ]
     },
     "metadata": {
      "needs_background": "light"
     },
     "output_type": "display_data"
    }
   ],
   "source": [
    "sns.boxplot(x=\"SPEEDING\", y=\"SEVERITYCODE\", data=df_cleaned)"
   ]
  },
  {
   "cell_type": "code",
   "execution_count": 157,
   "metadata": {},
   "outputs": [
    {
     "data": {
      "text/html": [
       "<div>\n",
       "<style scoped>\n",
       "    .dataframe tbody tr th:only-of-type {\n",
       "        vertical-align: middle;\n",
       "    }\n",
       "\n",
       "    .dataframe tbody tr th {\n",
       "        vertical-align: top;\n",
       "    }\n",
       "\n",
       "    .dataframe thead th {\n",
       "        text-align: right;\n",
       "    }\n",
       "</style>\n",
       "<table border=\"1\" class=\"dataframe\">\n",
       "  <thead>\n",
       "    <tr style=\"text-align: right;\">\n",
       "      <th></th>\n",
       "      <th>value_counts</th>\n",
       "    </tr>\n",
       "    <tr>\n",
       "      <th>SPEEDING</th>\n",
       "      <th></th>\n",
       "    </tr>\n",
       "  </thead>\n",
       "  <tbody>\n",
       "    <tr>\n",
       "      <th>0.0</th>\n",
       "      <td>202184</td>\n",
       "    </tr>\n",
       "    <tr>\n",
       "      <th>1.0</th>\n",
       "      <td>9928</td>\n",
       "    </tr>\n",
       "  </tbody>\n",
       "</table>\n",
       "</div>"
      ],
      "text/plain": [
       "          value_counts\n",
       "SPEEDING              \n",
       "0.0             202184\n",
       "1.0               9928"
      ]
     },
     "execution_count": 157,
     "metadata": {},
     "output_type": "execute_result"
    }
   ],
   "source": [
    "SPEEDING_counts = df_cleaned['SPEEDING'].value_counts().to_frame()\n",
    "SPEEDING_counts.rename(columns={'SPEEDING': 'value_counts'}, inplace=True)\n",
    "SPEEDING_counts.index.name = 'SPEEDING'\n",
    "SPEEDING_counts"
   ]
  },
  {
   "cell_type": "markdown",
   "metadata": {},
   "source": [
    "**Conclusion**\n",
    "\n",
    "The distribution of SEVERITYCODE between the different categories of SPEEDING have significant overlap, but they frequency distribution between the categories is not skewed.\n",
    "\n",
    "***=> Because of the overlap SPEEDING is not a good predictor of SEVERITYCODE.***"
   ]
  },
  {
   "cell_type": "markdown",
   "metadata": {},
   "source": [
    "**12 Relationship between SEVERITYCODE and HITPARKEDCAR**"
   ]
  },
  {
   "cell_type": "code",
   "execution_count": 158,
   "metadata": {},
   "outputs": [
    {
     "data": {
      "text/plain": [
       "<matplotlib.axes._subplots.AxesSubplot at 0x1a25ca6c90>"
      ]
     },
     "execution_count": 158,
     "metadata": {},
     "output_type": "execute_result"
    },
    {
     "data": {
      "image/png": "[encoded data removed]",
      "text/plain": [
       "<Figure size 432x288 with 1 Axes>"
      ]
     },
     "metadata": {
      "needs_background": "light"
     },
     "output_type": "display_data"
    }
   ],
   "source": [
    "sns.boxplot(x=\"HITPARKEDCAR\", y=\"SEVERITYCODE\", data=df_cleaned)"
   ]
  },
  {
   "cell_type": "code",
   "execution_count": 159,
   "metadata": {},
   "outputs": [
    {
     "data": {
      "text/html": [
       "<div>\n",
       "<style scoped>\n",
       "    .dataframe tbody tr th:only-of-type {\n",
       "        vertical-align: middle;\n",
       "    }\n",
       "\n",
       "    .dataframe tbody tr th {\n",
       "        vertical-align: top;\n",
       "    }\n",
       "\n",
       "    .dataframe thead th {\n",
       "        text-align: right;\n",
       "    }\n",
       "</style>\n",
       "<table border=\"1\" class=\"dataframe\">\n",
       "  <thead>\n",
       "    <tr style=\"text-align: right;\">\n",
       "      <th></th>\n",
       "      <th>value_counts</th>\n",
       "    </tr>\n",
       "    <tr>\n",
       "      <th>HITPARKEDCAR</th>\n",
       "      <th></th>\n",
       "    </tr>\n",
       "  </thead>\n",
       "  <tbody>\n",
       "    <tr>\n",
       "      <th>0</th>\n",
       "      <td>200079</td>\n",
       "    </tr>\n",
       "    <tr>\n",
       "      <th>1</th>\n",
       "      <td>12033</td>\n",
       "    </tr>\n",
       "  </tbody>\n",
       "</table>\n",
       "</div>"
      ],
      "text/plain": [
       "              value_counts\n",
       "HITPARKEDCAR              \n",
       "0                   200079\n",
       "1                    12033"
      ]
     },
     "execution_count": 159,
     "metadata": {},
     "output_type": "execute_result"
    }
   ],
   "source": [
    "HITPARKEDCAR_counts = df_cleaned['HITPARKEDCAR'].value_counts().to_frame()\n",
    "HITPARKEDCAR_counts.rename(columns={'HITPARKEDCAR': 'value_counts'}, inplace=True)\n",
    "HITPARKEDCAR_counts.index.name = 'HITPARKEDCAR'\n",
    "HITPARKEDCAR_counts"
   ]
  },
  {
   "cell_type": "markdown",
   "metadata": {},
   "source": [
    "**Conclusion**\n",
    "\n",
    "The distribution of SEVERITYCODE between the different HITPARKEDCAR categories differs and frequency distribution between the categories is acceptable.\n",
    "\n",
    "***=> HITPARKEDCAR is a good predictor of SEVERITYCODE.***"
   ]
  },
  {
   "cell_type": "markdown",
   "metadata": {},
   "source": [
    "**13 Relationship between SEVERITYCODE and YEAR**"
   ]
  },
  {
   "cell_type": "code",
   "execution_count": 160,
   "metadata": {},
   "outputs": [
    {
     "data": {
      "text/plain": [
       "<matplotlib.axes._subplots.AxesSubplot at 0x1a25c96290>"
      ]
     },
     "execution_count": 160,
     "metadata": {},
     "output_type": "execute_result"
    },
    {
     "data": {
      "image/png": "[encoded data removed]",
      "text/plain": [
       "<Figure size 1440x576 with 1 Axes>"
      ]
     },
     "metadata": {
      "needs_background": "light"
     },
     "output_type": "display_data"
    }
   ],
   "source": [
    "plt.figure(figsize=(20, 8))\n",
    "sns.boxplot(x=\"YEAR\", y=\"SEVERITYCODE\", data=df_cleaned)"
   ]
  },
  {
   "cell_type": "code",
   "execution_count": 161,
   "metadata": {},
   "outputs": [
    {
     "data": {
      "text/html": [
       "<div>\n",
       "<style scoped>\n",
       "    .dataframe tbody tr th:only-of-type {\n",
       "        vertical-align: middle;\n",
       "    }\n",
       "\n",
       "    .dataframe tbody tr th {\n",
       "        vertical-align: top;\n",
       "    }\n",
       "\n",
       "    .dataframe thead th {\n",
       "        text-align: right;\n",
       "    }\n",
       "</style>\n",
       "<table border=\"1\" class=\"dataframe\">\n",
       "  <thead>\n",
       "    <tr style=\"text-align: right;\">\n",
       "      <th></th>\n",
       "      <th>value_counts</th>\n",
       "    </tr>\n",
       "    <tr>\n",
       "      <th>YEAR</th>\n",
       "      <th></th>\n",
       "    </tr>\n",
       "  </thead>\n",
       "  <tbody>\n",
       "    <tr>\n",
       "      <th>2006</th>\n",
       "      <td>15525</td>\n",
       "    </tr>\n",
       "    <tr>\n",
       "      <th>2005</th>\n",
       "      <td>15349</td>\n",
       "    </tr>\n",
       "    <tr>\n",
       "      <th>2007</th>\n",
       "      <td>14730</td>\n",
       "    </tr>\n",
       "    <tr>\n",
       "      <th>2015</th>\n",
       "      <td>14260</td>\n",
       "    </tr>\n",
       "    <tr>\n",
       "      <th>2016</th>\n",
       "      <td>13955</td>\n",
       "    </tr>\n",
       "    <tr>\n",
       "      <th>2008</th>\n",
       "      <td>13879</td>\n",
       "    </tr>\n",
       "    <tr>\n",
       "      <th>2014</th>\n",
       "      <td>13212</td>\n",
       "    </tr>\n",
       "    <tr>\n",
       "      <th>2013</th>\n",
       "      <td>12752</td>\n",
       "    </tr>\n",
       "    <tr>\n",
       "      <th>2017</th>\n",
       "      <td>12477</td>\n",
       "    </tr>\n",
       "    <tr>\n",
       "      <th>2018</th>\n",
       "      <td>12179</td>\n",
       "    </tr>\n",
       "    <tr>\n",
       "      <th>2004</th>\n",
       "      <td>12117</td>\n",
       "    </tr>\n",
       "    <tr>\n",
       "      <th>2009</th>\n",
       "      <td>11964</td>\n",
       "    </tr>\n",
       "    <tr>\n",
       "      <th>2012</th>\n",
       "      <td>11469</td>\n",
       "    </tr>\n",
       "    <tr>\n",
       "      <th>2011</th>\n",
       "      <td>11419</td>\n",
       "    </tr>\n",
       "    <tr>\n",
       "      <th>2019</th>\n",
       "      <td>11204</td>\n",
       "    </tr>\n",
       "    <tr>\n",
       "      <th>2010</th>\n",
       "      <td>11029</td>\n",
       "    </tr>\n",
       "    <tr>\n",
       "      <th>2020</th>\n",
       "      <td>4592</td>\n",
       "    </tr>\n",
       "  </tbody>\n",
       "</table>\n",
       "</div>"
      ],
      "text/plain": [
       "      value_counts\n",
       "YEAR              \n",
       "2006         15525\n",
       "2005         15349\n",
       "2007         14730\n",
       "2015         14260\n",
       "2016         13955\n",
       "2008         13879\n",
       "2014         13212\n",
       "2013         12752\n",
       "2017         12477\n",
       "2018         12179\n",
       "2004         12117\n",
       "2009         11964\n",
       "2012         11469\n",
       "2011         11419\n",
       "2019         11204\n",
       "2010         11029\n",
       "2020          4592"
      ]
     },
     "execution_count": 161,
     "metadata": {},
     "output_type": "execute_result"
    }
   ],
   "source": [
    "YEAR_counts = df_cleaned['YEAR'].value_counts().to_frame()\n",
    "YEAR_counts.rename(columns={'YEAR': 'value_counts'}, inplace=True)\n",
    "YEAR_counts.index.name = 'YEAR'\n",
    "YEAR_counts"
   ]
  },
  {
   "cell_type": "markdown",
   "metadata": {},
   "source": [
    "**Conclusion**\n",
    "\n",
    "The distribution of SEVERITYCODE between the different categories of YEAR have significant overlap, but they frequency distribution between the categories is not overly skewed.\n",
    "\n",
    "***=> Because of the overlap YEAR is not a good predictor of SEVERITYCODE.***"
   ]
  },
  {
   "cell_type": "markdown",
   "metadata": {},
   "source": [
    "**14 Relationship between SEVERITYCODE and MONTH**"
   ]
  },
  {
   "cell_type": "code",
   "execution_count": 162,
   "metadata": {},
   "outputs": [
    {
     "data": {
      "text/plain": [
       "<matplotlib.axes._subplots.AxesSubplot at 0x1a25c96590>"
      ]
     },
     "execution_count": 162,
     "metadata": {},
     "output_type": "execute_result"
    },
    {
     "data": {
      "image/png": "[encoded data removed]",
      "text/plain": [
       "<Figure size 1440x576 with 1 Axes>"
      ]
     },
     "metadata": {
      "needs_background": "light"
     },
     "output_type": "display_data"
    }
   ],
   "source": [
    "plt.figure(figsize=(20, 8))\n",
    "sns.boxplot(x=\"MONTH\", y=\"SEVERITYCODE\", data=df_cleaned)"
   ]
  },
  {
   "cell_type": "code",
   "execution_count": 163,
   "metadata": {},
   "outputs": [
    {
     "data": {
      "text/html": [
       "<div>\n",
       "<style scoped>\n",
       "    .dataframe tbody tr th:only-of-type {\n",
       "        vertical-align: middle;\n",
       "    }\n",
       "\n",
       "    .dataframe tbody tr th {\n",
       "        vertical-align: top;\n",
       "    }\n",
       "\n",
       "    .dataframe thead th {\n",
       "        text-align: right;\n",
       "    }\n",
       "</style>\n",
       "<table border=\"1\" class=\"dataframe\">\n",
       "  <thead>\n",
       "    <tr style=\"text-align: right;\">\n",
       "      <th></th>\n",
       "      <th>value_counts</th>\n",
       "    </tr>\n",
       "    <tr>\n",
       "      <th>MONTH</th>\n",
       "      <th></th>\n",
       "    </tr>\n",
       "  </thead>\n",
       "  <tbody>\n",
       "    <tr>\n",
       "      <th>Oct</th>\n",
       "      <td>19155</td>\n",
       "    </tr>\n",
       "    <tr>\n",
       "      <th>May</th>\n",
       "      <td>18472</td>\n",
       "    </tr>\n",
       "    <tr>\n",
       "      <th>Jun</th>\n",
       "      <td>18379</td>\n",
       "    </tr>\n",
       "    <tr>\n",
       "      <th>Jul</th>\n",
       "      <td>18267</td>\n",
       "    </tr>\n",
       "    <tr>\n",
       "      <th>Aug</th>\n",
       "      <td>18054</td>\n",
       "    </tr>\n",
       "    <tr>\n",
       "      <th>Nov</th>\n",
       "      <td>17850</td>\n",
       "    </tr>\n",
       "    <tr>\n",
       "      <th>Jan</th>\n",
       "      <td>17771</td>\n",
       "    </tr>\n",
       "    <tr>\n",
       "      <th>Mar</th>\n",
       "      <td>17429</td>\n",
       "    </tr>\n",
       "    <tr>\n",
       "      <th>Apr</th>\n",
       "      <td>17315</td>\n",
       "    </tr>\n",
       "    <tr>\n",
       "      <th>Sep</th>\n",
       "      <td>17237</td>\n",
       "    </tr>\n",
       "    <tr>\n",
       "      <th>Dec</th>\n",
       "      <td>16558</td>\n",
       "    </tr>\n",
       "    <tr>\n",
       "      <th>Feb</th>\n",
       "      <td>15625</td>\n",
       "    </tr>\n",
       "  </tbody>\n",
       "</table>\n",
       "</div>"
      ],
      "text/plain": [
       "       value_counts\n",
       "MONTH              \n",
       "Oct           19155\n",
       "May           18472\n",
       "Jun           18379\n",
       "Jul           18267\n",
       "Aug           18054\n",
       "Nov           17850\n",
       "Jan           17771\n",
       "Mar           17429\n",
       "Apr           17315\n",
       "Sep           17237\n",
       "Dec           16558\n",
       "Feb           15625"
      ]
     },
     "execution_count": 163,
     "metadata": {},
     "output_type": "execute_result"
    }
   ],
   "source": [
    "MONTH_counts = df_cleaned['MONTH'].value_counts().to_frame()\n",
    "MONTH_counts.rename(columns={'MONTH': 'value_counts'}, inplace=True)\n",
    "MONTH_counts.index.name = 'MONTH'\n",
    "MONTH_counts"
   ]
  },
  {
   "cell_type": "markdown",
   "metadata": {},
   "source": [
    "**Conclusion**\n",
    "\n",
    "The distribution of SEVERITYCODE between the different categories of MONTH have significant overlap, but they frequency distribution between the categories is not overly skewed.\n",
    "\n",
    "***=> Because of the overlap MONTH is not a good predictor of SEVERITYCODE.***"
   ]
  },
  {
   "cell_type": "markdown",
   "metadata": {},
   "source": [
    "**15 Relationship between SEVERITYCODE and DAY**"
   ]
  },
  {
   "cell_type": "code",
   "execution_count": 164,
   "metadata": {},
   "outputs": [
    {
     "data": {
      "text/plain": [
       "<matplotlib.axes._subplots.AxesSubplot at 0x1a25c31cd0>"
      ]
     },
     "execution_count": 164,
     "metadata": {},
     "output_type": "execute_result"
    },
    {
     "data": {
      "image/png": "[encoded data removed]",
      "text/plain": [
       "<Figure size 1440x576 with 1 Axes>"
      ]
     },
     "metadata": {
      "needs_background": "light"
     },
     "output_type": "display_data"
    }
   ],
   "source": [
    "plt.figure(figsize=(20, 8))\n",
    "sns.boxplot(x=\"DAY\", y=\"SEVERITYCODE\", data=df_cleaned)"
   ]
  },
  {
   "cell_type": "code",
   "execution_count": 165,
   "metadata": {},
   "outputs": [
    {
     "data": {
      "text/html": [
       "<div>\n",
       "<style scoped>\n",
       "    .dataframe tbody tr th:only-of-type {\n",
       "        vertical-align: middle;\n",
       "    }\n",
       "\n",
       "    .dataframe tbody tr th {\n",
       "        vertical-align: top;\n",
       "    }\n",
       "\n",
       "    .dataframe thead th {\n",
       "        text-align: right;\n",
       "    }\n",
       "</style>\n",
       "<table border=\"1\" class=\"dataframe\">\n",
       "  <thead>\n",
       "    <tr style=\"text-align: right;\">\n",
       "      <th></th>\n",
       "      <th>value_counts</th>\n",
       "    </tr>\n",
       "    <tr>\n",
       "      <th>DAY</th>\n",
       "      <th></th>\n",
       "    </tr>\n",
       "  </thead>\n",
       "  <tbody>\n",
       "    <tr>\n",
       "      <th>15</th>\n",
       "      <td>7298</td>\n",
       "    </tr>\n",
       "    <tr>\n",
       "      <th>1</th>\n",
       "      <td>7224</td>\n",
       "    </tr>\n",
       "    <tr>\n",
       "      <th>5</th>\n",
       "      <td>7208</td>\n",
       "    </tr>\n",
       "    <tr>\n",
       "      <th>8</th>\n",
       "      <td>7122</td>\n",
       "    </tr>\n",
       "    <tr>\n",
       "      <th>13</th>\n",
       "      <td>7107</td>\n",
       "    </tr>\n",
       "    <tr>\n",
       "      <th>9</th>\n",
       "      <td>7097</td>\n",
       "    </tr>\n",
       "    <tr>\n",
       "      <th>2</th>\n",
       "      <td>7096</td>\n",
       "    </tr>\n",
       "    <tr>\n",
       "      <th>10</th>\n",
       "      <td>7075</td>\n",
       "    </tr>\n",
       "    <tr>\n",
       "      <th>20</th>\n",
       "      <td>7057</td>\n",
       "    </tr>\n",
       "    <tr>\n",
       "      <th>12</th>\n",
       "      <td>7056</td>\n",
       "    </tr>\n",
       "    <tr>\n",
       "      <th>6</th>\n",
       "      <td>7050</td>\n",
       "    </tr>\n",
       "    <tr>\n",
       "      <th>14</th>\n",
       "      <td>7028</td>\n",
       "    </tr>\n",
       "    <tr>\n",
       "      <th>7</th>\n",
       "      <td>7002</td>\n",
       "    </tr>\n",
       "    <tr>\n",
       "      <th>11</th>\n",
       "      <td>6998</td>\n",
       "    </tr>\n",
       "    <tr>\n",
       "      <th>3</th>\n",
       "      <td>6971</td>\n",
       "    </tr>\n",
       "    <tr>\n",
       "      <th>22</th>\n",
       "      <td>6955</td>\n",
       "    </tr>\n",
       "    <tr>\n",
       "      <th>4</th>\n",
       "      <td>6951</td>\n",
       "    </tr>\n",
       "    <tr>\n",
       "      <th>18</th>\n",
       "      <td>6946</td>\n",
       "    </tr>\n",
       "    <tr>\n",
       "      <th>28</th>\n",
       "      <td>6942</td>\n",
       "    </tr>\n",
       "    <tr>\n",
       "      <th>17</th>\n",
       "      <td>6922</td>\n",
       "    </tr>\n",
       "    <tr>\n",
       "      <th>19</th>\n",
       "      <td>6921</td>\n",
       "    </tr>\n",
       "    <tr>\n",
       "      <th>21</th>\n",
       "      <td>6897</td>\n",
       "    </tr>\n",
       "    <tr>\n",
       "      <th>16</th>\n",
       "      <td>6867</td>\n",
       "    </tr>\n",
       "    <tr>\n",
       "      <th>27</th>\n",
       "      <td>6842</td>\n",
       "    </tr>\n",
       "    <tr>\n",
       "      <th>23</th>\n",
       "      <td>6841</td>\n",
       "    </tr>\n",
       "    <tr>\n",
       "      <th>26</th>\n",
       "      <td>6698</td>\n",
       "    </tr>\n",
       "    <tr>\n",
       "      <th>24</th>\n",
       "      <td>6589</td>\n",
       "    </tr>\n",
       "    <tr>\n",
       "      <th>25</th>\n",
       "      <td>6501</td>\n",
       "    </tr>\n",
       "    <tr>\n",
       "      <th>29</th>\n",
       "      <td>6414</td>\n",
       "    </tr>\n",
       "    <tr>\n",
       "      <th>30</th>\n",
       "      <td>6300</td>\n",
       "    </tr>\n",
       "    <tr>\n",
       "      <th>31</th>\n",
       "      <td>4137</td>\n",
       "    </tr>\n",
       "  </tbody>\n",
       "</table>\n",
       "</div>"
      ],
      "text/plain": [
       "     value_counts\n",
       "DAY              \n",
       "15           7298\n",
       "1            7224\n",
       "5            7208\n",
       "8            7122\n",
       "13           7107\n",
       "9            7097\n",
       "2            7096\n",
       "10           7075\n",
       "20           7057\n",
       "12           7056\n",
       "6            7050\n",
       "14           7028\n",
       "7            7002\n",
       "11           6998\n",
       "3            6971\n",
       "22           6955\n",
       "4            6951\n",
       "18           6946\n",
       "28           6942\n",
       "17           6922\n",
       "19           6921\n",
       "21           6897\n",
       "16           6867\n",
       "27           6842\n",
       "23           6841\n",
       "26           6698\n",
       "24           6589\n",
       "25           6501\n",
       "29           6414\n",
       "30           6300\n",
       "31           4137"
      ]
     },
     "execution_count": 165,
     "metadata": {},
     "output_type": "execute_result"
    }
   ],
   "source": [
    "DAY_counts = df_cleaned['DAY'].value_counts().to_frame()\n",
    "DAY_counts.rename(columns={'DAY': 'value_counts'}, inplace=True)\n",
    "DAY_counts.index.name = 'DAY'\n",
    "DAY_counts"
   ]
  },
  {
   "cell_type": "markdown",
   "metadata": {},
   "source": [
    "**Conclusion**\n",
    "\n",
    "The distribution of SEVERITYCODE between the different categories of DAY have significant overlap, but they frequency distribution between the categories is not overly skewed.\n",
    "\n",
    "***=> Because of the overlap DAY is not a good predictor of SEVERITYCODE.***"
   ]
  },
  {
   "cell_type": "markdown",
   "metadata": {},
   "source": [
    "**16 Relationship between SEVERITYCODE and HOUR**"
   ]
  },
  {
   "cell_type": "code",
   "execution_count": 166,
   "metadata": {
    "scrolled": true
   },
   "outputs": [
    {
     "data": {
      "text/plain": [
       "<matplotlib.axes._subplots.AxesSubplot at 0x1a25c2b650>"
      ]
     },
     "execution_count": 166,
     "metadata": {},
     "output_type": "execute_result"
    },
    {
     "data": {
      "image/png": "[encoded data removed]",
      "text/plain": [
       "<Figure size 432x288 with 1 Axes>"
      ]
     },
     "metadata": {
      "needs_background": "light"
     },
     "output_type": "display_data"
    }
   ],
   "source": [
    "sns.boxplot(x=\"HOUR\", y=\"SEVERITYCODE\", data=df_cleaned)"
   ]
  },
  {
   "cell_type": "code",
   "execution_count": 170,
   "metadata": {},
   "outputs": [
    {
     "data": {
      "text/html": [
       "<div>\n",
       "<style scoped>\n",
       "    .dataframe tbody tr th:only-of-type {\n",
       "        vertical-align: middle;\n",
       "    }\n",
       "\n",
       "    .dataframe tbody tr th {\n",
       "        vertical-align: top;\n",
       "    }\n",
       "\n",
       "    .dataframe thead th {\n",
       "        text-align: right;\n",
       "    }\n",
       "</style>\n",
       "<table border=\"1\" class=\"dataframe\">\n",
       "  <thead>\n",
       "    <tr style=\"text-align: right;\">\n",
       "      <th></th>\n",
       "      <th>value_counts</th>\n",
       "    </tr>\n",
       "    <tr>\n",
       "      <th>HOUR</th>\n",
       "      <th></th>\n",
       "    </tr>\n",
       "  </thead>\n",
       "  <tbody>\n",
       "    <tr>\n",
       "      <th>0</th>\n",
       "      <td>46970</td>\n",
       "    </tr>\n",
       "    <tr>\n",
       "      <th>17</th>\n",
       "      <td>13349</td>\n",
       "    </tr>\n",
       "    <tr>\n",
       "      <th>16</th>\n",
       "      <td>12473</td>\n",
       "    </tr>\n",
       "    <tr>\n",
       "      <th>15</th>\n",
       "      <td>11870</td>\n",
       "    </tr>\n",
       "    <tr>\n",
       "      <th>14</th>\n",
       "      <td>10915</td>\n",
       "    </tr>\n",
       "    <tr>\n",
       "      <th>12</th>\n",
       "      <td>10679</td>\n",
       "    </tr>\n",
       "    <tr>\n",
       "      <th>13</th>\n",
       "      <td>10485</td>\n",
       "    </tr>\n",
       "    <tr>\n",
       "      <th>18</th>\n",
       "      <td>10067</td>\n",
       "    </tr>\n",
       "    <tr>\n",
       "      <th>8</th>\n",
       "      <td>8785</td>\n",
       "    </tr>\n",
       "    <tr>\n",
       "      <th>11</th>\n",
       "      <td>8415</td>\n",
       "    </tr>\n",
       "    <tr>\n",
       "      <th>9</th>\n",
       "      <td>8257</td>\n",
       "    </tr>\n",
       "    <tr>\n",
       "      <th>10</th>\n",
       "      <td>7667</td>\n",
       "    </tr>\n",
       "    <tr>\n",
       "      <th>19</th>\n",
       "      <td>7464</td>\n",
       "    </tr>\n",
       "    <tr>\n",
       "      <th>7</th>\n",
       "      <td>6748</td>\n",
       "    </tr>\n",
       "    <tr>\n",
       "      <th>20</th>\n",
       "      <td>6434</td>\n",
       "    </tr>\n",
       "    <tr>\n",
       "      <th>21</th>\n",
       "      <td>5792</td>\n",
       "    </tr>\n",
       "    <tr>\n",
       "      <th>22</th>\n",
       "      <td>5628</td>\n",
       "    </tr>\n",
       "    <tr>\n",
       "      <th>23</th>\n",
       "      <td>4764</td>\n",
       "    </tr>\n",
       "    <tr>\n",
       "      <th>2</th>\n",
       "      <td>3729</td>\n",
       "    </tr>\n",
       "    <tr>\n",
       "      <th>1</th>\n",
       "      <td>3550</td>\n",
       "    </tr>\n",
       "    <tr>\n",
       "      <th>6</th>\n",
       "      <td>3330</td>\n",
       "    </tr>\n",
       "    <tr>\n",
       "      <th>3</th>\n",
       "      <td>1738</td>\n",
       "    </tr>\n",
       "    <tr>\n",
       "      <th>5</th>\n",
       "      <td>1727</td>\n",
       "    </tr>\n",
       "    <tr>\n",
       "      <th>4</th>\n",
       "      <td>1276</td>\n",
       "    </tr>\n",
       "  </tbody>\n",
       "</table>\n",
       "</div>"
      ],
      "text/plain": [
       "      value_counts\n",
       "HOUR              \n",
       "0            46970\n",
       "17           13349\n",
       "16           12473\n",
       "15           11870\n",
       "14           10915\n",
       "12           10679\n",
       "13           10485\n",
       "18           10067\n",
       "8             8785\n",
       "11            8415\n",
       "9             8257\n",
       "10            7667\n",
       "19            7464\n",
       "7             6748\n",
       "20            6434\n",
       "21            5792\n",
       "22            5628\n",
       "23            4764\n",
       "2             3729\n",
       "1             3550\n",
       "6             3330\n",
       "3             1738\n",
       "5             1727\n",
       "4             1276"
      ]
     },
     "execution_count": 170,
     "metadata": {},
     "output_type": "execute_result"
    }
   ],
   "source": [
    "HOUR_counts = df_cleaned['HOUR'].value_counts().to_frame()\n",
    "HOUR_counts.rename(columns={'HOUR': 'value_counts'}, inplace=True)\n",
    "HOUR_counts.index.name = 'HOUR'\n",
    "HOUR_counts"
   ]
  },
  {
   "cell_type": "markdown",
   "metadata": {},
   "source": [
    "**Conclusion**\n",
    "\n",
    "The distribution of SEVERITYCODE between the different categories of HOUR have significant overlap, but they frequency distribution between the categories is not overly skewed.\n",
    "\n",
    "***=> Because of the overlap HOUR is not a good predictor of SEVERITYCODE.***"
   ]
  },
  {
   "cell_type": "markdown",
   "metadata": {},
   "source": [
    "**17 Relationship between SEVERITYCODE and WEEKDAY**"
   ]
  },
  {
   "cell_type": "code",
   "execution_count": 168,
   "metadata": {},
   "outputs": [
    {
     "data": {
      "text/plain": [
       "<matplotlib.axes._subplots.AxesSubplot at 0x1a25b75bd0>"
      ]
     },
     "execution_count": 168,
     "metadata": {},
     "output_type": "execute_result"
    },
    {
     "data": {
      "image/png": "[encoded data removed]",
      "text/plain": [
       "<Figure size 432x288 with 1 Axes>"
      ]
     },
     "metadata": {
      "needs_background": "light"
     },
     "output_type": "display_data"
    }
   ],
   "source": [
    "sns.boxplot(x=\"WEEKDAY\", y=\"SEVERITYCODE\", data=df_cleaned)"
   ]
  },
  {
   "cell_type": "code",
   "execution_count": 169,
   "metadata": {},
   "outputs": [
    {
     "data": {
      "text/html": [
       "<div>\n",
       "<style scoped>\n",
       "    .dataframe tbody tr th:only-of-type {\n",
       "        vertical-align: middle;\n",
       "    }\n",
       "\n",
       "    .dataframe tbody tr th {\n",
       "        vertical-align: top;\n",
       "    }\n",
       "\n",
       "    .dataframe thead th {\n",
       "        text-align: right;\n",
       "    }\n",
       "</style>\n",
       "<table border=\"1\" class=\"dataframe\">\n",
       "  <thead>\n",
       "    <tr style=\"text-align: right;\">\n",
       "      <th></th>\n",
       "      <th>value_counts</th>\n",
       "    </tr>\n",
       "    <tr>\n",
       "      <th>WEEKDAY</th>\n",
       "      <th></th>\n",
       "    </tr>\n",
       "  </thead>\n",
       "  <tbody>\n",
       "    <tr>\n",
       "      <th>Fri</th>\n",
       "      <td>34990</td>\n",
       "    </tr>\n",
       "    <tr>\n",
       "      <th>Thu</th>\n",
       "      <td>32117</td>\n",
       "    </tr>\n",
       "    <tr>\n",
       "      <th>Wed</th>\n",
       "      <td>31422</td>\n",
       "    </tr>\n",
       "    <tr>\n",
       "      <th>Tue</th>\n",
       "      <td>31110</td>\n",
       "    </tr>\n",
       "    <tr>\n",
       "      <th>Sat</th>\n",
       "      <td>29731</td>\n",
       "    </tr>\n",
       "    <tr>\n",
       "      <th>Mon</th>\n",
       "      <td>28811</td>\n",
       "    </tr>\n",
       "    <tr>\n",
       "      <th>Sun</th>\n",
       "      <td>23931</td>\n",
       "    </tr>\n",
       "  </tbody>\n",
       "</table>\n",
       "</div>"
      ],
      "text/plain": [
       "         value_counts\n",
       "WEEKDAY              \n",
       "Fri             34990\n",
       "Thu             32117\n",
       "Wed             31422\n",
       "Tue             31110\n",
       "Sat             29731\n",
       "Mon             28811\n",
       "Sun             23931"
      ]
     },
     "execution_count": 169,
     "metadata": {},
     "output_type": "execute_result"
    }
   ],
   "source": [
    "WEEKDAY_counts = df_cleaned['WEEKDAY'].value_counts().to_frame()\n",
    "WEEKDAY_counts.rename(columns={'WEEKDAY': 'value_counts'}, inplace=True)\n",
    "WEEKDAY_counts.index.name = 'WEEKDAY'\n",
    "WEEKDAY_counts"
   ]
  },
  {
   "cell_type": "markdown",
   "metadata": {},
   "source": [
    "**Conclusion**\n",
    "\n",
    "The distribution of SEVERITYCODE between the different categories of WEEKDAY have significant overlap, but they frequency distribution between the categories is not skewed.\n",
    "\n",
    "***=> Because of the overlap WEEKDAY is not a good predictor of SEVERITYCODE.***"
   ]
  },
  {
   "cell_type": "markdown",
   "metadata": {},
   "source": [
    "<h3>Conclusion: Important Attributes</h3>"
   ]
  },
  {
   "cell_type": "markdown",
   "metadata": {},
   "source": [
    "<p>We now have a better idea of what our data looks like and which variables are important to take into account when predicting the SEVERITYCODE of a collision. We have narrowed it down to the following variables:</p>\n",
    "\n",
    "Continuous numerical variables:\n",
    "<ul>\n",
    "    <li>INJURIES</li>\n",
    "</ul>\n",
    "    \n",
    "Categorical variables:\n",
    "<ul>\n",
    "    <li>ADDRTYPE</li>\n",
    "    <li>PEDROWNOTGRNT</li>\n",
    "    <li>HITPARKEDCAR</li>\n",
    "</ul>"
   ]
  },
  {
   "cell_type": "markdown",
   "metadata": {},
   "source": [
    "This also means we can **drop the following attributes** from our dataset:</p>\n",
    "\n",
    "Continuous numerical variables:\n",
    "<ul>\n",
    "    <li>PERSONCOUNT</li>\n",
    "    <li>PEDCOUNT</li>\n",
    "    <li>PEDCYLCOUNT</li>\n",
    "    <li>VEHCOUNT</li>\n",
    "    <li>SERIOUSINJURIES</li>\n",
    "    <li>FATALITIES</li>\n",
    "</ul>\n",
    "    \n",
    "Categorical variables:\n",
    "<ul>\n",
    "    <li>COLLISIONTYPE</li>\n",
    "    <li>JUNCTIONTYPE</li>\n",
    "    <li>SDOT_COLCODE </li>\n",
    "    <li>INATTENTIONIND</li>    \n",
    "    <li>UNDERINFL</li>    \n",
    "    <li>WEATHER</li>\n",
    "    <li>ROADCOND</li>\n",
    "    <li>LIGHTCOND</li>\n",
    "    <li>SPEEDING</li>\n",
    "    <li>YEAR</li>\n",
    "    <li>MONTH</li>\n",
    "    <li>DAY</li>\n",
    "    <li>HOUR</li>\n",
    "    <li>WEEKDAY</li>\n",
    "</ul>"
   ]
  },
  {
   "cell_type": "code",
   "execution_count": 173,
   "metadata": {},
   "outputs": [],
   "source": [
    "#drop columns\n",
    "\n",
    "df_explored=df_cleaned.drop(columns=['PERSONCOUNT', 'PEDCOUNT', 'PEDCYLCOUNT', 'VEHCOUNT', 'SERIOUSINJURIES', 'FATALITIES', 'COLLISIONTYPE', 'JUNCTIONTYPE', 'INATTENTIONIND', 'UNDERINFL', 'WEATHER', 'ROADCOND', 'LIGHTCOND', 'SPEEDING', 'YEAR', 'MONTH', 'DAY', 'HOUR', 'WEEKDAY', 'SDOT_COLCODE'])\n",
    "\n"
   ]
  },
  {
   "cell_type": "markdown",
   "metadata": {},
   "source": [
    "## 3.2 Data preparation for Machine Learning"
   ]
  },
  {
   "cell_type": "markdown",
   "metadata": {},
   "source": [
    "**get_dummies()**\n",
    "\n",
    "Most ML models do not understand string values, only numbers. That is why we have to translate categorical values into numbers. We do so by using the get_dummies() method. This method assigns a numerical variable to a category of an attribute. They are called 'dummies' because the numbers themselves don't have inherent meaning. "
   ]
  },
  {
   "cell_type": "code",
   "execution_count": 100,
   "metadata": {},
   "outputs": [
    {
     "name": "stdout",
     "output_type": "stream",
     "text": [
      "<class 'pandas.core.frame.DataFrame'>\n",
      "Int64Index: 212112 entries, 0 to 221524\n",
      "Data columns (total 7 columns):\n",
      " #   Column                 Non-Null Count   Dtype  \n",
      "---  ------                 --------------   -----  \n",
      " 0   SEVERITYCODE           212112 non-null  int64  \n",
      " 1   INJURIES               212112 non-null  int64  \n",
      " 2   PEDROWNOTGRNT          212112 non-null  float64\n",
      " 3   HITPARKEDCAR           212112 non-null  int64  \n",
      " 4   ADDRTYPE_Alley         212112 non-null  uint8  \n",
      " 5   ADDRTYPE_Block         212112 non-null  uint8  \n",
      " 6   ADDRTYPE_Intersection  212112 non-null  uint8  \n",
      "dtypes: float64(1), int64(3), uint8(3)\n",
      "memory usage: 18.7 MB\n"
     ]
    }
   ],
   "source": [
    "df_dummy = pd.get_dummies(df_explored)\n",
    "\n",
    "df_dummy.info()"
   ]
  },
  {
   "cell_type": "code",
   "execution_count": 101,
   "metadata": {},
   "outputs": [
    {
     "data": {
      "text/html": [
       "<div>\n",
       "<style scoped>\n",
       "    .dataframe tbody tr th:only-of-type {\n",
       "        vertical-align: middle;\n",
       "    }\n",
       "\n",
       "    .dataframe tbody tr th {\n",
       "        vertical-align: top;\n",
       "    }\n",
       "\n",
       "    .dataframe thead th {\n",
       "        text-align: right;\n",
       "    }\n",
       "</style>\n",
       "<table border=\"1\" class=\"dataframe\">\n",
       "  <thead>\n",
       "    <tr style=\"text-align: right;\">\n",
       "      <th></th>\n",
       "      <th>SEVERITYCODE</th>\n",
       "      <th>INJURIES</th>\n",
       "      <th>PEDROWNOTGRNT</th>\n",
       "      <th>HITPARKEDCAR</th>\n",
       "      <th>ADDRTYPE_Alley</th>\n",
       "      <th>ADDRTYPE_Block</th>\n",
       "      <th>ADDRTYPE_Intersection</th>\n",
       "    </tr>\n",
       "  </thead>\n",
       "  <tbody>\n",
       "    <tr>\n",
       "      <th>0</th>\n",
       "      <td>1</td>\n",
       "      <td>1</td>\n",
       "      <td>1.0</td>\n",
       "      <td>0</td>\n",
       "      <td>0</td>\n",
       "      <td>1</td>\n",
       "      <td>0</td>\n",
       "    </tr>\n",
       "    <tr>\n",
       "      <th>1</th>\n",
       "      <td>1</td>\n",
       "      <td>1</td>\n",
       "      <td>0.0</td>\n",
       "      <td>0</td>\n",
       "      <td>0</td>\n",
       "      <td>1</td>\n",
       "      <td>0</td>\n",
       "    </tr>\n",
       "    <tr>\n",
       "      <th>2</th>\n",
       "      <td>0</td>\n",
       "      <td>0</td>\n",
       "      <td>0.0</td>\n",
       "      <td>0</td>\n",
       "      <td>0</td>\n",
       "      <td>0</td>\n",
       "      <td>1</td>\n",
       "    </tr>\n",
       "    <tr>\n",
       "      <th>3</th>\n",
       "      <td>0</td>\n",
       "      <td>0</td>\n",
       "      <td>0.0</td>\n",
       "      <td>0</td>\n",
       "      <td>0</td>\n",
       "      <td>0</td>\n",
       "      <td>1</td>\n",
       "    </tr>\n",
       "    <tr>\n",
       "      <th>4</th>\n",
       "      <td>0</td>\n",
       "      <td>0</td>\n",
       "      <td>0.0</td>\n",
       "      <td>0</td>\n",
       "      <td>0</td>\n",
       "      <td>1</td>\n",
       "      <td>0</td>\n",
       "    </tr>\n",
       "  </tbody>\n",
       "</table>\n",
       "</div>"
      ],
      "text/plain": [
       "   SEVERITYCODE  INJURIES  PEDROWNOTGRNT  HITPARKEDCAR  ADDRTYPE_Alley  \\\n",
       "0             1         1            1.0             0               0   \n",
       "1             1         1            0.0             0               0   \n",
       "2             0         0            0.0             0               0   \n",
       "3             0         0            0.0             0               0   \n",
       "4             0         0            0.0             0               0   \n",
       "\n",
       "   ADDRTYPE_Block  ADDRTYPE_Intersection  \n",
       "0               1                      0  \n",
       "1               1                      0  \n",
       "2               0                      1  \n",
       "3               0                      1  \n",
       "4               1                      0  "
      ]
     },
     "execution_count": 101,
     "metadata": {},
     "output_type": "execute_result"
    }
   ],
   "source": [
    "df_clean_dummy.head()"
   ]
  },
  {
   "cell_type": "markdown",
   "metadata": {},
   "source": [
    "**Split the data into training and testing data**\n",
    "\n",
    "An important step in testing a model is to split data into training and testing data. We will put the target data Severity in a separate dataframe and drop price data in another separate x data data frame for our predictor variables."
   ]
  },
  {
   "cell_type": "code",
   "execution_count": 102,
   "metadata": {},
   "outputs": [],
   "source": [
    "y_data = df_clean_dummy['SEVERITYCODE']\n",
    "x_data=df_clean_dummy.drop('SEVERITYCODE',axis=1)"
   ]
  },
  {
   "cell_type": "code",
   "execution_count": 103,
   "metadata": {},
   "outputs": [
    {
     "name": "stdout",
     "output_type": "stream",
     "text": [
      "number of test samples : 31817\n",
      "number of training samples: 180295\n"
     ]
    }
   ],
   "source": [
    "x_train, x_test, y_train, y_test = train_test_split(x_data, y_data, test_size=0.15, random_state=1)\n",
    "\n",
    "\n",
    "print(\"number of test samples :\", x_test.shape[0])\n",
    "print(\"number of training samples:\",x_train.shape[0])"
   ]
  },
  {
   "cell_type": "markdown",
   "metadata": {},
   "source": [
    "## 3.3 Predictive Modeling"
   ]
  },
  {
   "cell_type": "markdown",
   "metadata": {},
   "source": [
    "The scope of this Capstone is to create predictions for accident severity using Supervised Machine Learning.\n",
    "\n",
    "In general, this gives us two algorithm choices: Regression and classification algorithms. So which one would be suitable for our problem at hand?\n",
    "\n",
    "**Regression algorithms**\n",
    "\n",
    "In supervised machine learning, regression algorithms attempt to estimate the mapping function from the input variables to numerical or continuous output variables.\n",
    "\n",
    "With regression algorithms, y is a real value, which can be an integer or a float. \n",
    "\n",
    "For example, when provided with a dataset about cars, and you are asked to predict their prices, that is a regression task because price will be a continuous output.\n",
    "\n",
    "An example of a common regression algorithm would be linear regression.\n",
    "\n",
    "**Classification algorithms**\n",
    "\n",
    "In supervised machine learning, classification algorithms attempt to estimate the mapping function from the input variables to discrete or categorical output variables.\n",
    "\n",
    "With classification algorithms, y is a category that the mapping function predicts. \n",
    "\n",
    "For example, when provided with a dataset about cars, a classification algorithm can try to predict whether the prices for the cars sell for a low, high or medium price compared to the recommended retail price. So the price will be classified into three discrete categories\n",
    "\n",
    "Examples of the common classification algorithms include logistic regression, Naïve Bayes, decision trees, and K Nearest Neighbors."
   ]
  },
  {
   "cell_type": "markdown",
   "metadata": {},
   "source": [
    "### Do we have a regression or classification problem?"
   ]
  },
  {
   "cell_type": "markdown",
   "metadata": {},
   "source": [
    "Even though we are measuring severity using numbers, the problem we are facing can only be identified as a classification problem, because the numerical values are discrete and not continuous.\n",
    "\n",
    "In order to classify as continuous, data needs to be able to have almost any numeric value and can be meaningfully subdivided into finer and finer increments, depending upon the precision of the measurement system. This is not the case for Severity.\n",
    "\n",
    "That is why we will focus on the most common classification algorithms for our problem: Naive Bayes, Logistic Regression, K-nearest neighbors and decision trees."
   ]
  },
  {
   "cell_type": "code",
   "execution_count": 163,
   "metadata": {},
   "outputs": [],
   "source": [
    "#List of classification algorithms\n",
    "list_alg=['Naive Bayes','Logistic Regression','K-nearest Neighbors','Decision Trees']\n",
    "\n",
    "#List of model metrics\n",
    "list_metric=['Accuracy Score','Logistic Loss']\n",
    "\n",
    "# Initialize an empty list for the accuracy score for each algorithm\n",
    "accuracy_lst=[]\n",
    "\n",
    "# Initialize an empty list for the log loss for each algorithm\n",
    "log_loss_lst=[]"
   ]
  },
  {
   "cell_type": "markdown",
   "metadata": {},
   "source": [
    "### Algorithm 1: Naive Bayes"
   ]
  },
  {
   "cell_type": "code",
   "execution_count": 167,
   "metadata": {},
   "outputs": [
    {
     "name": "stdout",
     "output_type": "stream",
     "text": [
      "[Naive Bayes] accuracy_score: 0.707.\n",
      "[Naive Bayes] log_loss: 0.730.\n"
     ]
    }
   ],
   "source": [
    "#Create a Gaussian Classifier\n",
    "gnb = GaussianNB()\n",
    "\n",
    "#Train the model using the training sets\n",
    "gnb.fit(x_train, y_train)\n",
    "\n",
    "#Predict the response for test dataset\n",
    "y_hat = gnb.predict(x_test)\n",
    "\n",
    "# Get the accuracy score\n",
    "acc=accuracy_score(y_test, y_hat)\n",
    "\n",
    "# Append to the accuracy list\n",
    "accuracy_lst.append(acc)\n",
    "\n",
    "# Get the log loss\n",
    "gnb_probas = gnb.predict_proba(x_test)\n",
    "gnb_log_loss = log_loss(y_test, gnb_probas)\n",
    "\n",
    "# Append to the log loss list\n",
    "log_loss_lst.append(gnb_log_loss)\n",
    "\n",
    "\n",
    "print(\"[Naive Bayes] accuracy_score: {:.3f}.\".format(acc))\n",
    "print(\"[Naive Bayes] log_loss: {:.3f}.\".format(gnb_log_loss))\n"
   ]
  },
  {
   "cell_type": "markdown",
   "metadata": {},
   "source": [
    "### Algorithm 2: Logistic regression"
   ]
  },
  {
   "cell_type": "code",
   "execution_count": 168,
   "metadata": {},
   "outputs": [
    {
     "name": "stdout",
     "output_type": "stream",
     "text": [
      "[Logistic regression algorithm] accuracy_score: 0.983.\n",
      "[Logistic regression algorithm] log_loss: 0.074.\n"
     ]
    },
    {
     "name": "stderr",
     "output_type": "stream",
     "text": [
      "/opt/anaconda3/lib/python3.7/site-packages/sklearn/linear_model/_logistic.py:940: ConvergenceWarning: lbfgs failed to converge (status=1):\n",
      "STOP: TOTAL NO. of ITERATIONS REACHED LIMIT.\n",
      "\n",
      "Increase the number of iterations (max_iter) or scale the data as shown in:\n",
      "    https://scikit-learn.org/stable/modules/preprocessing.html\n",
      "Please also refer to the documentation for alternative solver options:\n",
      "    https://scikit-learn.org/stable/modules/linear_model.html#logistic-regression\n",
      "  extra_warning_msg=_LOGISTIC_SOLVER_CONVERGENCE_MSG)\n"
     ]
    }
   ],
   "source": [
    "# Logistic regression\n",
    "logr = LogisticRegression(random_state=0)\n",
    "logr.fit(x_train,y_train)\n",
    "y_hat =logr.predict(x_test)\n",
    "\n",
    "# Model Accuracy, how often is the classifier correct?\n",
    "#print(\"Accuracy:\",metrics.accuracy_score(y_test, y_hat))\n",
    "\n",
    "# Get the accuracy score\n",
    "acc=accuracy_score(y_test, y_hat)\n",
    "\n",
    "# Append to the accuracy list\n",
    "accuracy_lst.append(acc)\n",
    "\n",
    "# Get the log loss\n",
    "logr_probas = logr.predict_proba(x_test)\n",
    "logr_log_loss = log_loss(y_test, logr_probas)\n",
    "\n",
    "# Append to the log loss list\n",
    "log_loss_lst.append(logr_log_loss)\n",
    "\n",
    "\n",
    "\n",
    "print(\"[Logistic regression algorithm] accuracy_score: {:.3f}.\".format(acc))\n",
    "print(\"[Logistic regression algorithm] log_loss: {:.3f}.\".format(logr_log_loss))\n",
    "\n",
    "\n"
   ]
  },
  {
   "cell_type": "markdown",
   "metadata": {},
   "source": [
    "### Algorithm 3: K-Nearest Neighbors (KNN)"
   ]
  },
  {
   "cell_type": "code",
   "execution_count": 169,
   "metadata": {},
   "outputs": [
    {
     "name": "stdout",
     "output_type": "stream",
     "text": [
      "[KNN] accuracy_score: 0.983.\n",
      "[KNN] log_loss: 0.367.\n"
     ]
    }
   ],
   "source": [
    "# Create a k-NN classifier with 6 neighbors\n",
    "knn = KNeighborsClassifier(n_neighbors=6)\n",
    "\n",
    "# Fit the classifier to the data\n",
    "knn.fit(x_train,y_train)\n",
    "\n",
    "# Predict the labels for the training data X\n",
    "y_hat = knn.predict(x_test)\n",
    "\n",
    "# Get the accuracy score\n",
    "acc=accuracy_score(y_test, y_hat)\n",
    "\n",
    "# Append to the accuracy list\n",
    "accuracy_lst.append(acc)\n",
    "\n",
    "# Get the log loss\n",
    "knn_probas = knn.predict_proba(x_test)\n",
    "knn_log_loss = log_loss(y_test, knn_probas)\n",
    "\n",
    "# Append to the log loss list\n",
    "log_loss_lst.append(knn_log_loss)\n",
    "\n",
    "\n",
    "\n",
    "print(\"[KNN] accuracy_score: {:.3f}.\".format(acc))\n",
    "print(\"[KNN] log_loss: {:.3f}.\".format(knn_log_loss))\n",
    "\n",
    "\n"
   ]
  },
  {
   "cell_type": "markdown",
   "metadata": {},
   "source": [
    "### Algorithm 4: Decision Tree"
   ]
  },
  {
   "cell_type": "code",
   "execution_count": 170,
   "metadata": {
    "scrolled": true
   },
   "outputs": [
    {
     "name": "stdout",
     "output_type": "stream",
     "text": [
      "[Decision tree] accuracy_score: 0.983.\n",
      "[Decision tree] log_loss: 0.072.\n"
     ]
    }
   ],
   "source": [
    "# Decision tree algorithm\n",
    "\n",
    "# Instantiate dt\n",
    "dt = DecisionTreeClassifier(max_depth=8, random_state=1)\n",
    "\n",
    "# Fit dt to the training set\n",
    "dt.fit(x_train, y_train)\n",
    "\n",
    "# Use dt to predict test set labels\n",
    "y_hat= dt.predict(x_test)\n",
    "\n",
    "# Get the accuracy score\n",
    "acc=accuracy_score(y_test, y_hat)\n",
    "\n",
    "# Append to the accuracy list\n",
    "accuracy_lst.append(acc)\n",
    "\n",
    "# Get the log loss\n",
    "dt_probas = dt.predict_proba(x_test)\n",
    "dt_log_loss = log_loss(y_test, dt_probas)\n",
    "\n",
    "# Append to the log loss list\n",
    "log_loss_lst.append(dt_log_loss)\n",
    "\n",
    "\n",
    "print(\"[Decision tree] accuracy_score: {:.3f}.\".format(acc))\n",
    "print(\"[Decision tree] log_loss: {:.3f}.\".format(dt_log_loss))\n",
    "\n"
   ]
  },
  {
   "cell_type": "markdown",
   "metadata": {},
   "source": [
    "### Accuracy scores and logistic loss for each algorithm"
   ]
  },
  {
   "cell_type": "code",
   "execution_count": 172,
   "metadata": {},
   "outputs": [
    {
     "data": {
      "text/html": [
       "<div>\n",
       "<style scoped>\n",
       "    .dataframe tbody tr th:only-of-type {\n",
       "        vertical-align: middle;\n",
       "    }\n",
       "\n",
       "    .dataframe tbody tr th {\n",
       "        vertical-align: top;\n",
       "    }\n",
       "\n",
       "    .dataframe thead th {\n",
       "        text-align: right;\n",
       "    }\n",
       "</style>\n",
       "<table border=\"1\" class=\"dataframe\">\n",
       "  <thead>\n",
       "    <tr style=\"text-align: right;\">\n",
       "      <th></th>\n",
       "      <th>Accuracy Score</th>\n",
       "      <th>Logistic Loss</th>\n",
       "    </tr>\n",
       "  </thead>\n",
       "  <tbody>\n",
       "    <tr>\n",
       "      <th>Naive Bayes</th>\n",
       "      <td>0.706855</td>\n",
       "      <td>0.729693</td>\n",
       "    </tr>\n",
       "    <tr>\n",
       "      <th>Logistic Regression</th>\n",
       "      <td>0.983028</td>\n",
       "      <td>0.074322</td>\n",
       "    </tr>\n",
       "    <tr>\n",
       "      <th>K-nearest Neighbors</th>\n",
       "      <td>0.983028</td>\n",
       "      <td>0.366560</td>\n",
       "    </tr>\n",
       "    <tr>\n",
       "      <th>Decision Trees</th>\n",
       "      <td>0.983028</td>\n",
       "      <td>0.071877</td>\n",
       "    </tr>\n",
       "  </tbody>\n",
       "</table>\n",
       "</div>"
      ],
      "text/plain": [
       "                     Accuracy Score  Logistic Loss\n",
       "Naive Bayes                0.706855       0.729693\n",
       "Logistic Regression        0.983028       0.074322\n",
       "K-nearest Neighbors        0.983028       0.366560\n",
       "Decision Trees             0.983028       0.071877"
      ]
     },
     "execution_count": 172,
     "metadata": {},
     "output_type": "execute_result"
    }
   ],
   "source": [
    "# Calling DataFrame constructor after zipping accuracy score and log_loss lists, with columns specified for each algorithm\n",
    "df_metric = pd.DataFrame(list(zip(accuracy_lst, log_loss_lst)), columns =list_metric, index=list_alg) \n",
    "df_metric "
   ]
  },
  {
   "cell_type": "code",
   "execution_count": null,
   "metadata": {},
   "outputs": [],
   "source": []
  },
  {
   "cell_type": "code",
   "execution_count": null,
   "metadata": {},
   "outputs": [],
   "source": []
  },
  {
   "cell_type": "code",
   "execution_count": null,
   "metadata": {},
   "outputs": [],
   "source": []
  }
 ],
 "metadata": {
  "kernelspec": {
   "display_name": "Python 3",
   "language": "python",
   "name": "python3"
  },
  "language_info": {
   "codemirror_mode": {
    "name": "ipython",
    "version": 3
   },
   "file_extension": ".py",
   "mimetype": "text/x-python",
   "name": "python",
   "nbconvert_exporter": "python",
   "pygments_lexer": "ipython3",
   "version": "3.7.6"
  }
 },
 "nbformat": 4,
 "nbformat_minor": 4
}
